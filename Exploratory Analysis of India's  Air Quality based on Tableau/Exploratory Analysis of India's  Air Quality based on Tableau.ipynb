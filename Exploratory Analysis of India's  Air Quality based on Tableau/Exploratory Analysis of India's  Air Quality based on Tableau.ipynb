{
 "cells": [
  {
   "cell_type": "code",
   "execution_count": 1,
   "metadata": {
    "_kg_hide-input": true,
    "_uuid": "b74719c1e86c9eded9a284b3f15de7d821081a68"
   },
   "outputs": [],
   "source": [
    "from IPython.display import IFrame"
   ]
  },
  {
   "cell_type": "markdown",
   "metadata": {
    "_uuid": "17605d57f1a5c32386b61db5845cd87cdafb23aa"
   },
   "source": [
    "### **Indian Statewise average analysis of No2,So2,RSPM,SPM**"
   ]
  },
  {
   "cell_type": "code",
   "execution_count": 2,
   "metadata": {
    "_kg_hide-input": true,
    "_uuid": "91d36a2f0b58b1541538f5f9bcf95d489c29d3d8"
   },
   "outputs": [
    {
     "data": {
      "text/html": [
       "\n",
       "        <iframe\n",
       "            width=\"1150\"\n",
       "            height=\"925\"\n",
       "            src=\"https://public.tableau.com/views/IndianAIQINDIAMAP/StatewiseIndiaAQI?:embed=y&:showVizHome=no\"\n",
       "            frameborder=\"0\"\n",
       "            allowfullscreen\n",
       "        ></iframe>\n",
       "        "
      ],
      "text/plain": [
       "<IPython.lib.display.IFrame at 0x58ee6d8>"
      ]
     },
     "execution_count": 2,
     "metadata": {},
     "output_type": "execute_result"
    }
   ],
   "source": [
    "IFrame('https://public.tableau.com/views/IndianAIQINDIAMAP/StatewiseIndiaAQI?:embed=y&:showVizHome=no', width=1150, height=925)\n",
    "#https://public.tableau.com/views/IndianAIQINDIAMAP/StatewiseIndiaAQI?:embed=y&:display_count=yes&publish=yes\n"
   ]
  },
  {
   "cell_type": "markdown",
   "metadata": {
    "_uuid": "1e47154cf7538d87d9522e80bf66dbb7858eb651"
   },
   "source": [
    "### **Indian states citywise average analysis of No2,So2,RSPM,SPM**"
   ]
  },
  {
   "cell_type": "code",
   "execution_count": 3,
   "metadata": {
    "_kg_hide-input": true,
    "_uuid": "3de89645ab38a4516132d1254715c9128859dc65"
   },
   "outputs": [
    {
     "data": {
      "text/html": [
       "\n",
       "        <iframe\n",
       "            width=\"1150\"\n",
       "            height=\"925\"\n",
       "            src=\"https://public.tableau.com/views/IndianAIQINDIAMAPCity/StatewiseIndiaAQICity?:embed=y&:showVizHome=no\"\n",
       "            frameborder=\"0\"\n",
       "            allowfullscreen\n",
       "        ></iframe>\n",
       "        "
      ],
      "text/plain": [
       "<IPython.lib.display.IFrame at 0x58eeb70>"
      ]
     },
     "execution_count": 3,
     "metadata": {},
     "output_type": "execute_result"
    }
   ],
   "source": [
    "IFrame('https://public.tableau.com/views/IndianAIQINDIAMAPCity/StatewiseIndiaAQICity?:embed=y&:showVizHome=no', width=1150, height=925)\n"
   ]
  },
  {
   "cell_type": "markdown",
   "metadata": {
    "_uuid": "2cf1183accbe8c9db0a5bdf92ab48452dd2d5ef7"
   },
   "source": [
    "### **Importing Required Libraries**"
   ]
  },
  {
   "cell_type": "code",
   "execution_count": 5,
   "metadata": {
    "_cell_guid": "b1076dfc-b9ad-4769-8c92-a6c4dae69d19",
    "_kg_hide-input": true,
    "_uuid": "8f2839f25d086af736a60e9eeb907d3b93b6e0e5"
   },
   "outputs": [
    {
     "ename": "ModuleNotFoundError",
     "evalue": "No module named 'plotly'",
     "output_type": "error",
     "traceback": [
      "\u001b[1;31m---------------------------------------------------------------------------\u001b[0m",
      "\u001b[1;31mModuleNotFoundError\u001b[0m                       Traceback (most recent call last)",
      "\u001b[1;32m<ipython-input-5-21c7ef11e714>\u001b[0m in \u001b[0;36m<module>\u001b[1;34m\u001b[0m\n\u001b[0;32m      8\u001b[0m \u001b[0mwarnings\u001b[0m\u001b[1;33m.\u001b[0m\u001b[0mfilterwarnings\u001b[0m\u001b[1;33m(\u001b[0m\u001b[1;34m'ignore'\u001b[0m\u001b[1;33m)\u001b[0m\u001b[1;33m\u001b[0m\u001b[1;33m\u001b[0m\u001b[0m\n\u001b[0;32m      9\u001b[0m \u001b[1;33m\u001b[0m\u001b[0m\n\u001b[1;32m---> 10\u001b[1;33m \u001b[1;32mimport\u001b[0m \u001b[0mplotly\u001b[0m\u001b[1;33m.\u001b[0m\u001b[0moffline\u001b[0m \u001b[1;32mas\u001b[0m \u001b[0mpy\u001b[0m\u001b[1;33m\u001b[0m\u001b[1;33m\u001b[0m\u001b[0m\n\u001b[0m\u001b[0;32m     11\u001b[0m \u001b[0mpy\u001b[0m\u001b[1;33m.\u001b[0m\u001b[0minit_notebook_mode\u001b[0m\u001b[1;33m(\u001b[0m\u001b[0mconnected\u001b[0m\u001b[1;33m=\u001b[0m\u001b[1;32mTrue\u001b[0m\u001b[1;33m)\u001b[0m\u001b[1;33m\u001b[0m\u001b[1;33m\u001b[0m\u001b[0m\n\u001b[0;32m     12\u001b[0m \u001b[1;32mimport\u001b[0m \u001b[0mplotly\u001b[0m\u001b[1;33m.\u001b[0m\u001b[0mgraph_objs\u001b[0m \u001b[1;32mas\u001b[0m \u001b[0mgo\u001b[0m\u001b[1;33m\u001b[0m\u001b[1;33m\u001b[0m\u001b[0m\n",
      "\u001b[1;31mModuleNotFoundError\u001b[0m: No module named 'plotly'"
     ]
    }
   ],
   "source": [
    "import numpy as np # linear algebra\n",
    "import pandas as pd # data processing, CSV file I/O (e.g. pd.read_csv)\n",
    "import matplotlib.pyplot as plt\n",
    "%matplotlib inline\n",
    "plt.style.use(\"fivethirtyeight\")\n",
    "\n",
    "import warnings \n",
    "warnings.filterwarnings('ignore')\n",
    "\n",
    "import plotly.offline as py\n",
    "py.init_notebook_mode(connected=True)\n",
    "import plotly.graph_objs as go\n",
    "import plotly.tools as tls\n",
    "\n",
    "import seaborn as sns\n",
    " \n",
    "\n"
   ]
  },
  {
   "cell_type": "code",
   "execution_count": 8,
   "metadata": {
    "_cell_guid": "79c7e3d0-c299-4dcb-8224-4455121ee9b0",
    "_kg_hide-input": true,
    "_uuid": "d629ff2d2480ee46fbb7e2d37f6b5fab8052498a"
   },
   "outputs": [
    {
     "data": {
      "text/html": [
       "<div>\n",
       "<style scoped>\n",
       "    .dataframe tbody tr th:only-of-type {\n",
       "        vertical-align: middle;\n",
       "    }\n",
       "\n",
       "    .dataframe tbody tr th {\n",
       "        vertical-align: top;\n",
       "    }\n",
       "\n",
       "    .dataframe thead th {\n",
       "        text-align: right;\n",
       "    }\n",
       "</style>\n",
       "<table border=\"1\" class=\"dataframe\">\n",
       "  <thead>\n",
       "    <tr style=\"text-align: right;\">\n",
       "      <th></th>\n",
       "      <th>station_code</th>\n",
       "      <th>sampling_date</th>\n",
       "      <th>state</th>\n",
       "      <th>city</th>\n",
       "      <th>agency</th>\n",
       "      <th>area_type</th>\n",
       "      <th>so2</th>\n",
       "      <th>no2</th>\n",
       "      <th>rspm</th>\n",
       "      <th>spm</th>\n",
       "      <th>monitoring_station</th>\n",
       "      <th>pm2_5</th>\n",
       "      <th>date</th>\n",
       "    </tr>\n",
       "  </thead>\n",
       "  <tbody>\n",
       "    <tr>\n",
       "      <th>0</th>\n",
       "      <td>150</td>\n",
       "      <td>February - M021990</td>\n",
       "      <td>Andhra Pradesh</td>\n",
       "      <td>Hyderabad</td>\n",
       "      <td>NaN</td>\n",
       "      <td>Residential, Rural and other Areas</td>\n",
       "      <td>4.8</td>\n",
       "      <td>17.4</td>\n",
       "      <td>NaN</td>\n",
       "      <td>NaN</td>\n",
       "      <td>NaN</td>\n",
       "      <td>NaN</td>\n",
       "      <td>1990-02-01</td>\n",
       "    </tr>\n",
       "    <tr>\n",
       "      <th>1</th>\n",
       "      <td>151</td>\n",
       "      <td>February - M021990</td>\n",
       "      <td>Andhra Pradesh</td>\n",
       "      <td>Hyderabad</td>\n",
       "      <td>NaN</td>\n",
       "      <td>Industrial Area</td>\n",
       "      <td>3.1</td>\n",
       "      <td>7.0</td>\n",
       "      <td>NaN</td>\n",
       "      <td>NaN</td>\n",
       "      <td>NaN</td>\n",
       "      <td>NaN</td>\n",
       "      <td>1990-02-01</td>\n",
       "    </tr>\n",
       "    <tr>\n",
       "      <th>2</th>\n",
       "      <td>152</td>\n",
       "      <td>February - M021990</td>\n",
       "      <td>Andhra Pradesh</td>\n",
       "      <td>Hyderabad</td>\n",
       "      <td>NaN</td>\n",
       "      <td>Residential, Rural and other Areas</td>\n",
       "      <td>6.2</td>\n",
       "      <td>28.5</td>\n",
       "      <td>NaN</td>\n",
       "      <td>NaN</td>\n",
       "      <td>NaN</td>\n",
       "      <td>NaN</td>\n",
       "      <td>1990-02-01</td>\n",
       "    </tr>\n",
       "    <tr>\n",
       "      <th>3</th>\n",
       "      <td>150</td>\n",
       "      <td>March - M031990</td>\n",
       "      <td>Andhra Pradesh</td>\n",
       "      <td>Hyderabad</td>\n",
       "      <td>NaN</td>\n",
       "      <td>Residential, Rural and other Areas</td>\n",
       "      <td>6.3</td>\n",
       "      <td>14.7</td>\n",
       "      <td>NaN</td>\n",
       "      <td>NaN</td>\n",
       "      <td>NaN</td>\n",
       "      <td>NaN</td>\n",
       "      <td>1990-03-01</td>\n",
       "    </tr>\n",
       "    <tr>\n",
       "      <th>4</th>\n",
       "      <td>151</td>\n",
       "      <td>March - M031990</td>\n",
       "      <td>Andhra Pradesh</td>\n",
       "      <td>Hyderabad</td>\n",
       "      <td>NaN</td>\n",
       "      <td>Industrial Area</td>\n",
       "      <td>4.7</td>\n",
       "      <td>7.5</td>\n",
       "      <td>NaN</td>\n",
       "      <td>NaN</td>\n",
       "      <td>NaN</td>\n",
       "      <td>NaN</td>\n",
       "      <td>1990-03-01</td>\n",
       "    </tr>\n",
       "  </tbody>\n",
       "</table>\n",
       "</div>"
      ],
      "text/plain": [
       "  station_code       sampling_date           state       city agency  \\\n",
       "0          150  February - M021990  Andhra Pradesh  Hyderabad    NaN   \n",
       "1          151  February - M021990  Andhra Pradesh  Hyderabad    NaN   \n",
       "2          152  February - M021990  Andhra Pradesh  Hyderabad    NaN   \n",
       "3          150     March - M031990  Andhra Pradesh  Hyderabad    NaN   \n",
       "4          151     March - M031990  Andhra Pradesh  Hyderabad    NaN   \n",
       "\n",
       "                            area_type  so2   no2  rspm  spm  \\\n",
       "0  Residential, Rural and other Areas  4.8  17.4   NaN  NaN   \n",
       "1                     Industrial Area  3.1   7.0   NaN  NaN   \n",
       "2  Residential, Rural and other Areas  6.2  28.5   NaN  NaN   \n",
       "3  Residential, Rural and other Areas  6.3  14.7   NaN  NaN   \n",
       "4                     Industrial Area  4.7   7.5   NaN  NaN   \n",
       "\n",
       "  monitoring_station  pm2_5        date  \n",
       "0                NaN    NaN  1990-02-01  \n",
       "1                NaN    NaN  1990-02-01  \n",
       "2                NaN    NaN  1990-02-01  \n",
       "3                NaN    NaN  1990-03-01  \n",
       "4                NaN    NaN  1990-03-01  "
      ]
     },
     "execution_count": 8,
     "metadata": {},
     "output_type": "execute_result"
    }
   ],
   "source": [
    "df = pd.read_csv(r\"C:\\Users\\user\\Desktop\\portfolio -E\\Exploratory Analysis of India's  Air Quality based on Tableau\\data.csv\", encoding=\"ISO-8859-1\")\n",
    "df.rename(columns={'stn_code': 'station_code', 'location': 'city', 'type': 'area_type', 'location_monitoring_station': 'monitoring_station'}, inplace=True)\n",
    "df.head()"
   ]
  },
  {
   "cell_type": "markdown",
   "metadata": {
    "_uuid": "bc05622a88a0a3b91a1f0dc0f637cb54cfdb8c6b"
   },
   "source": [
    "### **Split date column to year,month and day**"
   ]
  },
  {
   "cell_type": "code",
   "execution_count": 9,
   "metadata": {
    "_kg_hide-input": true,
    "_uuid": "2e3484a978a3db4c5cebc190afefbcbc6160b901"
   },
   "outputs": [
    {
     "data": {
      "text/html": [
       "<div>\n",
       "<style scoped>\n",
       "    .dataframe tbody tr th:only-of-type {\n",
       "        vertical-align: middle;\n",
       "    }\n",
       "\n",
       "    .dataframe tbody tr th {\n",
       "        vertical-align: top;\n",
       "    }\n",
       "\n",
       "    .dataframe thead th {\n",
       "        text-align: right;\n",
       "    }\n",
       "</style>\n",
       "<table border=\"1\" class=\"dataframe\">\n",
       "  <thead>\n",
       "    <tr style=\"text-align: right;\">\n",
       "      <th></th>\n",
       "      <th>station_code</th>\n",
       "      <th>sampling_date</th>\n",
       "      <th>state</th>\n",
       "      <th>city</th>\n",
       "      <th>agency</th>\n",
       "      <th>area_type</th>\n",
       "      <th>so2</th>\n",
       "      <th>no2</th>\n",
       "      <th>rspm</th>\n",
       "      <th>spm</th>\n",
       "      <th>monitoring_station</th>\n",
       "      <th>pm2_5</th>\n",
       "      <th>date</th>\n",
       "      <th>year</th>\n",
       "      <th>month</th>\n",
       "      <th>day</th>\n",
       "    </tr>\n",
       "  </thead>\n",
       "  <tbody>\n",
       "    <tr>\n",
       "      <th>0</th>\n",
       "      <td>150</td>\n",
       "      <td>February - M021990</td>\n",
       "      <td>Andhra Pradesh</td>\n",
       "      <td>Hyderabad</td>\n",
       "      <td>NaN</td>\n",
       "      <td>Residential, Rural and other Areas</td>\n",
       "      <td>4.8</td>\n",
       "      <td>17.4</td>\n",
       "      <td>NaN</td>\n",
       "      <td>NaN</td>\n",
       "      <td>NaN</td>\n",
       "      <td>NaN</td>\n",
       "      <td>1990-02-01</td>\n",
       "      <td>1990</td>\n",
       "      <td>02</td>\n",
       "      <td>01</td>\n",
       "    </tr>\n",
       "    <tr>\n",
       "      <th>1</th>\n",
       "      <td>151</td>\n",
       "      <td>February - M021990</td>\n",
       "      <td>Andhra Pradesh</td>\n",
       "      <td>Hyderabad</td>\n",
       "      <td>NaN</td>\n",
       "      <td>Industrial Area</td>\n",
       "      <td>3.1</td>\n",
       "      <td>7.0</td>\n",
       "      <td>NaN</td>\n",
       "      <td>NaN</td>\n",
       "      <td>NaN</td>\n",
       "      <td>NaN</td>\n",
       "      <td>1990-02-01</td>\n",
       "      <td>1990</td>\n",
       "      <td>02</td>\n",
       "      <td>01</td>\n",
       "    </tr>\n",
       "    <tr>\n",
       "      <th>2</th>\n",
       "      <td>152</td>\n",
       "      <td>February - M021990</td>\n",
       "      <td>Andhra Pradesh</td>\n",
       "      <td>Hyderabad</td>\n",
       "      <td>NaN</td>\n",
       "      <td>Residential, Rural and other Areas</td>\n",
       "      <td>6.2</td>\n",
       "      <td>28.5</td>\n",
       "      <td>NaN</td>\n",
       "      <td>NaN</td>\n",
       "      <td>NaN</td>\n",
       "      <td>NaN</td>\n",
       "      <td>1990-02-01</td>\n",
       "      <td>1990</td>\n",
       "      <td>02</td>\n",
       "      <td>01</td>\n",
       "    </tr>\n",
       "    <tr>\n",
       "      <th>3</th>\n",
       "      <td>150</td>\n",
       "      <td>March - M031990</td>\n",
       "      <td>Andhra Pradesh</td>\n",
       "      <td>Hyderabad</td>\n",
       "      <td>NaN</td>\n",
       "      <td>Residential, Rural and other Areas</td>\n",
       "      <td>6.3</td>\n",
       "      <td>14.7</td>\n",
       "      <td>NaN</td>\n",
       "      <td>NaN</td>\n",
       "      <td>NaN</td>\n",
       "      <td>NaN</td>\n",
       "      <td>1990-03-01</td>\n",
       "      <td>1990</td>\n",
       "      <td>03</td>\n",
       "      <td>01</td>\n",
       "    </tr>\n",
       "    <tr>\n",
       "      <th>4</th>\n",
       "      <td>151</td>\n",
       "      <td>March - M031990</td>\n",
       "      <td>Andhra Pradesh</td>\n",
       "      <td>Hyderabad</td>\n",
       "      <td>NaN</td>\n",
       "      <td>Industrial Area</td>\n",
       "      <td>4.7</td>\n",
       "      <td>7.5</td>\n",
       "      <td>NaN</td>\n",
       "      <td>NaN</td>\n",
       "      <td>NaN</td>\n",
       "      <td>NaN</td>\n",
       "      <td>1990-03-01</td>\n",
       "      <td>1990</td>\n",
       "      <td>03</td>\n",
       "      <td>01</td>\n",
       "    </tr>\n",
       "  </tbody>\n",
       "</table>\n",
       "</div>"
      ],
      "text/plain": [
       "  station_code       sampling_date           state       city agency  \\\n",
       "0          150  February - M021990  Andhra Pradesh  Hyderabad    NaN   \n",
       "1          151  February - M021990  Andhra Pradesh  Hyderabad    NaN   \n",
       "2          152  February - M021990  Andhra Pradesh  Hyderabad    NaN   \n",
       "3          150     March - M031990  Andhra Pradesh  Hyderabad    NaN   \n",
       "4          151     March - M031990  Andhra Pradesh  Hyderabad    NaN   \n",
       "\n",
       "                            area_type  so2   no2  rspm  spm  \\\n",
       "0  Residential, Rural and other Areas  4.8  17.4   NaN  NaN   \n",
       "1                     Industrial Area  3.1   7.0   NaN  NaN   \n",
       "2  Residential, Rural and other Areas  6.2  28.5   NaN  NaN   \n",
       "3  Residential, Rural and other Areas  6.3  14.7   NaN  NaN   \n",
       "4                     Industrial Area  4.7   7.5   NaN  NaN   \n",
       "\n",
       "  monitoring_station  pm2_5        date  year month day  \n",
       "0                NaN    NaN  1990-02-01  1990    02  01  \n",
       "1                NaN    NaN  1990-02-01  1990    02  01  \n",
       "2                NaN    NaN  1990-02-01  1990    02  01  \n",
       "3                NaN    NaN  1990-03-01  1990    03  01  \n",
       "4                NaN    NaN  1990-03-01  1990    03  01  "
      ]
     },
     "execution_count": 9,
     "metadata": {},
     "output_type": "execute_result"
    }
   ],
   "source": [
    "# df[\"date\"] = df[\"date\"].astype(\"str\")\n",
    "df_time = df.date.str.split(\"-\",expand=True)\n",
    "df_time.columns = [\"year\",\"month\",\"day\"]\n",
    "df = df.join(df_time)\n",
    "df.head()"
   ]
  },
  {
   "cell_type": "markdown",
   "metadata": {
    "_uuid": "bcca1fb5597d561f868948e62de41b7a04010f18"
   },
   "source": [
    "### **Fill zero values in field year,month and day**"
   ]
  },
  {
   "cell_type": "code",
   "execution_count": 10,
   "metadata": {
    "_kg_hide-input": true,
    "_uuid": "20f3f74a159253b68aa8641782239dee6de263f3"
   },
   "outputs": [
    {
     "data": {
      "text/plain": [
       "year     0\n",
       "month    0\n",
       "day      0\n",
       "dtype: int64"
      ]
     },
     "execution_count": 10,
     "metadata": {},
     "output_type": "execute_result"
    }
   ],
   "source": [
    "for i in [\"year\",\"month\",\"day\"]:\n",
    "    df[i] = df[i].fillna(0)\n",
    "\n",
    "df[[\"year\",\"month\",\"day\"]].isnull().sum()"
   ]
  },
  {
   "cell_type": "markdown",
   "metadata": {
    "_uuid": "2dd917a009ea1dbcc10a36f5f568b35fa358fe2b"
   },
   "source": [
    "### **Checking missing values in data**"
   ]
  },
  {
   "cell_type": "code",
   "execution_count": 11,
   "metadata": {
    "_kg_hide-input": true,
    "_uuid": "f1a2ec5ab25a52487337b4fd86dfce04497fb09a"
   },
   "outputs": [
    {
     "data": {
      "text/plain": [
       "Text(0.5, 1.0, 'Missing Value in Dataset')"
      ]
     },
     "execution_count": 11,
     "metadata": {},
     "output_type": "execute_result"
    },
    {
     "data": {
      "image/png": "[encoded data removed]",
      "text/plain": [
       "<Figure size 1440x720 with 1 Axes>"
      ]
     },
     "metadata": {
      "needs_background": "light"
     },
     "output_type": "display_data"
    }
   ],
   "source": [
    "df.isnull().sum().plot(kind=\"bar\", figsize=(20,10))\n",
    "plt.xlabel(\"Columns\")\n",
    "plt.ylabel(\"Missing Values\")\n",
    "plt.title(\"Missing Value in Dataset\")"
   ]
  },
  {
   "cell_type": "markdown",
   "metadata": {
    "_uuid": "deb9287510c3d637664824420dff375480f4a932"
   },
   "source": [
    "# Fill the Missing Value"
   ]
  },
  {
   "cell_type": "markdown",
   "metadata": {
    "_uuid": "4f7270dae493f2cb6ea3d05773f8a78e63de9d25"
   },
   "source": [
    "** Fill missing values of column type float/int using mean of respective column**"
   ]
  },
  {
   "cell_type": "code",
   "execution_count": 12,
   "metadata": {
    "_kg_hide-input": true,
    "_uuid": "40803ee09b665b15339673b3ff8e9b7e7d2f8a02"
   },
   "outputs": [],
   "source": [
    "for i in df.select_dtypes(include = ['float64','int64']):\n",
    "    df[i] = df[i].fillna(np.mean(df[i]))"
   ]
  },
  {
   "cell_type": "code",
   "execution_count": 13,
   "metadata": {
    "_kg_hide-input": true,
    "_uuid": "1ac391eeac5e7c120dd3c97f4dbcf502b7428835"
   },
   "outputs": [
    {
     "data": {
      "text/plain": [
       "Text(0.5, 1.0, 'Missing Value in Dataset')"
      ]
     },
     "execution_count": 13,
     "metadata": {},
     "output_type": "execute_result"
    },
    {
     "data": {
      "image/png": "[encoded data removed]",
      "text/plain": [
       "<Figure size 1440x720 with 1 Axes>"
      ]
     },
     "metadata": {
      "needs_background": "light"
     },
     "output_type": "display_data"
    }
   ],
   "source": [
    "df.isnull().sum().plot(kind=\"bar\", figsize=(20,10))\n",
    "plt.xlabel(\"Columns\")\n",
    "plt.ylabel(\"Missing Values\")\n",
    "plt.title(\"Missing Value in Dataset\")"
   ]
  },
  {
   "cell_type": "markdown",
   "metadata": {
    "_uuid": "3ce88235b591c889f9299a897d1b54c2dd0b7095"
   },
   "source": [
    "** Object Type column filled with other**"
   ]
  },
  {
   "cell_type": "code",
   "execution_count": 14,
   "metadata": {
    "_kg_hide-input": true,
    "_uuid": "80f592fc71e9d26c37d1df83454c91b31296753d"
   },
   "outputs": [],
   "source": [
    "for i in df.select_dtypes('object').columns:\n",
    "    df[i] = df[i].fillna(\"other\")"
   ]
  },
  {
   "cell_type": "code",
   "execution_count": 15,
   "metadata": {
    "_uuid": "dee39ef82a50820299aa791a41b9addafd18dfb3"
   },
   "outputs": [
    {
     "data": {
      "text/plain": [
       "(435742, 16)"
      ]
     },
     "execution_count": 15,
     "metadata": {},
     "output_type": "execute_result"
    }
   ],
   "source": [
    "df.shape"
   ]
  },
  {
   "cell_type": "markdown",
   "metadata": {
    "_uuid": "407065242aab74f713419b8079b0884b343f0ce4"
   },
   "source": [
    "### ** After preprocessing data we use Tableau for Visualization **"
   ]
  },
  {
   "cell_type": "markdown",
   "metadata": {
    "_uuid": "ca4990327e4613ad73a841b290fd1bfd29250d00"
   },
   "source": [
    "**What is sulfur dioxide(So2)?**\n",
    "\n",
    "Sulfur dioxide is a gas. It is invisible and has a nasty, sharp smell. It reacts easily with other substances to form harmful compounds, such as sulfuric acid, sulfurous acid and sulfate particles.\n",
    "\n",
    "About 99% of the sulfur dioxide in air comes from human sources. The main source of sulfur dioxide in the air is industrial activity that processes materials that contain sulfur, eg the generation of electricity from coal, oil or gas that contains sulfur. Some mineral ores also contain sulfur, and sulfur dioxide is released when they are processed. In addition, industrial activities that burn fossil fuels containing sulfur can be important sources of sulfur dioxide.\n",
    "\n",
    "Sulfur dioxide is also present in motor vehicle emissions, as the result of fuel combustion. In the past, motor vehicle exhaust was an important, but not the main, source of sulfur dioxide in air. However, this is no longer the case.\n",
    "\n",
    "**What is nitrogen dioxide(No2)?**\n",
    "\n",
    "Nitrogen dioxide (NO2) is one of the nitrogen oxides (NOx), a group of air pollutants produced from combustion processes.\n",
    "\n",
    "In urban outdoor air, the presence of NO2 is mainly due to traffic. Nitric oxide (NO), which is emitted by motor vehicles or other combustion processes, combines with oxygen in the atmosphere, producing NO2. Indoor NO2 is produced mainly by unvented heaters and gas stoves."
   ]
  },
  {
   "cell_type": "markdown",
   "metadata": {
    "_uuid": "be833d47136e09ef7921e976901fe426175ea7c7"
   },
   "source": [
    "### ** High So2 and No2 statewise **\n",
    "- Uttranchal,Jarkhand and Sikkim states have High So2 Emission\n",
    "- WestBengal,Delhi and Jarkhand states have High No2 Emission"
   ]
  },
  {
   "cell_type": "code",
   "execution_count": 16,
   "metadata": {
    "_kg_hide-input": true,
    "_uuid": "80dc3a73d969851d7f6c29359b07df9b168441cf"
   },
   "outputs": [
    {
     "data": {
      "text/html": [
       "\n",
       "        <iframe\n",
       "            width=\"1000\"\n",
       "            height=\"925\"\n",
       "            src=\"https://public.tableau.com/views/IndianAIQStatewiseNo2So2/Dashboard1?:embed=y&:showVizHome=no\"\n",
       "            frameborder=\"0\"\n",
       "            allowfullscreen\n",
       "        ></iframe>\n",
       "        "
      ],
      "text/plain": [
       "<IPython.lib.display.IFrame at 0x18b01e48>"
      ]
     },
     "execution_count": 16,
     "metadata": {},
     "output_type": "execute_result"
    }
   ],
   "source": [
    "\n",
    "IFrame('https://public.tableau.com/views/IndianAIQStatewiseNo2So2/Dashboard1?:embed=y&:showVizHome=no', width=1000, height=925)\n"
   ]
  },
  {
   "cell_type": "markdown",
   "metadata": {
    "_uuid": "4a1e9fc96841bbab3718b809242a1b559d481dc3"
   },
   "source": [
    "### ** High So2 and No2 citywise **\n",
    "- Byrnihat,Gajroula and Jamshedpur city have High So2 Emission\n",
    "- Howrah,Badlapur and Dombivli city have High No2 Emission"
   ]
  },
  {
   "cell_type": "code",
   "execution_count": 17,
   "metadata": {
    "_kg_hide-input": true,
    "_uuid": "65bcd1f2aad1707bab595d7d0f63f8cddd1c681e"
   },
   "outputs": [
    {
     "data": {
      "text/html": [
       "\n",
       "        <iframe\n",
       "            width=\"1000\"\n",
       "            height=\"925\"\n",
       "            src=\"https://public.tableau.com/views/IndianAIQCitywiseNo2So2/Citywiseso2No2?:embed=y&:showVizHome=no\"\n",
       "            frameborder=\"0\"\n",
       "            allowfullscreen\n",
       "        ></iframe>\n",
       "        "
      ],
      "text/plain": [
       "<IPython.lib.display.IFrame at 0x18b016a0>"
      ]
     },
     "execution_count": 17,
     "metadata": {},
     "output_type": "execute_result"
    }
   ],
   "source": [
    "IFrame('https://public.tableau.com/views/IndianAIQCitywiseNo2So2/Citywiseso2No2?:embed=y&:showVizHome=no', width=1000, height=925)\n",
    "#https://public.tableau.com/views/IndianAIQCitywiseNo2So2/Citywiseso2No2?:embed=y&:display_count=yes&publish=yes"
   ]
  },
  {
   "cell_type": "markdown",
   "metadata": {
    "_uuid": "0cde2071c5ac41a3a6a3aed5ded0523f99ef3200"
   },
   "source": [
    "### ** Area type wise So2 and No2 Anlaysis**\n",
    "\n",
    "- RIRUO have more So2 Emission\n",
    "- Industrial Areas have more No2 Emission"
   ]
  },
  {
   "cell_type": "code",
   "execution_count": 18,
   "metadata": {
    "_kg_hide-input": true,
    "_uuid": "724afd4540d062a6f80b8089a471dcc016ab1713"
   },
   "outputs": [
    {
     "data": {
      "text/html": [
       "\n",
       "        <iframe\n",
       "            width=\"1000\"\n",
       "            height=\"250\"\n",
       "            src=\"https://public.tableau.com/views/IndianAIQStatewiseNo2So2/AreatypewiseSO2andNO2?:embed=y&:showVizHome=no\"\n",
       "            frameborder=\"0\"\n",
       "            allowfullscreen\n",
       "        ></iframe>\n",
       "        "
      ],
      "text/plain": [
       "<IPython.lib.display.IFrame at 0x18b01278>"
      ]
     },
     "execution_count": 18,
     "metadata": {},
     "output_type": "execute_result"
    }
   ],
   "source": [
    "IFrame('https://public.tableau.com/views/IndianAIQStatewiseNo2So2/AreatypewiseSO2andNO2?:embed=y&:showVizHome=no', width=1000, height=250)\n",
    "# https://public.tableau.com/views/IndianAIQStatewiseNo2So2/AreatypewiseSO2andNO2?:embed=y&:display_count=yes&publish=yes"
   ]
  },
  {
   "cell_type": "markdown",
   "metadata": {
    "_uuid": "93be7d44ddeea644cc90d8b73e46a6dfee3d9443"
   },
   "source": [
    "### ** Per state year wise So2 Emission we just display 2008-2015**"
   ]
  },
  {
   "cell_type": "code",
   "execution_count": 19,
   "metadata": {
    "_kg_hide-input": true,
    "_uuid": "a332b187ba14d2fd9f50920ce73fbd68c212acf9"
   },
   "outputs": [
    {
     "data": {
      "text/html": [
       "\n",
       "        <iframe\n",
       "            width=\"1100\"\n",
       "            height=\"900\"\n",
       "            src=\"https://public.tableau.com/views/IndianAIQYearStatewiseSo2/YearwiseStateSo2Level?:embed=y&:showVizHome=no\"\n",
       "            frameborder=\"0\"\n",
       "            allowfullscreen\n",
       "        ></iframe>\n",
       "        "
      ],
      "text/plain": [
       "<IPython.lib.display.IFrame at 0x18b01ba8>"
      ]
     },
     "execution_count": 19,
     "metadata": {},
     "output_type": "execute_result"
    }
   ],
   "source": [
    "IFrame('https://public.tableau.com/views/IndianAIQYearStatewiseSo2/YearwiseStateSo2Level?:embed=y&:showVizHome=no', width=1100, height=900)\n"
   ]
  },
  {
   "cell_type": "markdown",
   "metadata": {
    "_uuid": "05d80685d4079905232143e4270af5b2f43d00cd"
   },
   "source": [
    "### ** Per state year wise No2 Emission we just display 2008-2015**"
   ]
  },
  {
   "cell_type": "code",
   "execution_count": 20,
   "metadata": {
    "_kg_hide-input": true,
    "_uuid": "ee7cb9eb3f3251083ea0e787df1ed57a5027472e"
   },
   "outputs": [
    {
     "data": {
      "text/html": [
       "\n",
       "        <iframe\n",
       "            width=\"1100\"\n",
       "            height=\"900\"\n",
       "            src=\"https://public.tableau.com/views/IndianAIQYearStatewiseNo2/YearwiseStateNo2Level?:embed=y&:showVizHome=no\"\n",
       "            frameborder=\"0\"\n",
       "            allowfullscreen\n",
       "        ></iframe>\n",
       "        "
      ],
      "text/plain": [
       "<IPython.lib.display.IFrame at 0x18b019b0>"
      ]
     },
     "execution_count": 20,
     "metadata": {},
     "output_type": "execute_result"
    }
   ],
   "source": [
    "IFrame('https://public.tableau.com/views/IndianAIQYearStatewiseNo2/YearwiseStateNo2Level?:embed=y&:showVizHome=no', width=1100, height=900)\n"
   ]
  },
  {
   "cell_type": "markdown",
   "metadata": {
    "_uuid": "1f211f2e623926c09653321fbce25a68de64f1eb"
   },
   "source": [
    "**What is RSPM?**\n",
    "\n",
    "RSPM is that fraction of TSPM which is readily inhaled by humans through their respiratory system and in general, considered as particulate matter with their diameter (aerodynamic) less than 2.5 micrometers. Larger particles would be filtered in the nasal duct.\n",
    "\n",
    "**What is SPM?**\n",
    "\n",
    "Suspended Particulate Matter (SPM) are microscopic solid or liquid matter suspended in Earth's atmosphere. The term aerosol commonly refers to the particulate/air mixture, as opposed to the particulate matter alone.[3] Sources of particulate matter can be natural or anthropogenic. They have impacts on climate and precipitation that adversely affect human health."
   ]
  },
  {
   "cell_type": "markdown",
   "metadata": {
    "_uuid": "77056e906e0cc407988df25a7ef65fd22395c72e"
   },
   "source": [
    "### ** High RSPM and SPM statewise **\n",
    "- Uttar Pradesh,Maharastra and Punjab states have High RSPM\n",
    "- Mahrastra,Uttr Pradesh and Rajasthan states have High SPM"
   ]
  },
  {
   "cell_type": "code",
   "execution_count": 21,
   "metadata": {
    "_kg_hide-input": true,
    "_uuid": "10b7ba9d010566dbfa1bff6d79f9a1878e5a53dc"
   },
   "outputs": [
    {
     "data": {
      "text/html": [
       "\n",
       "        <iframe\n",
       "            width=\"1100\"\n",
       "            height=\"900\"\n",
       "            src=\"https://public.tableau.com/views/IndianAIQStatewiseRSPMvsSPM/StatewiseRSPMandSPM?:embed=y&:showVizHome=no\"\n",
       "            frameborder=\"0\"\n",
       "            allowfullscreen\n",
       "        ></iframe>\n",
       "        "
      ],
      "text/plain": [
       "<IPython.lib.display.IFrame at 0x1be2e0f0>"
      ]
     },
     "execution_count": 21,
     "metadata": {},
     "output_type": "execute_result"
    }
   ],
   "source": [
    "IFrame('https://public.tableau.com/views/IndianAIQStatewiseRSPMvsSPM/StatewiseRSPMandSPM?:embed=y&:showVizHome=no', width=1100, height=900)\n",
    "#https://public.tableau.com/views/IndianAIQStatewiseRSPMvsSPM/StatewiseRSPMandSPM?:embed=y&:display_count=yes&publish=yes"
   ]
  },
  {
   "cell_type": "markdown",
   "metadata": {
    "_uuid": "b3021f0f8b52ef6f4c0b80ff3b3dd9ab8e612380"
   },
   "source": [
    "### ** High RSPM and SPM citywise **\n",
    "- Delhi,Kanpur and Ludhiana city have High RSPM\n",
    "- Delhi,Kanpur and Agra city have High SPM"
   ]
  },
  {
   "cell_type": "code",
   "execution_count": 22,
   "metadata": {
    "_kg_hide-input": true,
    "_uuid": "e235de6a077106b2366f011c50eb40d6f0ce6ed4"
   },
   "outputs": [
    {
     "data": {
      "text/html": [
       "\n",
       "        <iframe\n",
       "            width=\"1100\"\n",
       "            height=\"900\"\n",
       "            src=\"https://public.tableau.com/views/IndianAIQCityRSPMvsSPM/CitywiseRSPMandSPM?:embed=y&:showVizHome=no\"\n",
       "            frameborder=\"0\"\n",
       "            allowfullscreen\n",
       "        ></iframe>\n",
       "        "
      ],
      "text/plain": [
       "<IPython.lib.display.IFrame at 0x1be2e588>"
      ]
     },
     "execution_count": 22,
     "metadata": {},
     "output_type": "execute_result"
    }
   ],
   "source": [
    "IFrame('https://public.tableau.com/views/IndianAIQCityRSPMvsSPM/CitywiseRSPMandSPM?:embed=y&:showVizHome=no', width=1100, height=900)\n"
   ]
  },
  {
   "cell_type": "markdown",
   "metadata": {
    "_uuid": "b7a9e7196bfb369a87cc428d6ba5f1291a9750b3"
   },
   "source": [
    "### ** Stay Connected For More Update!!!**"
   ]
  },
  {
   "cell_type": "code",
   "execution_count": null,
   "metadata": {
    "_uuid": "03ebb7ce7bf7e1cfee2fe9d016a4dc4bf492f0a2"
   },
   "outputs": [],
   "source": []
  },
  {
   "cell_type": "code",
   "execution_count": null,
   "metadata": {},
   "outputs": [],
   "source": []
  },
  {
   "cell_type": "code",
   "execution_count": null,
   "metadata": {},
   "outputs": [],
   "source": []
  },
  {
   "cell_type": "code",
   "execution_count": null,
   "metadata": {},
   "outputs": [],
   "source": []
  }
 ],
 "metadata": {
  "kernelspec": {
   "display_name": "Python 3",
   "language": "python",
   "name": "python3"
  },
  "language_info": {
   "codemirror_mode": {
    "name": "ipython",
    "version": 3
   },
   "file_extension": ".py",
   "mimetype": "text/x-python",
   "name": "python",
   "nbconvert_exporter": "python",
   "pygments_lexer": "ipython3",
   "version": "3.7.3"
  }
 },
 "nbformat": 4,
 "nbformat_minor": 1
}
