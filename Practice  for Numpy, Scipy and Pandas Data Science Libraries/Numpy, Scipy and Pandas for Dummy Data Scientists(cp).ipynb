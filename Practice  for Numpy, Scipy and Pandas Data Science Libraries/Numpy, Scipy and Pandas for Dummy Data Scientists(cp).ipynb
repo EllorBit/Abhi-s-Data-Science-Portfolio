{
 "cells": [
  {
   "cell_type": "markdown",
   "metadata": {},
   "source": [
    "<div>\n",
    "<a href=\"#\" style=\"font-size:48px;font-weight:600;margin-bottom:20px;\"> Numpy, Scipy and Pandas for Dummy Data Scientists </a>\n",
    "<div style=\"padding-top: 20px;\"><p style=\"font-size:24px;\">Numpy, Scipy and pandas library basics with code example and brief description</p></div>\n",
    "</div>"
   ]
  },
  {
   "cell_type": "markdown",
   "metadata": {},
   "source": [
    "<div>\n",
    "<a href=\"#\" style=\"font-size:48px;font-weight:600;margin-bottom:20px;\"> Numpy </a>\n",
    "<div style=\"padding-top: 20px;\"><p style=\"font-size:24px;\">Numpy library basics with code example</p></div>\n",
    "</div>\n"
   ]
  },
  {
   "cell_type": "markdown",
   "metadata": {},
   "source": [
    "## **N-Dimensional array**\n",
    "> Arrays allows you to perform mathematical operations on whole blocks of data."
   ]
  },
  {
   "cell_type": "code",
   "execution_count": 1,
   "metadata": {},
   "outputs": [
    {
     "name": "stdout",
     "output_type": "stream",
     "text": [
      "[89.   56.34 76.   89.   98.  ]\n",
      "float64\n"
     ]
    }
   ],
   "source": [
    "# easiest way to create an array is by using an array function\n",
    "import numpy as np # I am importing numpy as np\n",
    "\n",
    "scores = [89,56.34, 76,89, 98]\n",
    "first_arr =np.array(scores)\n",
    "print(first_arr)\n",
    "print(first_arr.dtype)  # .dtype return the data type of the array object"
   ]
  },
  {
   "cell_type": "code",
   "execution_count": 2,
   "metadata": {},
   "outputs": [
    {
     "name": "stdout",
     "output_type": "stream",
     "text": [
      "[[34 56 23 89]\n",
      " [11 45 76 34]]\n",
      "2\n",
      "(2, 4)\n",
      "int32\n"
     ]
    }
   ],
   "source": [
    "# Nested lists with equal length, will be converted into a multidimensional array\n",
    "scores_1 = [[34,56,23,89], [11,45,76,34]]\n",
    "second_arr = np.array(scores_1)\n",
    "print(second_arr)\n",
    "print(second_arr.ndim)  #.ndim gives you the dimensions of an array.\n",
    "print(second_arr.shape) #(number of rows, number of columns)\n",
    "print(second_arr.dtype) "
   ]
  },
  {
   "cell_type": "code",
   "execution_count": 3,
   "metadata": {},
   "outputs": [
    {
     "data": {
      "text/plain": [
       "array([0., 0., 0., 0., 0., 0., 0., 0., 0., 0.])"
      ]
     },
     "execution_count": 3,
     "metadata": {},
     "output_type": "execute_result"
    }
   ],
   "source": [
    "x = np.zeros(10) # returns a array of zeros, the same applies for np.ones(10)\n",
    "x"
   ]
  },
  {
   "cell_type": "code",
   "execution_count": 4,
   "metadata": {},
   "outputs": [
    {
     "data": {
      "text/plain": [
       "array([1., 1., 1., 1., 1., 1., 1., 1., 1., 1.])"
      ]
     },
     "execution_count": 4,
     "metadata": {},
     "output_type": "execute_result"
    }
   ],
   "source": [
    "np.ones(10)"
   ]
  },
  {
   "cell_type": "code",
   "execution_count": 5,
   "metadata": {},
   "outputs": [
    {
     "data": {
      "text/plain": [
       "array([[0., 0., 0.],\n",
       "       [0., 0., 0.],\n",
       "       [0., 0., 0.],\n",
       "       [0., 0., 0.]])"
      ]
     },
     "execution_count": 5,
     "metadata": {},
     "output_type": "execute_result"
    }
   ],
   "source": [
    "np.zeros((4,3)) # you can also mention the shape of the array"
   ]
  },
  {
   "cell_type": "code",
   "execution_count": 6,
   "metadata": {},
   "outputs": [
    {
     "data": {
      "text/plain": [
       "array([ 0,  1,  2,  3,  4,  5,  6,  7,  8,  9, 10, 11, 12, 13, 14])"
      ]
     },
     "execution_count": 6,
     "metadata": {},
     "output_type": "execute_result"
    }
   ],
   "source": [
    "np.arange(15)"
   ]
  },
  {
   "cell_type": "code",
   "execution_count": 7,
   "metadata": {},
   "outputs": [
    {
     "data": {
      "text/plain": [
       "array([[1., 0., 0., 0., 0., 0.],\n",
       "       [0., 1., 0., 0., 0., 0.],\n",
       "       [0., 0., 1., 0., 0., 0.],\n",
       "       [0., 0., 0., 1., 0., 0.],\n",
       "       [0., 0., 0., 0., 1., 0.],\n",
       "       [0., 0., 0., 0., 0., 1.]])"
      ]
     },
     "execution_count": 7,
     "metadata": {},
     "output_type": "execute_result"
    }
   ],
   "source": [
    "np.eye(6)"
   ]
  },
  {
   "cell_type": "code",
   "execution_count": 8,
   "metadata": {},
   "outputs": [
    {
     "name": "stdout",
     "output_type": "stream",
     "text": [
      "[89.   56.34 76.   89.   98.  ]\n",
      "[7921.     3174.1956 5776.     7921.     9604.    ]\n",
      "[0. 0. 0. 0. 0.]\n",
      "[0.01123596 0.01774938 0.01315789 0.01123596 0.01020408]\n",
      "[9.43398113 7.5059976  8.71779789 9.43398113 9.89949494]\n"
     ]
    }
   ],
   "source": [
    "#Batch operations on data can be performed without using for loops, this is called vectorization\n",
    "scores = [89,56.34, 76,89, 98]\n",
    "first_arr =np.array(scores)\n",
    "print(first_arr)\n",
    "print(first_arr * first_arr)\n",
    "print(first_arr - first_arr)\n",
    "print(1/(first_arr))\n",
    "print(first_arr ** 0.5)"
   ]
  },
  {
   "cell_type": "markdown",
   "metadata": {},
   "source": [
    "## **Indexing and Slicing**"
   ]
  },
  {
   "cell_type": "code",
   "execution_count": 9,
   "metadata": {},
   "outputs": [
    {
     "name": "stdout",
     "output_type": "stream",
     "text": [
      "[ 0  1  2  3  4  5  6  7  8  9 10 11]\n",
      "5\n",
      "[4 5 6 7 8]\n",
      "[ 0  1  2  3 99 99 99 99 99  9 10 11]\n"
     ]
    }
   ],
   "source": [
    "# you may want to select a subset of your data, for which Numpy array indexing is really useful\n",
    "new_arr = np.arange(12)\n",
    "print(new_arr)\n",
    "print(new_arr[5])\n",
    "print(new_arr[4:9])\n",
    "new_arr[4:9] = 99 #assign sequence of values from 4 to 9 as 99\n",
    "print(new_arr)"
   ]
  },
  {
   "cell_type": "code",
   "execution_count": 10,
   "metadata": {},
   "outputs": [
    {
     "name": "stdout",
     "output_type": "stream",
     "text": [
      "[     0      1      2      3     99 123456     99     99     99      9\n",
      "     10     11]\n"
     ]
    },
    {
     "data": {
      "text/plain": [
       "array([    99, 123456,     99,     99,     99])"
      ]
     },
     "execution_count": 10,
     "metadata": {},
     "output_type": "execute_result"
    }
   ],
   "source": [
    "# A major diffence between lists and array is that, array slices are views on the original array. This means that\n",
    "# the data is not copied, and any modifications to the view will be reflected in the source\n",
    "#  array. \n",
    "modi_arr = new_arr[4:9] \n",
    "modi_arr[1] = 123456\n",
    "print(new_arr)                  # you can see the changes are refelected in main array. \n",
    "modi_arr[:]                  # the sliced variable      "
   ]
  },
  {
   "cell_type": "code",
   "execution_count": 11,
   "metadata": {},
   "outputs": [
    {
     "name": "stdout",
     "output_type": "stream",
     "text": [
      "[[3 4 5]\n",
      " [6 7 8]\n",
      " [9 5 1]]\n",
      "[6 7 8]\n",
      "5\n",
      "5\n"
     ]
    }
   ],
   "source": [
    "# arrays can be treated like matrices\n",
    "matrix_arr =np.array([[3,4,5],[6,7,8],[9,5,1]])\n",
    "print(matrix_arr)\n",
    "print(matrix_arr[1])\n",
    "print(matrix_arr[0][2]) #first row and third column\n",
    "print(matrix_arr[0,2]) # This is same as the above operation\n",
    "\n",
    "# from IPython.display import Image  # importing a image from my computer.\n",
    "# i = Image(filename='Capture.png')\n",
    "# i # Blue print of a matrix "
   ]
  },
  {
   "cell_type": "code",
   "execution_count": 12,
   "metadata": {},
   "outputs": [
    {
     "name": "stdout",
     "output_type": "stream",
     "text": [
      "(2, 2, 3)\n",
      "returns the second list inside first list [4 5 6]\n"
     ]
    }
   ],
   "source": [
    "# 3d arrays -> this is a 2x2x3 array\n",
    "three_d_arr = np.array([[[1, 2, 3], [4, 5, 6]], [[7, 8, 9], [10, 11, 12]]])\n",
    "print(three_d_arr.shape)\n",
    "print(\"returns the second list inside first list {}\".format(three_d_arr[0,1]))"
   ]
  },
  {
   "cell_type": "code",
   "execution_count": 13,
   "metadata": {},
   "outputs": [
    {
     "name": "stdout",
     "output_type": "stream",
     "text": [
      "[[1 2 3]\n",
      " [4 5 6]]\n"
     ]
    }
   ],
   "source": [
    "three_d_arr = np.array([[[1, 2, 3], [4, 5, 6]], [[7, 8, 9], [10, 11, 12]]])\n",
    "print(three_d_arr[0])\n",
    "#if you omit later indices, the returned object will be a lowerdimensional\n",
    "# ndarray consisting of all the data along the higher dimensions\n"
   ]
  },
  {
   "cell_type": "code",
   "execution_count": 14,
   "metadata": {},
   "outputs": [
    {
     "name": "stdout",
     "output_type": "stream",
     "text": [
      "New value of three_d_arr: [[[99 99 99]\n",
      "  [99 99 99]]\n",
      "\n",
      " [[ 7  8  9]\n",
      "  [10 11 12]]]\n",
      " three_d_arr again: [[[ 1  2  3]\n",
      "  [ 4  5  6]]\n",
      "\n",
      " [[ 7  8  9]\n",
      "  [10 11 12]]]\n"
     ]
    }
   ],
   "source": [
    "copied_values = three_d_arr[0].copy() # copy arr[0] value to copied_values\n",
    "three_d_arr[0]= 99  # change all values of arr[0] to 99 \n",
    "print(\"New value of three_d_arr: {}\".format(three_d_arr))  # check the new value of three_d_arr \n",
    "three_d_arr[0] = copied_values # assign copied values back to three_d_arr[0]\n",
    "print(\" three_d_arr again: {}\".format(three_d_arr))"
   ]
  },
  {
   "cell_type": "code",
   "execution_count": 15,
   "metadata": {},
   "outputs": [
    {
     "name": "stdout",
     "output_type": "stream",
     "text": [
      "The original matrix [[3 4 5]\n",
      " [6 7 8]\n",
      " [9 5 1]]:\n",
      "slices the first two rows:[[3 4 5]\n",
      " [6 7 8]]\n",
      "Slices the first two rows and two columns:[[4 5]\n",
      " [7 8]]\n",
      "returns 6 and 7: [6 7]\n",
      "Returns first column: [[3]\n",
      " [6]\n",
      " [9]]\n"
     ]
    }
   ],
   "source": [
    "matrix_arr =np.array([[3,4,5],[6,7,8],[9,5,1]])\n",
    "print(\"The original matrix {}:\".format(matrix_arr))\n",
    "print(\"slices the first two rows:{}\".format(matrix_arr[:2])) # similar to list slicing. returns first two rows of the array\n",
    "print(\"Slices the first two rows and two columns:{}\".format(matrix_arr[:2, 1:]))\n",
    "print(\"returns 6 and 7: {}\".format(matrix_arr[1,:2]))\n",
    "print(\"Returns first column: {}\".format(matrix_arr[:,:1])) #Note that a colon by itself means to take the entire axis"
   ]
  },
  {
   "cell_type": "code",
   "execution_count": 16,
   "metadata": {},
   "outputs": [],
   "source": [
    "# from IPython.display import Image  # importing a image from my computer.\n",
    "# j = Image(filename='Expre.png')\n",
    "# j # diagrammatic explanation of matrix array slicing works."
   ]
  },
  {
   "cell_type": "code",
   "execution_count": 17,
   "metadata": {},
   "outputs": [
    {
     "name": "stdout",
     "output_type": "stream",
     "text": [
      "[ True False False  True False False False]\n"
     ]
    }
   ],
   "source": [
    "#Import random module from Numpy \n",
    "personals = np.array(['Manu', 'Jeevan', 'Prakash', 'Manu', 'Prakash', 'Jeevan', 'Prakash'])\n",
    "print(personals == 'Manu') #checks for the string 'Manu' in personals. If present it returns true; else false#"
   ]
  },
  {
   "cell_type": "code",
   "execution_count": 18,
   "metadata": {},
   "outputs": [
    {
     "name": "stdout",
     "output_type": "stream",
     "text": [
      "[[-0.47912398  0.78909359  1.05320659 -0.06970916]\n",
      " [-1.0555618  -0.04461679 -1.44916822 -1.0177723 ]\n",
      " [-0.55034265  0.24114568 -0.12483894  0.03190038]\n",
      " [-0.21461512  0.9498703  -0.83977764 -0.2866592 ]\n",
      " [ 0.45492905  0.23178137 -0.72280291  0.62478203]\n",
      " [ 0.73501049 -0.1962241   0.29679043 -0.11209306]\n",
      " [ 0.03654028  1.20224781 -0.52836146  1.48254676]]\n"
     ]
    },
    {
     "data": {
      "text/plain": [
       "array([[-0.47912398,  0.78909359,  1.05320659, -0.06970916],\n",
       "       [-0.21461512,  0.9498703 , -0.83977764, -0.2866592 ]])"
      ]
     },
     "execution_count": 18,
     "metadata": {},
     "output_type": "execute_result"
    }
   ],
   "source": [
    "from numpy import random \n",
    "random_no = random.randn(7,4)\n",
    "print(random_no)\n",
    "random_no[personals =='Manu'] #The function returns the rows for which the value of manu is true\n",
    "# Check the image displayed in the cell below. "
   ]
  },
  {
   "cell_type": "code",
   "execution_count": 19,
   "metadata": {},
   "outputs": [],
   "source": [
    "# from IPython.display import Image\n",
    "# k = Image(filename='Matrix.png')\n",
    "# k"
   ]
  },
  {
   "cell_type": "code",
   "execution_count": 20,
   "metadata": {},
   "outputs": [
    {
     "data": {
      "text/plain": [
       "array([[ 1.05320659, -0.06970916],\n",
       "       [-0.83977764, -0.2866592 ]])"
      ]
     },
     "execution_count": 20,
     "metadata": {},
     "output_type": "execute_result"
    }
   ],
   "source": [
    "random_no[personals == 'Manu', 2:] #First two columns and first two rows."
   ]
  },
  {
   "cell_type": "code",
   "execution_count": 21,
   "metadata": {},
   "outputs": [
    {
     "name": "stdout",
     "output_type": "stream",
     "text": [
      "[False  True  True False  True  True  True]\n"
     ]
    },
    {
     "data": {
      "text/plain": [
       "array([[-1.0555618 , -0.04461679, -1.44916822, -1.0177723 ],\n",
       "       [-0.55034265,  0.24114568, -0.12483894,  0.03190038],\n",
       "       [ 0.45492905,  0.23178137, -0.72280291,  0.62478203],\n",
       "       [ 0.73501049, -0.1962241 ,  0.29679043, -0.11209306],\n",
       "       [ 0.03654028,  1.20224781, -0.52836146,  1.48254676]])"
      ]
     },
     "execution_count": 21,
     "metadata": {},
     "output_type": "execute_result"
    }
   ],
   "source": [
    "# To select everything except 'Manu', you can != or negate the condition using -:\n",
    "print(personals != 'Manu')\n",
    "random_no[~(personals == 'Manu')] #get everything except 1st and 4th rows"
   ]
  },
  {
   "cell_type": "code",
   "execution_count": 22,
   "metadata": {},
   "outputs": [
    {
     "name": "stdout",
     "output_type": "stream",
     "text": [
      "[ True  True False  True False  True False]\n"
     ]
    },
    {
     "data": {
      "text/plain": [
       "array([[-0.47912398,  0.78909359,  1.05320659, -0.06970916],\n",
       "       [-1.0555618 , -0.04461679, -1.44916822, -1.0177723 ],\n",
       "       [-0.21461512,  0.9498703 , -0.83977764, -0.2866592 ],\n",
       "       [ 0.73501049, -0.1962241 ,  0.29679043, -0.11209306]])"
      ]
     },
     "execution_count": 22,
     "metadata": {},
     "output_type": "execute_result"
    }
   ],
   "source": [
    "# you can use boolean operator &(and), |(or)\n",
    "new_variable = (personals == 'Manu') | (personals == 'Jeevan')\n",
    "print(new_variable)\n",
    "random_no[new_variable] "
   ]
  },
  {
   "cell_type": "code",
   "execution_count": 23,
   "metadata": {},
   "outputs": [
    {
     "data": {
      "text/plain": [
       "array([[0.        , 0.78909359, 1.05320659, 0.        ],\n",
       "       [0.        , 0.        , 0.        , 0.        ],\n",
       "       [0.        , 0.24114568, 0.        , 0.03190038],\n",
       "       [0.        , 0.9498703 , 0.        , 0.        ],\n",
       "       [0.45492905, 0.23178137, 0.        , 0.62478203],\n",
       "       [0.73501049, 0.        , 0.29679043, 0.        ],\n",
       "       [0.03654028, 1.20224781, 0.        , 1.48254676]])"
      ]
     },
     "execution_count": 23,
     "metadata": {},
     "output_type": "execute_result"
    }
   ],
   "source": [
    "random_no[random_no < 0] =0 \n",
    "random_no # This will set all negative values to zero"
   ]
  },
  {
   "cell_type": "code",
   "execution_count": 24,
   "metadata": {},
   "outputs": [
    {
     "data": {
      "text/plain": [
       "array([[0.        , 0.78909359, 1.05320659, 0.        ],\n",
       "       [9.        , 9.        , 9.        , 9.        ],\n",
       "       [9.        , 9.        , 9.        , 9.        ],\n",
       "       [0.        , 0.9498703 , 0.        , 0.        ],\n",
       "       [9.        , 9.        , 9.        , 9.        ],\n",
       "       [9.        , 9.        , 9.        , 9.        ],\n",
       "       [9.        , 9.        , 9.        , 9.        ]])"
      ]
     },
     "execution_count": 24,
     "metadata": {},
     "output_type": "execute_result"
    }
   ],
   "source": [
    "random_no[ personals != 'Manu'] = 9 # This will set all rows except 1 and 4 to 9. \n",
    "random_no"
   ]
  },
  {
   "cell_type": "markdown",
   "metadata": {},
   "source": [
    "## **Fancy Indexing(Indexing using integer arrays)**\n",
    "> Fancy indexing copies data into a new array"
   ]
  },
  {
   "cell_type": "code",
   "execution_count": 25,
   "metadata": {},
   "outputs": [
    {
     "data": {
      "text/plain": [
       "array([[0., 0., 0., 0.],\n",
       "       [1., 1., 1., 1.],\n",
       "       [2., 2., 2., 2.],\n",
       "       [3., 3., 3., 3.],\n",
       "       [4., 4., 4., 4.],\n",
       "       [5., 5., 5., 5.],\n",
       "       [6., 6., 6., 6.]])"
      ]
     },
     "execution_count": 25,
     "metadata": {},
     "output_type": "execute_result"
    }
   ],
   "source": [
    "from numpy import random\n",
    "algebra = random.randn(7,4) # empty will return a matrix of size 7,4\n",
    "for j in range(7):\n",
    "    algebra[j] = j\n",
    "algebra"
   ]
  },
  {
   "cell_type": "code",
   "execution_count": 26,
   "metadata": {},
   "outputs": [
    {
     "data": {
      "text/plain": [
       "array([[4., 4., 4., 4.],\n",
       "       [5., 5., 5., 5.],\n",
       "       [1., 1., 1., 1.]])"
      ]
     },
     "execution_count": 26,
     "metadata": {},
     "output_type": "execute_result"
    }
   ],
   "source": [
    "# To select a subset of rows in particular order, you can simply pass a list.\n",
    "algebra[[4,5,1]] #returns a subset of rows"
   ]
  },
  {
   "cell_type": "code",
   "execution_count": 27,
   "metadata": {},
   "outputs": [
    {
     "name": "stdout",
     "output_type": "stream",
     "text": [
      "[[ 0  1  2  3]\n",
      " [ 4  5  6  7]\n",
      " [ 8  9 10 11]\n",
      " [12 13 14 15]\n",
      " [16 17 18 19]\n",
      " [20 21 22 23]\n",
      " [24 25 26 27]\n",
      " [28 29 30 31]\n",
      " [32 33 34 35]]\n"
     ]
    },
    {
     "data": {
      "text/plain": [
       "array([ 7, 18, 13,  8])"
      ]
     },
     "execution_count": 27,
     "metadata": {},
     "output_type": "execute_result"
    }
   ],
   "source": [
    "fancy = np.arange(36).reshape(9,4) #reshape is to reshape an array\n",
    "print(fancy)\n",
    "fancy[[1,4,3,2],[3,2,1,0]] #the position of the output array are[(1,3),(4,2),(3,1),(2,0)]"
   ]
  },
  {
   "cell_type": "code",
   "execution_count": 28,
   "metadata": {},
   "outputs": [
    {
     "data": {
      "text/plain": [
       "array([[ 4,  7,  5,  6],\n",
       "       [16, 19, 17, 18],\n",
       "       [32, 35, 33, 34],\n",
       "       [ 8, 11,  9, 10]])"
      ]
     },
     "execution_count": 28,
     "metadata": {},
     "output_type": "execute_result"
    }
   ],
   "source": [
    "fancy[[1, 4, 8, 2]][:, [0, 3, 1, 2]] # entire first row is selected, but the elements are interchanged, same goes for 4th, 8th and 2 nd row."
   ]
  },
  {
   "cell_type": "code",
   "execution_count": 29,
   "metadata": {},
   "outputs": [
    {
     "data": {
      "text/plain": [
       "array([[ 4,  7,  5,  6],\n",
       "       [16, 19, 17, 18],\n",
       "       [32, 35, 33, 34],\n",
       "       [ 8, 11,  9, 10]])"
      ]
     },
     "execution_count": 29,
     "metadata": {},
     "output_type": "execute_result"
    }
   ],
   "source": [
    "# another way to do the above operation is by using np.ix_ function.\n",
    "fancy[np.ix_([1,4,8,2],[0,3,1,2])]"
   ]
  },
  {
   "cell_type": "markdown",
   "metadata": {},
   "source": [
    "## **Transposing Arrays**"
   ]
  },
  {
   "cell_type": "code",
   "execution_count": 30,
   "metadata": {},
   "outputs": [
    {
     "data": {
      "text/plain": [
       "array([[ 0,  4,  8],\n",
       "       [ 1,  5,  9],\n",
       "       [ 2,  6, 10],\n",
       "       [ 3,  7, 11]])"
      ]
     },
     "execution_count": 30,
     "metadata": {},
     "output_type": "execute_result"
    }
   ],
   "source": [
    "transpose= np.arange(12).reshape(3,4) \n",
    "transpose.T # the shape has changed to 4,3"
   ]
  },
  {
   "cell_type": "code",
   "execution_count": 31,
   "metadata": {},
   "outputs": [
    {
     "data": {
      "text/plain": [
       "array([[ 80,  92, 104, 116],\n",
       "       [ 92, 107, 122, 137],\n",
       "       [104, 122, 140, 158],\n",
       "       [116, 137, 158, 179]])"
      ]
     },
     "execution_count": 31,
     "metadata": {},
     "output_type": "execute_result"
    }
   ],
   "source": [
    "#you can use np.dot function to perform matrix computations. You can calculate X transpose X as follows:\n",
    "np.dot(transpose.T, transpose)"
   ]
  },
  {
   "cell_type": "markdown",
   "metadata": {},
   "source": [
    "## **Universal functions**\n",
    "> They perform element wise operations on data in arrays."
   ]
  },
  {
   "cell_type": "code",
   "execution_count": 32,
   "metadata": {},
   "outputs": [
    {
     "name": "stdout",
     "output_type": "stream",
     "text": [
      "[0.         1.         1.41421356 1.73205081 2.         2.23606798\n",
      " 2.44948974 2.64575131]\n",
      "[1.00000000e+00 2.71828183e+00 7.38905610e+00 2.00855369e+01\n",
      " 5.45981500e+01 1.48413159e+02 4.03428793e+02 1.09663316e+03]\n"
     ]
    }
   ],
   "source": [
    "funky =np.arange(8)\n",
    "print(np.sqrt(funky))\n",
    "print(np.exp(funky)) #exponent of the array\n",
    "# these are called as unary functions"
   ]
  },
  {
   "cell_type": "code",
   "execution_count": 33,
   "metadata": {},
   "outputs": [
    {
     "name": "stdout",
     "output_type": "stream",
     "text": [
      "[ 1.07335428 -1.75662247 -0.41171222  0.05046567 -0.45591799 -0.58046005\n",
      " -0.34601982 -0.562953    0.33814007  0.8336363 ]\n",
      "[ 0.01271147 -2.32596125 -0.89415833  0.27339431 -0.92478253  2.12100018\n",
      "  0.85991929  2.12538965  2.25901439  1.19005328]\n",
      "[ 1.07335428 -1.75662247 -0.41171222  0.27339431 -0.45591799  2.12100018\n",
      "  0.85991929  2.12538965  2.25901439  1.19005328]\n",
      "(array([ 0.07335428, -0.75662247, -0.41171222,  0.05046567, -0.45591799,\n",
      "       -0.58046005, -0.34601982, -0.562953  ,  0.33814007,  0.8336363 ]), array([ 1., -1., -0.,  0., -0., -0., -0., -0.,  0.,  0.]))\n"
     ]
    }
   ],
   "source": [
    "# Binary functions take two value, Others such as maximum, add\n",
    "x = random.randn(10)\n",
    "y = random.randn(10)\n",
    "print(x)\n",
    "print(y)\n",
    "print(np.maximum(x,y))# element wise operation\n",
    "print(np.modf(x))# function modf returns the fractional and integral parts of a floating point arrays"
   ]
  },
  {
   "cell_type": "code",
   "execution_count": 34,
   "metadata": {},
   "outputs": [
    {
     "ename": "FileNotFoundError",
     "evalue": "[Errno 2] No such file or directory: '../input/unary.png'",
     "output_type": "error",
     "traceback": [
      "\u001b[1;31m---------------------------------------------------------------------------\u001b[0m",
      "\u001b[1;31mFileNotFoundError\u001b[0m                         Traceback (most recent call last)",
      "\u001b[1;32m<ipython-input-34-754e466fbfd3>\u001b[0m in \u001b[0;36m<module>\u001b[1;34m\u001b[0m\n\u001b[0;32m      1\u001b[0m \u001b[1;31m# List of unary functions avaliable\u001b[0m\u001b[1;33m\u001b[0m\u001b[1;33m\u001b[0m\u001b[1;33m\u001b[0m\u001b[0m\n\u001b[0;32m      2\u001b[0m \u001b[1;32mfrom\u001b[0m \u001b[0mIPython\u001b[0m\u001b[1;33m.\u001b[0m\u001b[0mdisplay\u001b[0m \u001b[1;32mimport\u001b[0m \u001b[0mImage\u001b[0m\u001b[1;33m\u001b[0m\u001b[1;33m\u001b[0m\u001b[0m\n\u001b[1;32m----> 3\u001b[1;33m \u001b[0ml\u001b[0m \u001b[1;33m=\u001b[0m \u001b[0mImage\u001b[0m\u001b[1;33m(\u001b[0m\u001b[0mfilename\u001b[0m\u001b[1;33m=\u001b[0m\u001b[1;34m'../input/unary.png'\u001b[0m\u001b[1;33m)\u001b[0m\u001b[1;33m\u001b[0m\u001b[1;33m\u001b[0m\u001b[0m\n\u001b[0m\u001b[0;32m      4\u001b[0m \u001b[0ml\u001b[0m\u001b[1;33m\u001b[0m\u001b[1;33m\u001b[0m\u001b[0m\n",
      "\u001b[1;32mC:\\ProgramData\\Anaconda3\\lib\\site-packages\\IPython\\core\\display.py\u001b[0m in \u001b[0;36m__init__\u001b[1;34m(self, data, url, filename, format, embed, width, height, retina, unconfined, metadata)\u001b[0m\n\u001b[0;32m   1184\u001b[0m         \u001b[0mself\u001b[0m\u001b[1;33m.\u001b[0m\u001b[0munconfined\u001b[0m \u001b[1;33m=\u001b[0m \u001b[0munconfined\u001b[0m\u001b[1;33m\u001b[0m\u001b[1;33m\u001b[0m\u001b[0m\n\u001b[0;32m   1185\u001b[0m         super(Image, self).__init__(data=data, url=url, filename=filename, \n\u001b[1;32m-> 1186\u001b[1;33m                 metadata=metadata)\n\u001b[0m\u001b[0;32m   1187\u001b[0m \u001b[1;33m\u001b[0m\u001b[0m\n\u001b[0;32m   1188\u001b[0m         \u001b[1;32mif\u001b[0m \u001b[0mself\u001b[0m\u001b[1;33m.\u001b[0m\u001b[0mwidth\u001b[0m \u001b[1;32mis\u001b[0m \u001b[1;32mNone\u001b[0m \u001b[1;32mand\u001b[0m \u001b[0mself\u001b[0m\u001b[1;33m.\u001b[0m\u001b[0mmetadata\u001b[0m\u001b[1;33m.\u001b[0m\u001b[0mget\u001b[0m\u001b[1;33m(\u001b[0m\u001b[1;34m'width'\u001b[0m\u001b[1;33m,\u001b[0m \u001b[1;33m{\u001b[0m\u001b[1;33m}\u001b[0m\u001b[1;33m)\u001b[0m\u001b[1;33m:\u001b[0m\u001b[1;33m\u001b[0m\u001b[1;33m\u001b[0m\u001b[0m\n",
      "\u001b[1;32mC:\\ProgramData\\Anaconda3\\lib\\site-packages\\IPython\\core\\display.py\u001b[0m in \u001b[0;36m__init__\u001b[1;34m(self, data, url, filename, metadata)\u001b[0m\n\u001b[0;32m    613\u001b[0m             \u001b[0mself\u001b[0m\u001b[1;33m.\u001b[0m\u001b[0mmetadata\u001b[0m \u001b[1;33m=\u001b[0m \u001b[1;33m{\u001b[0m\u001b[1;33m}\u001b[0m\u001b[1;33m\u001b[0m\u001b[1;33m\u001b[0m\u001b[0m\n\u001b[0;32m    614\u001b[0m \u001b[1;33m\u001b[0m\u001b[0m\n\u001b[1;32m--> 615\u001b[1;33m         \u001b[0mself\u001b[0m\u001b[1;33m.\u001b[0m\u001b[0mreload\u001b[0m\u001b[1;33m(\u001b[0m\u001b[1;33m)\u001b[0m\u001b[1;33m\u001b[0m\u001b[1;33m\u001b[0m\u001b[0m\n\u001b[0m\u001b[0;32m    616\u001b[0m         \u001b[0mself\u001b[0m\u001b[1;33m.\u001b[0m\u001b[0m_check_data\u001b[0m\u001b[1;33m(\u001b[0m\u001b[1;33m)\u001b[0m\u001b[1;33m\u001b[0m\u001b[1;33m\u001b[0m\u001b[0m\n\u001b[0;32m    617\u001b[0m \u001b[1;33m\u001b[0m\u001b[0m\n",
      "\u001b[1;32mC:\\ProgramData\\Anaconda3\\lib\\site-packages\\IPython\\core\\display.py\u001b[0m in \u001b[0;36mreload\u001b[1;34m(self)\u001b[0m\n\u001b[0;32m   1215\u001b[0m         \u001b[1;34m\"\"\"Reload the raw data from file or URL.\"\"\"\u001b[0m\u001b[1;33m\u001b[0m\u001b[1;33m\u001b[0m\u001b[0m\n\u001b[0;32m   1216\u001b[0m         \u001b[1;32mif\u001b[0m \u001b[0mself\u001b[0m\u001b[1;33m.\u001b[0m\u001b[0membed\u001b[0m\u001b[1;33m:\u001b[0m\u001b[1;33m\u001b[0m\u001b[1;33m\u001b[0m\u001b[0m\n\u001b[1;32m-> 1217\u001b[1;33m             \u001b[0msuper\u001b[0m\u001b[1;33m(\u001b[0m\u001b[0mImage\u001b[0m\u001b[1;33m,\u001b[0m\u001b[0mself\u001b[0m\u001b[1;33m)\u001b[0m\u001b[1;33m.\u001b[0m\u001b[0mreload\u001b[0m\u001b[1;33m(\u001b[0m\u001b[1;33m)\u001b[0m\u001b[1;33m\u001b[0m\u001b[1;33m\u001b[0m\u001b[0m\n\u001b[0m\u001b[0;32m   1218\u001b[0m             \u001b[1;32mif\u001b[0m \u001b[0mself\u001b[0m\u001b[1;33m.\u001b[0m\u001b[0mretina\u001b[0m\u001b[1;33m:\u001b[0m\u001b[1;33m\u001b[0m\u001b[1;33m\u001b[0m\u001b[0m\n\u001b[0;32m   1219\u001b[0m                 \u001b[0mself\u001b[0m\u001b[1;33m.\u001b[0m\u001b[0m_retina_shape\u001b[0m\u001b[1;33m(\u001b[0m\u001b[1;33m)\u001b[0m\u001b[1;33m\u001b[0m\u001b[1;33m\u001b[0m\u001b[0m\n",
      "\u001b[1;32mC:\\ProgramData\\Anaconda3\\lib\\site-packages\\IPython\\core\\display.py\u001b[0m in \u001b[0;36mreload\u001b[1;34m(self)\u001b[0m\n\u001b[0;32m    638\u001b[0m         \u001b[1;34m\"\"\"Reload the raw data from file or URL.\"\"\"\u001b[0m\u001b[1;33m\u001b[0m\u001b[1;33m\u001b[0m\u001b[0m\n\u001b[0;32m    639\u001b[0m         \u001b[1;32mif\u001b[0m \u001b[0mself\u001b[0m\u001b[1;33m.\u001b[0m\u001b[0mfilename\u001b[0m \u001b[1;32mis\u001b[0m \u001b[1;32mnot\u001b[0m \u001b[1;32mNone\u001b[0m\u001b[1;33m:\u001b[0m\u001b[1;33m\u001b[0m\u001b[1;33m\u001b[0m\u001b[0m\n\u001b[1;32m--> 640\u001b[1;33m             \u001b[1;32mwith\u001b[0m \u001b[0mopen\u001b[0m\u001b[1;33m(\u001b[0m\u001b[0mself\u001b[0m\u001b[1;33m.\u001b[0m\u001b[0mfilename\u001b[0m\u001b[1;33m,\u001b[0m \u001b[0mself\u001b[0m\u001b[1;33m.\u001b[0m\u001b[0m_read_flags\u001b[0m\u001b[1;33m)\u001b[0m \u001b[1;32mas\u001b[0m \u001b[0mf\u001b[0m\u001b[1;33m:\u001b[0m\u001b[1;33m\u001b[0m\u001b[1;33m\u001b[0m\u001b[0m\n\u001b[0m\u001b[0;32m    641\u001b[0m                 \u001b[0mself\u001b[0m\u001b[1;33m.\u001b[0m\u001b[0mdata\u001b[0m \u001b[1;33m=\u001b[0m \u001b[0mf\u001b[0m\u001b[1;33m.\u001b[0m\u001b[0mread\u001b[0m\u001b[1;33m(\u001b[0m\u001b[1;33m)\u001b[0m\u001b[1;33m\u001b[0m\u001b[1;33m\u001b[0m\u001b[0m\n\u001b[0;32m    642\u001b[0m         \u001b[1;32melif\u001b[0m \u001b[0mself\u001b[0m\u001b[1;33m.\u001b[0m\u001b[0murl\u001b[0m \u001b[1;32mis\u001b[0m \u001b[1;32mnot\u001b[0m \u001b[1;32mNone\u001b[0m\u001b[1;33m:\u001b[0m\u001b[1;33m\u001b[0m\u001b[1;33m\u001b[0m\u001b[0m\n",
      "\u001b[1;31mFileNotFoundError\u001b[0m: [Errno 2] No such file or directory: '../input/unary.png'"
     ]
    }
   ],
   "source": [
    "# List of unary functions avaliable\n",
    "from IPython.display import Image  \n",
    "l = Image(filename='../input/unary.png')\n",
    "l"
   ]
  },
  {
   "cell_type": "code",
   "execution_count": 35,
   "metadata": {},
   "outputs": [
    {
     "ename": "FileNotFoundError",
     "evalue": "[Errno 2] No such file or directory: '../input/binary.png'",
     "output_type": "error",
     "traceback": [
      "\u001b[1;31m---------------------------------------------------------------------------\u001b[0m",
      "\u001b[1;31mFileNotFoundError\u001b[0m                         Traceback (most recent call last)",
      "\u001b[1;32m<ipython-input-35-6bef94d1ae7f>\u001b[0m in \u001b[0;36m<module>\u001b[1;34m\u001b[0m\n\u001b[0;32m      1\u001b[0m \u001b[1;31m#List of binary functions available\u001b[0m\u001b[1;33m\u001b[0m\u001b[1;33m\u001b[0m\u001b[1;33m\u001b[0m\u001b[0m\n\u001b[0;32m      2\u001b[0m \u001b[1;32mfrom\u001b[0m \u001b[0mIPython\u001b[0m\u001b[1;33m.\u001b[0m\u001b[0mdisplay\u001b[0m \u001b[1;32mimport\u001b[0m \u001b[0mImage\u001b[0m\u001b[1;33m\u001b[0m\u001b[1;33m\u001b[0m\u001b[0m\n\u001b[1;32m----> 3\u001b[1;33m \u001b[0ml\u001b[0m \u001b[1;33m=\u001b[0m \u001b[0mImage\u001b[0m\u001b[1;33m(\u001b[0m\u001b[0mfilename\u001b[0m\u001b[1;33m=\u001b[0m\u001b[1;34m'../input/binary.png'\u001b[0m\u001b[1;33m)\u001b[0m\u001b[1;33m\u001b[0m\u001b[1;33m\u001b[0m\u001b[0m\n\u001b[0m\u001b[0;32m      4\u001b[0m \u001b[0ml\u001b[0m\u001b[1;33m\u001b[0m\u001b[1;33m\u001b[0m\u001b[0m\n\u001b[0;32m      5\u001b[0m \u001b[1;31m#logical operators , and  greater, greater_equal,less, less_equal, equal, not_equal operations can also be performed\u001b[0m\u001b[1;33m\u001b[0m\u001b[1;33m\u001b[0m\u001b[1;33m\u001b[0m\u001b[0m\n",
      "\u001b[1;32mC:\\ProgramData\\Anaconda3\\lib\\site-packages\\IPython\\core\\display.py\u001b[0m in \u001b[0;36m__init__\u001b[1;34m(self, data, url, filename, format, embed, width, height, retina, unconfined, metadata)\u001b[0m\n\u001b[0;32m   1184\u001b[0m         \u001b[0mself\u001b[0m\u001b[1;33m.\u001b[0m\u001b[0munconfined\u001b[0m \u001b[1;33m=\u001b[0m \u001b[0munconfined\u001b[0m\u001b[1;33m\u001b[0m\u001b[1;33m\u001b[0m\u001b[0m\n\u001b[0;32m   1185\u001b[0m         super(Image, self).__init__(data=data, url=url, filename=filename, \n\u001b[1;32m-> 1186\u001b[1;33m                 metadata=metadata)\n\u001b[0m\u001b[0;32m   1187\u001b[0m \u001b[1;33m\u001b[0m\u001b[0m\n\u001b[0;32m   1188\u001b[0m         \u001b[1;32mif\u001b[0m \u001b[0mself\u001b[0m\u001b[1;33m.\u001b[0m\u001b[0mwidth\u001b[0m \u001b[1;32mis\u001b[0m \u001b[1;32mNone\u001b[0m \u001b[1;32mand\u001b[0m \u001b[0mself\u001b[0m\u001b[1;33m.\u001b[0m\u001b[0mmetadata\u001b[0m\u001b[1;33m.\u001b[0m\u001b[0mget\u001b[0m\u001b[1;33m(\u001b[0m\u001b[1;34m'width'\u001b[0m\u001b[1;33m,\u001b[0m \u001b[1;33m{\u001b[0m\u001b[1;33m}\u001b[0m\u001b[1;33m)\u001b[0m\u001b[1;33m:\u001b[0m\u001b[1;33m\u001b[0m\u001b[1;33m\u001b[0m\u001b[0m\n",
      "\u001b[1;32mC:\\ProgramData\\Anaconda3\\lib\\site-packages\\IPython\\core\\display.py\u001b[0m in \u001b[0;36m__init__\u001b[1;34m(self, data, url, filename, metadata)\u001b[0m\n\u001b[0;32m    613\u001b[0m             \u001b[0mself\u001b[0m\u001b[1;33m.\u001b[0m\u001b[0mmetadata\u001b[0m \u001b[1;33m=\u001b[0m \u001b[1;33m{\u001b[0m\u001b[1;33m}\u001b[0m\u001b[1;33m\u001b[0m\u001b[1;33m\u001b[0m\u001b[0m\n\u001b[0;32m    614\u001b[0m \u001b[1;33m\u001b[0m\u001b[0m\n\u001b[1;32m--> 615\u001b[1;33m         \u001b[0mself\u001b[0m\u001b[1;33m.\u001b[0m\u001b[0mreload\u001b[0m\u001b[1;33m(\u001b[0m\u001b[1;33m)\u001b[0m\u001b[1;33m\u001b[0m\u001b[1;33m\u001b[0m\u001b[0m\n\u001b[0m\u001b[0;32m    616\u001b[0m         \u001b[0mself\u001b[0m\u001b[1;33m.\u001b[0m\u001b[0m_check_data\u001b[0m\u001b[1;33m(\u001b[0m\u001b[1;33m)\u001b[0m\u001b[1;33m\u001b[0m\u001b[1;33m\u001b[0m\u001b[0m\n\u001b[0;32m    617\u001b[0m \u001b[1;33m\u001b[0m\u001b[0m\n",
      "\u001b[1;32mC:\\ProgramData\\Anaconda3\\lib\\site-packages\\IPython\\core\\display.py\u001b[0m in \u001b[0;36mreload\u001b[1;34m(self)\u001b[0m\n\u001b[0;32m   1215\u001b[0m         \u001b[1;34m\"\"\"Reload the raw data from file or URL.\"\"\"\u001b[0m\u001b[1;33m\u001b[0m\u001b[1;33m\u001b[0m\u001b[0m\n\u001b[0;32m   1216\u001b[0m         \u001b[1;32mif\u001b[0m \u001b[0mself\u001b[0m\u001b[1;33m.\u001b[0m\u001b[0membed\u001b[0m\u001b[1;33m:\u001b[0m\u001b[1;33m\u001b[0m\u001b[1;33m\u001b[0m\u001b[0m\n\u001b[1;32m-> 1217\u001b[1;33m             \u001b[0msuper\u001b[0m\u001b[1;33m(\u001b[0m\u001b[0mImage\u001b[0m\u001b[1;33m,\u001b[0m\u001b[0mself\u001b[0m\u001b[1;33m)\u001b[0m\u001b[1;33m.\u001b[0m\u001b[0mreload\u001b[0m\u001b[1;33m(\u001b[0m\u001b[1;33m)\u001b[0m\u001b[1;33m\u001b[0m\u001b[1;33m\u001b[0m\u001b[0m\n\u001b[0m\u001b[0;32m   1218\u001b[0m             \u001b[1;32mif\u001b[0m \u001b[0mself\u001b[0m\u001b[1;33m.\u001b[0m\u001b[0mretina\u001b[0m\u001b[1;33m:\u001b[0m\u001b[1;33m\u001b[0m\u001b[1;33m\u001b[0m\u001b[0m\n\u001b[0;32m   1219\u001b[0m                 \u001b[0mself\u001b[0m\u001b[1;33m.\u001b[0m\u001b[0m_retina_shape\u001b[0m\u001b[1;33m(\u001b[0m\u001b[1;33m)\u001b[0m\u001b[1;33m\u001b[0m\u001b[1;33m\u001b[0m\u001b[0m\n",
      "\u001b[1;32mC:\\ProgramData\\Anaconda3\\lib\\site-packages\\IPython\\core\\display.py\u001b[0m in \u001b[0;36mreload\u001b[1;34m(self)\u001b[0m\n\u001b[0;32m    638\u001b[0m         \u001b[1;34m\"\"\"Reload the raw data from file or URL.\"\"\"\u001b[0m\u001b[1;33m\u001b[0m\u001b[1;33m\u001b[0m\u001b[0m\n\u001b[0;32m    639\u001b[0m         \u001b[1;32mif\u001b[0m \u001b[0mself\u001b[0m\u001b[1;33m.\u001b[0m\u001b[0mfilename\u001b[0m \u001b[1;32mis\u001b[0m \u001b[1;32mnot\u001b[0m \u001b[1;32mNone\u001b[0m\u001b[1;33m:\u001b[0m\u001b[1;33m\u001b[0m\u001b[1;33m\u001b[0m\u001b[0m\n\u001b[1;32m--> 640\u001b[1;33m             \u001b[1;32mwith\u001b[0m \u001b[0mopen\u001b[0m\u001b[1;33m(\u001b[0m\u001b[0mself\u001b[0m\u001b[1;33m.\u001b[0m\u001b[0mfilename\u001b[0m\u001b[1;33m,\u001b[0m \u001b[0mself\u001b[0m\u001b[1;33m.\u001b[0m\u001b[0m_read_flags\u001b[0m\u001b[1;33m)\u001b[0m \u001b[1;32mas\u001b[0m \u001b[0mf\u001b[0m\u001b[1;33m:\u001b[0m\u001b[1;33m\u001b[0m\u001b[1;33m\u001b[0m\u001b[0m\n\u001b[0m\u001b[0;32m    641\u001b[0m                 \u001b[0mself\u001b[0m\u001b[1;33m.\u001b[0m\u001b[0mdata\u001b[0m \u001b[1;33m=\u001b[0m \u001b[0mf\u001b[0m\u001b[1;33m.\u001b[0m\u001b[0mread\u001b[0m\u001b[1;33m(\u001b[0m\u001b[1;33m)\u001b[0m\u001b[1;33m\u001b[0m\u001b[1;33m\u001b[0m\u001b[0m\n\u001b[0;32m    642\u001b[0m         \u001b[1;32melif\u001b[0m \u001b[0mself\u001b[0m\u001b[1;33m.\u001b[0m\u001b[0murl\u001b[0m \u001b[1;32mis\u001b[0m \u001b[1;32mnot\u001b[0m \u001b[1;32mNone\u001b[0m\u001b[1;33m:\u001b[0m\u001b[1;33m\u001b[0m\u001b[1;33m\u001b[0m\u001b[0m\n",
      "\u001b[1;31mFileNotFoundError\u001b[0m: [Errno 2] No such file or directory: '../input/binary.png'"
     ]
    }
   ],
   "source": [
    "#List of binary functions available\n",
    "from IPython.display import Image  \n",
    "l = Image(filename='../input/binary.png')\n",
    "l\n",
    "#logical operators , and  greater, greater_equal,less, less_equal, equal, not_equal operations can also be performed"
   ]
  },
  {
   "cell_type": "markdown",
   "metadata": {},
   "source": [
    "# **Data processing using Arrays**"
   ]
  },
  {
   "cell_type": "code",
   "execution_count": 36,
   "metadata": {},
   "outputs": [
    {
     "name": "stdout",
     "output_type": "stream",
     "text": [
      "Default matrices:  [-5 -4 -3 -2 -1  0  1  2  3  4]\n",
      "Matrix values of y: [[-5 -5 -5 -5 -5 -5 -5 -5 -5 -5]\n",
      " [-4 -4 -4 -4 -4 -4 -4 -4 -4 -4]\n",
      " [-3 -3 -3 -3 -3 -3 -3 -3 -3 -3]\n",
      " [-2 -2 -2 -2 -2 -2 -2 -2 -2 -2]\n",
      " [-1 -1 -1 -1 -1 -1 -1 -1 -1 -1]\n",
      " [ 0  0  0  0  0  0  0  0  0  0]\n",
      " [ 1  1  1  1  1  1  1  1  1  1]\n",
      " [ 2  2  2  2  2  2  2  2  2  2]\n",
      " [ 3  3  3  3  3  3  3  3  3  3]\n",
      " [ 4  4  4  4  4  4  4  4  4  4]]\n",
      "Matrix values of x: [[-5 -4 -3 -2 -1  0  1  2  3  4]\n",
      " [-5 -4 -3 -2 -1  0  1  2  3  4]\n",
      " [-5 -4 -3 -2 -1  0  1  2  3  4]\n",
      " [-5 -4 -3 -2 -1  0  1  2  3  4]\n",
      " [-5 -4 -3 -2 -1  0  1  2  3  4]\n",
      " [-5 -4 -3 -2 -1  0  1  2  3  4]\n",
      " [-5 -4 -3 -2 -1  0  1  2  3  4]\n",
      " [-5 -4 -3 -2 -1  0  1  2  3  4]\n",
      " [-5 -4 -3 -2 -1  0  1  2  3  4]\n",
      " [-5 -4 -3 -2 -1  0  1  2  3  4]]\n"
     ]
    }
   ],
   "source": [
    "import numpy as np\n",
    "matrices =np.arange(-5,5,1)\n",
    "x, y = np.meshgrid(matrices, matrices) #mesh grid function takes two 1 d arrays and produces two 2d arrays\n",
    "print(\"Default matrices: \", matrices)\n",
    "print(\"Matrix values of y: {}\".format(y))\n",
    "print(\"Matrix values of x: {}\".format(x))"
   ]
  },
  {
   "cell_type": "code",
   "execution_count": 37,
   "metadata": {},
   "outputs": [
    {
     "name": "stdout",
     "output_type": "stream",
     "text": [
      "[(1, 6, True), (2, 7, False), (3, 8, True), (4, 9, True), (5, 10, False)]\n"
     ]
    },
    {
     "data": {
      "text/plain": [
       "array([ 1,  7,  3,  4, 10])"
      ]
     },
     "execution_count": 37,
     "metadata": {},
     "output_type": "execute_result"
    }
   ],
   "source": [
    "x1= np.array([1,2,3,4,5])\n",
    "y1 = np.array([6,7,8,9,10])\n",
    "cond =[True, False, True, True, False]\n",
    "#If you want to take a value from x1 whenever the corresponding value in cond is true, otherwise take value from y.\n",
    "z1 = [(x,y,z) for x,y,z in zip(x1, y1, cond)] # I have used zip function To illustrate the concept\n",
    "print(z1)\n",
    "np.where(cond, x1, y1) "
   ]
  },
  {
   "cell_type": "code",
   "execution_count": 38,
   "metadata": {},
   "outputs": [
    {
     "name": "stdout",
     "output_type": "stream",
     "text": [
      "[[-0.84786653 -0.9967568  -1.2567254  -1.84470591 -0.17406084]\n",
      " [ 1.45126524 -0.32754644  0.41546344  0.62739536 -1.1638048 ]\n",
      " [ 0.42029263  0.9768389   0.59310259  0.21162371 -0.07436867]\n",
      " [-2.52824004 -1.38384255 -1.25961069 -0.07756106  0.43245795]\n",
      " [ 0.41330206 -1.01241854 -0.33988601  0.38381539 -1.05033975]]\n",
      "[[-1 -1 -1 -1 -1]\n",
      " [ 1 -1  1  1 -1]\n",
      " [ 1  1  1  1 -1]\n",
      " [-1 -1 -1 -1  1]\n",
      " [ 1 -1 -1  1 -1]]\n"
     ]
    },
    {
     "data": {
      "text/plain": [
       "array([[-0.84786653, -0.9967568 , -1.2567254 , -1.84470591, -0.17406084],\n",
       "       [ 1.        , -0.32754644,  1.        ,  1.        , -1.1638048 ],\n",
       "       [ 1.        ,  1.        ,  1.        ,  1.        , -0.07436867],\n",
       "       [-2.52824004, -1.38384255, -1.25961069, -0.07756106,  1.        ],\n",
       "       [ 1.        , -1.01241854, -0.33988601,  1.        , -1.05033975]])"
      ]
     },
     "execution_count": 38,
     "metadata": {},
     "output_type": "execute_result"
    }
   ],
   "source": [
    "ra = np.random.randn(5,5)\n",
    "# If you want to replace negative values in ra with -1 and positive values with 1. You can do it using where function\n",
    "print(ra)\n",
    "print(np.where(ra>0, 1, -1)) # If values in ra are greater than zero, replace it with 1, else replace it with -1.\n",
    "# to set only positive values\n",
    "np.where(ra >0, 1, ra) # same implies to negative values"
   ]
  },
  {
   "cell_type": "markdown",
   "metadata": {},
   "source": [
    "## **Statistical methods**"
   ]
  },
  {
   "cell_type": "code",
   "execution_count": 39,
   "metadata": {},
   "outputs": [
    {
     "name": "stdout",
     "output_type": "stream",
     "text": [
      "[[ 0.11088788  0.76718915  0.87810445  0.18165246  0.21529114]\n",
      " [-0.34830644 -0.91206523  0.14076785 -2.68904751  0.27059392]\n",
      " [ 0.51860932 -0.53160957 -0.67263039  0.46543742  0.25676532]\n",
      " [ 0.60305362  0.53747935  1.74980542  0.84835585  1.33774012]\n",
      " [-0.2176865  -0.95880012 -0.00518256 -0.54673704 -1.40125327]]\n",
      "0.02393658614609004\n",
      "0.02393658614609004\n",
      "0.598414653652251\n"
     ]
    }
   ],
   "source": [
    "thie = np.random.randn(5,5)\n",
    "print(thie)\n",
    "print(thie.mean()) # calculates the mean of thie\n",
    "print(np.mean(thie)) # alternate method to calculate mean\n",
    "print(thie.sum())"
   ]
  },
  {
   "cell_type": "code",
   "execution_count": 40,
   "metadata": {},
   "outputs": [
    {
     "name": "stdout",
     "output_type": "stream",
     "text": [
      "The arrays are: [[ 0  1  2]\n",
      " [ 3  4  5]\n",
      " [ 6  7  8]\n",
      " [ 9 10 11]]\n",
      "The sum of rows are :[18 22 26]\n"
     ]
    }
   ],
   "source": [
    "jp =np.arange(12).reshape(4,3)\n",
    "print(\"The arrays are: {}\".format(jp))\n",
    "print(\"The sum of rows are :{}\".format(np.sum(jp, axis =0))) #axis =0, gives you sum of the columns. axis =1 , gives sum of rows.\n",
    "# remember this zero is for columns and one is for rows."
   ]
  },
  {
   "cell_type": "code",
   "execution_count": 41,
   "metadata": {},
   "outputs": [
    {
     "data": {
      "text/plain": [
       "array([ 3, 12, 21, 30])"
      ]
     },
     "execution_count": 41,
     "metadata": {},
     "output_type": "execute_result"
    }
   ],
   "source": [
    "jp.sum(1)#returns sum of rows"
   ]
  },
  {
   "cell_type": "code",
   "execution_count": 42,
   "metadata": {},
   "outputs": [
    {
     "data": {
      "text/plain": [
       "array([[ 0,  1,  2],\n",
       "       [ 3,  5,  7],\n",
       "       [ 9, 12, 15],\n",
       "       [18, 22, 26]], dtype=int32)"
      ]
     },
     "execution_count": 42,
     "metadata": {},
     "output_type": "execute_result"
    }
   ],
   "source": [
    "jp.cumsum(0)  #cumulative sum of columns, try the same for jp.cumprod(0)"
   ]
  },
  {
   "cell_type": "code",
   "execution_count": 43,
   "metadata": {},
   "outputs": [
    {
     "data": {
      "text/plain": [
       "array([[ 0,  1,  3],\n",
       "       [ 3,  7, 12],\n",
       "       [ 6, 13, 21],\n",
       "       [ 9, 19, 30]], dtype=int32)"
      ]
     },
     "execution_count": 43,
     "metadata": {},
     "output_type": "execute_result"
    }
   ],
   "source": [
    "jp.cumsum(1)#cumulative sum of rows"
   ]
  },
  {
   "cell_type": "code",
   "execution_count": 44,
   "metadata": {},
   "outputs": [
    {
     "name": "stdout",
     "output_type": "stream",
     "text": [
      "43\n",
      "57\n",
      "True\n",
      "False\n"
     ]
    }
   ],
   "source": [
    "xp =np.random.randn(100)\n",
    "print((xp > 0).sum()) # sum of all positive values\n",
    "print((xp < 0).sum())\n",
    "tandf =np.array([True,False,True,False,True,False])\n",
    "print(tandf.any())#checks if any of the values are true\n",
    "print(tandf.all()) #returns false even if a single value is false\n",
    "#These methods also work with non-boolean arrays, where non-zero elements evaluate to True."
   ]
  },
  {
   "cell_type": "markdown",
   "metadata": {},
   "source": [
    "> Other array functions are:\n",
    "    * std, var -> standard deviation and variance\n",
    "    * min, max -> Minimum and Maximum\n",
    "    * argmin, argmax -> Indices of minimum and maximum elements"
   ]
  },
  {
   "cell_type": "markdown",
   "metadata": {},
   "source": [
    "## **Sorting**"
   ]
  },
  {
   "cell_type": "code",
   "execution_count": 45,
   "metadata": {},
   "outputs": [
    {
     "name": "stdout",
     "output_type": "stream",
     "text": [
      "[ 1.65872416 -1.52583408 -0.88560874 -0.18059008  0.78259141  0.15040551\n",
      "  2.16625321 -0.11402223]\n"
     ]
    },
    {
     "data": {
      "text/plain": [
       "array([-1.52583408, -0.88560874, -0.18059008, -0.11402223,  0.15040551,\n",
       "        0.78259141,  1.65872416,  2.16625321])"
      ]
     },
     "execution_count": 45,
     "metadata": {},
     "output_type": "execute_result"
    }
   ],
   "source": [
    "lp = np.random.randn(8)\n",
    "print(lp)\n",
    "lp.sort()\n",
    "lp"
   ]
  },
  {
   "cell_type": "code",
   "execution_count": 46,
   "metadata": {},
   "outputs": [
    {
     "data": {
      "text/plain": [
       "array([[ 0.33933736, -0.96784048, -2.68297329, -0.32691466],\n",
       "       [ 3.17069102, -0.61514381,  1.30608162,  1.04829355],\n",
       "       [ 0.29635307, -0.17757665, -0.0948743 ,  0.25181073],\n",
       "       [ 0.97394346, -1.2962098 ,  0.27758876, -0.8861598 ]])"
      ]
     },
     "execution_count": 46,
     "metadata": {},
     "output_type": "execute_result"
    }
   ],
   "source": [
    "tp = np.random.randn(4,4)\n",
    "tp"
   ]
  },
  {
   "cell_type": "code",
   "execution_count": 47,
   "metadata": {},
   "outputs": [
    {
     "data": {
      "text/plain": [
       "array([[-2.68297329, -0.96784048, -0.32691466,  0.33933736],\n",
       "       [-0.61514381,  1.04829355,  1.30608162,  3.17069102],\n",
       "       [-0.17757665, -0.0948743 ,  0.25181073,  0.29635307],\n",
       "       [-1.2962098 , -0.8861598 ,  0.27758876,  0.97394346]])"
      ]
     },
     "execution_count": 47,
     "metadata": {},
     "output_type": "execute_result"
    }
   ],
   "source": [
    "tp.sort(1) #check the rows are sorted\n",
    "tp"
   ]
  },
  {
   "cell_type": "code",
   "execution_count": 48,
   "metadata": {},
   "outputs": [
    {
     "data": {
      "text/plain": [
       "array(['Jeevan', 'Manu', 'Prakash'], dtype='<U7')"
      ]
     },
     "execution_count": 48,
     "metadata": {},
     "output_type": "execute_result"
    }
   ],
   "source": [
    "personals = np.array(['Manu', 'Jeevan', 'Prakash', 'Manu', 'Prakash', 'Jeevan', 'Prakash'])\n",
    "np.unique(personals)# returns the unique elements in the array"
   ]
  },
  {
   "cell_type": "code",
   "execution_count": 49,
   "metadata": {},
   "outputs": [
    {
     "data": {
      "text/plain": [
       "{'Jeevan', 'Manu', 'Prakash'}"
      ]
     },
     "execution_count": 49,
     "metadata": {},
     "output_type": "execute_result"
    }
   ],
   "source": [
    "set(personals) # set is an alternative to unique function"
   ]
  },
  {
   "cell_type": "code",
   "execution_count": 50,
   "metadata": {},
   "outputs": [
    {
     "data": {
      "text/plain": [
       "array([ True, False, False,  True, False, False, False])"
      ]
     },
     "execution_count": 50,
     "metadata": {},
     "output_type": "execute_result"
    }
   ],
   "source": [
    "np.in1d(personals, ['Manu']) #in1d function checks for the value 'Manu' and returns True, other wise returns False"
   ]
  },
  {
   "cell_type": "markdown",
   "metadata": {},
   "source": [
    "> Other Functions are :\n",
    "    * intersect1d(x, y)-> Compute the sorted, common elements in x and y\n",
    "    * union1d(x,y) -> compute the sorted union of elements\n",
    "    * setdiff1d(x,y) -> set difference, elements in x that are not in y\n",
    "    * setxor1d(x, y) -> Set symmetric differences; elements that are in either of the arrays, but not both"
   ]
  },
  {
   "cell_type": "markdown",
   "metadata": {},
   "source": [
    "## **Linear Algebra**"
   ]
  },
  {
   "cell_type": "code",
   "execution_count": 51,
   "metadata": {},
   "outputs": [
    {
     "name": "stdout",
     "output_type": "stream",
     "text": [
      "CP array :[[1 2 3]\n",
      " [4 5 6]]\n",
      "DP array :[[ 7  8]\n",
      " [ 9 10]\n",
      " [11 12]]\n"
     ]
    }
   ],
   "source": [
    "cp = np.array([[1,2,3],[4,5,6]])\n",
    "dp = np.array([[7,8],[9,10],[11,12]])\n",
    "print(\"CP array :{}\".format(cp))\n",
    "print(\"DP array :{}\".format(dp))"
   ]
  },
  {
   "cell_type": "code",
   "execution_count": 52,
   "metadata": {},
   "outputs": [
    {
     "data": {
      "text/plain": [
       "array([[ 58,  64],\n",
       "       [139, 154]])"
      ]
     },
     "execution_count": 52,
     "metadata": {},
     "output_type": "execute_result"
    }
   ],
   "source": [
    "# element wise multiplication\n",
    "cp.dot(dp) # this is equivalent to np.dot(x,y)"
   ]
  },
  {
   "cell_type": "code",
   "execution_count": 53,
   "metadata": {},
   "outputs": [
    {
     "data": {
      "text/plain": [
       "array([ 6., 15.])"
      ]
     },
     "execution_count": 53,
     "metadata": {},
     "output_type": "execute_result"
    }
   ],
   "source": [
    "np.dot(cp, np.ones(3)) "
   ]
  },
  {
   "cell_type": "code",
   "execution_count": 54,
   "metadata": {},
   "outputs": [
    {
     "name": "stdout",
     "output_type": "stream",
     "text": [
      "[[17 22 27]\n",
      " [22 29 36]\n",
      " [27 36 45]]\n"
     ]
    }
   ],
   "source": [
    "# numpy.linalg has standard matrix operations like determinants and inverse.\n",
    "from numpy.linalg import inv, qr\n",
    "cp = np.array([[1,2,3],[4,5,6]])\n",
    "new_mat = cp.T.dot(cp) # multiply cp inverse and cp, this is element wise multiplication\n",
    "print(new_mat)"
   ]
  },
  {
   "cell_type": "code",
   "execution_count": 55,
   "metadata": {},
   "outputs": [
    {
     "name": "stdout",
     "output_type": "stream",
     "text": [
      "[[ 1.26812527 -0.82458732  0.40397289 -2.02878432 -2.61871151]\n",
      " [ 0.79264956 -0.4041058   0.13270575 -0.61926693 -0.8475755 ]\n",
      " [-0.29884088  0.48811845  0.13073602  0.37263884  0.85344308]\n",
      " [ 0.01040039 -0.75483236  0.46564806 -0.10481684 -0.81914129]\n",
      " [ 0.07161937  0.06259495  0.01642321 -0.17436547  0.6000147 ]]\n"
     ]
    }
   ],
   "source": [
    "sp = np.random.randn(5,5)\n",
    "print(inv(sp))\n",
    "rt = inv(sp)"
   ]
  },
  {
   "cell_type": "code",
   "execution_count": 56,
   "metadata": {},
   "outputs": [
    {
     "data": {
      "text/plain": [
       "array([[ 1.00000000e+00, -7.28583860e-17, -7.71951947e-17,\n",
       "         1.66533454e-16,  3.33066907e-16],\n",
       "       [ 0.00000000e+00,  1.00000000e+00, -4.51028104e-17,\n",
       "         1.66533454e-16,  1.11022302e-16],\n",
       "       [ 1.24900090e-16, -2.87964097e-16,  1.00000000e+00,\n",
       "        -2.28983499e-16, -4.71844785e-16],\n",
       "       [-2.77555756e-17,  2.77555756e-17, -1.73472348e-17,\n",
       "         1.00000000e+00,  0.00000000e+00],\n",
       "       [ 6.93889390e-17, -2.77555756e-17,  6.93889390e-18,\n",
       "         2.77555756e-17,  1.00000000e+00]])"
      ]
     },
     "execution_count": 56,
     "metadata": {},
     "output_type": "execute_result"
    }
   ],
   "source": [
    "# to calculate the product of a matrix and its inverse\n",
    "sp.dot(rt)"
   ]
  },
  {
   "cell_type": "code",
   "execution_count": 57,
   "metadata": {},
   "outputs": [
    {
     "name": "stdout",
     "output_type": "stream",
     "text": [
      "[[-0.53205667 -0.66728817  0.49595543  0.11330789  0.11327726]\n",
      " [ 0.43098656 -0.49174631 -0.05090574 -0.74836022  0.09900372]\n",
      " [ 0.24343874 -0.5412623  -0.59636004  0.53986356  0.02597588]\n",
      " [-0.66275624 -0.02098086 -0.59306725 -0.36404275 -0.2757863 ]\n",
      " [-0.18071535  0.13966745 -0.20991132 -0.05602237  0.94901723]]\n"
     ]
    },
    {
     "data": {
      "text/plain": [
       "array([[ 1.12857527, -2.18533377,  0.8308966 , -0.07567827,  0.25224078],\n",
       "       [ 0.        , -1.97074344, -2.66246819,  0.0984475 ,  1.37033484],\n",
       "       [ 0.        ,  0.        , -1.53569072, -0.87224941,  0.64368055],\n",
       "       [ 0.        ,  0.        ,  0.        ,  1.10926304,  1.42099983],\n",
       "       [ 0.        ,  0.        ,  0.        ,  0.        ,  1.58165662]])"
      ]
     },
     "execution_count": 57,
     "metadata": {},
     "output_type": "execute_result"
    }
   ],
   "source": [
    "q,r = qr(sp)\n",
    "print(q)\n",
    "r"
   ]
  },
  {
   "cell_type": "markdown",
   "metadata": {},
   "source": [
    "> Other Matrix Functions\n",
    "    * diag : Return the diagonal (or off-diagonal) elements of a square matrix as a 1D array, or convert a 1D array into a square\n",
    "    * matrix with zeros on the off-diagonal\n",
    "    * trace: Compute the sum of the diagonal elements\n",
    "    * det: Compute the matrix determinant\n",
    "    * eig: Compute the eigenvalues and eigenvectors of a square matrix\n",
    "    * pinv: Compute the pseudo-inverse of a square matrix\n",
    "    * svd: Compute the singular value decomposition (SVD)\n",
    "    * solve: Solve the linear system Ax = b for x, where A is a square matrix\n",
    "    * lstsq: Compute the least-squares solution to y = Xb"
   ]
  },
  {
   "cell_type": "markdown",
   "metadata": {},
   "source": [
    "<div>\n",
    "<a href=\"#\" style=\"font-size:48px;font-weight:600;margin-bottom:20px;\"> Scipy </a>\n",
    "<div style=\"padding-top: 20px;\"><p style=\"font-size:24px;\">Scipy library basics with code example</p></div>\n",
    "</div>"
   ]
  },
  {
   "cell_type": "code",
   "execution_count": null,
   "metadata": {},
   "outputs": [],
   "source": []
  },
  {
   "cell_type": "markdown",
   "metadata": {},
   "source": [
    "<div>\n",
    "<a href=\"#\" style=\"font-size:48px;font-weight:600;margin-bottom:20px;\"> Pandas </a>\n",
    "<div style=\"padding-top: 20px;\"><p style=\"font-size:24px;\">Pandas library basics with code example</p></div>\n",
    "</div>\n",
    "\n",
    "Pandas contains high level data structures and manipulation tools to make data analysis fast and easy in Python."
   ]
  },
  {
   "cell_type": "code",
   "execution_count": 58,
   "metadata": {},
   "outputs": [],
   "source": [
    "import pandas as pd\n",
    "from pandas import Series, DataFrame # Series and Data Frame are two data structures available in pandas"
   ]
  },
  {
   "cell_type": "markdown",
   "metadata": {},
   "source": [
    "## Series\n",
    "Series is a one-dimensional array like object containing an array of data(any Numpy data type, and an associated array of data labels, called its index."
   ]
  },
  {
   "cell_type": "code",
   "execution_count": 59,
   "metadata": {},
   "outputs": [
    {
     "name": "stdout",
     "output_type": "stream",
     "text": [
      "0    5\n",
      "1    4\n",
      "2    3\n",
      "3    2\n",
      "4    1\n",
      "dtype: int64\n",
      "[5 4 3 2 1]\n"
     ]
    }
   ],
   "source": [
    "mjp= Series([5,4,3,2,1])# a simple series\n",
    "print(mjp)       # A series is represented by index on the left and values on the right\n",
    "print(mjp.values) # similar to dictionary. \".values\" command returns values in a series "
   ]
  },
  {
   "cell_type": "code",
   "execution_count": 60,
   "metadata": {},
   "outputs": [
    {
     "name": "stdout",
     "output_type": "stream",
     "text": [
      "[0 1 2 3 4]\n"
     ]
    }
   ],
   "source": [
    "print(mjp.index.values) # returns the index values of the series"
   ]
  },
  {
   "cell_type": "code",
   "execution_count": 61,
   "metadata": {},
   "outputs": [
    {
     "name": "stdout",
     "output_type": "stream",
     "text": [
      "a     5\n",
      "b     4\n",
      "c     3\n",
      "d     2\n",
      "e     1\n",
      "f    -7\n",
      "h   -29\n",
      "dtype: int64\n",
      "5\n"
     ]
    }
   ],
   "source": [
    "jeeva = Series([5,4,3,2,1,-7,-29], index =['a','b','c','d','e','f','h']) # The index is specified\n",
    "print(jeeva) # try jeeva.index and jeeva.values\n",
    "print(jeeva['a']) # selecting a particular value from a Series, by using index"
   ]
  },
  {
   "cell_type": "code",
   "execution_count": 62,
   "metadata": {},
   "outputs": [
    {
     "name": "stdout",
     "output_type": "stream",
     "text": [
      "a     5\n",
      "b     4\n",
      "c     3\n",
      "d     9\n",
      "e     1\n",
      "f    -7\n",
      "h   -29\n",
      "dtype: int64\n"
     ]
    },
    {
     "data": {
      "text/plain": [
       "a    5\n",
       "b    4\n",
       "c    3\n",
       "dtype: int64"
      ]
     },
     "execution_count": 62,
     "metadata": {},
     "output_type": "execute_result"
    }
   ],
   "source": [
    "jeeva['d'] = 9 # change the value of a particular element in series\n",
    "print(jeeva)\n",
    "jeeva[['a','b','c']] # select a group of values"
   ]
  },
  {
   "cell_type": "code",
   "execution_count": 63,
   "metadata": {},
   "outputs": [
    {
     "name": "stdout",
     "output_type": "stream",
     "text": [
      "a    5\n",
      "b    4\n",
      "c    3\n",
      "d    9\n",
      "e    1\n",
      "dtype: int64\n",
      "a    10\n",
      "b     8\n",
      "c     6\n",
      "d    18\n",
      "e     2\n",
      "f   -14\n",
      "h   -58\n",
      "dtype: int64\n"
     ]
    }
   ],
   "source": [
    "print(jeeva[jeeva>0]) # returns only the positive values\n",
    "print(jeeva *2) # multiplies 2 to each element of a series"
   ]
  },
  {
   "cell_type": "code",
   "execution_count": 64,
   "metadata": {},
   "outputs": [
    {
     "data": {
      "text/plain": [
       "-2.0"
      ]
     },
     "execution_count": 64,
     "metadata": {},
     "output_type": "execute_result"
    }
   ],
   "source": [
    "import numpy as np\n",
    "np.mean(jeeva) # you can apply numpy functions to a Series"
   ]
  },
  {
   "cell_type": "code",
   "execution_count": 65,
   "metadata": {},
   "outputs": [
    {
     "name": "stdout",
     "output_type": "stream",
     "text": [
      "True\n",
      "False\n"
     ]
    }
   ],
   "source": [
    "print('b' in jeeva) # checks whether the index is present in Series or not\n",
    "print('z' in jeeva)"
   ]
  },
  {
   "cell_type": "code",
   "execution_count": 66,
   "metadata": {},
   "outputs": [
    {
     "name": "stdout",
     "output_type": "stream",
     "text": [
      "Rooney        50000\n",
      "Messi         75000\n",
      "Ronaldo       85000\n",
      "Fabregas      40000\n",
      "Van persie    67000\n",
      "dtype: int64\n"
     ]
    }
   ],
   "source": [
    "player_salary ={'Rooney': 50000, 'Messi': 75000, 'Ronaldo': 85000, 'Fabregas':40000, 'Van persie': 67000} \n",
    "new_player = Series(player_salary)# converting a dictionary to a series\n",
    "print(new_player) # the series has keys of a dictionary"
   ]
  },
  {
   "cell_type": "code",
   "execution_count": 67,
   "metadata": {},
   "outputs": [
    {
     "name": "stdout",
     "output_type": "stream",
     "text": [
      "Klose             NaN\n",
      "Messi         75000.0\n",
      "Ronaldo       85000.0\n",
      "Van persie    67000.0\n",
      "Ballack           NaN\n",
      "dtype: float64\n"
     ]
    }
   ],
   "source": [
    "players =['Klose', 'Messi', 'Ronaldo', 'Van persie', 'Ballack'] \n",
    "player_1 =Series(player_salary, index= players)\n",
    "print(player_1) # I have changed the index of the Series. Since, no value was not found for Klose and Ballack, it appears as NAN"
   ]
  },
  {
   "cell_type": "code",
   "execution_count": 68,
   "metadata": {},
   "outputs": [
    {
     "data": {
      "text/plain": [
       "Klose          True\n",
       "Messi         False\n",
       "Ronaldo       False\n",
       "Van persie    False\n",
       "Ballack        True\n",
       "dtype: bool"
      ]
     },
     "execution_count": 68,
     "metadata": {},
     "output_type": "execute_result"
    }
   ],
   "source": [
    "pd.isnull(player_1)#checks for Null values in player_1, pd denotes a pandas dataframe"
   ]
  },
  {
   "cell_type": "code",
   "execution_count": 69,
   "metadata": {},
   "outputs": [
    {
     "data": {
      "text/plain": [
       "Klose         False\n",
       "Messi          True\n",
       "Ronaldo        True\n",
       "Van persie     True\n",
       "Ballack       False\n",
       "dtype: bool"
      ]
     },
     "execution_count": 69,
     "metadata": {},
     "output_type": "execute_result"
    }
   ],
   "source": [
    "pd.notnull(player_1)# Checks for null values that are not Null"
   ]
  },
  {
   "cell_type": "code",
   "execution_count": 70,
   "metadata": {},
   "outputs": [
    {
     "data": {
      "text/plain": [
       "Player names\n",
       "Klose             NaN\n",
       "Messi         75000.0\n",
       "Ronaldo       85000.0\n",
       "Van persie    67000.0\n",
       "Ballack           NaN\n",
       "Name: Bundesliga players, dtype: float64"
      ]
     },
     "execution_count": 70,
     "metadata": {},
     "output_type": "execute_result"
    }
   ],
   "source": [
    "player_1.name ='Bundesliga players' # name for the Series\n",
    "player_1.index.name='Player names' #name of the index\n",
    "player_1"
   ]
  },
  {
   "cell_type": "code",
   "execution_count": 71,
   "metadata": {},
   "outputs": [
    {
     "data": {
      "text/plain": [
       "Neymar          NaN\n",
       "Hulk        75000.0\n",
       "Pirlo       85000.0\n",
       "Buffon      67000.0\n",
       "Anderson        NaN\n",
       "Name: Bundesliga players, dtype: float64"
      ]
     },
     "execution_count": 71,
     "metadata": {},
     "output_type": "execute_result"
    }
   ],
   "source": [
    "player_1.index =['Neymar', 'Hulk', 'Pirlo', 'Buffon', 'Anderson'] # is used to alter the index of Series\n",
    "player_1"
   ]
  },
  {
   "cell_type": "markdown",
   "metadata": {},
   "source": [
    "## Data Frame\n",
    "Data frame is a spread sheet like structure, containing ordered collection of columns. Each column can have different value type. Data frame has both row index and column index."
   ]
  },
  {
   "cell_type": "code",
   "execution_count": 72,
   "metadata": {},
   "outputs": [
    {
     "data": {
      "text/html": [
       "<div>\n",
       "<style scoped>\n",
       "    .dataframe tbody tr th:only-of-type {\n",
       "        vertical-align: middle;\n",
       "    }\n",
       "\n",
       "    .dataframe tbody tr th {\n",
       "        vertical-align: top;\n",
       "    }\n",
       "\n",
       "    .dataframe thead th {\n",
       "        text-align: right;\n",
       "    }\n",
       "</style>\n",
       "<table border=\"1\" class=\"dataframe\">\n",
       "  <thead>\n",
       "    <tr style=\"text-align: right;\">\n",
       "      <th></th>\n",
       "      <th>State</th>\n",
       "      <th>Population</th>\n",
       "      <th>Language</th>\n",
       "    </tr>\n",
       "  </thead>\n",
       "  <tbody>\n",
       "    <tr>\n",
       "      <th>0</th>\n",
       "      <td>Gujarat</td>\n",
       "      <td>36</td>\n",
       "      <td>Gujarati</td>\n",
       "    </tr>\n",
       "    <tr>\n",
       "      <th>1</th>\n",
       "      <td>Tamil Nadu</td>\n",
       "      <td>44</td>\n",
       "      <td>Tamil</td>\n",
       "    </tr>\n",
       "    <tr>\n",
       "      <th>2</th>\n",
       "      <td>Andhra</td>\n",
       "      <td>67</td>\n",
       "      <td>Telugu</td>\n",
       "    </tr>\n",
       "    <tr>\n",
       "      <th>3</th>\n",
       "      <td>Karnataka</td>\n",
       "      <td>89</td>\n",
       "      <td>Kannada</td>\n",
       "    </tr>\n",
       "    <tr>\n",
       "      <th>4</th>\n",
       "      <td>Kerala</td>\n",
       "      <td>34</td>\n",
       "      <td>Malayalam</td>\n",
       "    </tr>\n",
       "  </tbody>\n",
       "</table>\n",
       "</div>"
      ],
      "text/plain": [
       "        State  Population   Language\n",
       "0     Gujarat          36   Gujarati\n",
       "1  Tamil Nadu          44      Tamil\n",
       "2      Andhra          67     Telugu\n",
       "3   Karnataka          89    Kannada\n",
       "4      Kerala          34  Malayalam"
      ]
     },
     "execution_count": 72,
     "metadata": {},
     "output_type": "execute_result"
    }
   ],
   "source": [
    "states ={'State' :['Gujarat', 'Tamil Nadu', ' Andhra', 'Karnataka', 'Kerala'],\n",
    "                  'Population': [36, 44, 67,89,34],\n",
    "                  'Language' :['Gujarati', 'Tamil', 'Telugu', 'Kannada', 'Malayalam']}\n",
    "india = DataFrame(states) # creating a data frame\n",
    "india"
   ]
  },
  {
   "cell_type": "code",
   "execution_count": 73,
   "metadata": {},
   "outputs": [
    {
     "data": {
      "text/html": [
       "<div>\n",
       "<style scoped>\n",
       "    .dataframe tbody tr th:only-of-type {\n",
       "        vertical-align: middle;\n",
       "    }\n",
       "\n",
       "    .dataframe tbody tr th {\n",
       "        vertical-align: top;\n",
       "    }\n",
       "\n",
       "    .dataframe thead th {\n",
       "        text-align: right;\n",
       "    }\n",
       "</style>\n",
       "<table border=\"1\" class=\"dataframe\">\n",
       "  <thead>\n",
       "    <tr style=\"text-align: right;\">\n",
       "      <th></th>\n",
       "      <th>State</th>\n",
       "      <th>Language</th>\n",
       "      <th>Population</th>\n",
       "    </tr>\n",
       "  </thead>\n",
       "  <tbody>\n",
       "    <tr>\n",
       "      <th>0</th>\n",
       "      <td>Gujarat</td>\n",
       "      <td>Gujarati</td>\n",
       "      <td>36</td>\n",
       "    </tr>\n",
       "    <tr>\n",
       "      <th>1</th>\n",
       "      <td>Tamil Nadu</td>\n",
       "      <td>Tamil</td>\n",
       "      <td>44</td>\n",
       "    </tr>\n",
       "    <tr>\n",
       "      <th>2</th>\n",
       "      <td>Andhra</td>\n",
       "      <td>Telugu</td>\n",
       "      <td>67</td>\n",
       "    </tr>\n",
       "    <tr>\n",
       "      <th>3</th>\n",
       "      <td>Karnataka</td>\n",
       "      <td>Kannada</td>\n",
       "      <td>89</td>\n",
       "    </tr>\n",
       "    <tr>\n",
       "      <th>4</th>\n",
       "      <td>Kerala</td>\n",
       "      <td>Malayalam</td>\n",
       "      <td>34</td>\n",
       "    </tr>\n",
       "  </tbody>\n",
       "</table>\n",
       "</div>"
      ],
      "text/plain": [
       "        State   Language  Population\n",
       "0     Gujarat   Gujarati          36\n",
       "1  Tamil Nadu      Tamil          44\n",
       "2      Andhra     Telugu          67\n",
       "3   Karnataka    Kannada          89\n",
       "4      Kerala  Malayalam          34"
      ]
     },
     "execution_count": 73,
     "metadata": {},
     "output_type": "execute_result"
    }
   ],
   "source": [
    "DataFrame(states, columns=['State', 'Language', 'Population']) # change the sequence of column index"
   ]
  },
  {
   "cell_type": "code",
   "execution_count": 74,
   "metadata": {},
   "outputs": [
    {
     "data": {
      "text/html": [
       "<div>\n",
       "<style scoped>\n",
       "    .dataframe tbody tr th:only-of-type {\n",
       "        vertical-align: middle;\n",
       "    }\n",
       "\n",
       "    .dataframe tbody tr th {\n",
       "        vertical-align: top;\n",
       "    }\n",
       "\n",
       "    .dataframe thead th {\n",
       "        text-align: right;\n",
       "    }\n",
       "</style>\n",
       "<table border=\"1\" class=\"dataframe\">\n",
       "  <thead>\n",
       "    <tr style=\"text-align: right;\">\n",
       "      <th></th>\n",
       "      <th>State</th>\n",
       "      <th>Language</th>\n",
       "      <th>Population</th>\n",
       "      <th>Per Capita Income</th>\n",
       "    </tr>\n",
       "  </thead>\n",
       "  <tbody>\n",
       "    <tr>\n",
       "      <th>a</th>\n",
       "      <td>Gujarat</td>\n",
       "      <td>Gujarati</td>\n",
       "      <td>36</td>\n",
       "      <td>NaN</td>\n",
       "    </tr>\n",
       "    <tr>\n",
       "      <th>b</th>\n",
       "      <td>Tamil Nadu</td>\n",
       "      <td>Tamil</td>\n",
       "      <td>44</td>\n",
       "      <td>NaN</td>\n",
       "    </tr>\n",
       "    <tr>\n",
       "      <th>c</th>\n",
       "      <td>Andhra</td>\n",
       "      <td>Telugu</td>\n",
       "      <td>67</td>\n",
       "      <td>NaN</td>\n",
       "    </tr>\n",
       "    <tr>\n",
       "      <th>d</th>\n",
       "      <td>Karnataka</td>\n",
       "      <td>Kannada</td>\n",
       "      <td>89</td>\n",
       "      <td>NaN</td>\n",
       "    </tr>\n",
       "    <tr>\n",
       "      <th>e</th>\n",
       "      <td>Kerala</td>\n",
       "      <td>Malayalam</td>\n",
       "      <td>34</td>\n",
       "      <td>NaN</td>\n",
       "    </tr>\n",
       "  </tbody>\n",
       "</table>\n",
       "</div>"
      ],
      "text/plain": [
       "        State   Language  Population Per Capita Income\n",
       "a     Gujarat   Gujarati          36               NaN\n",
       "b  Tamil Nadu      Tamil          44               NaN\n",
       "c      Andhra     Telugu          67               NaN\n",
       "d   Karnataka    Kannada          89               NaN\n",
       "e      Kerala  Malayalam          34               NaN"
      ]
     },
     "execution_count": 74,
     "metadata": {},
     "output_type": "execute_result"
    }
   ],
   "source": [
    "new_frame = DataFrame(states, columns=['State', 'Language', 'Population', 'Per Capita Income'], index =['a','b','c','d','e'])\n",
    "new_frame\n",
    "#if you pass a column that isnt in states, it will appear with Na values"
   ]
  },
  {
   "cell_type": "code",
   "execution_count": 75,
   "metadata": {},
   "outputs": [
    {
     "ename": "NameError",
     "evalue": "name 'new_farme' is not defined",
     "output_type": "error",
     "traceback": [
      "\u001b[1;31m---------------------------------------------------------------------------\u001b[0m",
      "\u001b[1;31mNameError\u001b[0m                                 Traceback (most recent call last)",
      "\u001b[1;32m<ipython-input-75-41d18e0c5f7e>\u001b[0m in \u001b[0;36m<module>\u001b[1;34m\u001b[0m\n\u001b[1;32m----> 1\u001b[1;33m \u001b[0mprint\u001b[0m\u001b[1;33m(\u001b[0m\u001b[0mnew_farme\u001b[0m\u001b[1;33m.\u001b[0m\u001b[0mcolumns\u001b[0m\u001b[1;33m)\u001b[0m\u001b[1;33m\u001b[0m\u001b[1;33m\u001b[0m\u001b[0m\n\u001b[0m\u001b[0;32m      2\u001b[0m \u001b[0mprint\u001b[0m\u001b[1;33m(\u001b[0m\u001b[0mnew_farme\u001b[0m\u001b[1;33m[\u001b[0m\u001b[1;34m'State'\u001b[0m\u001b[1;33m]\u001b[0m\u001b[1;33m)\u001b[0m \u001b[1;31m# retrieveing data like dictionary\u001b[0m\u001b[1;33m\u001b[0m\u001b[1;33m\u001b[0m\u001b[0m\n",
      "\u001b[1;31mNameError\u001b[0m: name 'new_farme' is not defined"
     ]
    }
   ],
   "source": [
    "print(new_farme.columns)\n",
    "print(new_farme['State']) # retrieveing data like dictionary"
   ]
  },
  {
   "cell_type": "code",
   "execution_count": 76,
   "metadata": {},
   "outputs": [
    {
     "ename": "NameError",
     "evalue": "name 'new_farme' is not defined",
     "output_type": "error",
     "traceback": [
      "\u001b[1;31m---------------------------------------------------------------------------\u001b[0m",
      "\u001b[1;31mNameError\u001b[0m                                 Traceback (most recent call last)",
      "\u001b[1;32m<ipython-input-76-d7671f5dcc47>\u001b[0m in \u001b[0;36m<module>\u001b[1;34m\u001b[0m\n\u001b[1;32m----> 1\u001b[1;33m \u001b[0mnew_farme\u001b[0m\u001b[1;33m.\u001b[0m\u001b[0mPopulation\u001b[0m \u001b[1;31m# like Series\u001b[0m\u001b[1;33m\u001b[0m\u001b[1;33m\u001b[0m\u001b[0m\n\u001b[0m",
      "\u001b[1;31mNameError\u001b[0m: name 'new_farme' is not defined"
     ]
    }
   ],
   "source": [
    "new_farme.Population # like Series"
   ]
  },
  {
   "cell_type": "code",
   "execution_count": 77,
   "metadata": {},
   "outputs": [
    {
     "ename": "NameError",
     "evalue": "name 'new_farme' is not defined",
     "output_type": "error",
     "traceback": [
      "\u001b[1;31m---------------------------------------------------------------------------\u001b[0m",
      "\u001b[1;31mNameError\u001b[0m                                 Traceback (most recent call last)",
      "\u001b[1;32m<ipython-input-77-f755a8029be6>\u001b[0m in \u001b[0;36m<module>\u001b[1;34m\u001b[0m\n\u001b[1;32m----> 1\u001b[1;33m \u001b[0mnew_farme\u001b[0m\u001b[1;33m.\u001b[0m\u001b[0mix\u001b[0m\u001b[1;33m[\u001b[0m\u001b[1;36m3\u001b[0m\u001b[1;33m]\u001b[0m \u001b[1;31m# rows can be retrieved using .ic function\u001b[0m\u001b[1;33m\u001b[0m\u001b[1;33m\u001b[0m\u001b[0m\n\u001b[0m\u001b[0;32m      2\u001b[0m \u001b[1;31m# here I have retrieved 3rd row\u001b[0m\u001b[1;33m\u001b[0m\u001b[1;33m\u001b[0m\u001b[1;33m\u001b[0m\u001b[0m\n",
      "\u001b[1;31mNameError\u001b[0m: name 'new_farme' is not defined"
     ]
    }
   ],
   "source": [
    "new_farme.ix[3] # rows can be retrieved using .ic function\n",
    "# here I have retrieved 3rd row"
   ]
  },
  {
   "cell_type": "code",
   "execution_count": 78,
   "metadata": {},
   "outputs": [
    {
     "ename": "NameError",
     "evalue": "name 'new_farme' is not defined",
     "output_type": "error",
     "traceback": [
      "\u001b[1;31m---------------------------------------------------------------------------\u001b[0m",
      "\u001b[1;31mNameError\u001b[0m                                 Traceback (most recent call last)",
      "\u001b[1;32m<ipython-input-78-1b5f0252014f>\u001b[0m in \u001b[0;36m<module>\u001b[1;34m\u001b[0m\n\u001b[1;32m----> 1\u001b[1;33m \u001b[0mnew_farme\u001b[0m\u001b[1;33m\u001b[0m\u001b[1;33m\u001b[0m\u001b[0m\n\u001b[0m",
      "\u001b[1;31mNameError\u001b[0m: name 'new_farme' is not defined"
     ]
    }
   ],
   "source": [
    " new_farme"
   ]
  },
  {
   "cell_type": "code",
   "execution_count": 79,
   "metadata": {},
   "outputs": [
    {
     "ename": "NameError",
     "evalue": "name 'new_farme' is not defined",
     "output_type": "error",
     "traceback": [
      "\u001b[1;31m---------------------------------------------------------------------------\u001b[0m",
      "\u001b[1;31mNameError\u001b[0m                                 Traceback (most recent call last)",
      "\u001b[1;32m<ipython-input-79-1524c62a0c14>\u001b[0m in \u001b[0;36m<module>\u001b[1;34m\u001b[0m\n\u001b[1;32m----> 1\u001b[1;33m \u001b[0mnew_farme\u001b[0m\u001b[1;33m[\u001b[0m\u001b[1;34m'Per Capita Income'\u001b[0m\u001b[1;33m]\u001b[0m \u001b[1;33m=\u001b[0m \u001b[1;36m99\u001b[0m \u001b[1;31m# the empty per capita income column can be assigned a value\u001b[0m\u001b[1;33m\u001b[0m\u001b[1;33m\u001b[0m\u001b[0m\n\u001b[0m\u001b[0;32m      2\u001b[0m \u001b[0mnew_farme\u001b[0m\u001b[1;33m\u001b[0m\u001b[1;33m\u001b[0m\u001b[0m\n",
      "\u001b[1;31mNameError\u001b[0m: name 'new_farme' is not defined"
     ]
    }
   ],
   "source": [
    "new_farme['Per Capita Income'] = 99 # the empty per capita income column can be assigned a value\n",
    "new_farme"
   ]
  },
  {
   "cell_type": "code",
   "execution_count": 80,
   "metadata": {},
   "outputs": [
    {
     "ename": "NameError",
     "evalue": "name 'new_farme' is not defined",
     "output_type": "error",
     "traceback": [
      "\u001b[1;31m---------------------------------------------------------------------------\u001b[0m",
      "\u001b[1;31mNameError\u001b[0m                                 Traceback (most recent call last)",
      "\u001b[1;32m<ipython-input-80-7dd4c8f45392>\u001b[0m in \u001b[0;36m<module>\u001b[1;34m\u001b[0m\n\u001b[1;32m----> 1\u001b[1;33m \u001b[0mnew_farme\u001b[0m\u001b[1;33m[\u001b[0m\u001b[1;34m'Per Capita Income'\u001b[0m\u001b[1;33m]\u001b[0m \u001b[1;33m=\u001b[0m \u001b[0mnp\u001b[0m\u001b[1;33m.\u001b[0m\u001b[0marange\u001b[0m\u001b[1;33m(\u001b[0m\u001b[1;36m5\u001b[0m\u001b[1;33m)\u001b[0m \u001b[1;31m# assigning a value to the last column\u001b[0m\u001b[1;33m\u001b[0m\u001b[1;33m\u001b[0m\u001b[0m\n\u001b[0m\u001b[0;32m      2\u001b[0m \u001b[0mnew_farme\u001b[0m\u001b[1;33m\u001b[0m\u001b[1;33m\u001b[0m\u001b[0m\n",
      "\u001b[1;31mNameError\u001b[0m: name 'new_farme' is not defined"
     ]
    }
   ],
   "source": [
    "new_farme['Per Capita Income'] = np.arange(5) # assigning a value to the last column\n",
    "new_farme"
   ]
  },
  {
   "cell_type": "code",
   "execution_count": 81,
   "metadata": {},
   "outputs": [
    {
     "ename": "NameError",
     "evalue": "name 'new_farme' is not defined",
     "output_type": "error",
     "traceback": [
      "\u001b[1;31m---------------------------------------------------------------------------\u001b[0m",
      "\u001b[1;31mNameError\u001b[0m                                 Traceback (most recent call last)",
      "\u001b[1;32m<ipython-input-81-1476c09a3db2>\u001b[0m in \u001b[0;36m<module>\u001b[1;34m\u001b[0m\n\u001b[0;32m      1\u001b[0m \u001b[0mseries\u001b[0m \u001b[1;33m=\u001b[0m \u001b[0mSeries\u001b[0m\u001b[1;33m(\u001b[0m\u001b[1;33m[\u001b[0m\u001b[1;36m44\u001b[0m\u001b[1;33m,\u001b[0m\u001b[1;36m33\u001b[0m\u001b[1;33m,\u001b[0m\u001b[1;36m22\u001b[0m\u001b[1;33m]\u001b[0m\u001b[1;33m,\u001b[0m \u001b[0mindex\u001b[0m \u001b[1;33m=\u001b[0m\u001b[1;33m[\u001b[0m\u001b[1;34m'b'\u001b[0m\u001b[1;33m,\u001b[0m\u001b[1;34m'c'\u001b[0m\u001b[1;33m,\u001b[0m\u001b[1;34m'd'\u001b[0m\u001b[1;33m]\u001b[0m\u001b[1;33m)\u001b[0m\u001b[1;33m\u001b[0m\u001b[1;33m\u001b[0m\u001b[0m\n\u001b[1;32m----> 2\u001b[1;33m \u001b[0mnew_farme\u001b[0m\u001b[1;33m[\u001b[0m\u001b[1;34m'Per Capita Income'\u001b[0m\u001b[1;33m]\u001b[0m \u001b[1;33m=\u001b[0m \u001b[0mseries\u001b[0m\u001b[1;33m\u001b[0m\u001b[1;33m\u001b[0m\u001b[0m\n\u001b[0m\u001b[0;32m      3\u001b[0m \u001b[1;31m#when assigning list or arrays to a column, the values length should match the length of the DataFrame\u001b[0m\u001b[1;33m\u001b[0m\u001b[1;33m\u001b[0m\u001b[1;33m\u001b[0m\u001b[0m\n\u001b[0;32m      4\u001b[0m \u001b[0mnew_farme\u001b[0m \u001b[1;31m# again the missing values are displayed as NAN\u001b[0m\u001b[1;33m\u001b[0m\u001b[1;33m\u001b[0m\u001b[0m\n",
      "\u001b[1;31mNameError\u001b[0m: name 'new_farme' is not defined"
     ]
    }
   ],
   "source": [
    "series = Series([44,33,22], index =['b','c','d'])\n",
    "new_farme['Per Capita Income'] = series\n",
    "#when assigning list or arrays to a column, the values length should match the length of the DataFrame\n",
    "new_farme # again the missing values are displayed as NAN"
   ]
  },
  {
   "cell_type": "code",
   "execution_count": 82,
   "metadata": {},
   "outputs": [
    {
     "ename": "NameError",
     "evalue": "name 'new_farme' is not defined",
     "output_type": "error",
     "traceback": [
      "\u001b[1;31m---------------------------------------------------------------------------\u001b[0m",
      "\u001b[1;31mNameError\u001b[0m                                 Traceback (most recent call last)",
      "\u001b[1;32m<ipython-input-82-1bf94192fd0c>\u001b[0m in \u001b[0;36m<module>\u001b[1;34m\u001b[0m\n\u001b[1;32m----> 1\u001b[1;33m \u001b[0mnew_farme\u001b[0m\u001b[1;33m[\u001b[0m\u001b[1;34m'Development'\u001b[0m\u001b[1;33m]\u001b[0m \u001b[1;33m=\u001b[0m \u001b[0mnew_farme\u001b[0m\u001b[1;33m.\u001b[0m\u001b[0mState\u001b[0m \u001b[1;33m==\u001b[0m \u001b[1;34m'Gujarat'\u001b[0m\u001b[1;31m# assigning a new column\u001b[0m\u001b[1;33m\u001b[0m\u001b[1;33m\u001b[0m\u001b[0m\n\u001b[0m\u001b[0;32m      2\u001b[0m \u001b[0mprint\u001b[0m\u001b[1;33m(\u001b[0m\u001b[0mnew_farme\u001b[0m\u001b[1;33m)\u001b[0m\u001b[1;33m\u001b[0m\u001b[1;33m\u001b[0m\u001b[0m\n\u001b[0;32m      3\u001b[0m \u001b[1;32mdel\u001b[0m \u001b[0mnew_farme\u001b[0m\u001b[1;33m[\u001b[0m\u001b[1;34m'Development'\u001b[0m\u001b[1;33m]\u001b[0m \u001b[1;31m# will delete the column 'Development'\u001b[0m\u001b[1;33m\u001b[0m\u001b[1;33m\u001b[0m\u001b[0m\n\u001b[0;32m      4\u001b[0m \u001b[0mnew_farme\u001b[0m\u001b[1;33m\u001b[0m\u001b[1;33m\u001b[0m\u001b[0m\n",
      "\u001b[1;31mNameError\u001b[0m: name 'new_farme' is not defined"
     ]
    }
   ],
   "source": [
    "new_farme['Development'] = new_farme.State == 'Gujarat'# assigning a new column\n",
    "print(new_farme)\n",
    "del new_farme['Development'] # will delete the column 'Development'\n",
    "new_farme"
   ]
  },
  {
   "cell_type": "code",
   "execution_count": 83,
   "metadata": {},
   "outputs": [
    {
     "name": "stdout",
     "output_type": "stream",
     "text": [
      "      Modi  Rahul\n",
      "2010    72     55\n",
      "2012    78     34\n",
      "2014    98     22\n"
     ]
    },
    {
     "data": {
      "text/html": [
       "<div>\n",
       "<style scoped>\n",
       "    .dataframe tbody tr th:only-of-type {\n",
       "        vertical-align: middle;\n",
       "    }\n",
       "\n",
       "    .dataframe tbody tr th {\n",
       "        vertical-align: top;\n",
       "    }\n",
       "\n",
       "    .dataframe thead th {\n",
       "        text-align: right;\n",
       "    }\n",
       "</style>\n",
       "<table border=\"1\" class=\"dataframe\">\n",
       "  <thead>\n",
       "    <tr style=\"text-align: right;\">\n",
       "      <th></th>\n",
       "      <th>2010</th>\n",
       "      <th>2012</th>\n",
       "      <th>2014</th>\n",
       "    </tr>\n",
       "  </thead>\n",
       "  <tbody>\n",
       "    <tr>\n",
       "      <th>Modi</th>\n",
       "      <td>72</td>\n",
       "      <td>78</td>\n",
       "      <td>98</td>\n",
       "    </tr>\n",
       "    <tr>\n",
       "      <th>Rahul</th>\n",
       "      <td>55</td>\n",
       "      <td>34</td>\n",
       "      <td>22</td>\n",
       "    </tr>\n",
       "  </tbody>\n",
       "</table>\n",
       "</div>"
      ],
      "text/plain": [
       "       2010  2012  2014\n",
       "Modi     72    78    98\n",
       "Rahul    55    34    22"
      ]
     },
     "execution_count": 83,
     "metadata": {},
     "output_type": "execute_result"
    }
   ],
   "source": [
    "new_data ={'Modi': {2010: 72, 2012: 78, 2014 : 98},'Rahul': {2010: 55, 2012: 34, 2014: 22}}\n",
    "elections = DataFrame(new_data) \n",
    "print(elections) # the outer dict keys are columns and inner dict keys are rows\n",
    "elections.T # transpose of a data frame"
   ]
  },
  {
   "cell_type": "code",
   "execution_count": 84,
   "metadata": {},
   "outputs": [
    {
     "data": {
      "text/html": [
       "<div>\n",
       "<style scoped>\n",
       "    .dataframe tbody tr th:only-of-type {\n",
       "        vertical-align: middle;\n",
       "    }\n",
       "\n",
       "    .dataframe tbody tr th {\n",
       "        vertical-align: top;\n",
       "    }\n",
       "\n",
       "    .dataframe thead th {\n",
       "        text-align: right;\n",
       "    }\n",
       "</style>\n",
       "<table border=\"1\" class=\"dataframe\">\n",
       "  <thead>\n",
       "    <tr style=\"text-align: right;\">\n",
       "      <th></th>\n",
       "      <th>Modi</th>\n",
       "      <th>Rahul</th>\n",
       "    </tr>\n",
       "  </thead>\n",
       "  <tbody>\n",
       "    <tr>\n",
       "      <th>2012</th>\n",
       "      <td>78.0</td>\n",
       "      <td>34.0</td>\n",
       "    </tr>\n",
       "    <tr>\n",
       "      <th>2014</th>\n",
       "      <td>98.0</td>\n",
       "      <td>22.0</td>\n",
       "    </tr>\n",
       "    <tr>\n",
       "      <th>2016</th>\n",
       "      <td>NaN</td>\n",
       "      <td>NaN</td>\n",
       "    </tr>\n",
       "  </tbody>\n",
       "</table>\n",
       "</div>"
      ],
      "text/plain": [
       "      Modi  Rahul\n",
       "2012  78.0   34.0\n",
       "2014  98.0   22.0\n",
       "2016   NaN    NaN"
      ]
     },
     "execution_count": 84,
     "metadata": {},
     "output_type": "execute_result"
    }
   ],
   "source": [
    "DataFrame(new_data, index =[2012, 2014, 2016]) # you can assign index for the data frame"
   ]
  },
  {
   "cell_type": "code",
   "execution_count": 85,
   "metadata": {},
   "outputs": [
    {
     "data": {
      "text/html": [
       "<div>\n",
       "<style scoped>\n",
       "    .dataframe tbody tr th:only-of-type {\n",
       "        vertical-align: middle;\n",
       "    }\n",
       "\n",
       "    .dataframe tbody tr th {\n",
       "        vertical-align: top;\n",
       "    }\n",
       "\n",
       "    .dataframe thead th {\n",
       "        text-align: right;\n",
       "    }\n",
       "</style>\n",
       "<table border=\"1\" class=\"dataframe\">\n",
       "  <thead>\n",
       "    <tr style=\"text-align: right;\">\n",
       "      <th></th>\n",
       "      <th>Gujarat</th>\n",
       "      <th>India</th>\n",
       "    </tr>\n",
       "  </thead>\n",
       "  <tbody>\n",
       "    <tr>\n",
       "      <th>2010</th>\n",
       "      <td>72</td>\n",
       "      <td>55</td>\n",
       "    </tr>\n",
       "    <tr>\n",
       "      <th>2012</th>\n",
       "      <td>78</td>\n",
       "      <td>34</td>\n",
       "    </tr>\n",
       "  </tbody>\n",
       "</table>\n",
       "</div>"
      ],
      "text/plain": [
       "      Gujarat  India\n",
       "2010       72     55\n",
       "2012       78     34"
      ]
     },
     "execution_count": 85,
     "metadata": {},
     "output_type": "execute_result"
    }
   ],
   "source": [
    "ex= {'Gujarat':elections['Modi'][:-1], 'India': elections['Rahul'][:2]}\n",
    "px =DataFrame(ex)\n",
    "px"
   ]
  },
  {
   "cell_type": "code",
   "execution_count": 86,
   "metadata": {},
   "outputs": [
    {
     "data": {
      "text/html": [
       "<div>\n",
       "<style scoped>\n",
       "    .dataframe tbody tr th:only-of-type {\n",
       "        vertical-align: middle;\n",
       "    }\n",
       "\n",
       "    .dataframe tbody tr th {\n",
       "        vertical-align: top;\n",
       "    }\n",
       "\n",
       "    .dataframe thead th {\n",
       "        text-align: right;\n",
       "    }\n",
       "</style>\n",
       "<table border=\"1\" class=\"dataframe\">\n",
       "  <thead>\n",
       "    <tr style=\"text-align: right;\">\n",
       "      <th>politicians</th>\n",
       "      <th>Gujarat</th>\n",
       "      <th>India</th>\n",
       "    </tr>\n",
       "    <tr>\n",
       "      <th>year</th>\n",
       "      <th></th>\n",
       "      <th></th>\n",
       "    </tr>\n",
       "  </thead>\n",
       "  <tbody>\n",
       "    <tr>\n",
       "      <th>2010</th>\n",
       "      <td>72</td>\n",
       "      <td>55</td>\n",
       "    </tr>\n",
       "    <tr>\n",
       "      <th>2012</th>\n",
       "      <td>78</td>\n",
       "      <td>34</td>\n",
       "    </tr>\n",
       "  </tbody>\n",
       "</table>\n",
       "</div>"
      ],
      "text/plain": [
       "politicians  Gujarat  India\n",
       "year                       \n",
       "2010              72     55\n",
       "2012              78     34"
      ]
     },
     "execution_count": 86,
     "metadata": {},
     "output_type": "execute_result"
    }
   ],
   "source": [
    "px.index.name = 'year'\n",
    "px.columns.name = 'politicians'\n",
    "px"
   ]
  },
  {
   "cell_type": "code",
   "execution_count": 87,
   "metadata": {},
   "outputs": [
    {
     "data": {
      "text/plain": [
       "array([[72, 55],\n",
       "       [78, 34]], dtype=int64)"
      ]
     },
     "execution_count": 87,
     "metadata": {},
     "output_type": "execute_result"
    }
   ],
   "source": [
    "px.values"
   ]
  },
  {
   "cell_type": "code",
   "execution_count": 88,
   "metadata": {},
   "outputs": [
    {
     "name": "stdout",
     "output_type": "stream",
     "text": [
      "Index(['a', 'b', 'c', 'd', 'e', 'f', 'h'], dtype='object')\n",
      "Index(['b', 'c', 'd', 'e', 'f', 'h'], dtype='object')\n"
     ]
    },
    {
     "ename": "TypeError",
     "evalue": "Index does not support mutable operations",
     "output_type": "error",
     "traceback": [
      "\u001b[1;31m---------------------------------------------------------------------------\u001b[0m",
      "\u001b[1;31mTypeError\u001b[0m                                 Traceback (most recent call last)",
      "\u001b[1;32m<ipython-input-88-7bd1893d1f42>\u001b[0m in \u001b[0;36m<module>\u001b[1;34m\u001b[0m\n\u001b[0;32m      3\u001b[0m \u001b[0mprint\u001b[0m\u001b[1;33m(\u001b[0m\u001b[0mindex\u001b[0m\u001b[1;33m)\u001b[0m \u001b[1;31m#u denotes unicode\u001b[0m\u001b[1;33m\u001b[0m\u001b[1;33m\u001b[0m\u001b[0m\n\u001b[0;32m      4\u001b[0m \u001b[0mprint\u001b[0m\u001b[1;33m(\u001b[0m\u001b[0mindex\u001b[0m\u001b[1;33m[\u001b[0m\u001b[1;36m1\u001b[0m\u001b[1;33m:\u001b[0m\u001b[1;33m]\u001b[0m\u001b[1;33m)\u001b[0m \u001b[1;31m# returns all the index elements except a.\u001b[0m\u001b[1;33m\u001b[0m\u001b[1;33m\u001b[0m\u001b[0m\n\u001b[1;32m----> 5\u001b[1;33m \u001b[0mindex\u001b[0m\u001b[1;33m[\u001b[0m\u001b[1;36m1\u001b[0m\u001b[1;33m]\u001b[0m \u001b[1;33m=\u001b[0m \u001b[1;34m'f'\u001b[0m \u001b[1;31m# you cannot modify an index element. It will generate an error. In other words, they are immutable\u001b[0m\u001b[1;33m\u001b[0m\u001b[1;33m\u001b[0m\u001b[0m\n\u001b[0m",
      "\u001b[1;32mC:\\ProgramData\\Anaconda3\\lib\\site-packages\\pandas\\core\\indexes\\base.py\u001b[0m in \u001b[0;36m__setitem__\u001b[1;34m(self, key, value)\u001b[0m\n\u001b[0;32m   3936\u001b[0m \u001b[1;33m\u001b[0m\u001b[0m\n\u001b[0;32m   3937\u001b[0m     \u001b[1;32mdef\u001b[0m \u001b[0m__setitem__\u001b[0m\u001b[1;33m(\u001b[0m\u001b[0mself\u001b[0m\u001b[1;33m,\u001b[0m \u001b[0mkey\u001b[0m\u001b[1;33m,\u001b[0m \u001b[0mvalue\u001b[0m\u001b[1;33m)\u001b[0m\u001b[1;33m:\u001b[0m\u001b[1;33m\u001b[0m\u001b[1;33m\u001b[0m\u001b[0m\n\u001b[1;32m-> 3938\u001b[1;33m         \u001b[1;32mraise\u001b[0m \u001b[0mTypeError\u001b[0m\u001b[1;33m(\u001b[0m\u001b[1;34m\"Index does not support mutable operations\"\u001b[0m\u001b[1;33m)\u001b[0m\u001b[1;33m\u001b[0m\u001b[1;33m\u001b[0m\u001b[0m\n\u001b[0m\u001b[0;32m   3939\u001b[0m \u001b[1;33m\u001b[0m\u001b[0m\n\u001b[0;32m   3940\u001b[0m     \u001b[1;32mdef\u001b[0m \u001b[0m__getitem__\u001b[0m\u001b[1;33m(\u001b[0m\u001b[0mself\u001b[0m\u001b[1;33m,\u001b[0m \u001b[0mkey\u001b[0m\u001b[1;33m)\u001b[0m\u001b[1;33m:\u001b[0m\u001b[1;33m\u001b[0m\u001b[1;33m\u001b[0m\u001b[0m\n",
      "\u001b[1;31mTypeError\u001b[0m: Index does not support mutable operations"
     ]
    }
   ],
   "source": [
    "jeeva = Series([5,4,3,2,1,-7,-29], index =['a','b','c','d','e','f','h'])\n",
    "index = jeeva.index\n",
    "print(index) #u denotes unicode\n",
    "print(index[1:]) # returns all the index elements except a. \n",
    "index[1] = 'f' # you cannot modify an index element. It will generate an error. In other words, they are immutable"
   ]
  },
  {
   "cell_type": "code",
   "execution_count": null,
   "metadata": {},
   "outputs": [],
   "source": [
    "print(px)\n",
    "2013 in px.index # checks if 2003 is an index in data frame px"
   ]
  },
  {
   "cell_type": "markdown",
   "metadata": {},
   "source": [
    "## Reindex"
   ]
  },
  {
   "cell_type": "code",
   "execution_count": 89,
   "metadata": {},
   "outputs": [
    {
     "name": "stdout",
     "output_type": "stream",
     "text": [
      "5    Python\n",
      "4      Java\n",
      "3         c\n",
      "2       c++\n",
      "1       Php\n",
      "dtype: object\n",
      "1       Php\n",
      "2       c++\n",
      "3         c\n",
      "4      Java\n",
      "5    Python\n",
      "dtype: object\n"
     ]
    }
   ],
   "source": [
    "var = Series(['Python', 'Java', 'c', 'c++', 'Php'], index =[5,4,3,2,1])\n",
    "print(var)\n",
    "var1 = var.reindex([1,2,3,4,5])# reindex creates a new object \n",
    "print(var1) "
   ]
  },
  {
   "cell_type": "code",
   "execution_count": 90,
   "metadata": {},
   "outputs": [
    {
     "data": {
      "text/plain": [
       "1       Php\n",
       "2       c++\n",
       "3         c\n",
       "4      Java\n",
       "5    Python\n",
       "6       NaN\n",
       "7       NaN\n",
       "dtype: object"
      ]
     },
     "execution_count": 90,
     "metadata": {},
     "output_type": "execute_result"
    }
   ],
   "source": [
    "var.reindex([1,2,3,4,5,6,7])# introduces new indexes with values Nan"
   ]
  },
  {
   "cell_type": "code",
   "execution_count": 91,
   "metadata": {},
   "outputs": [
    {
     "data": {
      "text/plain": [
       "1       Php\n",
       "2       c++\n",
       "3         c\n",
       "4      Java\n",
       "5    Python\n",
       "6         1\n",
       "7         1\n",
       "dtype: object"
      ]
     },
     "execution_count": 91,
     "metadata": {},
     "output_type": "execute_result"
    }
   ],
   "source": [
    "var.reindex([1,2,3,4,5,6,7], fill_value =1) # you can use fill value to fill the Nan values. Here I have used fill value as 1. You can use any value."
   ]
  },
  {
   "cell_type": "code",
   "execution_count": 92,
   "metadata": {},
   "outputs": [
    {
     "name": "stdout",
     "output_type": "stream",
     "text": [
      "0     Dhoni\n",
      "2    Sachin\n",
      "4     Kohli\n",
      "dtype: object\n"
     ]
    },
    {
     "data": {
      "text/plain": [
       "0     Dhoni\n",
       "1     Dhoni\n",
       "2    Sachin\n",
       "3    Sachin\n",
       "4     Kohli\n",
       "5     Kohli\n",
       "dtype: object"
      ]
     },
     "execution_count": 92,
     "metadata": {},
     "output_type": "execute_result"
    }
   ],
   "source": [
    "gh =Series(['Dhoni', 'Sachin', 'Kohli'], index =[0,2,4])\n",
    "print(gh)\n",
    "gh.reindex(range(6), method ='ffill') #ffill is forward fill. It forward fills the values"
   ]
  },
  {
   "cell_type": "code",
   "execution_count": 93,
   "metadata": {},
   "outputs": [
    {
     "data": {
      "text/plain": [
       "0     Dhoni\n",
       "1    Sachin\n",
       "2    Sachin\n",
       "3     Kohli\n",
       "4     Kohli\n",
       "5       NaN\n",
       "dtype: object"
      ]
     },
     "execution_count": 93,
     "metadata": {},
     "output_type": "execute_result"
    }
   ],
   "source": [
    "gh.reindex(range(6), method ='bfill')# bfill, backward fills the values"
   ]
  },
  {
   "cell_type": "code",
   "execution_count": 94,
   "metadata": {},
   "outputs": [
    {
     "data": {
      "text/html": [
       "<div>\n",
       "<style scoped>\n",
       "    .dataframe tbody tr th:only-of-type {\n",
       "        vertical-align: middle;\n",
       "    }\n",
       "\n",
       "    .dataframe tbody tr th {\n",
       "        vertical-align: top;\n",
       "    }\n",
       "\n",
       "    .dataframe thead th {\n",
       "        text-align: right;\n",
       "    }\n",
       "</style>\n",
       "<table border=\"1\" class=\"dataframe\">\n",
       "  <thead>\n",
       "    <tr style=\"text-align: right;\">\n",
       "      <th></th>\n",
       "      <th>Gujarat</th>\n",
       "      <th>Tamil Nadu</th>\n",
       "      <th>Kerala</th>\n",
       "    </tr>\n",
       "  </thead>\n",
       "  <tbody>\n",
       "    <tr>\n",
       "      <th>a</th>\n",
       "      <td>0</td>\n",
       "      <td>1</td>\n",
       "      <td>2</td>\n",
       "    </tr>\n",
       "    <tr>\n",
       "      <th>b</th>\n",
       "      <td>3</td>\n",
       "      <td>4</td>\n",
       "      <td>5</td>\n",
       "    </tr>\n",
       "    <tr>\n",
       "      <th>c</th>\n",
       "      <td>6</td>\n",
       "      <td>7</td>\n",
       "      <td>8</td>\n",
       "    </tr>\n",
       "  </tbody>\n",
       "</table>\n",
       "</div>"
      ],
      "text/plain": [
       "   Gujarat  Tamil Nadu  Kerala\n",
       "a        0           1       2\n",
       "b        3           4       5\n",
       "c        6           7       8"
      ]
     },
     "execution_count": 94,
     "metadata": {},
     "output_type": "execute_result"
    }
   ],
   "source": [
    "import numpy as np\n",
    "fp = DataFrame(np.arange(9).reshape((3,3)),index =['a','b','c'], columns =['Gujarat','Tamil Nadu', 'Kerala'])\n",
    "fp"
   ]
  },
  {
   "cell_type": "code",
   "execution_count": 95,
   "metadata": {},
   "outputs": [
    {
     "data": {
      "text/html": [
       "<div>\n",
       "<style scoped>\n",
       "    .dataframe tbody tr th:only-of-type {\n",
       "        vertical-align: middle;\n",
       "    }\n",
       "\n",
       "    .dataframe tbody tr th {\n",
       "        vertical-align: top;\n",
       "    }\n",
       "\n",
       "    .dataframe thead th {\n",
       "        text-align: right;\n",
       "    }\n",
       "</style>\n",
       "<table border=\"1\" class=\"dataframe\">\n",
       "  <thead>\n",
       "    <tr style=\"text-align: right;\">\n",
       "      <th></th>\n",
       "      <th>State</th>\n",
       "      <th>Population</th>\n",
       "      <th>Language</th>\n",
       "    </tr>\n",
       "  </thead>\n",
       "  <tbody>\n",
       "    <tr>\n",
       "      <th>a</th>\n",
       "      <td>NaN</td>\n",
       "      <td>NaN</td>\n",
       "      <td>NaN</td>\n",
       "    </tr>\n",
       "    <tr>\n",
       "      <th>b</th>\n",
       "      <td>NaN</td>\n",
       "      <td>NaN</td>\n",
       "      <td>NaN</td>\n",
       "    </tr>\n",
       "    <tr>\n",
       "      <th>c</th>\n",
       "      <td>NaN</td>\n",
       "      <td>NaN</td>\n",
       "      <td>NaN</td>\n",
       "    </tr>\n",
       "    <tr>\n",
       "      <th>d</th>\n",
       "      <td>NaN</td>\n",
       "      <td>NaN</td>\n",
       "      <td>NaN</td>\n",
       "    </tr>\n",
       "  </tbody>\n",
       "</table>\n",
       "</div>"
      ],
      "text/plain": [
       "   State  Population  Language\n",
       "a    NaN         NaN       NaN\n",
       "b    NaN         NaN       NaN\n",
       "c    NaN         NaN       NaN\n",
       "d    NaN         NaN       NaN"
      ]
     },
     "execution_count": 95,
     "metadata": {},
     "output_type": "execute_result"
    }
   ],
   "source": [
    "fp1 =fp.reindex(['a', 'b', 'c', 'd'], columns = states) # reindexing columns and indices\n",
    "fp1"
   ]
  },
  {
   "cell_type": "markdown",
   "metadata": {},
   "source": [
    "## Other Reindexing arguments\n",
    "    **limit** When forward- or backfilling, maximum size gap to fill\n",
    "    **level** Match simple Index on level of MultiIndex, otherwise select subset of\n",
    "    **copy** Do not copy underlying data if new index is equivalent to old index. True by default (i.e. always copy data)."
   ]
  },
  {
   "cell_type": "markdown",
   "metadata": {},
   "source": [
    "## Dropping entries from an axis"
   ]
  },
  {
   "cell_type": "code",
   "execution_count": 96,
   "metadata": {},
   "outputs": [
    {
     "name": "stdout",
     "output_type": "stream",
     "text": [
      "a    0\n",
      "b    1\n",
      "c    2\n",
      "d    3\n",
      "e    4\n",
      "dtype: int32\n"
     ]
    },
    {
     "data": {
      "text/plain": [
       "c    2\n",
       "d    3\n",
       "e    4\n",
       "dtype: int32"
      ]
     },
     "execution_count": 96,
     "metadata": {},
     "output_type": "execute_result"
    }
   ],
   "source": [
    "er = Series(np.arange(5), index =['a','b','c','d','e'])\n",
    "print(er)\n",
    "er.drop(['a','b']) #drop method will return a new object  with values deleted from an axis"
   ]
  },
  {
   "cell_type": "code",
   "execution_count": 97,
   "metadata": {},
   "outputs": [
    {
     "name": "stdout",
     "output_type": "stream",
     "text": [
      "        State  Population   Language\n",
      "0     Gujarat          36   Gujarati\n",
      "1  Tamil Nadu          44      Tamil\n",
      "2      Andhra          67     Telugu\n",
      "3   Karnataka          89    Kannada\n",
      "4      Kerala          34  Malayalam\n"
     ]
    },
    {
     "data": {
      "text/html": [
       "<div>\n",
       "<style scoped>\n",
       "    .dataframe tbody tr th:only-of-type {\n",
       "        vertical-align: middle;\n",
       "    }\n",
       "\n",
       "    .dataframe tbody tr th {\n",
       "        vertical-align: top;\n",
       "    }\n",
       "\n",
       "    .dataframe thead th {\n",
       "        text-align: right;\n",
       "    }\n",
       "</style>\n",
       "<table border=\"1\" class=\"dataframe\">\n",
       "  <thead>\n",
       "    <tr style=\"text-align: right;\">\n",
       "      <th></th>\n",
       "      <th>State</th>\n",
       "      <th>Population</th>\n",
       "      <th>Language</th>\n",
       "    </tr>\n",
       "  </thead>\n",
       "  <tbody>\n",
       "    <tr>\n",
       "      <th>2</th>\n",
       "      <td>Andhra</td>\n",
       "      <td>67</td>\n",
       "      <td>Telugu</td>\n",
       "    </tr>\n",
       "    <tr>\n",
       "      <th>3</th>\n",
       "      <td>Karnataka</td>\n",
       "      <td>89</td>\n",
       "      <td>Kannada</td>\n",
       "    </tr>\n",
       "    <tr>\n",
       "      <th>4</th>\n",
       "      <td>Kerala</td>\n",
       "      <td>34</td>\n",
       "      <td>Malayalam</td>\n",
       "    </tr>\n",
       "  </tbody>\n",
       "</table>\n",
       "</div>"
      ],
      "text/plain": [
       "       State  Population   Language\n",
       "2     Andhra          67     Telugu\n",
       "3  Karnataka          89    Kannada\n",
       "4     Kerala          34  Malayalam"
      ]
     },
     "execution_count": 97,
     "metadata": {},
     "output_type": "execute_result"
    }
   ],
   "source": [
    "states ={'State' :['Gujarat', 'Tamil Nadu', ' Andhra', 'Karnataka', 'Kerala'],\n",
    "                  'Population': [36, 44, 67,89,34],\n",
    "                  'Language' :['Gujarati', 'Tamil', 'Telugu', 'Kannada', 'Malayalam']}\n",
    "india = DataFrame(states, columns =['State', 'Population', 'Language'])\n",
    "print(india)\n",
    "india.drop([0,1])# will drop index 0 and 1"
   ]
  },
  {
   "cell_type": "code",
   "execution_count": 98,
   "metadata": {},
   "outputs": [
    {
     "data": {
      "text/html": [
       "<div>\n",
       "<style scoped>\n",
       "    .dataframe tbody tr th:only-of-type {\n",
       "        vertical-align: middle;\n",
       "    }\n",
       "\n",
       "    .dataframe tbody tr th {\n",
       "        vertical-align: top;\n",
       "    }\n",
       "\n",
       "    .dataframe thead th {\n",
       "        text-align: right;\n",
       "    }\n",
       "</style>\n",
       "<table border=\"1\" class=\"dataframe\">\n",
       "  <thead>\n",
       "    <tr style=\"text-align: right;\">\n",
       "      <th></th>\n",
       "      <th>Language</th>\n",
       "    </tr>\n",
       "  </thead>\n",
       "  <tbody>\n",
       "    <tr>\n",
       "      <th>0</th>\n",
       "      <td>Gujarati</td>\n",
       "    </tr>\n",
       "    <tr>\n",
       "      <th>1</th>\n",
       "      <td>Tamil</td>\n",
       "    </tr>\n",
       "    <tr>\n",
       "      <th>2</th>\n",
       "      <td>Telugu</td>\n",
       "    </tr>\n",
       "    <tr>\n",
       "      <th>3</th>\n",
       "      <td>Kannada</td>\n",
       "    </tr>\n",
       "    <tr>\n",
       "      <th>4</th>\n",
       "      <td>Malayalam</td>\n",
       "    </tr>\n",
       "  </tbody>\n",
       "</table>\n",
       "</div>"
      ],
      "text/plain": [
       "    Language\n",
       "0   Gujarati\n",
       "1      Tamil\n",
       "2     Telugu\n",
       "3    Kannada\n",
       "4  Malayalam"
      ]
     },
     "execution_count": 98,
     "metadata": {},
     "output_type": "execute_result"
    }
   ],
   "source": [
    "india.drop(['State', 'Population'], axis =1 )# the function dropped population and state columns. Apply the same concept with axis =0"
   ]
  },
  {
   "cell_type": "markdown",
   "metadata": {},
   "source": [
    "## Selection, Indexing and Filtering"
   ]
  },
  {
   "cell_type": "code",
   "execution_count": 99,
   "metadata": {},
   "outputs": [
    {
     "data": {
      "text/plain": [
       "5    Python\n",
       "4      Java\n",
       "3         c\n",
       "2       c++\n",
       "1       Php\n",
       "dtype: object"
      ]
     },
     "execution_count": 99,
     "metadata": {},
     "output_type": "execute_result"
    }
   ],
   "source": [
    "var = Series(['Python', 'Java', 'c', 'c++', 'Php'], index =[5,4,3,2,1])\n",
    "var"
   ]
  },
  {
   "cell_type": "code",
   "execution_count": 100,
   "metadata": {},
   "outputs": [
    {
     "name": "stdout",
     "output_type": "stream",
     "text": [
      "Python\n",
      "3      c\n",
      "2    c++\n",
      "dtype: object\n"
     ]
    }
   ],
   "source": [
    "print (var[5])\n",
    "print (var[2:4])"
   ]
  },
  {
   "cell_type": "code",
   "execution_count": 101,
   "metadata": {},
   "outputs": [
    {
     "data": {
      "text/plain": [
       "3      c\n",
       "2    c++\n",
       "1    Php\n",
       "dtype: object"
      ]
     },
     "execution_count": 101,
     "metadata": {},
     "output_type": "execute_result"
    }
   ],
   "source": [
    "var[[3,2,1]]"
   ]
  },
  {
   "cell_type": "code",
   "execution_count": 102,
   "metadata": {},
   "outputs": [
    {
     "data": {
      "text/plain": [
       "1    Php\n",
       "dtype: object"
      ]
     },
     "execution_count": 102,
     "metadata": {},
     "output_type": "execute_result"
    }
   ],
   "source": [
    "var[var == 'Php']"
   ]
  },
  {
   "cell_type": "code",
   "execution_count": 103,
   "metadata": {},
   "outputs": [
    {
     "data": {
      "text/html": [
       "<div>\n",
       "<style scoped>\n",
       "    .dataframe tbody tr th:only-of-type {\n",
       "        vertical-align: middle;\n",
       "    }\n",
       "\n",
       "    .dataframe tbody tr th {\n",
       "        vertical-align: top;\n",
       "    }\n",
       "\n",
       "    .dataframe thead th {\n",
       "        text-align: right;\n",
       "    }\n",
       "</style>\n",
       "<table border=\"1\" class=\"dataframe\">\n",
       "  <thead>\n",
       "    <tr style=\"text-align: right;\">\n",
       "      <th></th>\n",
       "      <th>State</th>\n",
       "      <th>Population</th>\n",
       "      <th>Language</th>\n",
       "    </tr>\n",
       "  </thead>\n",
       "  <tbody>\n",
       "    <tr>\n",
       "      <th>0</th>\n",
       "      <td>Gujarat</td>\n",
       "      <td>36</td>\n",
       "      <td>Gujarati</td>\n",
       "    </tr>\n",
       "    <tr>\n",
       "      <th>1</th>\n",
       "      <td>Tamil Nadu</td>\n",
       "      <td>44</td>\n",
       "      <td>Tamil</td>\n",
       "    </tr>\n",
       "    <tr>\n",
       "      <th>2</th>\n",
       "      <td>Andhra</td>\n",
       "      <td>67</td>\n",
       "      <td>Telugu</td>\n",
       "    </tr>\n",
       "    <tr>\n",
       "      <th>3</th>\n",
       "      <td>Karnataka</td>\n",
       "      <td>89</td>\n",
       "      <td>Kannada</td>\n",
       "    </tr>\n",
       "    <tr>\n",
       "      <th>4</th>\n",
       "      <td>Kerala</td>\n",
       "      <td>34</td>\n",
       "      <td>Malayalam</td>\n",
       "    </tr>\n",
       "  </tbody>\n",
       "</table>\n",
       "</div>"
      ],
      "text/plain": [
       "        State  Population   Language\n",
       "0     Gujarat          36   Gujarati\n",
       "1  Tamil Nadu          44      Tamil\n",
       "2      Andhra          67     Telugu\n",
       "3   Karnataka          89    Kannada\n",
       "4      Kerala          34  Malayalam"
      ]
     },
     "execution_count": 103,
     "metadata": {},
     "output_type": "execute_result"
    }
   ],
   "source": [
    "states ={'State' :['Gujarat', 'Tamil Nadu', ' Andhra', 'Karnataka', 'Kerala'],\n",
    "                  'Population': [36, 44, 67,89,34],\n",
    "                  'Language' :['Gujarati', 'Tamil', 'Telugu', 'Kannada', 'Malayalam']}\n",
    "india = DataFrame(states, columns =['State', 'Population', 'Language'])\n",
    "india"
   ]
  },
  {
   "cell_type": "code",
   "execution_count": 104,
   "metadata": {},
   "outputs": [
    {
     "data": {
      "text/html": [
       "<div>\n",
       "<style scoped>\n",
       "    .dataframe tbody tr th:only-of-type {\n",
       "        vertical-align: middle;\n",
       "    }\n",
       "\n",
       "    .dataframe tbody tr th {\n",
       "        vertical-align: top;\n",
       "    }\n",
       "\n",
       "    .dataframe thead th {\n",
       "        text-align: right;\n",
       "    }\n",
       "</style>\n",
       "<table border=\"1\" class=\"dataframe\">\n",
       "  <thead>\n",
       "    <tr style=\"text-align: right;\">\n",
       "      <th></th>\n",
       "      <th>Population</th>\n",
       "      <th>Language</th>\n",
       "    </tr>\n",
       "  </thead>\n",
       "  <tbody>\n",
       "    <tr>\n",
       "      <th>0</th>\n",
       "      <td>36</td>\n",
       "      <td>Gujarati</td>\n",
       "    </tr>\n",
       "    <tr>\n",
       "      <th>1</th>\n",
       "      <td>44</td>\n",
       "      <td>Tamil</td>\n",
       "    </tr>\n",
       "    <tr>\n",
       "      <th>2</th>\n",
       "      <td>67</td>\n",
       "      <td>Telugu</td>\n",
       "    </tr>\n",
       "    <tr>\n",
       "      <th>3</th>\n",
       "      <td>89</td>\n",
       "      <td>Kannada</td>\n",
       "    </tr>\n",
       "    <tr>\n",
       "      <th>4</th>\n",
       "      <td>34</td>\n",
       "      <td>Malayalam</td>\n",
       "    </tr>\n",
       "  </tbody>\n",
       "</table>\n",
       "</div>"
      ],
      "text/plain": [
       "   Population   Language\n",
       "0          36   Gujarati\n",
       "1          44      Tamil\n",
       "2          67     Telugu\n",
       "3          89    Kannada\n",
       "4          34  Malayalam"
      ]
     },
     "execution_count": 104,
     "metadata": {},
     "output_type": "execute_result"
    }
   ],
   "source": [
    "india[['Population', 'Language']] # retrieve data from data frame"
   ]
  },
  {
   "cell_type": "code",
   "execution_count": 105,
   "metadata": {},
   "outputs": [
    {
     "data": {
      "text/html": [
       "<div>\n",
       "<style scoped>\n",
       "    .dataframe tbody tr th:only-of-type {\n",
       "        vertical-align: middle;\n",
       "    }\n",
       "\n",
       "    .dataframe tbody tr th {\n",
       "        vertical-align: top;\n",
       "    }\n",
       "\n",
       "    .dataframe thead th {\n",
       "        text-align: right;\n",
       "    }\n",
       "</style>\n",
       "<table border=\"1\" class=\"dataframe\">\n",
       "  <thead>\n",
       "    <tr style=\"text-align: right;\">\n",
       "      <th></th>\n",
       "      <th>State</th>\n",
       "      <th>Population</th>\n",
       "      <th>Language</th>\n",
       "    </tr>\n",
       "  </thead>\n",
       "  <tbody>\n",
       "    <tr>\n",
       "      <th>2</th>\n",
       "      <td>Andhra</td>\n",
       "      <td>67</td>\n",
       "      <td>Telugu</td>\n",
       "    </tr>\n",
       "    <tr>\n",
       "      <th>3</th>\n",
       "      <td>Karnataka</td>\n",
       "      <td>89</td>\n",
       "      <td>Kannada</td>\n",
       "    </tr>\n",
       "  </tbody>\n",
       "</table>\n",
       "</div>"
      ],
      "text/plain": [
       "       State  Population Language\n",
       "2     Andhra          67   Telugu\n",
       "3  Karnataka          89  Kannada"
      ]
     },
     "execution_count": 105,
     "metadata": {},
     "output_type": "execute_result"
    }
   ],
   "source": [
    "india[india['Population'] > 50] # returns data for population greater than 50"
   ]
  },
  {
   "cell_type": "code",
   "execution_count": 106,
   "metadata": {},
   "outputs": [
    {
     "data": {
      "text/html": [
       "<div>\n",
       "<style scoped>\n",
       "    .dataframe tbody tr th:only-of-type {\n",
       "        vertical-align: middle;\n",
       "    }\n",
       "\n",
       "    .dataframe tbody tr th {\n",
       "        vertical-align: top;\n",
       "    }\n",
       "\n",
       "    .dataframe thead th {\n",
       "        text-align: right;\n",
       "    }\n",
       "</style>\n",
       "<table border=\"1\" class=\"dataframe\">\n",
       "  <thead>\n",
       "    <tr style=\"text-align: right;\">\n",
       "      <th></th>\n",
       "      <th>State</th>\n",
       "      <th>Population</th>\n",
       "      <th>Language</th>\n",
       "    </tr>\n",
       "  </thead>\n",
       "  <tbody>\n",
       "    <tr>\n",
       "      <th>0</th>\n",
       "      <td>Gujarat</td>\n",
       "      <td>36</td>\n",
       "      <td>Gujarati</td>\n",
       "    </tr>\n",
       "    <tr>\n",
       "      <th>1</th>\n",
       "      <td>Tamil Nadu</td>\n",
       "      <td>44</td>\n",
       "      <td>Tamil</td>\n",
       "    </tr>\n",
       "    <tr>\n",
       "      <th>2</th>\n",
       "      <td>Andhra</td>\n",
       "      <td>67</td>\n",
       "      <td>Telugu</td>\n",
       "    </tr>\n",
       "  </tbody>\n",
       "</table>\n",
       "</div>"
      ],
      "text/plain": [
       "        State  Population  Language\n",
       "0     Gujarat          36  Gujarati\n",
       "1  Tamil Nadu          44     Tamil\n",
       "2      Andhra          67    Telugu"
      ]
     },
     "execution_count": 106,
     "metadata": {},
     "output_type": "execute_result"
    }
   ],
   "source": [
    "india[:3] # first three rows"
   ]
  },
  {
   "cell_type": "code",
   "execution_count": 107,
   "metadata": {},
   "outputs": [
    {
     "data": {
      "text/html": [
       "<div>\n",
       "<style scoped>\n",
       "    .dataframe tbody tr th:only-of-type {\n",
       "        vertical-align: middle;\n",
       "    }\n",
       "\n",
       "    .dataframe tbody tr th {\n",
       "        vertical-align: top;\n",
       "    }\n",
       "\n",
       "    .dataframe thead th {\n",
       "        text-align: right;\n",
       "    }\n",
       "</style>\n",
       "<table border=\"1\" class=\"dataframe\">\n",
       "  <thead>\n",
       "    <tr style=\"text-align: right;\">\n",
       "      <th></th>\n",
       "      <th>State</th>\n",
       "      <th>Population</th>\n",
       "      <th>Language</th>\n",
       "    </tr>\n",
       "  </thead>\n",
       "  <tbody>\n",
       "    <tr>\n",
       "      <th>a</th>\n",
       "      <td>Gujarat</td>\n",
       "      <td>36</td>\n",
       "      <td>Gujarati</td>\n",
       "    </tr>\n",
       "    <tr>\n",
       "      <th>b</th>\n",
       "      <td>Tamil Nadu</td>\n",
       "      <td>44</td>\n",
       "      <td>Tamil</td>\n",
       "    </tr>\n",
       "    <tr>\n",
       "      <th>c</th>\n",
       "      <td>Andhra</td>\n",
       "      <td>67</td>\n",
       "      <td>Telugu</td>\n",
       "    </tr>\n",
       "    <tr>\n",
       "      <th>d</th>\n",
       "      <td>Karnataka</td>\n",
       "      <td>89</td>\n",
       "      <td>Kannada</td>\n",
       "    </tr>\n",
       "    <tr>\n",
       "      <th>e</th>\n",
       "      <td>Kerala</td>\n",
       "      <td>34</td>\n",
       "      <td>Malayalam</td>\n",
       "    </tr>\n",
       "  </tbody>\n",
       "</table>\n",
       "</div>"
      ],
      "text/plain": [
       "        State  Population   Language\n",
       "a     Gujarat          36   Gujarati\n",
       "b  Tamil Nadu          44      Tamil\n",
       "c      Andhra          67     Telugu\n",
       "d   Karnataka          89    Kannada\n",
       "e      Kerala          34  Malayalam"
      ]
     },
     "execution_count": 107,
     "metadata": {},
     "output_type": "execute_result"
    }
   ],
   "source": [
    "# for selecting specific rows and columns, you can use ix function\n",
    "import pandas as pd\n",
    "states ={'State' :['Gujarat', 'Tamil Nadu', ' Andhra', 'Karnataka', 'Kerala'],\n",
    "                  'Population': [36, 44, 67,89,34],\n",
    "                  'Language' :['Gujarati', 'Tamil', 'Telugu', 'Kannada', 'Malayalam']}\n",
    "india = DataFrame(states, columns =['State', 'Population', 'Language'], index =['a', 'b', 'c', 'd', 'e'])\n",
    "india"
   ]
  },
  {
   "cell_type": "code",
   "execution_count": 108,
   "metadata": {},
   "outputs": [
    {
     "name": "stderr",
     "output_type": "stream",
     "text": [
      "C:\\ProgramData\\Anaconda3\\lib\\site-packages\\ipykernel_launcher.py:1: DeprecationWarning: \n",
      ".ix is deprecated. Please use\n",
      ".loc for label based indexing or\n",
      ".iloc for positional indexing\n",
      "\n",
      "See the documentation here:\n",
      "http://pandas.pydata.org/pandas-docs/stable/indexing.html#ix-indexer-is-deprecated\n",
      "  \"\"\"Entry point for launching an IPython kernel.\n"
     ]
    },
    {
     "data": {
      "text/html": [
       "<div>\n",
       "<style scoped>\n",
       "    .dataframe tbody tr th:only-of-type {\n",
       "        vertical-align: middle;\n",
       "    }\n",
       "\n",
       "    .dataframe tbody tr th {\n",
       "        vertical-align: top;\n",
       "    }\n",
       "\n",
       "    .dataframe thead th {\n",
       "        text-align: right;\n",
       "    }\n",
       "</style>\n",
       "<table border=\"1\" class=\"dataframe\">\n",
       "  <thead>\n",
       "    <tr style=\"text-align: right;\">\n",
       "      <th></th>\n",
       "      <th>State</th>\n",
       "      <th>Language</th>\n",
       "    </tr>\n",
       "  </thead>\n",
       "  <tbody>\n",
       "    <tr>\n",
       "      <th>a</th>\n",
       "      <td>Gujarat</td>\n",
       "      <td>Gujarati</td>\n",
       "    </tr>\n",
       "    <tr>\n",
       "      <th>b</th>\n",
       "      <td>Tamil Nadu</td>\n",
       "      <td>Tamil</td>\n",
       "    </tr>\n",
       "  </tbody>\n",
       "</table>\n",
       "</div>"
      ],
      "text/plain": [
       "        State  Language\n",
       "a     Gujarat  Gujarati\n",
       "b  Tamil Nadu     Tamil"
      ]
     },
     "execution_count": 108,
     "metadata": {},
     "output_type": "execute_result"
    }
   ],
   "source": [
    "india.ix[['a','b'], ['State','Language']] # this is how you select subset of rows"
   ]
  },
  {
   "cell_type": "markdown",
   "metadata": {},
   "source": [
    "## Numpy cheat sheet\n",
    "\n",
    "Import numpy as np\n",
    "\n",
    "#### Importing/exporting\n",
    "* np.loadtxt('file.txt') | From a text file\n",
    "* np.genfromtxt('file.csv',delimiter=',') | From a CSV file\n",
    "* np.savetxt('file.txt',arr,delimiter=' ') | Writes to a text file\n",
    "* np.savetxt('file.csv',arr,delimiter=',') | Writes to a CSV file\n",
    "\n",
    "#### Creating Arrays\n",
    "* np.array([1,2,3]) | One dimensional array\n",
    "* np.array([(1,2,3),(4,5,6)]) | Two dimensional array\n",
    "* np.zeros(3) | 1D array of length 3 all values 0\n",
    "* np.ones((3,4)) | 3x4 array with all values 1\n",
    "* np.eye(5) | 5x5 array of 0 with 1 on diagonal (Identity matrix)\n",
    "* np.linspace(0,100,6) | Array of 6 evenly divided values from 0 to 100\n",
    "* np.arange(0,10,3) | Array of values from 0 to less than 10 with step 3 (eg [0,3,6,9])\n",
    "* np.full((2,3),8) | 2x3 array with all values 8\n",
    "* np.random.rand(4,5) | 4x5 array of random floats between 0–1\n",
    "* np.random.rand(6,7)*100 | 6x7 array of random floats between 0–100\n",
    "* np.random.randint(5,size=(2,3)) | 2x3 array with random ints between 0–4\n",
    "\n",
    "#### Inspecting Properties\n",
    "* arr.size | Returns number of elements in arr\n",
    "* arr.shape | Returns dimensions of arr (rows,columns)\n",
    "* arr.dtype | Returns type of elements in arr\n",
    "* arr.astype(dtype) | Convert arr elements to type dtype\n",
    "* arr.tolist() | Convert arr to a Python list\n",
    "* np.info(np.eye) | View documentation for np.eye\n",
    "\n",
    "#### Copying/sorting/reshaping\n",
    "* np.copy(arr) | Copies arr to new memory\n",
    "* arr.view(dtype) | Creates view of arr elements with type dtype\n",
    "* arr.sort() | Sorts arr\n",
    "* arr.sort(axis=0) | Sorts specific axis of arr\n",
    "* two_d_arr.flatten() | Flattens 2D array two_d_arr to 1D\n",
    "* arr.T | Transposes arr (rows become columns and vice versa)\n",
    "* arr.reshape(3,4) | Reshapes arr to 3 rows, 4 columns without changing data\n",
    "* arr.resize((5,6)) | Changes arr shape to 5x6 and fills new values with 0\n",
    "\n",
    "#### Adding/removing Elements\n",
    "* np.append(arr,values) | Appends values to end of arr\n",
    "* np.insert(arr,2,values) | Inserts values into arr before index 2\n",
    "* np.delete(arr,3,axis=0) | Deletes row on index 3 of arr\n",
    "* np.delete(arr,4,axis=1) | Deletes column on index 4 of arr\n",
    "\n",
    "#### Combining/splitting\n",
    "* np.concatenate((arr1,arr2),axis=0) | Adds arr2 as rows to the end of arr1\n",
    "* np.concatenate((arr1,arr2),axis=1) | Adds arr2 as columns to end of arr1\n",
    "* np.split(arr,3) | Splits arr into 3 sub-arrays\n",
    "* np.hsplit(arr,5) | Splits arr horizontally on the 5th index\n",
    "\n",
    "#### Indexing/slicing/subsetting\n",
    "* arr[5] | Returns the element at index 5\n",
    "* arr[2,5] | Returns the 2D array element on index [2][5]\n",
    "* arr[1]=4 | Assigns array element on index 1 the value 4\n",
    "* arr[1,3]=10 | Assigns array element on index [1][3] the value 10\n",
    "* arr[0:3] | Returns the elements at indices 0,1,2 (On a 2D array: returns rows 0,1,2)\n",
    "* arr[0:3,4] | Returns the elements on rows 0,1,2 at column 4\n",
    "* arr[:2] | Returns the elements at indices 0,1 (On a 2D array: returns rows 0,1)\n",
    "* arr[:,1] | Returns the elements at index 1 on all rows\n",
    "* arr<5 | Returns an array with boolean values\n",
    "* (arr1<3) & (arr2>5) | Returns an array with boolean values\n",
    "* ~arr | Inverts a boolean array\n",
    "* arr[arr<5] | Returns array elements smaller than 5\n",
    "\n",
    "#### Scalar Math\n",
    "* np.add(arr,1) | Add 1 to each array element\n",
    "* np.subtract(arr,2) | Subtract 2 from each array element\n",
    "* np.multiply(arr,3) | Multiply each array element by 3\n",
    "* np.divide(arr,4) | Divide each array element by 4 (returns np.nan for division by zero)\n",
    "* np.power(arr,5) | Raise each array element to the 5th power\n",
    "\n",
    "#### Vector Math\n",
    "* np.add(arr1,arr2) | Elementwise add arr2 to arr1\n",
    "* np.subtract(arr1,arr2) | Elementwise subtract arr2 from arr1\n",
    "* np.multiply(arr1,arr2) | Elementwise multiply arr1 by arr2\n",
    "* np.divide(arr1,arr2) | Elementwise divide arr1 by arr2\n",
    "* np.power(arr1,arr2) | Elementwise raise arr1 raised to the power of arr2\n",
    "* np.array_equal(arr1,arr2) | Returns True if the arrays have the same elements and shape\n",
    "* np.sqrt(arr) | Square root of each element in the array\n",
    "* np.sin(arr) | Sine of each element in the array\n",
    "* np.log(arr) | Natural log of each element in the array\n",
    "* np.abs(arr) | Absolute value of each element in the array\n",
    "* np.ceil(arr) | Rounds up to the nearest int\n",
    "* np.floor(arr) | Rounds down to the nearest int\n",
    "* np.round(arr) | Rounds to the nearest int\n",
    "\n",
    "#### Statistics\n",
    "* np.mean(arr,axis=0) | Returns mean along specific axis\n",
    "* arr.sum() | Returns sum of arr\n",
    "* arr.min() | Returns minimum value of arr\n",
    "* arr.max(axis=0) | Returns maximum value of specific axis\n",
    "* np.var(arr) | Returns the variance of array\n",
    "* np.std(arr,axis=1) | Returns the standard deviation of specific axis\n",
    "* arr.corrcoef() | Returns correlation coefficient of array"
   ]
  },
  {
   "cell_type": "markdown",
   "metadata": {},
   "source": [
    "## Pandas Cheatsheet\n",
    "\n",
    "import pandas as pd\n",
    "import numpy as np\n",
    "\n",
    "#### Importing Data\n",
    "* pd.read_csv(filename) | From a CSV file\n",
    "* pd.read_table(filename) | From a delimited text file (like TSV)\n",
    "* pd.read_excel(filename) | From an Excel file\n",
    "* pd.read_sql(query, connection_object) | Read from a SQL table/database\n",
    "* pd.read_json(json_string) | Read from a JSON formatted string, URL or file.\n",
    "* pd.read_html(url) | Parses an html URL, string or file and extracts tables to a list of dataframes\n",
    "* pd.read_clipboard() | Takes the contents of your clipboard and passes it to read_table()\n",
    "* pd.DataFrame(dict) | From a dict, keys for columns names, values for data as lists\n",
    "\n",
    "#### Exporting Data\n",
    "* df.to_csv(filename) | Write to a CSV file\n",
    "* df.to_excel(filename) | Write to an Excel file\n",
    "* df.to_sql(table_name, connection_object) | Write to a SQL table\n",
    "* df.to_json(filename) | Write to a file in JSON format\n",
    "\n",
    "#### Create Test Objects\n",
    "Useful for testing code segements\n",
    "\n",
    "* pd.DataFrame(np.random.rand(20,5)) | 5 columns and 20 rows of random floats\n",
    "* pd.Series(my_list) | Create a series from an iterable my_list\n",
    "* df.index = pd.date_range('1900/1/30', periods=df.shape[0]) | Add a date index\n",
    "\n",
    "#### Viewing/Inspecting Data\n",
    "* df.head(n) | First n rows of the DataFrame\n",
    "* df.tail(n) | Last n rows of the DataFrame\n",
    "* df.shape | Number of rows and columns\n",
    "* df.info() | Index, Datatype and Memory information\n",
    "* df.describe() | Summary statistics for numerical columns\n",
    "* s.value_counts(dropna=False) | View unique values and counts\n",
    "* df.apply(pd.Series.value_counts) | Unique values and counts for all columns\n",
    "\n",
    "#### Selection\n",
    "* df[col] | Returns column with label col as Series\n",
    "* df[[col1, col2]] | Returns columns as a new DataFrame\n",
    "* s.iloc[0] | Selection by position\n",
    "* s.loc['index_one'] | Selection by index\n",
    "* df.iloc[0,:] | First row\n",
    "* df.iloc[0,0] | First element of first column\n",
    "\n",
    "#### Data Cleaning\n",
    "* df.columns = ['a','b','c'] | Rename columns\n",
    "* pd.isnull() | Checks for null Values, Returns Boolean Arrray\n",
    "* pd.notnull() | Opposite of pd.isnull()\n",
    "* df.dropna() | Drop all rows that contain null values\n",
    "* df.dropna(axis=1) | Drop all columns that contain null values\n",
    "* df.dropna(axis=1,thresh=n) | Drop all rows have have less than n non null values\n",
    "* df.fillna(x) | Replace all null values with x\n",
    "* s.fillna(s.mean()) | Replace all null values with the mean (mean can be replaced with almost any function from the statistics module)\n",
    "* s.astype(float) | Convert the datatype of the series to float\n",
    "* s.replace(1,'one') | Replace all values equal to 1 with 'one'\n",
    "* s.replace([1,3],['one','three']) | Replace all 1 with 'one' and 3 with 'three'\n",
    "* df.rename(columns=lambda x: x + 1) | Mass renaming of columns\n",
    "* df.rename(columns={'old_name': 'new_ name'}) | Selective renaming\n",
    "* df.set_index('column_one') | Change the index\n",
    "* df.rename(index=lambda x: x + 1) | Mass renaming of index\n",
    "\n",
    "#### Filter, Sort, and Groupby\n",
    "* df[df[col] > 0.5] | Rows where the column col is greater than 0.5\n",
    "* df[(df[col] > 0.5) & (df[col] < 0.7)] | Rows where 0.7 > col > 0.5\n",
    "* df.sort_values(col1) | Sort values by col1 in ascending order\n",
    "* df.sort_values(col2,ascending=False) | Sort values by col2 in descending order\n",
    "* df.sort_values([col1,col2],ascending=[True,False]) | Sort values by col1 in ascending order then col2 in descending order\n",
    "* df.groupby(col) | Returns a groupby object for values from one column\n",
    "* df.groupby([col1,col2]) | Returns groupby object for values from multiple columns\n",
    "* df.groupby(col1)[col2] | Returns the mean of the values in col2, grouped by the values in col1 (mean can be replaced with almost any function from the statistics module)\n",
    "* df.pivot_table(index=col1,values=[col2,col3],aggfunc=mean) | Create a pivot table that groups by col1 and calculates the mean of col2 and col3\n",
    "* df.groupby(col1).agg(np.mean) | Find the average across all columns for every unique col1 group\n",
    "* df.apply(np.mean) | Apply the function np.mean() across each column\n",
    "* nf.apply(np.max,axis=1) | Apply the function np.max() across each row\n",
    "\n",
    "#### Join/Combine\n",
    "* df1.append(df2) | Add the rows in df1 to the end of df2 (columns should be identical)\n",
    "* pd.concat([df1, df2],axis=1) | Add the columns in df1 to the end of df2 (rows should be identical)\n",
    "* df1.join(df2,on=col1,how='inner') | SQL-style join the columns in df1 with the columns on df2 where the rows for\n",
    "* col have identical values. 'how' can be one of 'left', 'right', 'outer', 'inner'\n",
    "\n",
    "#### Statistics\n",
    "These can all be applied to a series as well.\n",
    "* df.describe() | Summary statistics for numerical columns\n",
    "* df.mean() | Returns the mean of all columns\n",
    "* df.corr() | Returns the correlation between columns in a DataFrame\n",
    "* df.count() | Returns the number of non-null values in each DataFrame column\n",
    "* df.max() | Returns the highest value in each column\n",
    "* df.min() | Returns the lowest value in each column\n",
    "* df.median() | Returns the median of each column\n",
    "* df.std() | Returns the standard deviation of each column"
   ]
  },
  {
   "cell_type": "code",
   "execution_count": 109,
   "metadata": {},
   "outputs": [],
   "source": [
    "# Numpy\n",
    "# import numpy as np\n",
    "# a = np.arange(9) \n",
    "# a = a.reshape(3,3)\n",
    "# size = a.size\n",
    "# shape = a.shape\n",
    "# for x in np.nditer(a, order='C'):\n",
    "#     print(x, end=',')\n",
    "# for i in range(a.shape[0]):\n",
    "#     for j in range(a.shape[1]):\n",
    "#         print(a[i][j], end=',')\n",
    "# x = np.zeros((3, 5, 2), dtype=np.int)\n",
    "# d3_shape = x.shape\n",
    "# y = np.zeros((3,5), dtype=np.int)\n",
    "# d2_shape = y.shape\n",
    "# a = np.array([[0, 1, 4],[3, 4, 5],[6, 7, 8]])\n",
    "# Diagonal difference problem hakerrank \n",
    "# l_d = 0\n",
    "# r_d = 0\n",
    "# for i in range(a.shape[0]):\n",
    "#     for j in range(a.shape[1]):\n",
    "#         if i == j:\n",
    "#             l_d += a[i][j]\n",
    "#         if j == (a.shape[1] - i-1):\n",
    "#             r_d += a[i][j]\n",
    "# output = abs(l_d-r_d)\n",
    "# print(output)\n",
    "# List comprehension\n",
    "# b = [20, 25, 30, 14]\n",
    "# b_list = [i for i in b if (i % 2 == 0 and i % 5 == 0)]\n",
    "# b_list\n",
    "# c = [[0, 1, 4],[3, 4, 5],[6, 7, 8]]\n",
    "# len(c[0])\n",
    "# ans = 0\n",
    "# for i in range(len(c)):\n",
    "#     ans += c[i][i]\n",
    "#     ans -= c[i][len(c)-1-i]\n",
    "    \n",
    "# ans"
   ]
  },
  {
   "cell_type": "markdown",
   "metadata": {},
   "source": [
    "> Special Thanks and acknowledgement to \n",
    "    * https://www.dataquest.io/blog/numpy-cheat-sheet/\n",
    "    * https://www.dataquest.io/blog/pandas-cheat-sheet/"
   ]
  },
  {
   "cell_type": "code",
   "execution_count": null,
   "metadata": {},
   "outputs": [],
   "source": []
  },
  {
   "cell_type": "code",
   "execution_count": null,
   "metadata": {},
   "outputs": [],
   "source": []
  },
  {
   "cell_type": "code",
   "execution_count": null,
   "metadata": {},
   "outputs": [],
   "source": []
  }
 ],
 "metadata": {
  "kernelspec": {
   "display_name": "Python 3",
   "language": "python",
   "name": "python3"
  },
  "language_info": {
   "codemirror_mode": {
    "name": "ipython",
    "version": 3
   },
   "file_extension": ".py",
   "mimetype": "text/x-python",
   "name": "python",
   "nbconvert_exporter": "python",
   "pygments_lexer": "ipython3",
   "version": "3.7.3"
  }
 },
 "nbformat": 4,
 "nbformat_minor": 1
}
