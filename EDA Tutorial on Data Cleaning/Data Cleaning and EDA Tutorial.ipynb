{
 "cells": [
  {
   "cell_type": "markdown",
   "metadata": {
    "_cell_guid": "b47c7b1a-54ae-437e-bfed-47a178875054",
    "_uuid": "107dc1b5577e4757eec6b6e0d3d09d9887895706"
   },
   "source": [
    "Let's work with a fairly  complicated data to understand the nuances of Data preparation. This data is quite challenging to clean and you may not agree with my approach.\n",
    "Note following points:-\n",
    "    - I have not used the best of Python coding as I am new to Python. My approach was quite functional; check if the output is providing the answer or not.\n",
    "    - There are many approaches to data cleaning (treatment of missing values and outliers). Consider this approach as one of the many possible.\n",
    "    - The approach adopted is more connected to Analytics rather than Machine Learning. Hence, treatment is  'manual'!! You may notice that each of the variables are not treated in so much detail by ML professionals.\n",
    "\n",
    "**Introduction**:- Banks play a crucial role in market economies. They decide who can get finance and on what terms and can make or break investment decisions. For markets and society to function, individuals and companies need access to credit. \n",
    "\n",
    "Credit scoring algorithms, which make a guess at the probability of default, are the method banks use to determine whether or not a loan should be granted. The objective is  to improve on the state of the art in credit scoring, by predicting the probability that somebody will experience financial distress in the next two years."
   ]
  },
  {
   "cell_type": "code",
   "execution_count": 1,
   "metadata": {
    "_cell_guid": "04909a0a-da11-47f5-a477-07583cbdda80",
    "_uuid": "88455d5a6a54c56408936bb5856dc21ed9c83714"
   },
   "outputs": [],
   "source": [
    "import pandas as pd\n",
    "import numpy as np\n",
    "import matplotlib.pyplot as plt\n",
    "import seaborn as sns\n",
    "sns.set(color_codes=True)\n",
    "\n",
    "%matplotlib inline"
   ]
  },
  {
   "cell_type": "code",
   "execution_count": 2,
   "metadata": {
    "_cell_guid": "509b36dc-5596-4ce1-9575-6097f332223d",
    "_uuid": "628b7cf61fd39d8849232c2c6c2eb48881c52875"
   },
   "outputs": [],
   "source": [
    "df = pd.read_csv(r\"C:\\Users\\user\\Desktop\\portfolio -E\\cleaning beginner\\EDA Tutorial on Data Cleaning\\cs-training.csv\")"
   ]
  },
  {
   "cell_type": "code",
   "execution_count": 3,
   "metadata": {
    "_cell_guid": "cddb2d52-f528-41a6-839d-4bda556834c9",
    "_uuid": "7c5a6f10fb1086434f8b1662394a52a540bd13d4",
    "scrolled": true
   },
   "outputs": [
    {
     "data": {
      "text/html": [
       "<div>\n",
       "<style scoped>\n",
       "    .dataframe tbody tr th:only-of-type {\n",
       "        vertical-align: middle;\n",
       "    }\n",
       "\n",
       "    .dataframe tbody tr th {\n",
       "        vertical-align: top;\n",
       "    }\n",
       "\n",
       "    .dataframe thead th {\n",
       "        text-align: right;\n",
       "    }\n",
       "</style>\n",
       "<table border=\"1\" class=\"dataframe\">\n",
       "  <thead>\n",
       "    <tr style=\"text-align: right;\">\n",
       "      <th></th>\n",
       "      <th>Unnamed: 0</th>\n",
       "      <th>SeriousDlqin2yrs</th>\n",
       "      <th>RevolvingUtilizationOfUnsecuredLines</th>\n",
       "      <th>age</th>\n",
       "      <th>NumberOfTime30-59DaysPastDueNotWorse</th>\n",
       "      <th>DebtRatio</th>\n",
       "      <th>MonthlyIncome</th>\n",
       "      <th>NumberOfOpenCreditLinesAndLoans</th>\n",
       "      <th>NumberOfTimes90DaysLate</th>\n",
       "      <th>NumberRealEstateLoansOrLines</th>\n",
       "      <th>NumberOfTime60-89DaysPastDueNotWorse</th>\n",
       "      <th>NumberOfDependents</th>\n",
       "    </tr>\n",
       "  </thead>\n",
       "  <tbody>\n",
       "    <tr>\n",
       "      <th>0</th>\n",
       "      <td>1</td>\n",
       "      <td>1</td>\n",
       "      <td>0.766127</td>\n",
       "      <td>45</td>\n",
       "      <td>2</td>\n",
       "      <td>0.802982</td>\n",
       "      <td>9120.0</td>\n",
       "      <td>13</td>\n",
       "      <td>0</td>\n",
       "      <td>6</td>\n",
       "      <td>0</td>\n",
       "      <td>2.0</td>\n",
       "    </tr>\n",
       "    <tr>\n",
       "      <th>1</th>\n",
       "      <td>2</td>\n",
       "      <td>0</td>\n",
       "      <td>0.957151</td>\n",
       "      <td>40</td>\n",
       "      <td>0</td>\n",
       "      <td>0.121876</td>\n",
       "      <td>2600.0</td>\n",
       "      <td>4</td>\n",
       "      <td>0</td>\n",
       "      <td>0</td>\n",
       "      <td>0</td>\n",
       "      <td>1.0</td>\n",
       "    </tr>\n",
       "    <tr>\n",
       "      <th>2</th>\n",
       "      <td>3</td>\n",
       "      <td>0</td>\n",
       "      <td>0.658180</td>\n",
       "      <td>38</td>\n",
       "      <td>1</td>\n",
       "      <td>0.085113</td>\n",
       "      <td>3042.0</td>\n",
       "      <td>2</td>\n",
       "      <td>1</td>\n",
       "      <td>0</td>\n",
       "      <td>0</td>\n",
       "      <td>0.0</td>\n",
       "    </tr>\n",
       "    <tr>\n",
       "      <th>3</th>\n",
       "      <td>4</td>\n",
       "      <td>0</td>\n",
       "      <td>0.233810</td>\n",
       "      <td>30</td>\n",
       "      <td>0</td>\n",
       "      <td>0.036050</td>\n",
       "      <td>3300.0</td>\n",
       "      <td>5</td>\n",
       "      <td>0</td>\n",
       "      <td>0</td>\n",
       "      <td>0</td>\n",
       "      <td>0.0</td>\n",
       "    </tr>\n",
       "    <tr>\n",
       "      <th>4</th>\n",
       "      <td>5</td>\n",
       "      <td>0</td>\n",
       "      <td>0.907239</td>\n",
       "      <td>49</td>\n",
       "      <td>1</td>\n",
       "      <td>0.024926</td>\n",
       "      <td>63588.0</td>\n",
       "      <td>7</td>\n",
       "      <td>0</td>\n",
       "      <td>1</td>\n",
       "      <td>0</td>\n",
       "      <td>0.0</td>\n",
       "    </tr>\n",
       "    <tr>\n",
       "      <th>5</th>\n",
       "      <td>6</td>\n",
       "      <td>0</td>\n",
       "      <td>0.213179</td>\n",
       "      <td>74</td>\n",
       "      <td>0</td>\n",
       "      <td>0.375607</td>\n",
       "      <td>3500.0</td>\n",
       "      <td>3</td>\n",
       "      <td>0</td>\n",
       "      <td>1</td>\n",
       "      <td>0</td>\n",
       "      <td>1.0</td>\n",
       "    </tr>\n",
       "    <tr>\n",
       "      <th>6</th>\n",
       "      <td>7</td>\n",
       "      <td>0</td>\n",
       "      <td>0.305682</td>\n",
       "      <td>57</td>\n",
       "      <td>0</td>\n",
       "      <td>5710.000000</td>\n",
       "      <td>NaN</td>\n",
       "      <td>8</td>\n",
       "      <td>0</td>\n",
       "      <td>3</td>\n",
       "      <td>0</td>\n",
       "      <td>0.0</td>\n",
       "    </tr>\n",
       "    <tr>\n",
       "      <th>7</th>\n",
       "      <td>8</td>\n",
       "      <td>0</td>\n",
       "      <td>0.754464</td>\n",
       "      <td>39</td>\n",
       "      <td>0</td>\n",
       "      <td>0.209940</td>\n",
       "      <td>3500.0</td>\n",
       "      <td>8</td>\n",
       "      <td>0</td>\n",
       "      <td>0</td>\n",
       "      <td>0</td>\n",
       "      <td>0.0</td>\n",
       "    </tr>\n",
       "    <tr>\n",
       "      <th>8</th>\n",
       "      <td>9</td>\n",
       "      <td>0</td>\n",
       "      <td>0.116951</td>\n",
       "      <td>27</td>\n",
       "      <td>0</td>\n",
       "      <td>46.000000</td>\n",
       "      <td>NaN</td>\n",
       "      <td>2</td>\n",
       "      <td>0</td>\n",
       "      <td>0</td>\n",
       "      <td>0</td>\n",
       "      <td>NaN</td>\n",
       "    </tr>\n",
       "    <tr>\n",
       "      <th>9</th>\n",
       "      <td>10</td>\n",
       "      <td>0</td>\n",
       "      <td>0.189169</td>\n",
       "      <td>57</td>\n",
       "      <td>0</td>\n",
       "      <td>0.606291</td>\n",
       "      <td>23684.0</td>\n",
       "      <td>9</td>\n",
       "      <td>0</td>\n",
       "      <td>4</td>\n",
       "      <td>0</td>\n",
       "      <td>2.0</td>\n",
       "    </tr>\n",
       "  </tbody>\n",
       "</table>\n",
       "</div>"
      ],
      "text/plain": [
       "   Unnamed: 0  SeriousDlqin2yrs  RevolvingUtilizationOfUnsecuredLines  age  \\\n",
       "0           1                 1                              0.766127   45   \n",
       "1           2                 0                              0.957151   40   \n",
       "2           3                 0                              0.658180   38   \n",
       "3           4                 0                              0.233810   30   \n",
       "4           5                 0                              0.907239   49   \n",
       "5           6                 0                              0.213179   74   \n",
       "6           7                 0                              0.305682   57   \n",
       "7           8                 0                              0.754464   39   \n",
       "8           9                 0                              0.116951   27   \n",
       "9          10                 0                              0.189169   57   \n",
       "\n",
       "   NumberOfTime30-59DaysPastDueNotWorse    DebtRatio  MonthlyIncome  \\\n",
       "0                                     2     0.802982         9120.0   \n",
       "1                                     0     0.121876         2600.0   \n",
       "2                                     1     0.085113         3042.0   \n",
       "3                                     0     0.036050         3300.0   \n",
       "4                                     1     0.024926        63588.0   \n",
       "5                                     0     0.375607         3500.0   \n",
       "6                                     0  5710.000000            NaN   \n",
       "7                                     0     0.209940         3500.0   \n",
       "8                                     0    46.000000            NaN   \n",
       "9                                     0     0.606291        23684.0   \n",
       "\n",
       "   NumberOfOpenCreditLinesAndLoans  NumberOfTimes90DaysLate  \\\n",
       "0                               13                        0   \n",
       "1                                4                        0   \n",
       "2                                2                        1   \n",
       "3                                5                        0   \n",
       "4                                7                        0   \n",
       "5                                3                        0   \n",
       "6                                8                        0   \n",
       "7                                8                        0   \n",
       "8                                2                        0   \n",
       "9                                9                        0   \n",
       "\n",
       "   NumberRealEstateLoansOrLines  NumberOfTime60-89DaysPastDueNotWorse  \\\n",
       "0                             6                                     0   \n",
       "1                             0                                     0   \n",
       "2                             0                                     0   \n",
       "3                             0                                     0   \n",
       "4                             1                                     0   \n",
       "5                             1                                     0   \n",
       "6                             3                                     0   \n",
       "7                             0                                     0   \n",
       "8                             0                                     0   \n",
       "9                             4                                     0   \n",
       "\n",
       "   NumberOfDependents  \n",
       "0                 2.0  \n",
       "1                 1.0  \n",
       "2                 0.0  \n",
       "3                 0.0  \n",
       "4                 0.0  \n",
       "5                 1.0  \n",
       "6                 0.0  \n",
       "7                 0.0  \n",
       "8                 NaN  \n",
       "9                 2.0  "
      ]
     },
     "execution_count": 3,
     "metadata": {},
     "output_type": "execute_result"
    }
   ],
   "source": [
    "df.head(10)"
   ]
  },
  {
   "cell_type": "markdown",
   "metadata": {
    "_cell_guid": "7f778787-45db-46b4-9e66-36a2799f3cf2",
    "_uuid": "58cb360741d0aa3c902dc595bb1a3de161f9ec14"
   },
   "source": [
    "Note that some of the variables got missing values indicated by 'NaN'. But this is not reliable and we need a summary statistics. Let's take a look at list of variables."
   ]
  },
  {
   "cell_type": "code",
   "execution_count": 4,
   "metadata": {
    "_cell_guid": "a2a2bfa7-f583-45d0-802b-4a1c7ad51878",
    "_uuid": "3a9eb1a1cdec7771cb4e8dcd149cf3470ae29cc4",
    "scrolled": true
   },
   "outputs": [
    {
     "name": "stdout",
     "output_type": "stream",
     "text": [
      "<class 'pandas.core.frame.DataFrame'>\n",
      "RangeIndex: 150000 entries, 0 to 149999\n",
      "Data columns (total 12 columns):\n",
      "Unnamed: 0                              150000 non-null int64\n",
      "SeriousDlqin2yrs                        150000 non-null int64\n",
      "RevolvingUtilizationOfUnsecuredLines    150000 non-null float64\n",
      "age                                     150000 non-null int64\n",
      "NumberOfTime30-59DaysPastDueNotWorse    150000 non-null int64\n",
      "DebtRatio                               150000 non-null float64\n",
      "MonthlyIncome                           120269 non-null float64\n",
      "NumberOfOpenCreditLinesAndLoans         150000 non-null int64\n",
      "NumberOfTimes90DaysLate                 150000 non-null int64\n",
      "NumberRealEstateLoansOrLines            150000 non-null int64\n",
      "NumberOfTime60-89DaysPastDueNotWorse    150000 non-null int64\n",
      "NumberOfDependents                      146076 non-null float64\n",
      "dtypes: float64(4), int64(8)\n",
      "memory usage: 13.7 MB\n"
     ]
    }
   ],
   "source": [
    "df.info()"
   ]
  },
  {
   "cell_type": "markdown",
   "metadata": {
    "_cell_guid": "9bd64d53-38ae-4d7d-be02-881629c56a9b",
    "_uuid": "0a9b597f22e54127df946ba657c2510669bd2d7d"
   },
   "source": [
    "The list of variables indicates that all variables are numeric and few of these got missing values. We will look at the summary of these variables."
   ]
  },
  {
   "cell_type": "code",
   "execution_count": 8,
   "metadata": {
    "_cell_guid": "bd23ca92-9ec6-478d-bd14-76aebc991619",
    "_uuid": "be24b1322db566e8a75df3525bc7781d90a153aa"
   },
   "outputs": [
    {
     "data": {
      "text/html": [
       "<div>\n",
       "<style scoped>\n",
       "    .dataframe tbody tr th:only-of-type {\n",
       "        vertical-align: middle;\n",
       "    }\n",
       "\n",
       "    .dataframe tbody tr th {\n",
       "        vertical-align: top;\n",
       "    }\n",
       "\n",
       "    .dataframe thead th {\n",
       "        text-align: right;\n",
       "    }\n",
       "</style>\n",
       "<table border=\"1\" class=\"dataframe\">\n",
       "  <thead>\n",
       "    <tr style=\"text-align: right;\">\n",
       "      <th></th>\n",
       "      <th>ID</th>\n",
       "      <th>SeriousDlqin2yrs</th>\n",
       "      <th>RevolvingUtilizationOfUnsecuredLines</th>\n",
       "      <th>age</th>\n",
       "      <th>NumberOfTime30-59DaysPastDueNotWorse</th>\n",
       "      <th>DebtRatio</th>\n",
       "      <th>MonthlyIncome</th>\n",
       "      <th>NumberOfOpenCreditLinesAndLoans</th>\n",
       "      <th>NumberOfTimes90DaysLate</th>\n",
       "      <th>NumberRealEstateLoansOrLines</th>\n",
       "      <th>NumberOfTime60-89DaysPastDueNotWorse</th>\n",
       "      <th>NumberOfDependents</th>\n",
       "    </tr>\n",
       "  </thead>\n",
       "  <tbody>\n",
       "    <tr>\n",
       "      <th>count</th>\n",
       "      <td>150000.000000</td>\n",
       "      <td>150000.000000</td>\n",
       "      <td>150000.000000</td>\n",
       "      <td>150000.000000</td>\n",
       "      <td>150000.000000</td>\n",
       "      <td>150000.000000</td>\n",
       "      <td>1.202690e+05</td>\n",
       "      <td>150000.000000</td>\n",
       "      <td>150000.000000</td>\n",
       "      <td>150000.000000</td>\n",
       "      <td>150000.000000</td>\n",
       "      <td>146076.000000</td>\n",
       "    </tr>\n",
       "    <tr>\n",
       "      <th>mean</th>\n",
       "      <td>75000.500000</td>\n",
       "      <td>0.066840</td>\n",
       "      <td>6.048438</td>\n",
       "      <td>52.295207</td>\n",
       "      <td>0.421033</td>\n",
       "      <td>353.005076</td>\n",
       "      <td>6.670221e+03</td>\n",
       "      <td>8.452760</td>\n",
       "      <td>0.265973</td>\n",
       "      <td>1.018240</td>\n",
       "      <td>0.240387</td>\n",
       "      <td>0.757222</td>\n",
       "    </tr>\n",
       "    <tr>\n",
       "      <th>std</th>\n",
       "      <td>43301.414527</td>\n",
       "      <td>0.249746</td>\n",
       "      <td>249.755371</td>\n",
       "      <td>14.771866</td>\n",
       "      <td>4.192781</td>\n",
       "      <td>2037.818523</td>\n",
       "      <td>1.438467e+04</td>\n",
       "      <td>5.145951</td>\n",
       "      <td>4.169304</td>\n",
       "      <td>1.129771</td>\n",
       "      <td>4.155179</td>\n",
       "      <td>1.115086</td>\n",
       "    </tr>\n",
       "    <tr>\n",
       "      <th>min</th>\n",
       "      <td>1.000000</td>\n",
       "      <td>0.000000</td>\n",
       "      <td>0.000000</td>\n",
       "      <td>0.000000</td>\n",
       "      <td>0.000000</td>\n",
       "      <td>0.000000</td>\n",
       "      <td>0.000000e+00</td>\n",
       "      <td>0.000000</td>\n",
       "      <td>0.000000</td>\n",
       "      <td>0.000000</td>\n",
       "      <td>0.000000</td>\n",
       "      <td>0.000000</td>\n",
       "    </tr>\n",
       "    <tr>\n",
       "      <th>25%</th>\n",
       "      <td>37500.750000</td>\n",
       "      <td>0.000000</td>\n",
       "      <td>0.029867</td>\n",
       "      <td>41.000000</td>\n",
       "      <td>0.000000</td>\n",
       "      <td>0.175074</td>\n",
       "      <td>3.400000e+03</td>\n",
       "      <td>5.000000</td>\n",
       "      <td>0.000000</td>\n",
       "      <td>0.000000</td>\n",
       "      <td>0.000000</td>\n",
       "      <td>0.000000</td>\n",
       "    </tr>\n",
       "    <tr>\n",
       "      <th>50%</th>\n",
       "      <td>75000.500000</td>\n",
       "      <td>0.000000</td>\n",
       "      <td>0.154181</td>\n",
       "      <td>52.000000</td>\n",
       "      <td>0.000000</td>\n",
       "      <td>0.366508</td>\n",
       "      <td>5.400000e+03</td>\n",
       "      <td>8.000000</td>\n",
       "      <td>0.000000</td>\n",
       "      <td>1.000000</td>\n",
       "      <td>0.000000</td>\n",
       "      <td>0.000000</td>\n",
       "    </tr>\n",
       "    <tr>\n",
       "      <th>75%</th>\n",
       "      <td>112500.250000</td>\n",
       "      <td>0.000000</td>\n",
       "      <td>0.559046</td>\n",
       "      <td>63.000000</td>\n",
       "      <td>0.000000</td>\n",
       "      <td>0.868254</td>\n",
       "      <td>8.249000e+03</td>\n",
       "      <td>11.000000</td>\n",
       "      <td>0.000000</td>\n",
       "      <td>2.000000</td>\n",
       "      <td>0.000000</td>\n",
       "      <td>1.000000</td>\n",
       "    </tr>\n",
       "    <tr>\n",
       "      <th>max</th>\n",
       "      <td>150000.000000</td>\n",
       "      <td>1.000000</td>\n",
       "      <td>50708.000000</td>\n",
       "      <td>109.000000</td>\n",
       "      <td>98.000000</td>\n",
       "      <td>329664.000000</td>\n",
       "      <td>3.008750e+06</td>\n",
       "      <td>58.000000</td>\n",
       "      <td>98.000000</td>\n",
       "      <td>54.000000</td>\n",
       "      <td>98.000000</td>\n",
       "      <td>20.000000</td>\n",
       "    </tr>\n",
       "  </tbody>\n",
       "</table>\n",
       "</div>"
      ],
      "text/plain": [
       "                  ID  SeriousDlqin2yrs  RevolvingUtilizationOfUnsecuredLines  \\\n",
       "count  150000.000000     150000.000000                         150000.000000   \n",
       "mean    75000.500000          0.066840                              6.048438   \n",
       "std     43301.414527          0.249746                            249.755371   \n",
       "min         1.000000          0.000000                              0.000000   \n",
       "25%     37500.750000          0.000000                              0.029867   \n",
       "50%     75000.500000          0.000000                              0.154181   \n",
       "75%    112500.250000          0.000000                              0.559046   \n",
       "max    150000.000000          1.000000                          50708.000000   \n",
       "\n",
       "                 age  NumberOfTime30-59DaysPastDueNotWorse      DebtRatio  \\\n",
       "count  150000.000000                         150000.000000  150000.000000   \n",
       "mean       52.295207                              0.421033     353.005076   \n",
       "std        14.771866                              4.192781    2037.818523   \n",
       "min         0.000000                              0.000000       0.000000   \n",
       "25%        41.000000                              0.000000       0.175074   \n",
       "50%        52.000000                              0.000000       0.366508   \n",
       "75%        63.000000                              0.000000       0.868254   \n",
       "max       109.000000                             98.000000  329664.000000   \n",
       "\n",
       "       MonthlyIncome  NumberOfOpenCreditLinesAndLoans  \\\n",
       "count   1.202690e+05                    150000.000000   \n",
       "mean    6.670221e+03                         8.452760   \n",
       "std     1.438467e+04                         5.145951   \n",
       "min     0.000000e+00                         0.000000   \n",
       "25%     3.400000e+03                         5.000000   \n",
       "50%     5.400000e+03                         8.000000   \n",
       "75%     8.249000e+03                        11.000000   \n",
       "max     3.008750e+06                        58.000000   \n",
       "\n",
       "       NumberOfTimes90DaysLate  NumberRealEstateLoansOrLines  \\\n",
       "count            150000.000000                 150000.000000   \n",
       "mean                  0.265973                      1.018240   \n",
       "std                   4.169304                      1.129771   \n",
       "min                   0.000000                      0.000000   \n",
       "25%                   0.000000                      0.000000   \n",
       "50%                   0.000000                      1.000000   \n",
       "75%                   0.000000                      2.000000   \n",
       "max                  98.000000                     54.000000   \n",
       "\n",
       "       NumberOfTime60-89DaysPastDueNotWorse  NumberOfDependents  \n",
       "count                         150000.000000       146076.000000  \n",
       "mean                               0.240387            0.757222  \n",
       "std                                4.155179            1.115086  \n",
       "min                                0.000000            0.000000  \n",
       "25%                                0.000000            0.000000  \n",
       "50%                                0.000000            0.000000  \n",
       "75%                                0.000000            1.000000  \n",
       "max                               98.000000           20.000000  "
      ]
     },
     "execution_count": 8,
     "metadata": {},
     "output_type": "execute_result"
    }
   ],
   "source": [
    "df.rename(columns = {df.columns[0]:'ID'}, inplace = True) \n",
    "\n",
    "df.describe()"
   ]
  },
  {
   "cell_type": "markdown",
   "metadata": {
    "_cell_guid": "39dfbfee-e26c-419e-abb1-d1d9621a6240",
    "_uuid": "c3085d57b378da2eb06326842485ed9be9a8ccf7"
   },
   "source": [
    "The depdendent variable is 'SeriousDlqin2yrs'. There are also variables like 'NumberOfTime30_59DaysPastDueNotW',\t'NumberOfTime60_89DaysPastDueNotW',\t'NumberOfTimes90DaysLate'. These variables give info on how much customers were delayed in payment and frequency. In Financial Industry, these types of variables are the inputs for creating the dependent variable. Hence, these variables cannot be used as independent variables.\n",
    "\n",
    "Moreover, the use of this model is to score a new customer and obviously these variables will not\n",
    "be  available for a new customer. Hence, let's remove these variables straight away."
   ]
  },
  {
   "cell_type": "code",
   "execution_count": 9,
   "metadata": {
    "_cell_guid": "3e9d7673-5220-4d1b-8540-9838da7bcf8c",
    "_uuid": "9e3593f749e9762d3dbf1c3e2199a831fa446d18"
   },
   "outputs": [
    {
     "data": {
      "text/html": [
       "<div>\n",
       "<style scoped>\n",
       "    .dataframe tbody tr th:only-of-type {\n",
       "        vertical-align: middle;\n",
       "    }\n",
       "\n",
       "    .dataframe tbody tr th {\n",
       "        vertical-align: top;\n",
       "    }\n",
       "\n",
       "    .dataframe thead th {\n",
       "        text-align: right;\n",
       "    }\n",
       "</style>\n",
       "<table border=\"1\" class=\"dataframe\">\n",
       "  <thead>\n",
       "    <tr style=\"text-align: right;\">\n",
       "      <th></th>\n",
       "      <th>ID</th>\n",
       "      <th>SeriousDlqin2yrs</th>\n",
       "      <th>RevolvingUtilizationOfUnsecuredLines</th>\n",
       "      <th>age</th>\n",
       "      <th>DebtRatio</th>\n",
       "      <th>MonthlyIncome</th>\n",
       "      <th>NumberOfOpenCreditLinesAndLoans</th>\n",
       "      <th>NumberRealEstateLoansOrLines</th>\n",
       "      <th>NumberOfDependents</th>\n",
       "    </tr>\n",
       "  </thead>\n",
       "  <tbody>\n",
       "    <tr>\n",
       "      <th>0</th>\n",
       "      <td>1</td>\n",
       "      <td>1</td>\n",
       "      <td>0.766127</td>\n",
       "      <td>45</td>\n",
       "      <td>0.802982</td>\n",
       "      <td>9120.0</td>\n",
       "      <td>13</td>\n",
       "      <td>6</td>\n",
       "      <td>2.0</td>\n",
       "    </tr>\n",
       "    <tr>\n",
       "      <th>1</th>\n",
       "      <td>2</td>\n",
       "      <td>0</td>\n",
       "      <td>0.957151</td>\n",
       "      <td>40</td>\n",
       "      <td>0.121876</td>\n",
       "      <td>2600.0</td>\n",
       "      <td>4</td>\n",
       "      <td>0</td>\n",
       "      <td>1.0</td>\n",
       "    </tr>\n",
       "    <tr>\n",
       "      <th>2</th>\n",
       "      <td>3</td>\n",
       "      <td>0</td>\n",
       "      <td>0.658180</td>\n",
       "      <td>38</td>\n",
       "      <td>0.085113</td>\n",
       "      <td>3042.0</td>\n",
       "      <td>2</td>\n",
       "      <td>0</td>\n",
       "      <td>0.0</td>\n",
       "    </tr>\n",
       "    <tr>\n",
       "      <th>3</th>\n",
       "      <td>4</td>\n",
       "      <td>0</td>\n",
       "      <td>0.233810</td>\n",
       "      <td>30</td>\n",
       "      <td>0.036050</td>\n",
       "      <td>3300.0</td>\n",
       "      <td>5</td>\n",
       "      <td>0</td>\n",
       "      <td>0.0</td>\n",
       "    </tr>\n",
       "    <tr>\n",
       "      <th>4</th>\n",
       "      <td>5</td>\n",
       "      <td>0</td>\n",
       "      <td>0.907239</td>\n",
       "      <td>49</td>\n",
       "      <td>0.024926</td>\n",
       "      <td>63588.0</td>\n",
       "      <td>7</td>\n",
       "      <td>1</td>\n",
       "      <td>0.0</td>\n",
       "    </tr>\n",
       "  </tbody>\n",
       "</table>\n",
       "</div>"
      ],
      "text/plain": [
       "   ID  SeriousDlqin2yrs  RevolvingUtilizationOfUnsecuredLines  age  DebtRatio  \\\n",
       "0   1                 1                              0.766127   45   0.802982   \n",
       "1   2                 0                              0.957151   40   0.121876   \n",
       "2   3                 0                              0.658180   38   0.085113   \n",
       "3   4                 0                              0.233810   30   0.036050   \n",
       "4   5                 0                              0.907239   49   0.024926   \n",
       "\n",
       "   MonthlyIncome  NumberOfOpenCreditLinesAndLoans  \\\n",
       "0         9120.0                               13   \n",
       "1         2600.0                                4   \n",
       "2         3042.0                                2   \n",
       "3         3300.0                                5   \n",
       "4        63588.0                                7   \n",
       "\n",
       "   NumberRealEstateLoansOrLines  NumberOfDependents  \n",
       "0                             6                 2.0  \n",
       "1                             0                 1.0  \n",
       "2                             0                 0.0  \n",
       "3                             0                 0.0  \n",
       "4                             1                 0.0  "
      ]
     },
     "execution_count": 9,
     "metadata": {},
     "output_type": "execute_result"
    }
   ],
   "source": [
    "df.drop(df.columns[[4, 8, 10]], axis=1, inplace=True)\n",
    "df.head()"
   ]
  },
  {
   "cell_type": "code",
   "execution_count": 10,
   "metadata": {
    "_cell_guid": "ade27e2a-0339-472a-930b-848415d58a50",
    "_uuid": "7c6c22f2a9df10bb7290e7318bfa6fd9783e6392"
   },
   "outputs": [
    {
     "name": "stdout",
     "output_type": "stream",
     "text": [
      "   SeriousDlqin2yrs      ID  Percentage\n",
      "0                 0  139974      93.316\n",
      "1                 1   10026       6.684\n"
     ]
    }
   ],
   "source": [
    "P = df.groupby('SeriousDlqin2yrs')['ID'].count().reset_index()\n",
    "\n",
    "P['Percentage'] = 100 * P['ID']  / P['ID'].sum()\n",
    "\n",
    "print(P)"
   ]
  },
  {
   "cell_type": "markdown",
   "metadata": {
    "_cell_guid": "8671b572-e46a-426c-b23b-9d70d7fbfbb7",
    "_uuid": "533fcbf4ade89eca4f88ebd7108f61613ee67a93"
   },
   "source": [
    "Freq table shows that there are no missing values and as expected it contains 0 and 1.\n",
    "Delinquents are 6.68%"
   ]
  },
  {
   "cell_type": "code",
   "execution_count": 11,
   "metadata": {
    "_cell_guid": "91718071-63c5-4117-b74d-fc8511f9e725",
    "_uuid": "062644a5f98915045e0e5943e84747026e7e5729"
   },
   "outputs": [
    {
     "data": {
      "text/plain": [
       "<matplotlib.axes._subplots.AxesSubplot at 0x701bda0>"
      ]
     },
     "execution_count": 11,
     "metadata": {},
     "output_type": "execute_result"
    },
    {
     "data": {
      "image/png": "[encoded data removed]",
      "text/plain": [
       "<Figure size 432x288 with 1 Axes>"
      ]
     },
     "metadata": {
      "needs_background": "light"
     },
     "output_type": "display_data"
    }
   ],
   "source": [
    "df['SeriousDlqin2yrs'].value_counts(normalize=True).plot(kind='barh')"
   ]
  },
  {
   "cell_type": "markdown",
   "metadata": {
    "_cell_guid": "b71b540e-6c8f-49c0-b9bc-1fbe6e007243",
    "_uuid": "3cd154497ae40d9468588dec1daeba5ef9062889"
   },
   "source": [
    "## RevolvingUtilizationOfUnsecuredLines"
   ]
  },
  {
   "cell_type": "code",
   "execution_count": 12,
   "metadata": {
    "_cell_guid": "6c6df53c-2649-4f42-bcc2-33566462beec",
    "_uuid": "681e5ab1ac2dd6cd3f064a5a8f2bd6a4c44a08f0"
   },
   "outputs": [
    {
     "data": {
      "text/plain": [
       "count    150000.000000\n",
       "mean          6.048438\n",
       "std         249.755371\n",
       "min           0.000000\n",
       "25%           0.029867\n",
       "50%           0.154181\n",
       "75%           0.559046\n",
       "max       50708.000000\n",
       "Name: RevolvingUtilizationOfUnsecuredLines, dtype: float64"
      ]
     },
     "execution_count": 12,
     "metadata": {},
     "output_type": "execute_result"
    }
   ],
   "source": [
    "df['RevolvingUtilizationOfUnsecuredLines'].describe()"
   ]
  },
  {
   "cell_type": "markdown",
   "metadata": {
    "_cell_guid": "4c33ccbe-3896-45a8-8cdb-0e0e199f86df",
    "_uuid": "d2eec82f1d0007cad11d08bec2188e5fa35c6c74"
   },
   "source": [
    "there are no missing values. the lower value of 0 is fine but max value is ridiculous as it is rarley more than 1"
   ]
  },
  {
   "cell_type": "code",
   "execution_count": 13,
   "metadata": {
    "_cell_guid": "a3f56ed9-02e2-43ef-b277-2624692a364b",
    "_uuid": "89f1b09b076c1d68466333224d8709899f041c0c"
   },
   "outputs": [
    {
     "data": {
      "text/plain": [
       "<matplotlib.axes._subplots.AxesSubplot at 0x6fe85c0>"
      ]
     },
     "execution_count": 13,
     "metadata": {},
     "output_type": "execute_result"
    },
    {
     "data": {
      "image/png": "[encoded data removed]",
      "text/plain": [
       "<Figure size 432x288 with 1 Axes>"
      ]
     },
     "metadata": {
      "needs_background": "light"
     },
     "output_type": "display_data"
    }
   ],
   "source": [
    "df3=df.loc[df['RevolvingUtilizationOfUnsecuredLines'] <=1]\n",
    "sns.distplot(df3['RevolvingUtilizationOfUnsecuredLines'])"
   ]
  },
  {
   "cell_type": "code",
   "execution_count": 14,
   "metadata": {
    "_cell_guid": "12bd68a1-9c2c-4c0f-a651-babe434fcf70",
    "_uuid": "3eec05bd1bee3fbc6c66485719b31e8dba1288a4"
   },
   "outputs": [
    {
     "data": {
      "text/plain": [
       "3321"
      ]
     },
     "execution_count": 14,
     "metadata": {},
     "output_type": "execute_result"
    }
   ],
   "source": [
    "len(df[(df['RevolvingUtilizationOfUnsecuredLines']>1)])"
   ]
  },
  {
   "cell_type": "markdown",
   "metadata": {
    "_cell_guid": "19235364-4923-43b2-9e7a-dcb837c0e792",
    "_uuid": "38717ffa2168b782aa83badd80c84923e9a1519e"
   },
   "source": [
    "this shows that about 3300 observations got values more than 1 and hence it \n",
    "is not appropriate to consider all these as outliers and cap to 1. A better approach is to \n",
    "make these missing and impute the values"
   ]
  },
  {
   "cell_type": "code",
   "execution_count": 15,
   "metadata": {
    "_cell_guid": "7110ee0e-c15b-48d9-a6ff-34d20fa9e784",
    "_uuid": "13b6584ddf46b7d3e18f1776a979d6e25135e15a",
    "scrolled": true
   },
   "outputs": [],
   "source": [
    "df['RevolvingUtilizationOfUnsecuredLines'] = df['RevolvingUtilizationOfUnsecuredLines'].map(lambda x: np.NaN if x >1 else x)"
   ]
  },
  {
   "cell_type": "code",
   "execution_count": 16,
   "metadata": {
    "_cell_guid": "94205f43-af70-4b15-8c91-261be01f6d1e",
    "_uuid": "6699c52163368ec4501d613346629c8d9822d052"
   },
   "outputs": [
    {
     "data": {
      "text/plain": [
       "count    146679.000000\n",
       "mean          0.303782\n",
       "std           0.337892\n",
       "min           0.000000\n",
       "25%           0.028608\n",
       "50%           0.144476\n",
       "75%           0.519980\n",
       "max           1.000000\n",
       "Name: RevolvingUtilizationOfUnsecuredLines, dtype: float64"
      ]
     },
     "execution_count": 16,
     "metadata": {},
     "output_type": "execute_result"
    }
   ],
   "source": [
    "df['RevolvingUtilizationOfUnsecuredLines'].describe()"
   ]
  },
  {
   "cell_type": "markdown",
   "metadata": {
    "_cell_guid": "4c4d6153-e674-4070-b50e-dd98e48f1c8a",
    "_uuid": "e659b92379c67e25bd9d23e154f6278152ff6ffe"
   },
   "source": [
    "For imputation, we will use ffill method which will retain the distribution and mean of the variable."
   ]
  },
  {
   "cell_type": "code",
   "execution_count": 17,
   "metadata": {
    "_cell_guid": "4f093f6e-1447-4e9a-bfb1-a7406f67b2d9",
    "_uuid": "403415a8e0b562763f526aa6422886d9837e6734"
   },
   "outputs": [],
   "source": [
    "df['RevolvingUtilizationOfUnsecuredLines'].fillna(method='ffill', inplace=True)"
   ]
  },
  {
   "cell_type": "code",
   "execution_count": 18,
   "metadata": {
    "_cell_guid": "882b6062-4278-4a50-a35e-0d7838e7b864",
    "_uuid": "47c5f29f4a10c8e485fc39f2c37cba3e08c7bb45"
   },
   "outputs": [
    {
     "data": {
      "text/plain": [
       "count    150000.000000\n",
       "mean          0.303669\n",
       "std           0.337852\n",
       "min           0.000000\n",
       "25%           0.028578\n",
       "50%           0.144257\n",
       "75%           0.520104\n",
       "max           1.000000\n",
       "Name: RevolvingUtilizationOfUnsecuredLines, dtype: float64"
      ]
     },
     "execution_count": 18,
     "metadata": {},
     "output_type": "execute_result"
    }
   ],
   "source": [
    "df['RevolvingUtilizationOfUnsecuredLines'].describe()"
   ]
  },
  {
   "cell_type": "markdown",
   "metadata": {
    "_cell_guid": "3fc0a59e-469c-475f-b61e-4dada07dc8b6",
    "_uuid": "2d93bc4776d340d486bef5f37fa5a6f3ce5d0749"
   },
   "source": [
    "## age \n",
    "\n",
    "Let's take a look at univariate analysis and distribution."
   ]
  },
  {
   "cell_type": "code",
   "execution_count": 19,
   "metadata": {
    "_cell_guid": "e3dd405a-b14a-44fc-9fcb-af62e2594ee8",
    "_uuid": "f8bd9bc389343b7601400e9db1fa52f838c20245"
   },
   "outputs": [
    {
     "data": {
      "text/plain": [
       "count    150000.000000\n",
       "mean         52.295207\n",
       "std          14.771866\n",
       "min           0.000000\n",
       "25%          41.000000\n",
       "50%          52.000000\n",
       "75%          63.000000\n",
       "max         109.000000\n",
       "Name: age, dtype: float64"
      ]
     },
     "execution_count": 19,
     "metadata": {},
     "output_type": "execute_result"
    }
   ],
   "source": [
    "df['age'].describe()"
   ]
  },
  {
   "cell_type": "markdown",
   "metadata": {
    "_cell_guid": "3423beaf-a8ca-4347-be20-1814b463d06c",
    "_uuid": "27069f753f1edf2e330bf021aecc4212d2f59cfd"
   },
   "source": [
    "there are no missing values. the lower value of 0 and max value of 109 are outliers.\n",
    "Typical age range is 18-80. "
   ]
  },
  {
   "cell_type": "code",
   "execution_count": 20,
   "metadata": {
    "_cell_guid": "4db676ee-3093-4acd-aef1-c3c0ee6d4e03",
    "_uuid": "85de4ecc53d6f80261c2871fea2ccf7013bfe7af"
   },
   "outputs": [
    {
     "data": {
      "text/plain": [
       "<matplotlib.axes._subplots.AxesSubplot at 0x728be80>"
      ]
     },
     "execution_count": 20,
     "metadata": {},
     "output_type": "execute_result"
    },
    {
     "data": {
      "image/png": "[encoded data removed]",
      "text/plain": [
       "<Figure size 432x288 with 1 Axes>"
      ]
     },
     "metadata": {
      "needs_background": "light"
     },
     "output_type": "display_data"
    }
   ],
   "source": [
    "sns.distplot(df['age'])"
   ]
  },
  {
   "cell_type": "markdown",
   "metadata": {
    "_cell_guid": "8b4b10d8-abc6-4054-8968-e8cd6d555f00",
    "_uuid": "5e2936be68deff0a643c628afbaab497ca269065"
   },
   "source": [
    "this shows that about there are only very few observations outside 18-80 range.\n",
    "Hence, it is ok to cap the values"
   ]
  },
  {
   "cell_type": "code",
   "execution_count": null,
   "metadata": {
    "_cell_guid": "cbc01d18-5f4f-4fc7-b38c-8a8aa6ccc027",
    "_uuid": "d08b9a5199ebdbf85a552f44eba2ab3dce502299",
    "collapsed": true
   },
   "outputs": [],
   "source": [
    "df.loc[df['age']>80, 'age']=80\n",
    "df.loc[df['age']<18, 'age']=18"
   ]
  },
  {
   "cell_type": "code",
   "execution_count": 21,
   "metadata": {
    "_cell_guid": "b3e9928d-d5db-49b2-a269-9582b279f3b5",
    "_uuid": "f8c5a2cb5949a6da97f530f4229e34a414c64c4a"
   },
   "outputs": [
    {
     "data": {
      "text/plain": [
       "<matplotlib.axes._subplots.AxesSubplot at 0xd64d0f0>"
      ]
     },
     "execution_count": 21,
     "metadata": {},
     "output_type": "execute_result"
    },
    {
     "data": {
      "image/png": "[encoded data removed]",
      "text/plain": [
       "<Figure size 432x288 with 1 Axes>"
      ]
     },
     "metadata": {
      "needs_background": "light"
     },
     "output_type": "display_data"
    }
   ],
   "source": [
    "sns.distplot(df['age'])"
   ]
  },
  {
   "cell_type": "code",
   "execution_count": 22,
   "metadata": {
    "_cell_guid": "be57fff3-4ebe-4f82-a3bc-8f1d4831aa1f",
    "_uuid": "ec0a7a345333d58f8d8e18c074b5f8f1a2b98a1d"
   },
   "outputs": [
    {
     "data": {
      "text/plain": [
       "count    150000.000000\n",
       "mean         52.295207\n",
       "std          14.771866\n",
       "min           0.000000\n",
       "25%          41.000000\n",
       "50%          52.000000\n",
       "75%          63.000000\n",
       "max         109.000000\n",
       "Name: age, dtype: float64"
      ]
     },
     "execution_count": 22,
     "metadata": {},
     "output_type": "execute_result"
    }
   ],
   "source": [
    "df['age'].describe()"
   ]
  },
  {
   "cell_type": "markdown",
   "metadata": {
    "_cell_guid": "84e436b3-ddcf-4634-bd8d-58ff2e5658ec",
    "_uuid": "b4a032ab0470da1d9fbdbcf93c2c857ca8a1d734"
   },
   "source": [
    "## DebtRatio"
   ]
  },
  {
   "cell_type": "code",
   "execution_count": 23,
   "metadata": {
    "_cell_guid": "748c4781-d688-439f-87d5-75100703d72f",
    "_uuid": "399565bc4b9a021773f52311cf291a5999336e9a",
    "scrolled": false
   },
   "outputs": [
    {
     "data": {
      "text/plain": [
       "count    150000.000000\n",
       "mean        353.005076\n",
       "std        2037.818523\n",
       "min           0.000000\n",
       "25%           0.175074\n",
       "50%           0.366508\n",
       "75%           0.868254\n",
       "max      329664.000000\n",
       "Name: DebtRatio, dtype: float64"
      ]
     },
     "execution_count": 23,
     "metadata": {},
     "output_type": "execute_result"
    }
   ],
   "source": [
    "df['DebtRatio'].describe()"
   ]
  },
  {
   "cell_type": "markdown",
   "metadata": {
    "_cell_guid": "7346a657-5614-48a3-b7b9-04ff119b3c45",
    "_uuid": "f962f561666c0277090d3ec278324c51e14676de"
   },
   "source": [
    "This variable refers to debt to income ratio.there are no missing values. the lower value of 0 is fine but max value is ridiculous as it is rarley more than"
   ]
  },
  {
   "cell_type": "code",
   "execution_count": 24,
   "metadata": {
    "_cell_guid": "9a804d4b-b87f-4d95-b49e-ba3f813fb4bb",
    "_uuid": "d1a76891d77749da7fab65ae7de5fd5bbde98b55"
   },
   "outputs": [
    {
     "data": {
      "text/plain": [
       "<matplotlib.axes._subplots.AxesSubplot at 0xc076cc0>"
      ]
     },
     "execution_count": 24,
     "metadata": {},
     "output_type": "execute_result"
    },
    {
     "data": {
      "image/png": "[encoded data removed]",
      "text/plain": [
       "<Figure size 432x288 with 1 Axes>"
      ]
     },
     "metadata": {
      "needs_background": "light"
     },
     "output_type": "display_data"
    }
   ],
   "source": [
    "df2=df[df['DebtRatio']<=1]\n",
    "sns.distplot(df2['DebtRatio'])"
   ]
  },
  {
   "cell_type": "code",
   "execution_count": 25,
   "metadata": {
    "_cell_guid": "af50d0d8-ad50-4b6a-89ab-91823c5b3e35",
    "_uuid": "c9f7a4fc308bf7679f3f84293f0d0c265fb7a881"
   },
   "outputs": [
    {
     "data": {
      "text/plain": [
       "count     35137.000000\n",
       "mean       1505.989566\n",
       "std        3999.026847\n",
       "min           1.000500\n",
       "25%          42.000000\n",
       "50%         907.000000\n",
       "75%        2210.000000\n",
       "max      329664.000000\n",
       "Name: DebtRatio, dtype: float64"
      ]
     },
     "execution_count": 25,
     "metadata": {},
     "output_type": "execute_result"
    }
   ],
   "source": [
    "df2=df[df['DebtRatio']>1]\n",
    "df2['DebtRatio'].describe()"
   ]
  },
  {
   "cell_type": "markdown",
   "metadata": {
    "_cell_guid": "6866aecc-c384-4764-ba74-af368d7f9a82",
    "_uuid": "00b68185e4756e371a2f9ed689c8a1468d5fa867"
   },
   "source": [
    "Typical value of Debt Income ratio is 0.4. But almost 35000 observations got values\n",
    "\thigher than 1 and hence cannot be treated as outliers. Best approach is to consider\n",
    "\tit as missing and impute values"
   ]
  },
  {
   "cell_type": "code",
   "execution_count": 26,
   "metadata": {
    "_cell_guid": "54aed6f1-114c-46e5-a2d4-f52d77c07384",
    "_uuid": "c1fd84f732518b838ec2c436142134d22621d43f",
    "scrolled": true
   },
   "outputs": [],
   "source": [
    "df.loc[df['DebtRatio']>1, 'DebtRatio']=np.NaN"
   ]
  },
  {
   "cell_type": "code",
   "execution_count": 27,
   "metadata": {
    "_cell_guid": "9904bbba-ed30-4c1f-a899-bb443bb37d7b",
    "_uuid": "0d2194ab6b24463b93c087ddf5fd05578f2558de"
   },
   "outputs": [
    {
     "data": {
      "text/plain": [
       "count    114863.000000\n",
       "mean          0.303022\n",
       "std           0.226287\n",
       "min           0.000000\n",
       "25%           0.125981\n",
       "50%           0.274505\n",
       "75%           0.438098\n",
       "max           1.000000\n",
       "Name: DebtRatio, dtype: float64"
      ]
     },
     "execution_count": 27,
     "metadata": {},
     "output_type": "execute_result"
    }
   ],
   "source": [
    "df['DebtRatio'].describe()"
   ]
  },
  {
   "cell_type": "code",
   "execution_count": 28,
   "metadata": {
    "_cell_guid": "143e4932-de9d-4e19-858e-014a66d7faff",
    "_uuid": "7850711cac54bd556559db7b84f6fadc0db07810"
   },
   "outputs": [],
   "source": [
    "df['DebtRatio'].fillna(method='ffill', inplace=True)"
   ]
  },
  {
   "cell_type": "code",
   "execution_count": 29,
   "metadata": {
    "_cell_guid": "e22b904b-a3fb-432c-b4d1-705d65e8c33b",
    "_uuid": "c25e6ef5ece9cf6fe83ef700f775bf3f895ac5a5"
   },
   "outputs": [
    {
     "data": {
      "text/plain": [
       "count    150000.000000\n",
       "mean          0.303109\n",
       "std           0.226290\n",
       "min           0.000000\n",
       "25%           0.126122\n",
       "50%           0.274252\n",
       "75%           0.438325\n",
       "max           1.000000\n",
       "Name: DebtRatio, dtype: float64"
      ]
     },
     "execution_count": 29,
     "metadata": {},
     "output_type": "execute_result"
    }
   ],
   "source": [
    "df['DebtRatio'].describe()"
   ]
  },
  {
   "cell_type": "code",
   "execution_count": 30,
   "metadata": {
    "_cell_guid": "af404d49-d6d5-4ba3-98f1-b2df06bef040",
    "_uuid": "987a43051156fa5ce00f12e91ad5ae63898fd06c"
   },
   "outputs": [
    {
     "data": {
      "text/plain": [
       "<matplotlib.axes._subplots.AxesSubplot at 0xc13e898>"
      ]
     },
     "execution_count": 30,
     "metadata": {},
     "output_type": "execute_result"
    },
    {
     "data": {
      "image/png": "[encoded data removed]",
      "text/plain": [
       "<Figure size 432x288 with 1 Axes>"
      ]
     },
     "metadata": {
      "needs_background": "light"
     },
     "output_type": "display_data"
    }
   ],
   "source": [
    "sns.distplot(df['DebtRatio'])"
   ]
  },
  {
   "cell_type": "markdown",
   "metadata": {
    "_cell_guid": "0c8aeae0-ed89-4a82-bf1d-4a0ed48141ab",
    "_uuid": "b0b94dc7811ba778f1cbdbba56621e43ea760dc7"
   },
   "source": [
    "## NumberOfOpenCreditLinesAndLoans"
   ]
  },
  {
   "cell_type": "code",
   "execution_count": 31,
   "metadata": {
    "_cell_guid": "3b4d8d1b-37ce-48c5-948f-e5d866394f46",
    "_uuid": "b929a5f93181b129862d5b2a60e4a9dbf44571d1"
   },
   "outputs": [
    {
     "data": {
      "text/plain": [
       "count    150000.000000\n",
       "mean          8.452760\n",
       "std           5.145951\n",
       "min           0.000000\n",
       "25%           5.000000\n",
       "50%           8.000000\n",
       "75%          11.000000\n",
       "max          58.000000\n",
       "Name: NumberOfOpenCreditLinesAndLoans, dtype: float64"
      ]
     },
     "execution_count": 31,
     "metadata": {},
     "output_type": "execute_result"
    }
   ],
   "source": [
    "df['NumberOfOpenCreditLinesAndLoans'].describe()"
   ]
  },
  {
   "cell_type": "markdown",
   "metadata": {
    "_cell_guid": "2bd1ee60-c49b-4a2c-97e8-d4cf0e8eb30d",
    "_uuid": "6c54be775869ad773bc9a2e563243d9df11d3c0e"
   },
   "source": [
    "there are no missing values. the lower value of 0 is fine. Max value\n",
    "\tof 58 seems to be an outlier as it is much higher than mean (max is 10*std away from mean)"
   ]
  },
  {
   "cell_type": "code",
   "execution_count": 32,
   "metadata": {
    "_cell_guid": "458aaf28-e6ff-42c8-9fbb-a912a404e4e0",
    "_uuid": "14a0bc99d24a1e4bd02fd8594e6b72ae82696290"
   },
   "outputs": [
    {
     "data": {
      "text/plain": [
       "<matplotlib.axes._subplots.AxesSubplot at 0xd3df908>"
      ]
     },
     "execution_count": 32,
     "metadata": {},
     "output_type": "execute_result"
    },
    {
     "data": {
      "image/png": "[encoded data removed]",
      "text/plain": [
       "<Figure size 432x288 with 1 Axes>"
      ]
     },
     "metadata": {
      "needs_background": "light"
     },
     "output_type": "display_data"
    }
   ],
   "source": [
    "sns.distplot(df['NumberOfOpenCreditLinesAndLoans'])"
   ]
  },
  {
   "cell_type": "markdown",
   "metadata": {
    "_cell_guid": "95c010c1-f234-4bf7-b546-c032f7f9da08",
    "_uuid": "e2a9d1e0d333b3f03c4cdefb8f398c0422cebb5c"
   },
   "source": [
    "the distribution indicate that it is continuous upto 30. Hence, let's cap at\n",
    "\t30"
   ]
  },
  {
   "cell_type": "code",
   "execution_count": 33,
   "metadata": {
    "_cell_guid": "aa82d3ab-2524-420c-87b2-54295b5b0bf3",
    "_uuid": "e44035b47f8676a52fe357d534eb5aa6725b3506"
   },
   "outputs": [],
   "source": [
    "df.loc[df['NumberOfOpenCreditLinesAndLoans']>30, 'NumberOfOpenCreditLinesAndLoans']=30"
   ]
  },
  {
   "cell_type": "code",
   "execution_count": 34,
   "metadata": {
    "_cell_guid": "3a2b36ed-ebf2-4bde-9552-41636b693d7a",
    "_uuid": "3da28e9dc622ad139bf0cbe2ed6411def09e6a78"
   },
   "outputs": [
    {
     "data": {
      "text/plain": [
       "count    150000.000000\n",
       "mean          8.438793\n",
       "std           5.070728\n",
       "min           0.000000\n",
       "25%           5.000000\n",
       "50%           8.000000\n",
       "75%          11.000000\n",
       "max          30.000000\n",
       "Name: NumberOfOpenCreditLinesAndLoans, dtype: float64"
      ]
     },
     "execution_count": 34,
     "metadata": {},
     "output_type": "execute_result"
    }
   ],
   "source": [
    "df['NumberOfOpenCreditLinesAndLoans'].describe()"
   ]
  },
  {
   "cell_type": "code",
   "execution_count": 35,
   "metadata": {
    "_cell_guid": "3430d104-6c46-4a95-b4a7-ed4b6a606370",
    "_uuid": "c980cb2a9f7328fb019f2f723a26a6c268add401"
   },
   "outputs": [
    {
     "data": {
      "text/plain": [
       "<matplotlib.axes._subplots.AxesSubplot at 0xe34bb70>"
      ]
     },
     "execution_count": 35,
     "metadata": {},
     "output_type": "execute_result"
    },
    {
     "data": {
      "image/png": "[encoded data removed]",
      "text/plain": [
       "<Figure size 432x288 with 1 Axes>"
      ]
     },
     "metadata": {
      "needs_background": "light"
     },
     "output_type": "display_data"
    }
   ],
   "source": [
    "sns.distplot(df['NumberOfOpenCreditLinesAndLoans'])"
   ]
  },
  {
   "cell_type": "markdown",
   "metadata": {
    "_cell_guid": "1efbf493-5101-4dae-917b-a9ff743960e4",
    "_uuid": "f7b335c08d24c8a63fb922eb5aa59111cacda5b1"
   },
   "source": [
    "## MonthlyIncome"
   ]
  },
  {
   "cell_type": "code",
   "execution_count": 36,
   "metadata": {
    "_cell_guid": "7bec8833-8207-4a29-a420-5e2e76e6d257",
    "_uuid": "ed92a4b0654c8284c0f61bb0d46d0275335d3f04",
    "scrolled": true
   },
   "outputs": [
    {
     "data": {
      "text/plain": [
       "count    1.202690e+05\n",
       "mean     6.670221e+03\n",
       "std      1.438467e+04\n",
       "min      0.000000e+00\n",
       "25%      3.400000e+03\n",
       "50%      5.400000e+03\n",
       "75%      8.249000e+03\n",
       "max      3.008750e+06\n",
       "Name: MonthlyIncome, dtype: float64"
      ]
     },
     "execution_count": 36,
     "metadata": {},
     "output_type": "execute_result"
    }
   ],
   "source": [
    "df['MonthlyIncome'].describe()"
   ]
  },
  {
   "cell_type": "markdown",
   "metadata": {
    "_cell_guid": "c1c3b688-b63a-44b9-9811-97e76990e0ce",
    "_uuid": "e92220a6906a383279e8545c6a7195e7bdeea71b"
   },
   "source": [
    "There are missing values and Max value is too large. Min value of 0 is not ok as finance industry expect a minimum income of 1000."
   ]
  },
  {
   "cell_type": "code",
   "execution_count": 37,
   "metadata": {
    "_cell_guid": "6aded597-10f5-4871-8cf7-0a0c527e35fc",
    "_uuid": "a77f6703e8b26c1c417849851aa3eb41e1e79ba4"
   },
   "outputs": [
    {
     "data": {
      "text/plain": [
       "29731"
      ]
     },
     "execution_count": 37,
     "metadata": {},
     "output_type": "execute_result"
    }
   ],
   "source": [
    "df['MonthlyIncome'].isnull().sum()"
   ]
  },
  {
   "cell_type": "code",
   "execution_count": 38,
   "metadata": {
    "_cell_guid": "7f28d482-285e-4fdf-a01d-b5ca542bf345",
    "_uuid": "e81b360d9da17dd260148c056171f6cdd99c0eec"
   },
   "outputs": [
    {
     "data": {
      "text/plain": [
       "4428"
      ]
     },
     "execution_count": 38,
     "metadata": {},
     "output_type": "execute_result"
    }
   ],
   "source": [
    "len(df[df['MonthlyIncome']<1000])"
   ]
  },
  {
   "cell_type": "markdown",
   "metadata": {
    "_cell_guid": "738506be-eccd-41f2-a4fd-685e831e14d9",
    "_uuid": "18abed713861d5d25587552d0019a1569b02fd6f"
   },
   "source": [
    "Number of obs below 1000 is too large. hence, it is not ok to treat it as outliers and cap to 1000. Lets treat it as missing and then impute the values."
   ]
  },
  {
   "cell_type": "code",
   "execution_count": 39,
   "metadata": {
    "_cell_guid": "aac66b4c-2e14-487a-be19-0c16a3f6088e",
    "_uuid": "d0e22e25d9372bbb5d1450d7af5cf7109630d81b"
   },
   "outputs": [
    {
     "data": {
      "text/plain": [
       "<matplotlib.axes._subplots.AxesSubplot at 0xe3e97b8>"
      ]
     },
     "execution_count": 39,
     "metadata": {},
     "output_type": "execute_result"
    },
    {
     "data": {
      "image/png": "[encoded data removed]",
      "text/plain": [
       "<Figure size 432x288 with 1 Axes>"
      ]
     },
     "metadata": {
      "needs_background": "light"
     },
     "output_type": "display_data"
    }
   ],
   "source": [
    "sns.distplot(df['MonthlyIncome'].dropna())"
   ]
  },
  {
   "cell_type": "markdown",
   "metadata": {
    "_cell_guid": "d4bb7e9f-b4d1-4da4-a7e8-e61c08752c5a",
    "_uuid": "1136a54b2ff03fb0e2ad88ee6a10daf21b168fe6"
   },
   "source": [
    "The max value is too large and hence the plot is not making sense"
   ]
  },
  {
   "cell_type": "code",
   "execution_count": 40,
   "metadata": {
    "_cell_guid": "ec3cb165-daea-48ff-b2fc-4ef9be6b4c1b",
    "_uuid": "5420c3c28eb5df62c13a46979590d4a2090a2b1f"
   },
   "outputs": [
    {
     "data": {
      "text/plain": [
       "<matplotlib.axes._subplots.AxesSubplot at 0xe2b4208>"
      ]
     },
     "execution_count": 40,
     "metadata": {},
     "output_type": "execute_result"
    },
    {
     "data": {
      "image/png": "[encoded data removed]",
      "text/plain": [
       "<Figure size 432x288 with 1 Axes>"
      ]
     },
     "metadata": {
      "needs_background": "light"
     },
     "output_type": "display_data"
    }
   ],
   "source": [
    "df2=df[df['MonthlyIncome']<50000]\n",
    "sns.distplot(df2['MonthlyIncome'].dropna())"
   ]
  },
  {
   "cell_type": "markdown",
   "metadata": {
    "_cell_guid": "c83bb150-904b-45f6-ae1c-c3bb4e75a442",
    "_uuid": "786401c978d2dbe1216a7d87f3ae31416827fb33"
   },
   "source": [
    "Distribution shows that income smoothly decreases upto 25000 and then few outliers \n",
    "of huge values. "
   ]
  },
  {
   "cell_type": "code",
   "execution_count": 41,
   "metadata": {
    "_cell_guid": "00796d41-bcfe-4373-9c34-dd465dc2cea0",
    "_uuid": "99511325d47a9f2553a26e7bb1d4e8b8ea28d8e1"
   },
   "outputs": [
    {
     "data": {
      "text/plain": [
       "count    120269.000000\n",
       "mean       6349.112332\n",
       "std        4358.376183\n",
       "min           0.000000\n",
       "25%        3400.000000\n",
       "50%        5400.000000\n",
       "75%        8249.000000\n",
       "max       25000.000000\n",
       "Name: MonthlyIncome, dtype: float64"
      ]
     },
     "execution_count": 41,
     "metadata": {},
     "output_type": "execute_result"
    }
   ],
   "source": [
    "df.loc[df['MonthlyIncome']>25000, 'MonthlyIncome']=25000\n",
    "df['MonthlyIncome'].describe()"
   ]
  },
  {
   "cell_type": "code",
   "execution_count": 42,
   "metadata": {
    "_cell_guid": "614cc04a-df69-4a4f-ac84-13830b8005eb",
    "_uuid": "a278678cb9fde1dd181789bfeb0302f7dd5fec36"
   },
   "outputs": [
    {
     "data": {
      "text/plain": [
       "count    115841.000000\n",
       "mean       6579.317737\n",
       "std        4275.154379\n",
       "min        1000.000000\n",
       "25%        3600.000000\n",
       "50%        5513.000000\n",
       "75%        8334.000000\n",
       "max       25000.000000\n",
       "Name: MonthlyIncome, dtype: float64"
      ]
     },
     "execution_count": 42,
     "metadata": {},
     "output_type": "execute_result"
    }
   ],
   "source": [
    "df.loc[df['MonthlyIncome']<1000, 'MonthlyIncome']=np.NaN\n",
    "df['MonthlyIncome'].describe()"
   ]
  },
  {
   "cell_type": "code",
   "execution_count": 43,
   "metadata": {
    "_cell_guid": "0585ba54-fede-491f-9750-8f057f6bd50d",
    "_uuid": "262173e9d569e25477d83fee673520f9d198e069"
   },
   "outputs": [
    {
     "data": {
      "text/plain": [
       "count    150000.000000\n",
       "mean       6578.107227\n",
       "std        4286.321398\n",
       "min        1000.000000\n",
       "25%        3600.000000\n",
       "50%        5500.000000\n",
       "75%        8333.000000\n",
       "max       25000.000000\n",
       "Name: MonthlyIncome, dtype: float64"
      ]
     },
     "execution_count": 43,
     "metadata": {},
     "output_type": "execute_result"
    }
   ],
   "source": [
    "df['MonthlyIncome'].fillna(method='ffill', inplace=True)\n",
    "df['MonthlyIncome'].describe()"
   ]
  },
  {
   "cell_type": "code",
   "execution_count": 44,
   "metadata": {
    "_cell_guid": "1346c392-a1e4-4842-b43c-77f5ca588644",
    "_uuid": "088aa64f55a320b1b856465c0ae266e8ad2e3022"
   },
   "outputs": [
    {
     "data": {
      "text/plain": [
       "<matplotlib.axes._subplots.AxesSubplot at 0xd3312b0>"
      ]
     },
     "execution_count": 44,
     "metadata": {},
     "output_type": "execute_result"
    },
    {
     "data": {
      "image/png": "[encoded data removed]",
      "text/plain": [
       "<Figure size 432x288 with 1 Axes>"
      ]
     },
     "metadata": {
      "needs_background": "light"
     },
     "output_type": "display_data"
    }
   ],
   "source": [
    "sns.distplot(df['MonthlyIncome'])"
   ]
  },
  {
   "cell_type": "markdown",
   "metadata": {
    "_cell_guid": "956b007b-de51-4c54-93ca-5d2f7340f6f9",
    "_uuid": "bccc323840a5588efe26d9c27587f464e6fa38f8"
   },
   "source": [
    "## NumberRealEstateLoansOrLines    "
   ]
  },
  {
   "cell_type": "code",
   "execution_count": 45,
   "metadata": {
    "_cell_guid": "6d1b6412-87b5-4d28-97c5-4ac3acf84bf7",
    "_uuid": "6256fa5725557228b3c8ec5191f68411c586111e"
   },
   "outputs": [
    {
     "data": {
      "text/plain": [
       "count    150000.000000\n",
       "mean          1.018240\n",
       "std           1.129771\n",
       "min           0.000000\n",
       "25%           0.000000\n",
       "50%           1.000000\n",
       "75%           2.000000\n",
       "max          54.000000\n",
       "Name: NumberRealEstateLoansOrLines, dtype: float64"
      ]
     },
     "execution_count": 45,
     "metadata": {},
     "output_type": "execute_result"
    }
   ],
   "source": [
    "df['NumberRealEstateLoansOrLines'].describe()"
   ]
  },
  {
   "cell_type": "markdown",
   "metadata": {
    "_cell_guid": "baf978cf-f295-4de6-b723-e70fffc6e4dc",
    "_uuid": "119c0a1024cd06446dba917dcfa610777b8bd7f1"
   },
   "source": [
    "There are no missing values but max value is too large. Min value of 0 is ok."
   ]
  },
  {
   "cell_type": "code",
   "execution_count": 46,
   "metadata": {
    "_cell_guid": "95ad3225-9cd5-4032-a532-8cb425f0ef29",
    "_uuid": "1a8a8b676f887b9b59b48dc87176b8d8f201c9c9"
   },
   "outputs": [
    {
     "data": {
      "text/plain": [
       "<matplotlib.axes._subplots.AxesSubplot at 0xea1ef28>"
      ]
     },
     "execution_count": 46,
     "metadata": {},
     "output_type": "execute_result"
    },
    {
     "data": {
      "image/png": "[encoded data removed]",
      "text/plain": [
       "<Figure size 432x288 with 1 Axes>"
      ]
     },
     "metadata": {
      "needs_background": "light"
     },
     "output_type": "display_data"
    }
   ],
   "source": [
    "sns.distplot(df['NumberRealEstateLoansOrLines'])"
   ]
  },
  {
   "cell_type": "markdown",
   "metadata": {
    "_cell_guid": "6c834546-c3fe-4643-8413-3fcea28be0ed",
    "_uuid": "07a301b4df7e7e3dc982d8079d0974c36038d862"
   },
   "source": [
    "Distribution shows that the variable smoothly decreases upto 10 and then few outliers of large values. "
   ]
  },
  {
   "cell_type": "code",
   "execution_count": 47,
   "metadata": {
    "_cell_guid": "def170cd-5c00-41c5-862f-024d25d70d05",
    "_uuid": "9a5c552e4f5182da62fc4d65f7095f70e6cb1934"
   },
   "outputs": [
    {
     "data": {
      "text/plain": [
       "<matplotlib.axes._subplots.AxesSubplot at 0xead4a20>"
      ]
     },
     "execution_count": 47,
     "metadata": {},
     "output_type": "execute_result"
    },
    {
     "data": {
      "image/png": "[encoded data removed]",
      "text/plain": [
       "<Figure size 432x288 with 1 Axes>"
      ]
     },
     "metadata": {
      "needs_background": "light"
     },
     "output_type": "display_data"
    }
   ],
   "source": [
    "df2=df[df['NumberRealEstateLoansOrLines']<6]\n",
    "sns.distplot(df2['NumberRealEstateLoansOrLines'].dropna())"
   ]
  },
  {
   "cell_type": "code",
   "execution_count": 48,
   "metadata": {
    "_cell_guid": "56599986-97be-466b-99ba-d1ff00f9e175",
    "_uuid": "59c8a4f14190763a17c5e5ab105d633b7e666f08"
   },
   "outputs": [
    {
     "data": {
      "text/plain": [
       "count    150000.000000\n",
       "mean          1.002480\n",
       "std           1.020301\n",
       "min           0.000000\n",
       "25%           0.000000\n",
       "50%           1.000000\n",
       "75%           2.000000\n",
       "max           5.000000\n",
       "Name: NumberRealEstateLoansOrLines, dtype: float64"
      ]
     },
     "execution_count": 48,
     "metadata": {},
     "output_type": "execute_result"
    }
   ],
   "source": [
    "df.loc[df['NumberRealEstateLoansOrLines']>5, 'NumberRealEstateLoansOrLines']=5\n",
    "df['NumberRealEstateLoansOrLines'].describe()"
   ]
  },
  {
   "cell_type": "code",
   "execution_count": 49,
   "metadata": {
    "_cell_guid": "b475c630-c527-4ba7-87eb-20b81beb59fe",
    "_uuid": "7ad7746b8da0b6771ca66876161698a424d16c35"
   },
   "outputs": [
    {
     "data": {
      "text/plain": [
       "<matplotlib.axes._subplots.AxesSubplot at 0xe6abe48>"
      ]
     },
     "execution_count": 49,
     "metadata": {},
     "output_type": "execute_result"
    },
    {
     "data": {
      "image/png": "[encoded data removed]",
      "text/plain": [
       "<Figure size 432x288 with 1 Axes>"
      ]
     },
     "metadata": {
      "needs_background": "light"
     },
     "output_type": "display_data"
    }
   ],
   "source": [
    "sns.distplot(df['NumberRealEstateLoansOrLines'])"
   ]
  },
  {
   "cell_type": "markdown",
   "metadata": {
    "_cell_guid": "3f604fd2-dee7-4009-a743-eded07c45acd",
    "_uuid": "312545c40558978566eb853b208bc52d049d652b"
   },
   "source": [
    "### NumOfDependents"
   ]
  },
  {
   "cell_type": "code",
   "execution_count": 50,
   "metadata": {
    "_cell_guid": "2a291e66-d0e2-4801-95ab-acc6840a2511",
    "_uuid": "f6df296e85e59bc6c2a1d43514f4ee3adb4970cd"
   },
   "outputs": [
    {
     "data": {
      "text/plain": [
       "count    146076.000000\n",
       "mean          0.757222\n",
       "std           1.115086\n",
       "min           0.000000\n",
       "25%           0.000000\n",
       "50%           0.000000\n",
       "75%           1.000000\n",
       "max          20.000000\n",
       "Name: NumberOfDependents, dtype: float64"
      ]
     },
     "execution_count": 50,
     "metadata": {},
     "output_type": "execute_result"
    }
   ],
   "source": [
    "df['NumberOfDependents'].describe()"
   ]
  },
  {
   "cell_type": "code",
   "execution_count": 51,
   "metadata": {
    "_cell_guid": "96b7dfb1-6f05-42e5-af8c-a7383f91730c",
    "_uuid": "2628e3f820a0079464f0e556b64df262348b71c3"
   },
   "outputs": [
    {
     "data": {
      "text/plain": [
       "<matplotlib.axes._subplots.AxesSubplot at 0xeb0f048>"
      ]
     },
     "execution_count": 51,
     "metadata": {},
     "output_type": "execute_result"
    },
    {
     "data": {
      "image/png": "[encoded data removed]",
      "text/plain": [
       "<Figure size 432x288 with 1 Axes>"
      ]
     },
     "metadata": {
      "needs_background": "light"
     },
     "output_type": "display_data"
    }
   ],
   "source": [
    "sns.distplot(df['NumberOfDependents'].dropna())"
   ]
  },
  {
   "cell_type": "markdown",
   "metadata": {
    "_cell_guid": "1e358952-739c-4bc9-af3a-f51c328b0e4e",
    "_uuid": "00da1a07a62aa15fb8ea22378a9e6d9cc5fae137"
   },
   "source": [
    "there are missing values. The distribution is continuous upto 5 and then few outliers"
   ]
  },
  {
   "cell_type": "code",
   "execution_count": 52,
   "metadata": {
    "_cell_guid": "bfac6651-5f53-48a7-a8f7-51d753dc3c83",
    "_uuid": "8b4f5d1c35ba607e05cdc04971df30197dcaca9c"
   },
   "outputs": [
    {
     "data": {
      "text/plain": [
       "count    146076.000000\n",
       "mean          0.754484\n",
       "std           1.101288\n",
       "min           0.000000\n",
       "25%           0.000000\n",
       "50%           0.000000\n",
       "75%           1.000000\n",
       "max           5.000000\n",
       "Name: NumberOfDependents, dtype: float64"
      ]
     },
     "execution_count": 52,
     "metadata": {},
     "output_type": "execute_result"
    }
   ],
   "source": [
    "df.loc[df['NumberOfDependents']>5, 'NumberOfDependents']=5\n",
    "df['NumberOfDependents'].describe()"
   ]
  },
  {
   "cell_type": "markdown",
   "metadata": {
    "_cell_guid": "0b6e3ddf-2353-4c55-88b0-9b4914bb7ebf",
    "_uuid": "914ce7f309c9994d88d7da7c87d43a2f0ded327e"
   },
   "source": [
    "Since proportion of missing is large, imputation using mean is not appropriate as this will change the distribution too much. we will impute the missing values using ffill as this will preserve the mean and standard deviation."
   ]
  },
  {
   "cell_type": "code",
   "execution_count": 53,
   "metadata": {
    "_cell_guid": "1344cd21-1d24-46c6-bd44-98643a38b987",
    "_uuid": "2966fd37bb3d823733bdeb45ad4edba6c6368a1a",
    "scrolled": true
   },
   "outputs": [
    {
     "data": {
      "text/plain": [
       "count    150000.000000\n",
       "mean          0.754487\n",
       "std           1.101377\n",
       "min           0.000000\n",
       "25%           0.000000\n",
       "50%           0.000000\n",
       "75%           1.000000\n",
       "max           5.000000\n",
       "Name: NumberOfDependents, dtype: float64"
      ]
     },
     "execution_count": 53,
     "metadata": {},
     "output_type": "execute_result"
    }
   ],
   "source": [
    "#df['NumberOfDependents'].fillna(df['NumberOfDependents'].mean(), inplace=True)\n",
    "df['NumberOfDependents'].fillna(method='ffill', inplace=True)\n",
    "df['NumberOfDependents'].describe()"
   ]
  },
  {
   "cell_type": "code",
   "execution_count": 54,
   "metadata": {
    "_cell_guid": "30672328-6359-470f-a557-279d1724a4ce",
    "_uuid": "3856b5dd96fbdbfe0e201143e23359d0b3618f7e",
    "scrolled": false
   },
   "outputs": [
    {
     "data": {
      "text/html": [
       "<div>\n",
       "<style scoped>\n",
       "    .dataframe tbody tr th:only-of-type {\n",
       "        vertical-align: middle;\n",
       "    }\n",
       "\n",
       "    .dataframe tbody tr th {\n",
       "        vertical-align: top;\n",
       "    }\n",
       "\n",
       "    .dataframe thead th {\n",
       "        text-align: right;\n",
       "    }\n",
       "</style>\n",
       "<table border=\"1\" class=\"dataframe\">\n",
       "  <thead>\n",
       "    <tr style=\"text-align: right;\">\n",
       "      <th></th>\n",
       "      <th>ID</th>\n",
       "      <th>SeriousDlqin2yrs</th>\n",
       "      <th>RevolvingUtilizationOfUnsecuredLines</th>\n",
       "      <th>age</th>\n",
       "      <th>DebtRatio</th>\n",
       "      <th>MonthlyIncome</th>\n",
       "      <th>NumberOfOpenCreditLinesAndLoans</th>\n",
       "      <th>NumberRealEstateLoansOrLines</th>\n",
       "      <th>NumberOfDependents</th>\n",
       "    </tr>\n",
       "  </thead>\n",
       "  <tbody>\n",
       "    <tr>\n",
       "      <th>count</th>\n",
       "      <td>150000.000000</td>\n",
       "      <td>150000.000000</td>\n",
       "      <td>150000.000000</td>\n",
       "      <td>150000.000000</td>\n",
       "      <td>150000.000000</td>\n",
       "      <td>150000.000000</td>\n",
       "      <td>150000.000000</td>\n",
       "      <td>150000.000000</td>\n",
       "      <td>150000.000000</td>\n",
       "    </tr>\n",
       "    <tr>\n",
       "      <th>mean</th>\n",
       "      <td>75000.500000</td>\n",
       "      <td>0.066840</td>\n",
       "      <td>0.303669</td>\n",
       "      <td>52.295207</td>\n",
       "      <td>0.303109</td>\n",
       "      <td>6578.107227</td>\n",
       "      <td>8.438793</td>\n",
       "      <td>1.002480</td>\n",
       "      <td>0.754487</td>\n",
       "    </tr>\n",
       "    <tr>\n",
       "      <th>std</th>\n",
       "      <td>43301.414527</td>\n",
       "      <td>0.249746</td>\n",
       "      <td>0.337852</td>\n",
       "      <td>14.771866</td>\n",
       "      <td>0.226290</td>\n",
       "      <td>4286.321398</td>\n",
       "      <td>5.070728</td>\n",
       "      <td>1.020301</td>\n",
       "      <td>1.101377</td>\n",
       "    </tr>\n",
       "    <tr>\n",
       "      <th>min</th>\n",
       "      <td>1.000000</td>\n",
       "      <td>0.000000</td>\n",
       "      <td>0.000000</td>\n",
       "      <td>0.000000</td>\n",
       "      <td>0.000000</td>\n",
       "      <td>1000.000000</td>\n",
       "      <td>0.000000</td>\n",
       "      <td>0.000000</td>\n",
       "      <td>0.000000</td>\n",
       "    </tr>\n",
       "    <tr>\n",
       "      <th>25%</th>\n",
       "      <td>37500.750000</td>\n",
       "      <td>0.000000</td>\n",
       "      <td>0.028578</td>\n",
       "      <td>41.000000</td>\n",
       "      <td>0.126122</td>\n",
       "      <td>3600.000000</td>\n",
       "      <td>5.000000</td>\n",
       "      <td>0.000000</td>\n",
       "      <td>0.000000</td>\n",
       "    </tr>\n",
       "    <tr>\n",
       "      <th>50%</th>\n",
       "      <td>75000.500000</td>\n",
       "      <td>0.000000</td>\n",
       "      <td>0.144257</td>\n",
       "      <td>52.000000</td>\n",
       "      <td>0.274252</td>\n",
       "      <td>5500.000000</td>\n",
       "      <td>8.000000</td>\n",
       "      <td>1.000000</td>\n",
       "      <td>0.000000</td>\n",
       "    </tr>\n",
       "    <tr>\n",
       "      <th>75%</th>\n",
       "      <td>112500.250000</td>\n",
       "      <td>0.000000</td>\n",
       "      <td>0.520104</td>\n",
       "      <td>63.000000</td>\n",
       "      <td>0.438325</td>\n",
       "      <td>8333.000000</td>\n",
       "      <td>11.000000</td>\n",
       "      <td>2.000000</td>\n",
       "      <td>1.000000</td>\n",
       "    </tr>\n",
       "    <tr>\n",
       "      <th>max</th>\n",
       "      <td>150000.000000</td>\n",
       "      <td>1.000000</td>\n",
       "      <td>1.000000</td>\n",
       "      <td>109.000000</td>\n",
       "      <td>1.000000</td>\n",
       "      <td>25000.000000</td>\n",
       "      <td>30.000000</td>\n",
       "      <td>5.000000</td>\n",
       "      <td>5.000000</td>\n",
       "    </tr>\n",
       "  </tbody>\n",
       "</table>\n",
       "</div>"
      ],
      "text/plain": [
       "                  ID  SeriousDlqin2yrs  RevolvingUtilizationOfUnsecuredLines  \\\n",
       "count  150000.000000     150000.000000                         150000.000000   \n",
       "mean    75000.500000          0.066840                              0.303669   \n",
       "std     43301.414527          0.249746                              0.337852   \n",
       "min         1.000000          0.000000                              0.000000   \n",
       "25%     37500.750000          0.000000                              0.028578   \n",
       "50%     75000.500000          0.000000                              0.144257   \n",
       "75%    112500.250000          0.000000                              0.520104   \n",
       "max    150000.000000          1.000000                              1.000000   \n",
       "\n",
       "                 age      DebtRatio  MonthlyIncome  \\\n",
       "count  150000.000000  150000.000000  150000.000000   \n",
       "mean       52.295207       0.303109    6578.107227   \n",
       "std        14.771866       0.226290    4286.321398   \n",
       "min         0.000000       0.000000    1000.000000   \n",
       "25%        41.000000       0.126122    3600.000000   \n",
       "50%        52.000000       0.274252    5500.000000   \n",
       "75%        63.000000       0.438325    8333.000000   \n",
       "max       109.000000       1.000000   25000.000000   \n",
       "\n",
       "       NumberOfOpenCreditLinesAndLoans  NumberRealEstateLoansOrLines  \\\n",
       "count                    150000.000000                 150000.000000   \n",
       "mean                          8.438793                      1.002480   \n",
       "std                           5.070728                      1.020301   \n",
       "min                           0.000000                      0.000000   \n",
       "25%                           5.000000                      0.000000   \n",
       "50%                           8.000000                      1.000000   \n",
       "75%                          11.000000                      2.000000   \n",
       "max                          30.000000                      5.000000   \n",
       "\n",
       "       NumberOfDependents  \n",
       "count       150000.000000  \n",
       "mean             0.754487  \n",
       "std              1.101377  \n",
       "min              0.000000  \n",
       "25%              0.000000  \n",
       "50%              0.000000  \n",
       "75%              1.000000  \n",
       "max              5.000000  "
      ]
     },
     "execution_count": 54,
     "metadata": {},
     "output_type": "execute_result"
    }
   ],
   "source": [
    "df.describe()"
   ]
  },
  {
   "cell_type": "markdown",
   "metadata": {
    "_cell_guid": "d6dc3172-db51-4e29-882c-576bc50dac25",
    "_uuid": "d7b4c543b3c300c5ef8a45b3140b5945fb5c8af0"
   },
   "source": [
    "Looks like the data is now clean. Lets save it as .pkl file"
   ]
  },
  {
   "cell_type": "code",
   "execution_count": 55,
   "metadata": {
    "_cell_guid": "c44e69fa-d59b-41e8-81c7-d344d26137fb",
    "_uuid": "bdde5eae9264fd82bef7e5d4417142941fde154e"
   },
   "outputs": [],
   "source": [
    "df.to_pickle(\"gmsc_clean.pkl\")"
   ]
  },
  {
   "cell_type": "markdown",
   "metadata": {
    "_cell_guid": "62b293b9-4449-4a5a-8410-9531c711d81e",
    "_uuid": "41af0012ba609035725279496e8fe4ed69bc31fb"
   },
   "source": [
    "## Exploratory Data Analysis"
   ]
  },
  {
   "cell_type": "code",
   "execution_count": 56,
   "metadata": {
    "_cell_guid": "a1e78c13-0767-4f32-bda4-b92cd909a25e",
    "_uuid": "75c9f2336774b9be93433986df848d61d0cdb755"
   },
   "outputs": [],
   "source": [
    "import pandas as pd\n",
    "import numpy as np\n",
    "import matplotlib.pyplot as plt\n",
    "import seaborn as sns\n",
    "from scipy.stats import norm\n",
    "from scipy.stats import chisquare\n",
    "from scipy.stats import chi2_contingency\n",
    "sns.set(color_codes=True)\n",
    "\n",
    "%matplotlib inline"
   ]
  },
  {
   "cell_type": "code",
   "execution_count": 57,
   "metadata": {
    "_cell_guid": "697cdf2b-cd6e-43be-b23d-f0b008e336cc",
    "_uuid": "9ad874b9d3bd0d738ab4808e452991d1f8df63ef",
    "scrolled": false
   },
   "outputs": [
    {
     "data": {
      "text/html": [
       "<div>\n",
       "<style scoped>\n",
       "    .dataframe tbody tr th:only-of-type {\n",
       "        vertical-align: middle;\n",
       "    }\n",
       "\n",
       "    .dataframe tbody tr th {\n",
       "        vertical-align: top;\n",
       "    }\n",
       "\n",
       "    .dataframe thead th {\n",
       "        text-align: right;\n",
       "    }\n",
       "</style>\n",
       "<table border=\"1\" class=\"dataframe\">\n",
       "  <thead>\n",
       "    <tr style=\"text-align: right;\">\n",
       "      <th></th>\n",
       "      <th>ID</th>\n",
       "      <th>SeriousDlqin2yrs</th>\n",
       "      <th>RevolvingUtilizationOfUnsecuredLines</th>\n",
       "      <th>age</th>\n",
       "      <th>DebtRatio</th>\n",
       "      <th>MonthlyIncome</th>\n",
       "      <th>NumberOfOpenCreditLinesAndLoans</th>\n",
       "      <th>NumberRealEstateLoansOrLines</th>\n",
       "      <th>NumberOfDependents</th>\n",
       "    </tr>\n",
       "  </thead>\n",
       "  <tbody>\n",
       "    <tr>\n",
       "      <th>0</th>\n",
       "      <td>1</td>\n",
       "      <td>1</td>\n",
       "      <td>0.766127</td>\n",
       "      <td>45</td>\n",
       "      <td>0.802982</td>\n",
       "      <td>9120.0</td>\n",
       "      <td>13</td>\n",
       "      <td>5</td>\n",
       "      <td>2.0</td>\n",
       "    </tr>\n",
       "    <tr>\n",
       "      <th>1</th>\n",
       "      <td>2</td>\n",
       "      <td>0</td>\n",
       "      <td>0.957151</td>\n",
       "      <td>40</td>\n",
       "      <td>0.121876</td>\n",
       "      <td>2600.0</td>\n",
       "      <td>4</td>\n",
       "      <td>0</td>\n",
       "      <td>1.0</td>\n",
       "    </tr>\n",
       "    <tr>\n",
       "      <th>2</th>\n",
       "      <td>3</td>\n",
       "      <td>0</td>\n",
       "      <td>0.658180</td>\n",
       "      <td>38</td>\n",
       "      <td>0.085113</td>\n",
       "      <td>3042.0</td>\n",
       "      <td>2</td>\n",
       "      <td>0</td>\n",
       "      <td>0.0</td>\n",
       "    </tr>\n",
       "    <tr>\n",
       "      <th>3</th>\n",
       "      <td>4</td>\n",
       "      <td>0</td>\n",
       "      <td>0.233810</td>\n",
       "      <td>30</td>\n",
       "      <td>0.036050</td>\n",
       "      <td>3300.0</td>\n",
       "      <td>5</td>\n",
       "      <td>0</td>\n",
       "      <td>0.0</td>\n",
       "    </tr>\n",
       "    <tr>\n",
       "      <th>4</th>\n",
       "      <td>5</td>\n",
       "      <td>0</td>\n",
       "      <td>0.907239</td>\n",
       "      <td>49</td>\n",
       "      <td>0.024926</td>\n",
       "      <td>25000.0</td>\n",
       "      <td>7</td>\n",
       "      <td>1</td>\n",
       "      <td>0.0</td>\n",
       "    </tr>\n",
       "  </tbody>\n",
       "</table>\n",
       "</div>"
      ],
      "text/plain": [
       "   ID  SeriousDlqin2yrs  RevolvingUtilizationOfUnsecuredLines  age  DebtRatio  \\\n",
       "0   1                 1                              0.766127   45   0.802982   \n",
       "1   2                 0                              0.957151   40   0.121876   \n",
       "2   3                 0                              0.658180   38   0.085113   \n",
       "3   4                 0                              0.233810   30   0.036050   \n",
       "4   5                 0                              0.907239   49   0.024926   \n",
       "\n",
       "   MonthlyIncome  NumberOfOpenCreditLinesAndLoans  \\\n",
       "0         9120.0                               13   \n",
       "1         2600.0                                4   \n",
       "2         3042.0                                2   \n",
       "3         3300.0                                5   \n",
       "4        25000.0                                7   \n",
       "\n",
       "   NumberRealEstateLoansOrLines  NumberOfDependents  \n",
       "0                             5                 2.0  \n",
       "1                             0                 1.0  \n",
       "2                             0                 0.0  \n",
       "3                             0                 0.0  \n",
       "4                             1                 0.0  "
      ]
     },
     "execution_count": 57,
     "metadata": {},
     "output_type": "execute_result"
    }
   ],
   "source": [
    "df = pd.read_pickle('gmsc_clean.pkl')\n",
    "df.head()"
   ]
  },
  {
   "cell_type": "code",
   "execution_count": 58,
   "metadata": {
    "_cell_guid": "bec25675-2825-45be-a004-f56cc8bc875b",
    "_uuid": "2974da08b4f5e1d2931c48361b3d2b4d31cb69c7",
    "scrolled": true
   },
   "outputs": [
    {
     "data": {
      "text/html": [
       "<div>\n",
       "<style scoped>\n",
       "    .dataframe tbody tr th:only-of-type {\n",
       "        vertical-align: middle;\n",
       "    }\n",
       "\n",
       "    .dataframe tbody tr th {\n",
       "        vertical-align: top;\n",
       "    }\n",
       "\n",
       "    .dataframe thead th {\n",
       "        text-align: right;\n",
       "    }\n",
       "</style>\n",
       "<table border=\"1\" class=\"dataframe\">\n",
       "  <thead>\n",
       "    <tr style=\"text-align: right;\">\n",
       "      <th></th>\n",
       "      <th>ID</th>\n",
       "      <th>SeriousDlqin2yrs</th>\n",
       "      <th>RevolvingUtilizationOfUnsecuredLines</th>\n",
       "      <th>age</th>\n",
       "      <th>DebtRatio</th>\n",
       "      <th>MonthlyIncome</th>\n",
       "      <th>NumberOfOpenCreditLinesAndLoans</th>\n",
       "      <th>NumberRealEstateLoansOrLines</th>\n",
       "      <th>NumberOfDependents</th>\n",
       "    </tr>\n",
       "  </thead>\n",
       "  <tbody>\n",
       "    <tr>\n",
       "      <th>count</th>\n",
       "      <td>150000.000000</td>\n",
       "      <td>150000.000000</td>\n",
       "      <td>150000.000000</td>\n",
       "      <td>150000.000000</td>\n",
       "      <td>150000.000000</td>\n",
       "      <td>150000.000000</td>\n",
       "      <td>150000.000000</td>\n",
       "      <td>150000.000000</td>\n",
       "      <td>150000.000000</td>\n",
       "    </tr>\n",
       "    <tr>\n",
       "      <th>mean</th>\n",
       "      <td>75000.500000</td>\n",
       "      <td>0.066840</td>\n",
       "      <td>0.303669</td>\n",
       "      <td>52.295207</td>\n",
       "      <td>0.303109</td>\n",
       "      <td>6578.107227</td>\n",
       "      <td>8.438793</td>\n",
       "      <td>1.002480</td>\n",
       "      <td>0.754487</td>\n",
       "    </tr>\n",
       "    <tr>\n",
       "      <th>std</th>\n",
       "      <td>43301.414527</td>\n",
       "      <td>0.249746</td>\n",
       "      <td>0.337852</td>\n",
       "      <td>14.771866</td>\n",
       "      <td>0.226290</td>\n",
       "      <td>4286.321398</td>\n",
       "      <td>5.070728</td>\n",
       "      <td>1.020301</td>\n",
       "      <td>1.101377</td>\n",
       "    </tr>\n",
       "    <tr>\n",
       "      <th>min</th>\n",
       "      <td>1.000000</td>\n",
       "      <td>0.000000</td>\n",
       "      <td>0.000000</td>\n",
       "      <td>0.000000</td>\n",
       "      <td>0.000000</td>\n",
       "      <td>1000.000000</td>\n",
       "      <td>0.000000</td>\n",
       "      <td>0.000000</td>\n",
       "      <td>0.000000</td>\n",
       "    </tr>\n",
       "    <tr>\n",
       "      <th>25%</th>\n",
       "      <td>37500.750000</td>\n",
       "      <td>0.000000</td>\n",
       "      <td>0.028578</td>\n",
       "      <td>41.000000</td>\n",
       "      <td>0.126122</td>\n",
       "      <td>3600.000000</td>\n",
       "      <td>5.000000</td>\n",
       "      <td>0.000000</td>\n",
       "      <td>0.000000</td>\n",
       "    </tr>\n",
       "    <tr>\n",
       "      <th>50%</th>\n",
       "      <td>75000.500000</td>\n",
       "      <td>0.000000</td>\n",
       "      <td>0.144257</td>\n",
       "      <td>52.000000</td>\n",
       "      <td>0.274252</td>\n",
       "      <td>5500.000000</td>\n",
       "      <td>8.000000</td>\n",
       "      <td>1.000000</td>\n",
       "      <td>0.000000</td>\n",
       "    </tr>\n",
       "    <tr>\n",
       "      <th>75%</th>\n",
       "      <td>112500.250000</td>\n",
       "      <td>0.000000</td>\n",
       "      <td>0.520104</td>\n",
       "      <td>63.000000</td>\n",
       "      <td>0.438325</td>\n",
       "      <td>8333.000000</td>\n",
       "      <td>11.000000</td>\n",
       "      <td>2.000000</td>\n",
       "      <td>1.000000</td>\n",
       "    </tr>\n",
       "    <tr>\n",
       "      <th>max</th>\n",
       "      <td>150000.000000</td>\n",
       "      <td>1.000000</td>\n",
       "      <td>1.000000</td>\n",
       "      <td>109.000000</td>\n",
       "      <td>1.000000</td>\n",
       "      <td>25000.000000</td>\n",
       "      <td>30.000000</td>\n",
       "      <td>5.000000</td>\n",
       "      <td>5.000000</td>\n",
       "    </tr>\n",
       "  </tbody>\n",
       "</table>\n",
       "</div>"
      ],
      "text/plain": [
       "                  ID  SeriousDlqin2yrs  RevolvingUtilizationOfUnsecuredLines  \\\n",
       "count  150000.000000     150000.000000                         150000.000000   \n",
       "mean    75000.500000          0.066840                              0.303669   \n",
       "std     43301.414527          0.249746                              0.337852   \n",
       "min         1.000000          0.000000                              0.000000   \n",
       "25%     37500.750000          0.000000                              0.028578   \n",
       "50%     75000.500000          0.000000                              0.144257   \n",
       "75%    112500.250000          0.000000                              0.520104   \n",
       "max    150000.000000          1.000000                              1.000000   \n",
       "\n",
       "                 age      DebtRatio  MonthlyIncome  \\\n",
       "count  150000.000000  150000.000000  150000.000000   \n",
       "mean       52.295207       0.303109    6578.107227   \n",
       "std        14.771866       0.226290    4286.321398   \n",
       "min         0.000000       0.000000    1000.000000   \n",
       "25%        41.000000       0.126122    3600.000000   \n",
       "50%        52.000000       0.274252    5500.000000   \n",
       "75%        63.000000       0.438325    8333.000000   \n",
       "max       109.000000       1.000000   25000.000000   \n",
       "\n",
       "       NumberOfOpenCreditLinesAndLoans  NumberRealEstateLoansOrLines  \\\n",
       "count                    150000.000000                 150000.000000   \n",
       "mean                          8.438793                      1.002480   \n",
       "std                           5.070728                      1.020301   \n",
       "min                           0.000000                      0.000000   \n",
       "25%                           5.000000                      0.000000   \n",
       "50%                           8.000000                      1.000000   \n",
       "75%                          11.000000                      2.000000   \n",
       "max                          30.000000                      5.000000   \n",
       "\n",
       "       NumberOfDependents  \n",
       "count       150000.000000  \n",
       "mean             0.754487  \n",
       "std              1.101377  \n",
       "min              0.000000  \n",
       "25%              0.000000  \n",
       "50%              0.000000  \n",
       "75%              1.000000  \n",
       "max              5.000000  "
      ]
     },
     "execution_count": 58,
     "metadata": {},
     "output_type": "execute_result"
    }
   ],
   "source": [
    "df.describe()"
   ]
  },
  {
   "cell_type": "code",
   "execution_count": 59,
   "metadata": {
    "_cell_guid": "c849e8c8-f536-4086-a75e-3d4f90da3372",
    "_uuid": "909913ee23106d6fd22238c908da1321f3314aa6"
   },
   "outputs": [
    {
     "name": "stdout",
     "output_type": "stream",
     "text": [
      "<class 'pandas.core.frame.DataFrame'>\n",
      "RangeIndex: 150000 entries, 0 to 149999\n",
      "Data columns (total 9 columns):\n",
      "ID                                      150000 non-null int64\n",
      "SeriousDlqin2yrs                        150000 non-null int64\n",
      "RevolvingUtilizationOfUnsecuredLines    150000 non-null float64\n",
      "age                                     150000 non-null int64\n",
      "DebtRatio                               150000 non-null float64\n",
      "MonthlyIncome                           150000 non-null float64\n",
      "NumberOfOpenCreditLinesAndLoans         150000 non-null int64\n",
      "NumberRealEstateLoansOrLines            150000 non-null int64\n",
      "NumberOfDependents                      150000 non-null float64\n",
      "dtypes: float64(4), int64(5)\n",
      "memory usage: 10.3 MB\n"
     ]
    }
   ],
   "source": [
    "df.info()"
   ]
  },
  {
   "cell_type": "markdown",
   "metadata": {
    "_cell_guid": "674caf52-bace-47c4-88e6-7496d079a816",
    "_uuid": "49b5c570fcaff1fa7f6f7732d4772edc358a3862"
   },
   "source": [
    "<h1 align=\"center\">Univariate Analysis</h1> "
   ]
  },
  {
   "cell_type": "markdown",
   "metadata": {
    "_cell_guid": "070d4492-c7b2-4060-a679-c6a312bafd8d",
    "_uuid": "bf6c89d55fda0b9046f75a0ea11605911494e37f"
   },
   "source": [
    "The objective of univariate analysis is to examine each of the variables one by one. The focus will be on the distribution of the variable. Let's start with dependent variable."
   ]
  },
  {
   "cell_type": "code",
   "execution_count": 60,
   "metadata": {
    "_cell_guid": "0edfbc75-e5f4-4ff3-be66-6cf2cd57e010",
    "_uuid": "799138565c3817ff3423576cba9c8e90df67d39e"
   },
   "outputs": [
    {
     "data": {
      "text/plain": [
       "<matplotlib.axes._subplots.AxesSubplot at 0xeb4e198>"
      ]
     },
     "execution_count": 60,
     "metadata": {},
     "output_type": "execute_result"
    },
    {
     "data": {
      "image/png": "[encoded data removed]",
      "text/plain": [
       "<Figure size 432x288 with 1 Axes>"
      ]
     },
     "metadata": {
      "needs_background": "light"
     },
     "output_type": "display_data"
    }
   ],
   "source": [
    "sns.countplot(x='SeriousDlqin2yrs', data=df)"
   ]
  },
  {
   "cell_type": "code",
   "execution_count": 61,
   "metadata": {
    "_cell_guid": "cd57df57-84f8-4161-b399-71919ecc0b93",
    "_uuid": "a2db8fe89a0c8d0413d79c8bb62589481530dd4e",
    "scrolled": true
   },
   "outputs": [
    {
     "data": {
      "image/png": "[encoded data removed]",
      "text/plain": [
       "<Figure size 1008x432 with 2 Axes>"
      ]
     },
     "metadata": {
      "needs_background": "light"
     },
     "output_type": "display_data"
    }
   ],
   "source": [
    "f,ax=plt.subplots(1,2,figsize=(14,6))\n",
    "df['SeriousDlqin2yrs'].value_counts().plot.pie(explode=[0,0.1],autopct='%1.1f%%',ax=ax[0],shadow=False)\n",
    "ax[0].set_title('SeriousDlqin2yrs')\n",
    "ax[0].set_ylabel('')\n",
    "sns.countplot('SeriousDlqin2yrs',data=df,ax=ax[1])\n",
    "ax[1].set_title('SeriousDlqin2yrs')\n",
    "plt.show()"
   ]
  },
  {
   "cell_type": "markdown",
   "metadata": {
    "_cell_guid": "06db32d6-e535-4ad9-a01f-63e66f9b4439",
    "_uuid": "675f83499c3f40aec0aae2fe318fee83e9d9c68d"
   },
   "source": [
    "About 6.7% customers were delinquents. \n",
    "\n",
    "Let's create distribution charts for all independent variables together."
   ]
  },
  {
   "cell_type": "code",
   "execution_count": 62,
   "metadata": {
    "_cell_guid": "4a1c0c73-2eca-45d8-b076-3e44d1aadc53",
    "_uuid": "4c2a2fa50e5f1b0e1c299f3f7eb81ca161fe508c"
   },
   "outputs": [
    {
     "name": "stdout",
     "output_type": "stream",
     "text": [
      "RevolvingUtilizationOfUnsecuredLines\n"
     ]
    },
    {
     "name": "stderr",
     "output_type": "stream",
     "text": [
      "C:\\ProgramData\\Anaconda3\\lib\\site-packages\\matplotlib\\axes\\_axes.py:6521: MatplotlibDeprecationWarning: \n",
      "The 'normed' kwarg was deprecated in Matplotlib 2.1 and will be removed in 3.1. Use 'density' instead.\n",
      "  alternative=\"'density'\", removal=\"3.1\")\n"
     ]
    },
    {
     "data": {
      "image/png": "[encoded data removed]",
      "text/plain": [
       "<Figure size 432x288 with 1 Axes>"
      ]
     },
     "metadata": {
      "needs_background": "light"
     },
     "output_type": "display_data"
    },
    {
     "name": "stdout",
     "output_type": "stream",
     "text": [
      "age\n"
     ]
    },
    {
     "name": "stderr",
     "output_type": "stream",
     "text": [
      "C:\\ProgramData\\Anaconda3\\lib\\site-packages\\matplotlib\\axes\\_axes.py:6521: MatplotlibDeprecationWarning: \n",
      "The 'normed' kwarg was deprecated in Matplotlib 2.1 and will be removed in 3.1. Use 'density' instead.\n",
      "  alternative=\"'density'\", removal=\"3.1\")\n"
     ]
    },
    {
     "data": {
      "image/png": "[encoded data removed]",
      "text/plain": [
       "<Figure size 432x288 with 1 Axes>"
      ]
     },
     "metadata": {
      "needs_background": "light"
     },
     "output_type": "display_data"
    },
    {
     "name": "stdout",
     "output_type": "stream",
     "text": [
      "DebtRatio\n"
     ]
    },
    {
     "name": "stderr",
     "output_type": "stream",
     "text": [
      "C:\\ProgramData\\Anaconda3\\lib\\site-packages\\matplotlib\\axes\\_axes.py:6521: MatplotlibDeprecationWarning: \n",
      "The 'normed' kwarg was deprecated in Matplotlib 2.1 and will be removed in 3.1. Use 'density' instead.\n",
      "  alternative=\"'density'\", removal=\"3.1\")\n"
     ]
    },
    {
     "data": {
      "image/png": "[encoded data removed]",
      "text/plain": [
       "<Figure size 432x288 with 1 Axes>"
      ]
     },
     "metadata": {
      "needs_background": "light"
     },
     "output_type": "display_data"
    },
    {
     "name": "stdout",
     "output_type": "stream",
     "text": [
      "MonthlyIncome\n"
     ]
    },
    {
     "name": "stderr",
     "output_type": "stream",
     "text": [
      "C:\\ProgramData\\Anaconda3\\lib\\site-packages\\matplotlib\\axes\\_axes.py:6521: MatplotlibDeprecationWarning: \n",
      "The 'normed' kwarg was deprecated in Matplotlib 2.1 and will be removed in 3.1. Use 'density' instead.\n",
      "  alternative=\"'density'\", removal=\"3.1\")\n"
     ]
    },
    {
     "data": {
      "image/png": "[encoded data removed]",
      "text/plain": [
       "<Figure size 432x288 with 1 Axes>"
      ]
     },
     "metadata": {
      "needs_background": "light"
     },
     "output_type": "display_data"
    },
    {
     "name": "stdout",
     "output_type": "stream",
     "text": [
      "NumberOfOpenCreditLinesAndLoans\n"
     ]
    },
    {
     "name": "stderr",
     "output_type": "stream",
     "text": [
      "C:\\ProgramData\\Anaconda3\\lib\\site-packages\\matplotlib\\axes\\_axes.py:6521: MatplotlibDeprecationWarning: \n",
      "The 'normed' kwarg was deprecated in Matplotlib 2.1 and will be removed in 3.1. Use 'density' instead.\n",
      "  alternative=\"'density'\", removal=\"3.1\")\n"
     ]
    },
    {
     "data": {
      "image/png": "[encoded data removed]",
      "text/plain": [
       "<Figure size 432x288 with 1 Axes>"
      ]
     },
     "metadata": {
      "needs_background": "light"
     },
     "output_type": "display_data"
    },
    {
     "name": "stdout",
     "output_type": "stream",
     "text": [
      "NumberRealEstateLoansOrLines\n"
     ]
    },
    {
     "name": "stderr",
     "output_type": "stream",
     "text": [
      "C:\\ProgramData\\Anaconda3\\lib\\site-packages\\matplotlib\\axes\\_axes.py:6521: MatplotlibDeprecationWarning: \n",
      "The 'normed' kwarg was deprecated in Matplotlib 2.1 and will be removed in 3.1. Use 'density' instead.\n",
      "  alternative=\"'density'\", removal=\"3.1\")\n"
     ]
    },
    {
     "data": {
      "image/png": "[encoded data removed]",
      "text/plain": [
       "<Figure size 432x288 with 1 Axes>"
      ]
     },
     "metadata": {
      "needs_background": "light"
     },
     "output_type": "display_data"
    },
    {
     "name": "stdout",
     "output_type": "stream",
     "text": [
      "NumberOfDependents\n"
     ]
    },
    {
     "name": "stderr",
     "output_type": "stream",
     "text": [
      "C:\\ProgramData\\Anaconda3\\lib\\site-packages\\matplotlib\\axes\\_axes.py:6521: MatplotlibDeprecationWarning: \n",
      "The 'normed' kwarg was deprecated in Matplotlib 2.1 and will be removed in 3.1. Use 'density' instead.\n",
      "  alternative=\"'density'\", removal=\"3.1\")\n"
     ]
    },
    {
     "data": {
      "image/png": "[encoded data removed]",
      "text/plain": [
       "<Figure size 432x288 with 1 Axes>"
      ]
     },
     "metadata": {
      "needs_background": "light"
     },
     "output_type": "display_data"
    }
   ],
   "source": [
    "for column in df.columns[2:]:\n",
    "    print(column)\n",
    "    #s=df['column']\n",
    "    s=df[column]\n",
    "    mu, sigma =norm.fit(s)\n",
    "    count, bins, ignored = plt.hist(s, 30, normed=True, color='g')\n",
    "    plt.plot(bins, 1/(sigma * np.sqrt(2 * np.pi)) *np.exp( - (bins - mu)**2 / (2 * sigma**2) ), linewidth=1, color='r')\n",
    "\n",
    "    title = \"Plot used: mu = %.2f,  std = %.2f\" % (mu, sigma)\n",
    "    plt.title(title, loc='right')\n",
    "\n",
    "    plt.show()"
   ]
  },
  {
   "cell_type": "markdown",
   "metadata": {
    "_cell_guid": "35fc023c-86ea-4b75-91c7-a52a6ce66720",
    "_uuid": "8339c60711f4115fe7b5bea10ee7376f00344adc"
   },
   "source": [
    "All these variables look fine. Although distribution of some of these variables are not close to a normal distribution, it is not very critical. The techniques we apply are not very sensitive to normality. We also have the option of converting some of these variables to categories for modeling (eg. RevolvingUtilizationOfUnsecuredLines). \n"
   ]
  },
  {
   "cell_type": "markdown",
   "metadata": {
    "_cell_guid": "d36bd2fd-e29e-467b-acd4-dbe94ff5031c",
    "_uuid": "063c704652efd9a000197ca7a2a4830e0d482cb7"
   },
   "source": [
    "<h1 align=\"center\">Bivariate Analysis</h1> "
   ]
  },
  {
   "cell_type": "markdown",
   "metadata": {
    "_cell_guid": "4546c371-3bbb-47e9-a466-7f6bf218b161",
    "_uuid": "a4ed17b60320ee6673e3197685e17ed69907f52f"
   },
   "source": [
    "Under bivariate analysis we will examine the realtionship between Dependent variable and each of the independent variables. We will also check selected pairs of independent variables."
   ]
  },
  {
   "cell_type": "markdown",
   "metadata": {
    "_cell_guid": "7635e28c-58cb-4bd7-bad9-7323f1482834",
    "_uuid": "192c1c4006052ce4a573f33bb5f9b402cfd56916"
   },
   "source": [
    "## **SeriousDlqin2yrs vs RevolvingUtilizationOfUnsecuredLines** "
   ]
  },
  {
   "cell_type": "markdown",
   "metadata": {
    "_cell_guid": "233f9242-12dd-48df-9d79-fecb3f936e48",
    "_uuid": "846e08b7b62068e7eff0012367bed6b7a48fe1c4"
   },
   "source": [
    "Easiest approach is to compare the means of RevolvingUtilizationOfUnsecuredL by two \n",
    "categories of SeriousDlqin2yrs"
   ]
  },
  {
   "cell_type": "code",
   "execution_count": 63,
   "metadata": {
    "_cell_guid": "40629da3-8e58-49cf-bd1e-a6eeca7097d6",
    "_uuid": "8ac39d1606ca02ab24916942a0362167f48ed50e",
    "scrolled": true
   },
   "outputs": [
    {
     "data": {
      "text/html": [
       "<div>\n",
       "<style scoped>\n",
       "    .dataframe tbody tr th:only-of-type {\n",
       "        vertical-align: middle;\n",
       "    }\n",
       "\n",
       "    .dataframe tbody tr th {\n",
       "        vertical-align: top;\n",
       "    }\n",
       "\n",
       "    .dataframe thead th {\n",
       "        text-align: right;\n",
       "    }\n",
       "</style>\n",
       "<table border=\"1\" class=\"dataframe\">\n",
       "  <thead>\n",
       "    <tr style=\"text-align: right;\">\n",
       "      <th></th>\n",
       "      <th>count</th>\n",
       "      <th>mean</th>\n",
       "    </tr>\n",
       "    <tr>\n",
       "      <th>SeriousDlqin2yrs</th>\n",
       "      <th></th>\n",
       "      <th></th>\n",
       "    </tr>\n",
       "  </thead>\n",
       "  <tbody>\n",
       "    <tr>\n",
       "      <th>0</th>\n",
       "      <td>139974</td>\n",
       "      <td>0.282806</td>\n",
       "    </tr>\n",
       "    <tr>\n",
       "      <th>1</th>\n",
       "      <td>10026</td>\n",
       "      <td>0.594927</td>\n",
       "    </tr>\n",
       "  </tbody>\n",
       "</table>\n",
       "</div>"
      ],
      "text/plain": [
       "                   count      mean\n",
       "SeriousDlqin2yrs                  \n",
       "0                 139974  0.282806\n",
       "1                  10026  0.594927"
      ]
     },
     "execution_count": 63,
     "metadata": {},
     "output_type": "execute_result"
    }
   ],
   "source": [
    "df.groupby('SeriousDlqin2yrs')['RevolvingUtilizationOfUnsecuredLines'].agg(['count','mean'])"
   ]
  },
  {
   "cell_type": "code",
   "execution_count": 64,
   "metadata": {
    "_cell_guid": "25cbe065-f1f6-43e0-a6cf-f89ebe5128b4",
    "_uuid": "6c8be44253b81f866896faeb904d3e8a86f12842"
   },
   "outputs": [
    {
     "data": {
      "text/plain": [
       "<matplotlib.axes._subplots.AxesSubplot at 0xc20bd68>"
      ]
     },
     "execution_count": 64,
     "metadata": {},
     "output_type": "execute_result"
    },
    {
     "data": {
      "image/png": "[encoded data removed]",
      "text/plain": [
       "<Figure size 432x288 with 1 Axes>"
      ]
     },
     "metadata": {
      "needs_background": "light"
     },
     "output_type": "display_data"
    }
   ],
   "source": [
    "df['RevolvingUtilizationOfUnsecuredLines'].groupby(df.SeriousDlqin2yrs).mean().plot(kind='bar', color=['blue', 'green']) "
   ]
  },
  {
   "cell_type": "markdown",
   "metadata": {
    "_cell_guid": "b6a13d9f-dd76-4955-9e38-9997ae70dce0",
    "_uuid": "13b0340972915ab6377c959c6d90c7e731673629"
   },
   "source": [
    "As expected, delinquent customers got almost twice the utilization of unsecured lines"
   ]
  },
  {
   "cell_type": "markdown",
   "metadata": {
    "_cell_guid": "b529429c-2ba1-446a-9ab8-95e688cddadd",
    "_uuid": "eb347292eb1b05371a453230cc3e684712835b32"
   },
   "source": [
    "Let's now explore the relationship in detail by categorising the varaible. To categorise the variable, we will choose 25, 50 and 75 percentile as cutoffs.  "
   ]
  },
  {
   "cell_type": "code",
   "execution_count": 65,
   "metadata": {
    "_cell_guid": "105ab740-ed7b-4100-b7b5-0e182632393b",
    "_uuid": "366239a3c32f039e1af0124fa34b9684e0be8e13"
   },
   "outputs": [
    {
     "data": {
      "text/plain": [
       "count    150000.000000\n",
       "mean          0.303669\n",
       "std           0.337852\n",
       "min           0.000000\n",
       "25%           0.028578\n",
       "50%           0.144257\n",
       "75%           0.520104\n",
       "max           1.000000\n",
       "Name: RevolvingUtilizationOfUnsecuredLines, dtype: float64"
      ]
     },
     "execution_count": 65,
     "metadata": {},
     "output_type": "execute_result"
    }
   ],
   "source": [
    "df['RevolvingUtilizationOfUnsecuredLines'].describe()"
   ]
  },
  {
   "cell_type": "code",
   "execution_count": 66,
   "metadata": {
    "_cell_guid": "1497b210-8c2c-4da4-bdaf-86db41e32ec9",
    "_uuid": "686bebf9f976c6307760693664af4767c6805450"
   },
   "outputs": [],
   "source": [
    "def cat_ruul(ruul):\n",
    "    if ruul <0.03:\n",
    "        return 1\n",
    "    elif 0.03<= ruul <0.14:\n",
    "        return 2\n",
    "    elif 0.14<= ruul <0.52:\n",
    "        return 3\n",
    "    else:\n",
    "        return 4"
   ]
  },
  {
   "cell_type": "code",
   "execution_count": 67,
   "metadata": {
    "_cell_guid": "2e9ca0dc-3359-4484-8d24-7c5ac0dd62fc",
    "_uuid": "aea3ead07b7174c82345c06dcaed33f1e6bc0586"
   },
   "outputs": [
    {
     "data": {
      "text/html": [
       "<div>\n",
       "<style scoped>\n",
       "    .dataframe tbody tr th:only-of-type {\n",
       "        vertical-align: middle;\n",
       "    }\n",
       "\n",
       "    .dataframe tbody tr th {\n",
       "        vertical-align: top;\n",
       "    }\n",
       "\n",
       "    .dataframe thead th {\n",
       "        text-align: right;\n",
       "    }\n",
       "</style>\n",
       "<table border=\"1\" class=\"dataframe\">\n",
       "  <thead>\n",
       "    <tr style=\"text-align: right;\">\n",
       "      <th></th>\n",
       "      <th>ID</th>\n",
       "      <th>SeriousDlqin2yrs</th>\n",
       "      <th>RevolvingUtilizationOfUnsecuredLines</th>\n",
       "      <th>age</th>\n",
       "      <th>DebtRatio</th>\n",
       "      <th>MonthlyIncome</th>\n",
       "      <th>NumberOfOpenCreditLinesAndLoans</th>\n",
       "      <th>NumberRealEstateLoansOrLines</th>\n",
       "      <th>NumberOfDependents</th>\n",
       "      <th>ruul_cat</th>\n",
       "    </tr>\n",
       "  </thead>\n",
       "  <tbody>\n",
       "    <tr>\n",
       "      <th>0</th>\n",
       "      <td>1</td>\n",
       "      <td>1</td>\n",
       "      <td>0.766127</td>\n",
       "      <td>45</td>\n",
       "      <td>0.802982</td>\n",
       "      <td>9120.0</td>\n",
       "      <td>13</td>\n",
       "      <td>5</td>\n",
       "      <td>2.0</td>\n",
       "      <td>4</td>\n",
       "    </tr>\n",
       "    <tr>\n",
       "      <th>1</th>\n",
       "      <td>2</td>\n",
       "      <td>0</td>\n",
       "      <td>0.957151</td>\n",
       "      <td>40</td>\n",
       "      <td>0.121876</td>\n",
       "      <td>2600.0</td>\n",
       "      <td>4</td>\n",
       "      <td>0</td>\n",
       "      <td>1.0</td>\n",
       "      <td>4</td>\n",
       "    </tr>\n",
       "    <tr>\n",
       "      <th>2</th>\n",
       "      <td>3</td>\n",
       "      <td>0</td>\n",
       "      <td>0.658180</td>\n",
       "      <td>38</td>\n",
       "      <td>0.085113</td>\n",
       "      <td>3042.0</td>\n",
       "      <td>2</td>\n",
       "      <td>0</td>\n",
       "      <td>0.0</td>\n",
       "      <td>4</td>\n",
       "    </tr>\n",
       "  </tbody>\n",
       "</table>\n",
       "</div>"
      ],
      "text/plain": [
       "   ID  SeriousDlqin2yrs  RevolvingUtilizationOfUnsecuredLines  age  DebtRatio  \\\n",
       "0   1                 1                              0.766127   45   0.802982   \n",
       "1   2                 0                              0.957151   40   0.121876   \n",
       "2   3                 0                              0.658180   38   0.085113   \n",
       "\n",
       "   MonthlyIncome  NumberOfOpenCreditLinesAndLoans  \\\n",
       "0         9120.0                               13   \n",
       "1         2600.0                                4   \n",
       "2         3042.0                                2   \n",
       "\n",
       "   NumberRealEstateLoansOrLines  NumberOfDependents  ruul_cat  \n",
       "0                             5                 2.0         4  \n",
       "1                             0                 1.0         4  \n",
       "2                             0                 0.0         4  "
      ]
     },
     "execution_count": 67,
     "metadata": {},
     "output_type": "execute_result"
    }
   ],
   "source": [
    "df['ruul_cat'] = df['RevolvingUtilizationOfUnsecuredLines'].apply(cat_ruul)\n",
    "df.head(3)"
   ]
  },
  {
   "cell_type": "code",
   "execution_count": 68,
   "metadata": {
    "_cell_guid": "0137a684-3c40-4293-897d-a0ccd1f04afa",
    "_uuid": "346ae776b0c08915cb66a6f677ad4d04807427d4"
   },
   "outputs": [
    {
     "data": {
      "text/html": [
       "<div>\n",
       "<style scoped>\n",
       "    .dataframe tbody tr th:only-of-type {\n",
       "        vertical-align: middle;\n",
       "    }\n",
       "\n",
       "    .dataframe tbody tr th {\n",
       "        vertical-align: top;\n",
       "    }\n",
       "\n",
       "    .dataframe thead th {\n",
       "        text-align: right;\n",
       "    }\n",
       "</style>\n",
       "<table border=\"1\" class=\"dataframe\">\n",
       "  <thead>\n",
       "    <tr style=\"text-align: right;\">\n",
       "      <th></th>\n",
       "      <th>min</th>\n",
       "      <th>max</th>\n",
       "    </tr>\n",
       "    <tr>\n",
       "      <th>ruul_cat</th>\n",
       "      <th></th>\n",
       "      <th></th>\n",
       "    </tr>\n",
       "  </thead>\n",
       "  <tbody>\n",
       "    <tr>\n",
       "      <th>1</th>\n",
       "      <td>0.000000</td>\n",
       "      <td>0.030000</td>\n",
       "    </tr>\n",
       "    <tr>\n",
       "      <th>2</th>\n",
       "      <td>0.030006</td>\n",
       "      <td>0.139999</td>\n",
       "    </tr>\n",
       "    <tr>\n",
       "      <th>3</th>\n",
       "      <td>0.140022</td>\n",
       "      <td>0.519983</td>\n",
       "    </tr>\n",
       "    <tr>\n",
       "      <th>4</th>\n",
       "      <td>0.520023</td>\n",
       "      <td>1.000000</td>\n",
       "    </tr>\n",
       "  </tbody>\n",
       "</table>\n",
       "</div>"
      ],
      "text/plain": [
       "               min       max\n",
       "ruul_cat                    \n",
       "1         0.000000  0.030000\n",
       "2         0.030006  0.139999\n",
       "3         0.140022  0.519983\n",
       "4         0.520023  1.000000"
      ]
     },
     "execution_count": 68,
     "metadata": {},
     "output_type": "execute_result"
    }
   ],
   "source": [
    "# lets check if the categorization was done correctly\n",
    "df.groupby('ruul_cat')['RevolvingUtilizationOfUnsecuredLines'].agg(['min','max'])"
   ]
  },
  {
   "cell_type": "code",
   "execution_count": 69,
   "metadata": {
    "_cell_guid": "540a022e-f702-444d-a1c0-43777be4250d",
    "_uuid": "80b80d3c9dcc610a20bee8357683e203ec085408",
    "scrolled": true
   },
   "outputs": [
    {
     "data": {
      "text/html": [
       "<div>\n",
       "<style scoped>\n",
       "    .dataframe tbody tr th:only-of-type {\n",
       "        vertical-align: middle;\n",
       "    }\n",
       "\n",
       "    .dataframe tbody tr th {\n",
       "        vertical-align: top;\n",
       "    }\n",
       "\n",
       "    .dataframe thead th {\n",
       "        text-align: right;\n",
       "    }\n",
       "</style>\n",
       "<table border=\"1\" class=\"dataframe\">\n",
       "  <thead>\n",
       "    <tr style=\"text-align: right;\">\n",
       "      <th>ruul_cat</th>\n",
       "      <th>1</th>\n",
       "      <th>2</th>\n",
       "      <th>3</th>\n",
       "      <th>4</th>\n",
       "    </tr>\n",
       "    <tr>\n",
       "      <th>SeriousDlqin2yrs</th>\n",
       "      <th></th>\n",
       "      <th></th>\n",
       "      <th></th>\n",
       "      <th></th>\n",
       "    </tr>\n",
       "  </thead>\n",
       "  <tbody>\n",
       "    <tr>\n",
       "      <th>0</th>\n",
       "      <td>0.973692</td>\n",
       "      <td>0.972357</td>\n",
       "      <td>0.946664</td>\n",
       "      <td>0.84043</td>\n",
       "    </tr>\n",
       "    <tr>\n",
       "      <th>1</th>\n",
       "      <td>0.026308</td>\n",
       "      <td>0.027643</td>\n",
       "      <td>0.053336</td>\n",
       "      <td>0.15957</td>\n",
       "    </tr>\n",
       "  </tbody>\n",
       "</table>\n",
       "</div>"
      ],
      "text/plain": [
       "ruul_cat                 1         2         3        4\n",
       "SeriousDlqin2yrs                                       \n",
       "0                 0.973692  0.972357  0.946664  0.84043\n",
       "1                 0.026308  0.027643  0.053336  0.15957"
      ]
     },
     "execution_count": 69,
     "metadata": {},
     "output_type": "execute_result"
    }
   ],
   "source": [
    "pd.crosstab(df.SeriousDlqin2yrs, df.ruul_cat, normalize='columns')"
   ]
  },
  {
   "cell_type": "code",
   "execution_count": 70,
   "metadata": {
    "_cell_guid": "fdc7007e-ba66-436a-b152-f2c1c3efa9dc",
    "_uuid": "c6180d0a89448af3fc804dd4b6be75af01423a97"
   },
   "outputs": [
    {
     "data": {
      "text/plain": [
       "<matplotlib.axes._subplots.AxesSubplot at 0x11d157f0>"
      ]
     },
     "execution_count": 70,
     "metadata": {},
     "output_type": "execute_result"
    },
    {
     "data": {
      "image/png": "[encoded data removed]",
      "text/plain": [
       "<Figure size 432x288 with 1 Axes>"
      ]
     },
     "metadata": {
      "needs_background": "light"
     },
     "output_type": "display_data"
    }
   ],
   "source": [
    "sb=pd.crosstab(df.ruul_cat, df.SeriousDlqin2yrs, normalize=0)\n",
    "sb.plot.bar(stacked=True)"
   ]
  },
  {
   "cell_type": "markdown",
   "metadata": {
    "_cell_guid": "e9643a0c-cb91-499b-b446-75ba1f55cd06",
    "_uuid": "c86e35bbd4cc68686eca0798e4aa150080695f03"
   },
   "source": [
    "As expected, plot shows that there are more delinquents in the category of highest utilization. However there is not much difference between the fiirst two categories. "
   ]
  },
  {
   "cell_type": "code",
   "execution_count": 71,
   "metadata": {
    "_cell_guid": "3504a01f-8cc1-4211-9a48-91c5567a960f",
    "_uuid": "12704e6b445e94163d6b7ab193df4cb1025eab4f"
   },
   "outputs": [
    {
     "data": {
      "text/plain": [
       "(7177.181787116916,\n",
       " 0.0,\n",
       " 3,\n",
       " array([[35895.86572, 33386.59848, 35691.50368, 35000.03212],\n",
       "        [ 2571.13428,  2391.40152,  2556.49632,  2506.96788]]))"
      ]
     },
     "execution_count": 71,
     "metadata": {},
     "output_type": "execute_result"
    }
   ],
   "source": [
    "df2=pd.crosstab(df.SeriousDlqin2yrs, df.ruul_cat)\n",
    "chi2_contingency(df2)"
   ]
  },
  {
   "cell_type": "markdown",
   "metadata": {
    "_cell_guid": "d81c509f-cf97-48c4-b216-d2a4757a3fae",
    "_uuid": "4209d217fe7b9f844d8d4804c03caa79f0f08e21"
   },
   "source": [
    "Chi-square test establish that there is significant dependency between utilization and delinquency;\n"
   ]
  },
  {
   "cell_type": "markdown",
   "metadata": {
    "_cell_guid": "90f3d68e-172d-4e11-b966-f2240294e4ed",
    "_uuid": "f25487a56fe01610a3248a89217f227e5eb383b4"
   },
   "source": [
    "## **SeriousDlqin2yrs vs Age**"
   ]
  },
  {
   "cell_type": "markdown",
   "metadata": {
    "_cell_guid": "b014bf73-8a72-4929-ae48-8e9cacc6d5cd",
    "_uuid": "61e5da63d306b5b4ca21fae97f5c2b3caa162a49"
   },
   "source": [
    "Easiest approach is to compare the means of Age by two categories of SeriousDlqin2yrs."
   ]
  },
  {
   "cell_type": "code",
   "execution_count": 72,
   "metadata": {
    "_cell_guid": "6f93f390-4b62-4532-97f9-9dbe5fa95c02",
    "_uuid": "2a8db93301d99e792c407c4ad70c0b4c79fd2914",
    "scrolled": true
   },
   "outputs": [
    {
     "data": {
      "text/html": [
       "<div>\n",
       "<style scoped>\n",
       "    .dataframe tbody tr th:only-of-type {\n",
       "        vertical-align: middle;\n",
       "    }\n",
       "\n",
       "    .dataframe tbody tr th {\n",
       "        vertical-align: top;\n",
       "    }\n",
       "\n",
       "    .dataframe thead th {\n",
       "        text-align: right;\n",
       "    }\n",
       "</style>\n",
       "<table border=\"1\" class=\"dataframe\">\n",
       "  <thead>\n",
       "    <tr style=\"text-align: right;\">\n",
       "      <th></th>\n",
       "      <th>count</th>\n",
       "      <th>mean</th>\n",
       "    </tr>\n",
       "    <tr>\n",
       "      <th>SeriousDlqin2yrs</th>\n",
       "      <th></th>\n",
       "      <th></th>\n",
       "    </tr>\n",
       "  </thead>\n",
       "  <tbody>\n",
       "    <tr>\n",
       "      <th>0</th>\n",
       "      <td>139974</td>\n",
       "      <td>52.751375</td>\n",
       "    </tr>\n",
       "    <tr>\n",
       "      <th>1</th>\n",
       "      <td>10026</td>\n",
       "      <td>45.926591</td>\n",
       "    </tr>\n",
       "  </tbody>\n",
       "</table>\n",
       "</div>"
      ],
      "text/plain": [
       "                   count       mean\n",
       "SeriousDlqin2yrs                   \n",
       "0                 139974  52.751375\n",
       "1                  10026  45.926591"
      ]
     },
     "execution_count": 72,
     "metadata": {},
     "output_type": "execute_result"
    }
   ],
   "source": [
    "df.groupby('SeriousDlqin2yrs')['age'].agg(['count','mean'])"
   ]
  },
  {
   "cell_type": "code",
   "execution_count": 73,
   "metadata": {
    "_cell_guid": "d74b630d-5a3d-46f5-8eb7-a2e5d32febcc",
    "_uuid": "a30fa17d22e250e02dd7cdd3214feea4d328b98d",
    "scrolled": true
   },
   "outputs": [
    {
     "data": {
      "text/plain": [
       "<matplotlib.axes._subplots.AxesSubplot at 0x11d516a0>"
      ]
     },
     "execution_count": 73,
     "metadata": {},
     "output_type": "execute_result"
    },
    {
     "data": {
      "image/png": "[encoded data removed]",
      "text/plain": [
       "<Figure size 432x288 with 1 Axes>"
      ]
     },
     "metadata": {
      "needs_background": "light"
     },
     "output_type": "display_data"
    }
   ],
   "source": [
    "df['age'].groupby(df.SeriousDlqin2yrs).mean().plot(kind='bar', color=['blue', 'green']) "
   ]
  },
  {
   "cell_type": "markdown",
   "metadata": {
    "_cell_guid": "6f95ba8b-69b8-4192-96d1-140566d4bc87",
    "_uuid": "e4bbd2ede7b3beaa7992fb1931fbb57a7b642c96"
   },
   "source": [
    "Delinquent cusomters are younger than non-delinquent customers."
   ]
  },
  {
   "cell_type": "markdown",
   "metadata": {
    "_cell_guid": "32a49d1a-6c49-4729-a8c4-2922146cc886",
    "_uuid": "b30b2333c2d8202a0a24f5298dbae78ed77efcff"
   },
   "source": [
    "let's now explore the relationship in detail by categorising age. To categorise the variable, we will choose 25, 50 and 75 percentile as cutoffs.  "
   ]
  },
  {
   "cell_type": "code",
   "execution_count": 74,
   "metadata": {
    "_cell_guid": "8e502bb4-9c93-4951-9063-195898d0e574",
    "_uuid": "946cb79bd7d553292e9eb82aee93053dd6cda500"
   },
   "outputs": [
    {
     "data": {
      "text/plain": [
       "count    150000.000000\n",
       "mean         52.295207\n",
       "std          14.771866\n",
       "min           0.000000\n",
       "25%          41.000000\n",
       "50%          52.000000\n",
       "75%          63.000000\n",
       "max         109.000000\n",
       "Name: age, dtype: float64"
      ]
     },
     "execution_count": 74,
     "metadata": {},
     "output_type": "execute_result"
    }
   ],
   "source": [
    "df['age'].describe()"
   ]
  },
  {
   "cell_type": "code",
   "execution_count": 75,
   "metadata": {
    "_cell_guid": "21c55150-84de-4bdd-adef-27c82d47fbcf",
    "_uuid": "2dfb4dfe71bc2c8604c987c3b37aa7bdb2db6722"
   },
   "outputs": [],
   "source": [
    "def cat_ruul(ruul):\n",
    "    if ruul <41:\n",
    "        return 1\n",
    "    elif 41<= ruul <52:\n",
    "        return 2\n",
    "    elif 52<= ruul <63:\n",
    "        return 3\n",
    "    else:\n",
    "        return 4"
   ]
  },
  {
   "cell_type": "code",
   "execution_count": 76,
   "metadata": {
    "_cell_guid": "44516550-6a6a-4301-9c8e-17c7c428e940",
    "_uuid": "1b38ad9ea3bd59e5f911c117076d850887194b74"
   },
   "outputs": [
    {
     "data": {
      "text/html": [
       "<div>\n",
       "<style scoped>\n",
       "    .dataframe tbody tr th:only-of-type {\n",
       "        vertical-align: middle;\n",
       "    }\n",
       "\n",
       "    .dataframe tbody tr th {\n",
       "        vertical-align: top;\n",
       "    }\n",
       "\n",
       "    .dataframe thead th {\n",
       "        text-align: right;\n",
       "    }\n",
       "</style>\n",
       "<table border=\"1\" class=\"dataframe\">\n",
       "  <thead>\n",
       "    <tr style=\"text-align: right;\">\n",
       "      <th></th>\n",
       "      <th>ID</th>\n",
       "      <th>SeriousDlqin2yrs</th>\n",
       "      <th>RevolvingUtilizationOfUnsecuredLines</th>\n",
       "      <th>age</th>\n",
       "      <th>DebtRatio</th>\n",
       "      <th>MonthlyIncome</th>\n",
       "      <th>NumberOfOpenCreditLinesAndLoans</th>\n",
       "      <th>NumberRealEstateLoansOrLines</th>\n",
       "      <th>NumberOfDependents</th>\n",
       "      <th>ruul_cat</th>\n",
       "      <th>age_cat</th>\n",
       "    </tr>\n",
       "  </thead>\n",
       "  <tbody>\n",
       "    <tr>\n",
       "      <th>0</th>\n",
       "      <td>1</td>\n",
       "      <td>1</td>\n",
       "      <td>0.766127</td>\n",
       "      <td>45</td>\n",
       "      <td>0.802982</td>\n",
       "      <td>9120.0</td>\n",
       "      <td>13</td>\n",
       "      <td>5</td>\n",
       "      <td>2.0</td>\n",
       "      <td>4</td>\n",
       "      <td>2</td>\n",
       "    </tr>\n",
       "    <tr>\n",
       "      <th>1</th>\n",
       "      <td>2</td>\n",
       "      <td>0</td>\n",
       "      <td>0.957151</td>\n",
       "      <td>40</td>\n",
       "      <td>0.121876</td>\n",
       "      <td>2600.0</td>\n",
       "      <td>4</td>\n",
       "      <td>0</td>\n",
       "      <td>1.0</td>\n",
       "      <td>4</td>\n",
       "      <td>1</td>\n",
       "    </tr>\n",
       "    <tr>\n",
       "      <th>2</th>\n",
       "      <td>3</td>\n",
       "      <td>0</td>\n",
       "      <td>0.658180</td>\n",
       "      <td>38</td>\n",
       "      <td>0.085113</td>\n",
       "      <td>3042.0</td>\n",
       "      <td>2</td>\n",
       "      <td>0</td>\n",
       "      <td>0.0</td>\n",
       "      <td>4</td>\n",
       "      <td>1</td>\n",
       "    </tr>\n",
       "  </tbody>\n",
       "</table>\n",
       "</div>"
      ],
      "text/plain": [
       "   ID  SeriousDlqin2yrs  RevolvingUtilizationOfUnsecuredLines  age  DebtRatio  \\\n",
       "0   1                 1                              0.766127   45   0.802982   \n",
       "1   2                 0                              0.957151   40   0.121876   \n",
       "2   3                 0                              0.658180   38   0.085113   \n",
       "\n",
       "   MonthlyIncome  NumberOfOpenCreditLinesAndLoans  \\\n",
       "0         9120.0                               13   \n",
       "1         2600.0                                4   \n",
       "2         3042.0                                2   \n",
       "\n",
       "   NumberRealEstateLoansOrLines  NumberOfDependents  ruul_cat  age_cat  \n",
       "0                             5                 2.0         4        2  \n",
       "1                             0                 1.0         4        1  \n",
       "2                             0                 0.0         4        1  "
      ]
     },
     "execution_count": 76,
     "metadata": {},
     "output_type": "execute_result"
    }
   ],
   "source": [
    "df['age_cat'] = df['age'].apply(cat_ruul)\n",
    "df.head(3)"
   ]
  },
  {
   "cell_type": "code",
   "execution_count": 77,
   "metadata": {
    "_cell_guid": "16fb92ae-0481-4bdd-b78f-26236ff9d539",
    "_uuid": "2fc63ff501b1797ca9c32992cac8f7f767b4dc79"
   },
   "outputs": [
    {
     "data": {
      "text/html": [
       "<div>\n",
       "<style scoped>\n",
       "    .dataframe tbody tr th:only-of-type {\n",
       "        vertical-align: middle;\n",
       "    }\n",
       "\n",
       "    .dataframe tbody tr th {\n",
       "        vertical-align: top;\n",
       "    }\n",
       "\n",
       "    .dataframe thead th {\n",
       "        text-align: right;\n",
       "    }\n",
       "</style>\n",
       "<table border=\"1\" class=\"dataframe\">\n",
       "  <thead>\n",
       "    <tr style=\"text-align: right;\">\n",
       "      <th></th>\n",
       "      <th>min</th>\n",
       "      <th>max</th>\n",
       "    </tr>\n",
       "    <tr>\n",
       "      <th>age_cat</th>\n",
       "      <th></th>\n",
       "      <th></th>\n",
       "    </tr>\n",
       "  </thead>\n",
       "  <tbody>\n",
       "    <tr>\n",
       "      <th>1</th>\n",
       "      <td>0</td>\n",
       "      <td>40</td>\n",
       "    </tr>\n",
       "    <tr>\n",
       "      <th>2</th>\n",
       "      <td>41</td>\n",
       "      <td>51</td>\n",
       "    </tr>\n",
       "    <tr>\n",
       "      <th>3</th>\n",
       "      <td>52</td>\n",
       "      <td>62</td>\n",
       "    </tr>\n",
       "    <tr>\n",
       "      <th>4</th>\n",
       "      <td>63</td>\n",
       "      <td>109</td>\n",
       "    </tr>\n",
       "  </tbody>\n",
       "</table>\n",
       "</div>"
      ],
      "text/plain": [
       "         min  max\n",
       "age_cat          \n",
       "1          0   40\n",
       "2         41   51\n",
       "3         52   62\n",
       "4         63  109"
      ]
     },
     "execution_count": 77,
     "metadata": {},
     "output_type": "execute_result"
    }
   ],
   "source": [
    "# lets check if the categorization was done correctly\n",
    "df.groupby('age_cat')['age'].agg(['min','max'])"
   ]
  },
  {
   "cell_type": "code",
   "execution_count": 78,
   "metadata": {
    "_cell_guid": "e4c4472b-e2a1-4a4a-87c7-8f6d05634c86",
    "_uuid": "d2ecb2b3643d4be040af11f8da80db32e1efabbb",
    "scrolled": true
   },
   "outputs": [
    {
     "data": {
      "text/html": [
       "<div>\n",
       "<style scoped>\n",
       "    .dataframe tbody tr th:only-of-type {\n",
       "        vertical-align: middle;\n",
       "    }\n",
       "\n",
       "    .dataframe tbody tr th {\n",
       "        vertical-align: top;\n",
       "    }\n",
       "\n",
       "    .dataframe thead th {\n",
       "        text-align: right;\n",
       "    }\n",
       "</style>\n",
       "<table border=\"1\" class=\"dataframe\">\n",
       "  <thead>\n",
       "    <tr style=\"text-align: right;\">\n",
       "      <th>age_cat</th>\n",
       "      <th>1</th>\n",
       "      <th>2</th>\n",
       "      <th>3</th>\n",
       "      <th>4</th>\n",
       "    </tr>\n",
       "    <tr>\n",
       "      <th>SeriousDlqin2yrs</th>\n",
       "      <th></th>\n",
       "      <th></th>\n",
       "      <th></th>\n",
       "      <th></th>\n",
       "    </tr>\n",
       "  </thead>\n",
       "  <tbody>\n",
       "    <tr>\n",
       "      <th>0</th>\n",
       "      <td>0.896458</td>\n",
       "      <td>0.918115</td>\n",
       "      <td>0.942146</td>\n",
       "      <td>0.973347</td>\n",
       "    </tr>\n",
       "    <tr>\n",
       "      <th>1</th>\n",
       "      <td>0.103542</td>\n",
       "      <td>0.081885</td>\n",
       "      <td>0.057854</td>\n",
       "      <td>0.026653</td>\n",
       "    </tr>\n",
       "  </tbody>\n",
       "</table>\n",
       "</div>"
      ],
      "text/plain": [
       "age_cat                  1         2         3         4\n",
       "SeriousDlqin2yrs                                        \n",
       "0                 0.896458  0.918115  0.942146  0.973347\n",
       "1                 0.103542  0.081885  0.057854  0.026653"
      ]
     },
     "execution_count": 78,
     "metadata": {},
     "output_type": "execute_result"
    }
   ],
   "source": [
    "pd.crosstab(df.SeriousDlqin2yrs, df.age_cat, normalize='columns')"
   ]
  },
  {
   "cell_type": "code",
   "execution_count": 79,
   "metadata": {
    "_cell_guid": "b06be2e6-2c5f-4553-846e-63bfd84794bd",
    "_uuid": "c1371b0950c30da6def095162eb19c999cd693ba"
   },
   "outputs": [
    {
     "data": {
      "text/plain": [
       "<matplotlib.axes._subplots.AxesSubplot at 0xc26f780>"
      ]
     },
     "execution_count": 79,
     "metadata": {},
     "output_type": "execute_result"
    },
    {
     "data": {
      "image/png": "[encoded data removed]",
      "text/plain": [
       "<Figure size 432x288 with 1 Axes>"
      ]
     },
     "metadata": {
      "needs_background": "light"
     },
     "output_type": "display_data"
    }
   ],
   "source": [
    "sb=pd.crosstab(df.age_cat, df.SeriousDlqin2yrs, normalize=0)\n",
    "sb.plot.bar(stacked=True)"
   ]
  },
  {
   "cell_type": "markdown",
   "metadata": {
    "_cell_guid": "e2dab7d0-6dea-4b51-93cd-8e6a301dc784",
    "_uuid": "d705fa6c49c2353dd50d8d9605ec4910fe0d21b0"
   },
   "source": [
    "Plot shows that there are more proportion of delinquents in the category of youngest age. Delinquency decreases as age increases uniformly. "
   ]
  },
  {
   "cell_type": "code",
   "execution_count": 80,
   "metadata": {
    "_cell_guid": "f0109b3e-e994-49a1-a1bb-efc80a1a821d",
    "_uuid": "5cea5bc01f8ee4d78d1e605d8aec55d918c3d138"
   },
   "outputs": [
    {
     "data": {
      "text/plain": [
       "(1930.9900919630384,\n",
       " 0.0,\n",
       " 3,\n",
       " array([[32751.11652, 36079.69824, 35711.10004, 35432.0852 ],\n",
       "        [ 2345.88348,  2584.30176,  2557.89996,  2537.9148 ]]))"
      ]
     },
     "execution_count": 80,
     "metadata": {},
     "output_type": "execute_result"
    }
   ],
   "source": [
    "df2=pd.crosstab(df.SeriousDlqin2yrs, df.age_cat)\n",
    "chi2_contingency(df2)"
   ]
  },
  {
   "cell_type": "markdown",
   "metadata": {
    "_cell_guid": "79a291fd-91b1-4a3c-be12-712f3d2618c2",
    "_uuid": "7432851c70ccdf86b82b1b6ba2389456360a29e8"
   },
   "source": [
    "chi-square test establish that there is significant dependency between age and delinquency;\n"
   ]
  },
  {
   "cell_type": "markdown",
   "metadata": {
    "_cell_guid": "9c0e96d2-edf7-4036-a554-c9de82ccbc40",
    "_uuid": "4f2008a812bb04ceb47e9c3880463b6c6e2039a9"
   },
   "source": [
    "## **SeriousDlqin2yrs vs DebtRatio** "
   ]
  },
  {
   "cell_type": "markdown",
   "metadata": {
    "_cell_guid": "ba127d74-19e9-4c43-9a89-a058298803d6",
    "_uuid": "d3b81734269c1a371f148704532d9a644aacfe73"
   },
   "source": [
    "Easiest approach is to compare the means of DebtRatio by two \n",
    "categories of SeriousDlqin2yrs"
   ]
  },
  {
   "cell_type": "code",
   "execution_count": 81,
   "metadata": {
    "_cell_guid": "41c37bf2-b159-4f58-a9c3-25277f46f67b",
    "_uuid": "13bef9741e0b4569e4fe550da452a7d761460030",
    "scrolled": true
   },
   "outputs": [
    {
     "data": {
      "text/html": [
       "<div>\n",
       "<style scoped>\n",
       "    .dataframe tbody tr th:only-of-type {\n",
       "        vertical-align: middle;\n",
       "    }\n",
       "\n",
       "    .dataframe tbody tr th {\n",
       "        vertical-align: top;\n",
       "    }\n",
       "\n",
       "    .dataframe thead th {\n",
       "        text-align: right;\n",
       "    }\n",
       "</style>\n",
       "<table border=\"1\" class=\"dataframe\">\n",
       "  <thead>\n",
       "    <tr style=\"text-align: right;\">\n",
       "      <th></th>\n",
       "      <th>count</th>\n",
       "      <th>mean</th>\n",
       "    </tr>\n",
       "    <tr>\n",
       "      <th>SeriousDlqin2yrs</th>\n",
       "      <th></th>\n",
       "      <th></th>\n",
       "    </tr>\n",
       "  </thead>\n",
       "  <tbody>\n",
       "    <tr>\n",
       "      <th>0</th>\n",
       "      <td>139974</td>\n",
       "      <td>0.300645</td>\n",
       "    </tr>\n",
       "    <tr>\n",
       "      <th>1</th>\n",
       "      <td>10026</td>\n",
       "      <td>0.337519</td>\n",
       "    </tr>\n",
       "  </tbody>\n",
       "</table>\n",
       "</div>"
      ],
      "text/plain": [
       "                   count      mean\n",
       "SeriousDlqin2yrs                  \n",
       "0                 139974  0.300645\n",
       "1                  10026  0.337519"
      ]
     },
     "execution_count": 81,
     "metadata": {},
     "output_type": "execute_result"
    }
   ],
   "source": [
    "df.groupby('SeriousDlqin2yrs')['DebtRatio'].agg(['count','mean'])"
   ]
  },
  {
   "cell_type": "code",
   "execution_count": 82,
   "metadata": {
    "_cell_guid": "d7e889a2-26db-4407-bd18-c62d3b8142f6",
    "_uuid": "4cb637d9d03427d095a031e0bcbbf80e2f424253",
    "scrolled": true
   },
   "outputs": [
    {
     "data": {
      "text/plain": [
       "<matplotlib.axes._subplots.AxesSubplot at 0x5d2f048>"
      ]
     },
     "execution_count": 82,
     "metadata": {},
     "output_type": "execute_result"
    },
    {
     "data": {
      "image/png": "[encoded data removed]",
      "text/plain": [
       "<Figure size 432x288 with 1 Axes>"
      ]
     },
     "metadata": {
      "needs_background": "light"
     },
     "output_type": "display_data"
    }
   ],
   "source": [
    "df['DebtRatio'].groupby(df.SeriousDlqin2yrs).mean().plot(kind='bar', color=['blue', 'green']) "
   ]
  },
  {
   "cell_type": "markdown",
   "metadata": {
    "_cell_guid": "c967c0d8-9874-4d9e-91ba-cf76b8f4170d",
    "_uuid": "c8a77c5cbf3ce4378734440e78413b6c042e20e9"
   },
   "source": [
    "Delinquent customers got higher debtratio compared to non-delinquent customers."
   ]
  },
  {
   "cell_type": "markdown",
   "metadata": {
    "_cell_guid": "cb40fc72-65b3-4a3e-92a9-c9d943e72c7f",
    "_uuid": "5544567aa7264790510239bbf2cbcccfdee32833"
   },
   "source": [
    "let's now explore the relationship in detail by categorising DebtRatio. To categorise the variable, we will choose 25, 50 and 75 percentile as cutoffs.  "
   ]
  },
  {
   "cell_type": "code",
   "execution_count": 83,
   "metadata": {
    "_cell_guid": "31622a27-b856-444e-b10d-2f5e39ce173a",
    "_uuid": "74bfe050ac0046727e392d609efb8480097c126f"
   },
   "outputs": [
    {
     "data": {
      "text/plain": [
       "count    150000.000000\n",
       "mean          0.303109\n",
       "std           0.226290\n",
       "min           0.000000\n",
       "25%           0.126122\n",
       "50%           0.274252\n",
       "75%           0.438325\n",
       "max           1.000000\n",
       "Name: DebtRatio, dtype: float64"
      ]
     },
     "execution_count": 83,
     "metadata": {},
     "output_type": "execute_result"
    }
   ],
   "source": [
    "df['DebtRatio'].describe()"
   ]
  },
  {
   "cell_type": "code",
   "execution_count": 84,
   "metadata": {
    "_cell_guid": "e93bb009-38ac-43af-9760-33a6834be11e",
    "_uuid": "0cad2dda2f10d463bb209c4ec3aad80063c23403"
   },
   "outputs": [],
   "source": [
    "def cat_ruul(ruul):\n",
    "    if ruul <0.13:\n",
    "        return 1\n",
    "    elif 0.13<= ruul <0.27:\n",
    "        return 2\n",
    "    elif 0.27<= ruul <0.43:\n",
    "        return 3\n",
    "    else:\n",
    "        return 4"
   ]
  },
  {
   "cell_type": "code",
   "execution_count": 85,
   "metadata": {
    "_cell_guid": "6d05cdc7-ae54-4b53-ad81-4364fe7cdc57",
    "_uuid": "2ebbb21e676006a42ae83fc93bd30ef768e3c24b"
   },
   "outputs": [
    {
     "data": {
      "text/html": [
       "<div>\n",
       "<style scoped>\n",
       "    .dataframe tbody tr th:only-of-type {\n",
       "        vertical-align: middle;\n",
       "    }\n",
       "\n",
       "    .dataframe tbody tr th {\n",
       "        vertical-align: top;\n",
       "    }\n",
       "\n",
       "    .dataframe thead th {\n",
       "        text-align: right;\n",
       "    }\n",
       "</style>\n",
       "<table border=\"1\" class=\"dataframe\">\n",
       "  <thead>\n",
       "    <tr style=\"text-align: right;\">\n",
       "      <th></th>\n",
       "      <th>ID</th>\n",
       "      <th>SeriousDlqin2yrs</th>\n",
       "      <th>RevolvingUtilizationOfUnsecuredLines</th>\n",
       "      <th>age</th>\n",
       "      <th>DebtRatio</th>\n",
       "      <th>MonthlyIncome</th>\n",
       "      <th>NumberOfOpenCreditLinesAndLoans</th>\n",
       "      <th>NumberRealEstateLoansOrLines</th>\n",
       "      <th>NumberOfDependents</th>\n",
       "      <th>ruul_cat</th>\n",
       "      <th>age_cat</th>\n",
       "      <th>DebtRatio_cat</th>\n",
       "    </tr>\n",
       "  </thead>\n",
       "  <tbody>\n",
       "    <tr>\n",
       "      <th>0</th>\n",
       "      <td>1</td>\n",
       "      <td>1</td>\n",
       "      <td>0.766127</td>\n",
       "      <td>45</td>\n",
       "      <td>0.802982</td>\n",
       "      <td>9120.0</td>\n",
       "      <td>13</td>\n",
       "      <td>5</td>\n",
       "      <td>2.0</td>\n",
       "      <td>4</td>\n",
       "      <td>2</td>\n",
       "      <td>4</td>\n",
       "    </tr>\n",
       "    <tr>\n",
       "      <th>1</th>\n",
       "      <td>2</td>\n",
       "      <td>0</td>\n",
       "      <td>0.957151</td>\n",
       "      <td>40</td>\n",
       "      <td>0.121876</td>\n",
       "      <td>2600.0</td>\n",
       "      <td>4</td>\n",
       "      <td>0</td>\n",
       "      <td>1.0</td>\n",
       "      <td>4</td>\n",
       "      <td>1</td>\n",
       "      <td>1</td>\n",
       "    </tr>\n",
       "    <tr>\n",
       "      <th>2</th>\n",
       "      <td>3</td>\n",
       "      <td>0</td>\n",
       "      <td>0.658180</td>\n",
       "      <td>38</td>\n",
       "      <td>0.085113</td>\n",
       "      <td>3042.0</td>\n",
       "      <td>2</td>\n",
       "      <td>0</td>\n",
       "      <td>0.0</td>\n",
       "      <td>4</td>\n",
       "      <td>1</td>\n",
       "      <td>1</td>\n",
       "    </tr>\n",
       "  </tbody>\n",
       "</table>\n",
       "</div>"
      ],
      "text/plain": [
       "   ID  SeriousDlqin2yrs  RevolvingUtilizationOfUnsecuredLines  age  DebtRatio  \\\n",
       "0   1                 1                              0.766127   45   0.802982   \n",
       "1   2                 0                              0.957151   40   0.121876   \n",
       "2   3                 0                              0.658180   38   0.085113   \n",
       "\n",
       "   MonthlyIncome  NumberOfOpenCreditLinesAndLoans  \\\n",
       "0         9120.0                               13   \n",
       "1         2600.0                                4   \n",
       "2         3042.0                                2   \n",
       "\n",
       "   NumberRealEstateLoansOrLines  NumberOfDependents  ruul_cat  age_cat  \\\n",
       "0                             5                 2.0         4        2   \n",
       "1                             0                 1.0         4        1   \n",
       "2                             0                 0.0         4        1   \n",
       "\n",
       "   DebtRatio_cat  \n",
       "0              4  \n",
       "1              1  \n",
       "2              1  "
      ]
     },
     "execution_count": 85,
     "metadata": {},
     "output_type": "execute_result"
    }
   ],
   "source": [
    "df['DebtRatio_cat'] = df['DebtRatio'].apply(cat_ruul)\n",
    "df.head(3)"
   ]
  },
  {
   "cell_type": "code",
   "execution_count": 86,
   "metadata": {
    "_cell_guid": "d1b5888c-3843-4b0e-99e5-4b40ba9aa3ab",
    "_uuid": "529ff8519545b42747ce0db08830aabff20f3732"
   },
   "outputs": [
    {
     "data": {
      "text/html": [
       "<div>\n",
       "<style scoped>\n",
       "    .dataframe tbody tr th:only-of-type {\n",
       "        vertical-align: middle;\n",
       "    }\n",
       "\n",
       "    .dataframe tbody tr th {\n",
       "        vertical-align: top;\n",
       "    }\n",
       "\n",
       "    .dataframe thead th {\n",
       "        text-align: right;\n",
       "    }\n",
       "</style>\n",
       "<table border=\"1\" class=\"dataframe\">\n",
       "  <thead>\n",
       "    <tr style=\"text-align: right;\">\n",
       "      <th></th>\n",
       "      <th>min</th>\n",
       "      <th>max</th>\n",
       "    </tr>\n",
       "    <tr>\n",
       "      <th>DebtRatio_cat</th>\n",
       "      <th></th>\n",
       "      <th></th>\n",
       "    </tr>\n",
       "  </thead>\n",
       "  <tbody>\n",
       "    <tr>\n",
       "      <th>1</th>\n",
       "      <td>0.000000</td>\n",
       "      <td>0.129995</td>\n",
       "    </tr>\n",
       "    <tr>\n",
       "      <th>2</th>\n",
       "      <td>0.130008</td>\n",
       "      <td>0.269990</td>\n",
       "    </tr>\n",
       "    <tr>\n",
       "      <th>3</th>\n",
       "      <td>0.270009</td>\n",
       "      <td>0.429991</td>\n",
       "    </tr>\n",
       "    <tr>\n",
       "      <th>4</th>\n",
       "      <td>0.430011</td>\n",
       "      <td>1.000000</td>\n",
       "    </tr>\n",
       "  </tbody>\n",
       "</table>\n",
       "</div>"
      ],
      "text/plain": [
       "                    min       max\n",
       "DebtRatio_cat                    \n",
       "1              0.000000  0.129995\n",
       "2              0.130008  0.269990\n",
       "3              0.270009  0.429991\n",
       "4              0.430011  1.000000"
      ]
     },
     "execution_count": 86,
     "metadata": {},
     "output_type": "execute_result"
    }
   ],
   "source": [
    "# lets check if the categorization was done correctly\n",
    "df.groupby('DebtRatio_cat')['DebtRatio'].agg(['min','max'])"
   ]
  },
  {
   "cell_type": "code",
   "execution_count": 87,
   "metadata": {
    "_cell_guid": "84299182-aa65-4cba-b655-6376df1575d2",
    "_uuid": "297e869e65ccfadb5649dd59a3cdfab838a0977d",
    "scrolled": true
   },
   "outputs": [
    {
     "data": {
      "text/html": [
       "<div>\n",
       "<style scoped>\n",
       "    .dataframe tbody tr th:only-of-type {\n",
       "        vertical-align: middle;\n",
       "    }\n",
       "\n",
       "    .dataframe tbody tr th {\n",
       "        vertical-align: top;\n",
       "    }\n",
       "\n",
       "    .dataframe thead th {\n",
       "        text-align: right;\n",
       "    }\n",
       "</style>\n",
       "<table border=\"1\" class=\"dataframe\">\n",
       "  <thead>\n",
       "    <tr style=\"text-align: right;\">\n",
       "      <th>DebtRatio_cat</th>\n",
       "      <th>1</th>\n",
       "      <th>2</th>\n",
       "      <th>3</th>\n",
       "      <th>4</th>\n",
       "    </tr>\n",
       "    <tr>\n",
       "      <th>SeriousDlqin2yrs</th>\n",
       "      <th></th>\n",
       "      <th></th>\n",
       "      <th></th>\n",
       "      <th></th>\n",
       "    </tr>\n",
       "  </thead>\n",
       "  <tbody>\n",
       "    <tr>\n",
       "      <th>0</th>\n",
       "      <td>0.939219</td>\n",
       "      <td>0.939605</td>\n",
       "      <td>0.938991</td>\n",
       "      <td>0.915813</td>\n",
       "    </tr>\n",
       "    <tr>\n",
       "      <th>1</th>\n",
       "      <td>0.060781</td>\n",
       "      <td>0.060395</td>\n",
       "      <td>0.061009</td>\n",
       "      <td>0.084187</td>\n",
       "    </tr>\n",
       "  </tbody>\n",
       "</table>\n",
       "</div>"
      ],
      "text/plain": [
       "DebtRatio_cat            1         2         3         4\n",
       "SeriousDlqin2yrs                                        \n",
       "0                 0.939219  0.939605  0.938991  0.915813\n",
       "1                 0.060781  0.060395  0.061009  0.084187"
      ]
     },
     "execution_count": 87,
     "metadata": {},
     "output_type": "execute_result"
    }
   ],
   "source": [
    "pd.crosstab(df.SeriousDlqin2yrs, df.DebtRatio_cat, normalize='columns')"
   ]
  },
  {
   "cell_type": "code",
   "execution_count": 88,
   "metadata": {
    "_cell_guid": "28c335bf-5eb9-434c-83bd-bd30c5ca4bb5",
    "_uuid": "3565b1120be3d0d63ea4909b05d70047aea9b8aa"
   },
   "outputs": [
    {
     "data": {
      "text/plain": [
       "<matplotlib.axes._subplots.AxesSubplot at 0x5d9f5c0>"
      ]
     },
     "execution_count": 88,
     "metadata": {},
     "output_type": "execute_result"
    },
    {
     "data": {
      "image/png": "[encoded data removed]",
      "text/plain": [
       "<Figure size 432x288 with 1 Axes>"
      ]
     },
     "metadata": {
      "needs_background": "light"
     },
     "output_type": "display_data"
    }
   ],
   "source": [
    "sb=pd.crosstab(df.DebtRatio_cat, df.SeriousDlqin2yrs, normalize=0)\n",
    "sb.plot.bar(stacked=True)"
   ]
  },
  {
   "cell_type": "markdown",
   "metadata": {
    "_cell_guid": "8da6ccac-b071-4744-9ad0-25c678a7f238",
    "_uuid": "bcaab9f39f0c4e347bb339286f92df69bfeaae1f"
   },
   "source": [
    "As expected it shows that there are more delinquents in the category of \n",
    "highest DebtRatio."
   ]
  },
  {
   "cell_type": "code",
   "execution_count": 89,
   "metadata": {
    "_cell_guid": "86adfda6-4764-4aa4-b8bf-1e57938fae9f",
    "_uuid": "49b495528d86481589631344d87c74aea15a20e6"
   },
   "outputs": [
    {
     "data": {
      "text/plain": [
       "(254.86642993657873,\n",
       " 5.7976020035809566e-55,\n",
       " 3,\n",
       " array([[35726.0306 , 33219.56284, 34582.9096 , 36445.49696],\n",
       "        [ 2558.9694 ,  2379.43716,  2477.0904 ,  2610.50304]]))"
      ]
     },
     "execution_count": 89,
     "metadata": {},
     "output_type": "execute_result"
    }
   ],
   "source": [
    "df2=pd.crosstab(df.SeriousDlqin2yrs, df.DebtRatio_cat)\n",
    "chi2_contingency(df2)"
   ]
  },
  {
   "cell_type": "markdown",
   "metadata": {
    "_cell_guid": "035f0907-938e-487e-8cfd-9eb71e211def",
    "_uuid": "bbdabeacf9247cfea86492d0a3e6aad2d1b6988e"
   },
   "source": [
    "Chi-square test establish that there is significant dependency between DebtRatio and delinquency.\n"
   ]
  },
  {
   "cell_type": "markdown",
   "metadata": {
    "_cell_guid": "425dda1a-0261-4204-8776-c276a168e469",
    "_uuid": "7aafb1156a9fb11d4bfd4c4d8e14c842193a4867"
   },
   "source": [
    "## **SeriousDlqin2yrs vs MonthlyIncome** "
   ]
  },
  {
   "cell_type": "markdown",
   "metadata": {
    "_cell_guid": "62a200c1-8d06-4af1-86cd-d6c07b3abdb9",
    "_uuid": "690b335ab9cf0940b5c98c2f7b40781bba05a3d4"
   },
   "source": [
    "Simplest approach is to compare the means of MonthlyIncome by two \n",
    "categories of SeriousDlqin2yrs"
   ]
  },
  {
   "cell_type": "code",
   "execution_count": 90,
   "metadata": {
    "_cell_guid": "181c7f40-e02b-4ccb-9fe8-817036c65ea3",
    "_uuid": "8d87022ea9fe3eabbfbae5ed948d629bd7ebfd14",
    "scrolled": false
   },
   "outputs": [
    {
     "data": {
      "text/html": [
       "<div>\n",
       "<style scoped>\n",
       "    .dataframe tbody tr th:only-of-type {\n",
       "        vertical-align: middle;\n",
       "    }\n",
       "\n",
       "    .dataframe tbody tr th {\n",
       "        vertical-align: top;\n",
       "    }\n",
       "\n",
       "    .dataframe thead th {\n",
       "        text-align: right;\n",
       "    }\n",
       "</style>\n",
       "<table border=\"1\" class=\"dataframe\">\n",
       "  <thead>\n",
       "    <tr style=\"text-align: right;\">\n",
       "      <th></th>\n",
       "      <th>count</th>\n",
       "      <th>mean</th>\n",
       "    </tr>\n",
       "    <tr>\n",
       "      <th>SeriousDlqin2yrs</th>\n",
       "      <th></th>\n",
       "      <th></th>\n",
       "    </tr>\n",
       "  </thead>\n",
       "  <tbody>\n",
       "    <tr>\n",
       "      <th>0</th>\n",
       "      <td>139974</td>\n",
       "      <td>6635.519196</td>\n",
       "    </tr>\n",
       "    <tr>\n",
       "      <th>1</th>\n",
       "      <td>10026</td>\n",
       "      <td>5776.572910</td>\n",
       "    </tr>\n",
       "  </tbody>\n",
       "</table>\n",
       "</div>"
      ],
      "text/plain": [
       "                   count         mean\n",
       "SeriousDlqin2yrs                     \n",
       "0                 139974  6635.519196\n",
       "1                  10026  5776.572910"
      ]
     },
     "execution_count": 90,
     "metadata": {},
     "output_type": "execute_result"
    }
   ],
   "source": [
    "df.groupby('SeriousDlqin2yrs')['MonthlyIncome'].agg(['count','mean'])"
   ]
  },
  {
   "cell_type": "code",
   "execution_count": 91,
   "metadata": {
    "_cell_guid": "dc2ab580-72b3-4231-b4cf-66342e8ce494",
    "_uuid": "73c14552bea66be6c1ebac06a3414ac6904358af",
    "scrolled": true
   },
   "outputs": [
    {
     "data": {
      "text/plain": [
       "<matplotlib.axes._subplots.AxesSubplot at 0x112f0978>"
      ]
     },
     "execution_count": 91,
     "metadata": {},
     "output_type": "execute_result"
    },
    {
     "data": {
      "image/png": "[encoded data removed]",
      "text/plain": [
       "<Figure size 432x288 with 1 Axes>"
      ]
     },
     "metadata": {
      "needs_background": "light"
     },
     "output_type": "display_data"
    }
   ],
   "source": [
    "df['MonthlyIncome'].groupby(df.SeriousDlqin2yrs).mean().plot(kind='bar', color=['blue', 'green']) "
   ]
  },
  {
   "cell_type": "markdown",
   "metadata": {
    "_cell_guid": "ffb314d2-4cd2-42e2-9144-2f1779fa63c0",
    "_uuid": "fd9e2fce0e4307804adecf5971f594a1a1749bc4"
   },
   "source": [
    "Delinquent cusomters got lower MonthlyIncome compared to non-delinquent customers."
   ]
  },
  {
   "cell_type": "markdown",
   "metadata": {
    "_cell_guid": "d194deb8-d7dc-4133-a1e1-d0b786707f4a",
    "_uuid": "6485861b6f0878b8cca7f23ee93dcdda7d047f7d"
   },
   "source": [
    "let's now explore the relationship in detail by categorising MonthlyIncome. To categorise the variable, we will choose 25, 50 and 75 percentile as cutoffs.  "
   ]
  },
  {
   "cell_type": "code",
   "execution_count": 92,
   "metadata": {
    "_cell_guid": "3b2be765-3cb6-4bef-8268-9abb4720ac1f",
    "_uuid": "c3121aafae60b61bde5644b9f17fc20df5d8d5fb"
   },
   "outputs": [
    {
     "data": {
      "text/plain": [
       "count    150000.000000\n",
       "mean       6578.107227\n",
       "std        4286.321398\n",
       "min        1000.000000\n",
       "25%        3600.000000\n",
       "50%        5500.000000\n",
       "75%        8333.000000\n",
       "max       25000.000000\n",
       "Name: MonthlyIncome, dtype: float64"
      ]
     },
     "execution_count": 92,
     "metadata": {},
     "output_type": "execute_result"
    }
   ],
   "source": [
    "df['MonthlyIncome'].describe()"
   ]
  },
  {
   "cell_type": "code",
   "execution_count": 93,
   "metadata": {
    "_cell_guid": "ab3a3f25-b86b-4e31-ad1e-89d490f16b11",
    "_uuid": "9fd88dcedea97edc3de6638a48846224fbb1298b"
   },
   "outputs": [],
   "source": [
    "def cat_ruul(ruul):\n",
    "    if ruul <3600:\n",
    "        return 1\n",
    "    elif 3600<= ruul <5500:\n",
    "        return 2\n",
    "    elif 5500<= ruul <8333:\n",
    "        return 3\n",
    "    else:\n",
    "        return 4"
   ]
  },
  {
   "cell_type": "code",
   "execution_count": 94,
   "metadata": {
    "_cell_guid": "21a2b7fa-d38a-435f-a560-dbfe39ccc790",
    "_uuid": "60206465b43e382d631c5c0547b46a09b88c0122"
   },
   "outputs": [
    {
     "data": {
      "text/html": [
       "<div>\n",
       "<style scoped>\n",
       "    .dataframe tbody tr th:only-of-type {\n",
       "        vertical-align: middle;\n",
       "    }\n",
       "\n",
       "    .dataframe tbody tr th {\n",
       "        vertical-align: top;\n",
       "    }\n",
       "\n",
       "    .dataframe thead th {\n",
       "        text-align: right;\n",
       "    }\n",
       "</style>\n",
       "<table border=\"1\" class=\"dataframe\">\n",
       "  <thead>\n",
       "    <tr style=\"text-align: right;\">\n",
       "      <th></th>\n",
       "      <th>ID</th>\n",
       "      <th>SeriousDlqin2yrs</th>\n",
       "      <th>RevolvingUtilizationOfUnsecuredLines</th>\n",
       "      <th>age</th>\n",
       "      <th>DebtRatio</th>\n",
       "      <th>MonthlyIncome</th>\n",
       "      <th>NumberOfOpenCreditLinesAndLoans</th>\n",
       "      <th>NumberRealEstateLoansOrLines</th>\n",
       "      <th>NumberOfDependents</th>\n",
       "      <th>ruul_cat</th>\n",
       "      <th>age_cat</th>\n",
       "      <th>DebtRatio_cat</th>\n",
       "      <th>MonthlyIncome_cat</th>\n",
       "    </tr>\n",
       "  </thead>\n",
       "  <tbody>\n",
       "    <tr>\n",
       "      <th>0</th>\n",
       "      <td>1</td>\n",
       "      <td>1</td>\n",
       "      <td>0.766127</td>\n",
       "      <td>45</td>\n",
       "      <td>0.802982</td>\n",
       "      <td>9120.0</td>\n",
       "      <td>13</td>\n",
       "      <td>5</td>\n",
       "      <td>2.0</td>\n",
       "      <td>4</td>\n",
       "      <td>2</td>\n",
       "      <td>4</td>\n",
       "      <td>4</td>\n",
       "    </tr>\n",
       "    <tr>\n",
       "      <th>1</th>\n",
       "      <td>2</td>\n",
       "      <td>0</td>\n",
       "      <td>0.957151</td>\n",
       "      <td>40</td>\n",
       "      <td>0.121876</td>\n",
       "      <td>2600.0</td>\n",
       "      <td>4</td>\n",
       "      <td>0</td>\n",
       "      <td>1.0</td>\n",
       "      <td>4</td>\n",
       "      <td>1</td>\n",
       "      <td>1</td>\n",
       "      <td>1</td>\n",
       "    </tr>\n",
       "    <tr>\n",
       "      <th>2</th>\n",
       "      <td>3</td>\n",
       "      <td>0</td>\n",
       "      <td>0.658180</td>\n",
       "      <td>38</td>\n",
       "      <td>0.085113</td>\n",
       "      <td>3042.0</td>\n",
       "      <td>2</td>\n",
       "      <td>0</td>\n",
       "      <td>0.0</td>\n",
       "      <td>4</td>\n",
       "      <td>1</td>\n",
       "      <td>1</td>\n",
       "      <td>1</td>\n",
       "    </tr>\n",
       "  </tbody>\n",
       "</table>\n",
       "</div>"
      ],
      "text/plain": [
       "   ID  SeriousDlqin2yrs  RevolvingUtilizationOfUnsecuredLines  age  DebtRatio  \\\n",
       "0   1                 1                              0.766127   45   0.802982   \n",
       "1   2                 0                              0.957151   40   0.121876   \n",
       "2   3                 0                              0.658180   38   0.085113   \n",
       "\n",
       "   MonthlyIncome  NumberOfOpenCreditLinesAndLoans  \\\n",
       "0         9120.0                               13   \n",
       "1         2600.0                                4   \n",
       "2         3042.0                                2   \n",
       "\n",
       "   NumberRealEstateLoansOrLines  NumberOfDependents  ruul_cat  age_cat  \\\n",
       "0                             5                 2.0         4        2   \n",
       "1                             0                 1.0         4        1   \n",
       "2                             0                 0.0         4        1   \n",
       "\n",
       "   DebtRatio_cat  MonthlyIncome_cat  \n",
       "0              4                  4  \n",
       "1              1                  1  \n",
       "2              1                  1  "
      ]
     },
     "execution_count": 94,
     "metadata": {},
     "output_type": "execute_result"
    }
   ],
   "source": [
    "df['MonthlyIncome_cat'] = df['MonthlyIncome'].apply(cat_ruul)\n",
    "df.head(3)"
   ]
  },
  {
   "cell_type": "code",
   "execution_count": 95,
   "metadata": {
    "_cell_guid": "da0b86ea-e16a-4a5e-947d-ba5d8b1152ef",
    "_uuid": "71cec9eaa849a23d61224418717c5f8fc3aca59e"
   },
   "outputs": [
    {
     "data": {
      "text/html": [
       "<div>\n",
       "<style scoped>\n",
       "    .dataframe tbody tr th:only-of-type {\n",
       "        vertical-align: middle;\n",
       "    }\n",
       "\n",
       "    .dataframe tbody tr th {\n",
       "        vertical-align: top;\n",
       "    }\n",
       "\n",
       "    .dataframe thead th {\n",
       "        text-align: right;\n",
       "    }\n",
       "</style>\n",
       "<table border=\"1\" class=\"dataframe\">\n",
       "  <thead>\n",
       "    <tr style=\"text-align: right;\">\n",
       "      <th></th>\n",
       "      <th>min</th>\n",
       "      <th>max</th>\n",
       "    </tr>\n",
       "    <tr>\n",
       "      <th>MonthlyIncome_cat</th>\n",
       "      <th></th>\n",
       "      <th></th>\n",
       "    </tr>\n",
       "  </thead>\n",
       "  <tbody>\n",
       "    <tr>\n",
       "      <th>1</th>\n",
       "      <td>1000.0</td>\n",
       "      <td>3599.0</td>\n",
       "    </tr>\n",
       "    <tr>\n",
       "      <th>2</th>\n",
       "      <td>3600.0</td>\n",
       "      <td>5499.0</td>\n",
       "    </tr>\n",
       "    <tr>\n",
       "      <th>3</th>\n",
       "      <td>5500.0</td>\n",
       "      <td>8332.0</td>\n",
       "    </tr>\n",
       "    <tr>\n",
       "      <th>4</th>\n",
       "      <td>8333.0</td>\n",
       "      <td>25000.0</td>\n",
       "    </tr>\n",
       "  </tbody>\n",
       "</table>\n",
       "</div>"
      ],
      "text/plain": [
       "                      min      max\n",
       "MonthlyIncome_cat                 \n",
       "1                  1000.0   3599.0\n",
       "2                  3600.0   5499.0\n",
       "3                  5500.0   8332.0\n",
       "4                  8333.0  25000.0"
      ]
     },
     "execution_count": 95,
     "metadata": {},
     "output_type": "execute_result"
    }
   ],
   "source": [
    "# lets check if the categorization was done correctly\n",
    "df.groupby('MonthlyIncome_cat')['MonthlyIncome'].agg(['min','max'])"
   ]
  },
  {
   "cell_type": "code",
   "execution_count": 96,
   "metadata": {
    "_cell_guid": "3eef595e-166c-44c0-8e9a-5a7888213770",
    "_uuid": "7ed594894167358d40426c66a51ecbb4eb24a5b0",
    "scrolled": true
   },
   "outputs": [
    {
     "data": {
      "text/html": [
       "<div>\n",
       "<style scoped>\n",
       "    .dataframe tbody tr th:only-of-type {\n",
       "        vertical-align: middle;\n",
       "    }\n",
       "\n",
       "    .dataframe tbody tr th {\n",
       "        vertical-align: top;\n",
       "    }\n",
       "\n",
       "    .dataframe thead th {\n",
       "        text-align: right;\n",
       "    }\n",
       "</style>\n",
       "<table border=\"1\" class=\"dataframe\">\n",
       "  <thead>\n",
       "    <tr style=\"text-align: right;\">\n",
       "      <th>MonthlyIncome_cat</th>\n",
       "      <th>1</th>\n",
       "      <th>2</th>\n",
       "      <th>3</th>\n",
       "      <th>4</th>\n",
       "    </tr>\n",
       "    <tr>\n",
       "      <th>SeriousDlqin2yrs</th>\n",
       "      <th></th>\n",
       "      <th></th>\n",
       "      <th></th>\n",
       "      <th></th>\n",
       "    </tr>\n",
       "  </thead>\n",
       "  <tbody>\n",
       "    <tr>\n",
       "      <th>0</th>\n",
       "      <td>0.912834</td>\n",
       "      <td>0.926565</td>\n",
       "      <td>0.940627</td>\n",
       "      <td>0.951984</td>\n",
       "    </tr>\n",
       "    <tr>\n",
       "      <th>1</th>\n",
       "      <td>0.087166</td>\n",
       "      <td>0.073435</td>\n",
       "      <td>0.059373</td>\n",
       "      <td>0.048016</td>\n",
       "    </tr>\n",
       "  </tbody>\n",
       "</table>\n",
       "</div>"
      ],
      "text/plain": [
       "MonthlyIncome_cat         1         2         3         4\n",
       "SeriousDlqin2yrs                                         \n",
       "0                  0.912834  0.926565  0.940627  0.951984\n",
       "1                  0.087166  0.073435  0.059373  0.048016"
      ]
     },
     "execution_count": 96,
     "metadata": {},
     "output_type": "execute_result"
    }
   ],
   "source": [
    "pd.crosstab(df.SeriousDlqin2yrs, df.MonthlyIncome_cat, normalize='columns')"
   ]
  },
  {
   "cell_type": "code",
   "execution_count": 97,
   "metadata": {
    "_cell_guid": "0f591644-fe4f-46b9-9d90-78e34e82a947",
    "_uuid": "ed0985f5d7a6ea72e26abd739bc8c3e9aae03390"
   },
   "outputs": [
    {
     "data": {
      "text/plain": [
       "<matplotlib.axes._subplots.AxesSubplot at 0x5ea1da0>"
      ]
     },
     "execution_count": 97,
     "metadata": {},
     "output_type": "execute_result"
    },
    {
     "data": {
      "image/png": "[encoded data removed]",
      "text/plain": [
       "<Figure size 432x288 with 1 Axes>"
      ]
     },
     "metadata": {
      "needs_background": "light"
     },
     "output_type": "display_data"
    }
   ],
   "source": [
    "sb=pd.crosstab(df.MonthlyIncome_cat, df.SeriousDlqin2yrs, normalize=0)\n",
    "sb.plot.bar(stacked=True)"
   ]
  },
  {
   "cell_type": "markdown",
   "metadata": {
    "_cell_guid": "7f84900b-129e-4c3e-b1be-3433d405ab54",
    "_uuid": "21d2bbc069f0f896a9c3758a9e736259d2df9d9f"
   },
   "source": [
    "As expected it shows that there are less delinquents in the category of \n",
    "highest MonthlyIncome."
   ]
  },
  {
   "cell_type": "code",
   "execution_count": 98,
   "metadata": {
    "_cell_guid": "fc185d74-523c-4a29-9a60-4792823b99f7",
    "_uuid": "6ca7ce3c9f9c2ad6da78850aa29da25ce11a086a"
   },
   "outputs": [
    {
     "data": {
      "text/plain": [
       "(524.3515592410665,\n",
       " 2.518157324733066e-113,\n",
       " 3,\n",
       " array([[34974.8368 , 33953.95976, 35441.4168 , 35603.78664],\n",
       "        [ 2505.1632 ,  2432.04024,  2538.5832 ,  2550.21336]]))"
      ]
     },
     "execution_count": 98,
     "metadata": {},
     "output_type": "execute_result"
    }
   ],
   "source": [
    "df2=pd.crosstab(df.SeriousDlqin2yrs, df.MonthlyIncome_cat)\n",
    "chi2_contingency(df2)"
   ]
  },
  {
   "cell_type": "markdown",
   "metadata": {
    "_cell_guid": "c8a25bd5-32a8-4948-b173-43b04286054f",
    "_uuid": "91e08d90a4adac460e46f7405c437d080e2d3d3e"
   },
   "source": [
    "Chi-square test establish that there is significant dependency between MonthlyIncome and delinquency;\n"
   ]
  },
  {
   "cell_type": "markdown",
   "metadata": {
    "_cell_guid": "0a6e7319-1a32-400e-ab85-03c04f08094a",
    "_uuid": "c3d3fb5f2d6cf6da4adec749871c01cb57f2faf3"
   },
   "source": [
    "## **SeriousDlqin2yrs vs NumberOfOpenCreditLinesAndLoans **"
   ]
  },
  {
   "cell_type": "markdown",
   "metadata": {
    "_cell_guid": "a760bae1-429c-41a6-889e-a91e30b569b0",
    "_uuid": "40614bf5574f13870c27f263495f68e4cca6ca23"
   },
   "source": [
    "Simplest approach is to compare the means of NumberOfOpenCreditLinesAndLoans by two \n",
    "categories of SeriousDlqin2yrs"
   ]
  },
  {
   "cell_type": "code",
   "execution_count": 99,
   "metadata": {
    "_cell_guid": "41734f8f-e7bd-4e94-96fb-008d64dac676",
    "_uuid": "136f808bf4f7e706f8555efc24bee74017163aa1",
    "scrolled": true
   },
   "outputs": [
    {
     "data": {
      "text/html": [
       "<div>\n",
       "<style scoped>\n",
       "    .dataframe tbody tr th:only-of-type {\n",
       "        vertical-align: middle;\n",
       "    }\n",
       "\n",
       "    .dataframe tbody tr th {\n",
       "        vertical-align: top;\n",
       "    }\n",
       "\n",
       "    .dataframe thead th {\n",
       "        text-align: right;\n",
       "    }\n",
       "</style>\n",
       "<table border=\"1\" class=\"dataframe\">\n",
       "  <thead>\n",
       "    <tr style=\"text-align: right;\">\n",
       "      <th></th>\n",
       "      <th>count</th>\n",
       "      <th>mean</th>\n",
       "    </tr>\n",
       "    <tr>\n",
       "      <th>SeriousDlqin2yrs</th>\n",
       "      <th></th>\n",
       "      <th></th>\n",
       "    </tr>\n",
       "  </thead>\n",
       "  <tbody>\n",
       "    <tr>\n",
       "      <th>0</th>\n",
       "      <td>139974</td>\n",
       "      <td>8.480196</td>\n",
       "    </tr>\n",
       "    <tr>\n",
       "      <th>1</th>\n",
       "      <td>10026</td>\n",
       "      <td>7.860762</td>\n",
       "    </tr>\n",
       "  </tbody>\n",
       "</table>\n",
       "</div>"
      ],
      "text/plain": [
       "                   count      mean\n",
       "SeriousDlqin2yrs                  \n",
       "0                 139974  8.480196\n",
       "1                  10026  7.860762"
      ]
     },
     "execution_count": 99,
     "metadata": {},
     "output_type": "execute_result"
    }
   ],
   "source": [
    "df.groupby('SeriousDlqin2yrs')['NumberOfOpenCreditLinesAndLoans'].agg(['count','mean'])"
   ]
  },
  {
   "cell_type": "code",
   "execution_count": 100,
   "metadata": {
    "_cell_guid": "4d2f3821-1c4f-4106-a43a-4a768031a025",
    "_uuid": "b581fd8a2817e90185372e0c4b7014abf582b66a",
    "scrolled": true
   },
   "outputs": [
    {
     "data": {
      "text/plain": [
       "<matplotlib.axes._subplots.AxesSubplot at 0x5eea208>"
      ]
     },
     "execution_count": 100,
     "metadata": {},
     "output_type": "execute_result"
    },
    {
     "data": {
      "image/png": "[encoded data removed]",
      "text/plain": [
       "<Figure size 432x288 with 1 Axes>"
      ]
     },
     "metadata": {
      "needs_background": "light"
     },
     "output_type": "display_data"
    }
   ],
   "source": [
    "df['NumberOfOpenCreditLinesAndLoans'].groupby(df.SeriousDlqin2yrs).mean().plot(kind='bar', color=['blue', 'green']) "
   ]
  },
  {
   "cell_type": "markdown",
   "metadata": {
    "_cell_guid": "67cc2d6a-a26b-486b-9c94-30aae0cc0d31",
    "_uuid": "b7c7b7a7cbaa9a9a6fddce4838ce9f92137cb16e"
   },
   "source": [
    "Delinquent cusomters got lower NumberOfOpenCreditLinesAndLoans compared to non-delinquent customers."
   ]
  },
  {
   "cell_type": "markdown",
   "metadata": {
    "_cell_guid": "ee51882d-2066-4377-90fd-7af511c737a4",
    "_uuid": "6b5c68a2de7a8b42e7ad1109e3e814e8b5fb39bf"
   },
   "source": [
    "let's now explore the relationship in detail by categorising NumberOfOpenCreditLinesAndLoans. To categorise the variable, we will choose 25, 50 and 75 percentile as cutoffs.  "
   ]
  },
  {
   "cell_type": "code",
   "execution_count": 101,
   "metadata": {
    "_cell_guid": "8382e3f7-2929-45b3-90e8-1f8528d9b4f1",
    "_uuid": "f006637752f85a0a670e59d945660ebf5afd67f4"
   },
   "outputs": [
    {
     "data": {
      "text/plain": [
       "count    150000.000000\n",
       "mean          8.438793\n",
       "std           5.070728\n",
       "min           0.000000\n",
       "25%           5.000000\n",
       "50%           8.000000\n",
       "75%          11.000000\n",
       "max          30.000000\n",
       "Name: NumberOfOpenCreditLinesAndLoans, dtype: float64"
      ]
     },
     "execution_count": 101,
     "metadata": {},
     "output_type": "execute_result"
    }
   ],
   "source": [
    "df['NumberOfOpenCreditLinesAndLoans'].describe()"
   ]
  },
  {
   "cell_type": "code",
   "execution_count": 102,
   "metadata": {
    "_cell_guid": "9a3b76c8-1809-40b2-98a4-e2c5d9c287d2",
    "_uuid": "6685c84b823b262c518deb70e46960adda7005ae"
   },
   "outputs": [],
   "source": [
    "def cat_ruul(ruul):\n",
    "    if ruul <5:\n",
    "        return 1\n",
    "    elif 5<= ruul <8:\n",
    "        return 2\n",
    "    elif 8<= ruul <11:\n",
    "        return 3\n",
    "    else:\n",
    "        return 4"
   ]
  },
  {
   "cell_type": "code",
   "execution_count": 103,
   "metadata": {
    "_cell_guid": "9af2dbc4-3ffb-4c98-9788-4d3131943717",
    "_uuid": "ab1cd8d579fea35dece58c4dd1cc439f18def7c8"
   },
   "outputs": [
    {
     "data": {
      "text/html": [
       "<div>\n",
       "<style scoped>\n",
       "    .dataframe tbody tr th:only-of-type {\n",
       "        vertical-align: middle;\n",
       "    }\n",
       "\n",
       "    .dataframe tbody tr th {\n",
       "        vertical-align: top;\n",
       "    }\n",
       "\n",
       "    .dataframe thead th {\n",
       "        text-align: right;\n",
       "    }\n",
       "</style>\n",
       "<table border=\"1\" class=\"dataframe\">\n",
       "  <thead>\n",
       "    <tr style=\"text-align: right;\">\n",
       "      <th></th>\n",
       "      <th>ID</th>\n",
       "      <th>SeriousDlqin2yrs</th>\n",
       "      <th>RevolvingUtilizationOfUnsecuredLines</th>\n",
       "      <th>age</th>\n",
       "      <th>DebtRatio</th>\n",
       "      <th>MonthlyIncome</th>\n",
       "      <th>NumberOfOpenCreditLinesAndLoans</th>\n",
       "      <th>NumberRealEstateLoansOrLines</th>\n",
       "      <th>NumberOfDependents</th>\n",
       "      <th>ruul_cat</th>\n",
       "      <th>age_cat</th>\n",
       "      <th>DebtRatio_cat</th>\n",
       "      <th>MonthlyIncome_cat</th>\n",
       "      <th>NOCLL_Cat</th>\n",
       "    </tr>\n",
       "  </thead>\n",
       "  <tbody>\n",
       "    <tr>\n",
       "      <th>0</th>\n",
       "      <td>1</td>\n",
       "      <td>1</td>\n",
       "      <td>0.766127</td>\n",
       "      <td>45</td>\n",
       "      <td>0.802982</td>\n",
       "      <td>9120.0</td>\n",
       "      <td>13</td>\n",
       "      <td>5</td>\n",
       "      <td>2.0</td>\n",
       "      <td>4</td>\n",
       "      <td>2</td>\n",
       "      <td>4</td>\n",
       "      <td>4</td>\n",
       "      <td>4</td>\n",
       "    </tr>\n",
       "    <tr>\n",
       "      <th>1</th>\n",
       "      <td>2</td>\n",
       "      <td>0</td>\n",
       "      <td>0.957151</td>\n",
       "      <td>40</td>\n",
       "      <td>0.121876</td>\n",
       "      <td>2600.0</td>\n",
       "      <td>4</td>\n",
       "      <td>0</td>\n",
       "      <td>1.0</td>\n",
       "      <td>4</td>\n",
       "      <td>1</td>\n",
       "      <td>1</td>\n",
       "      <td>1</td>\n",
       "      <td>1</td>\n",
       "    </tr>\n",
       "    <tr>\n",
       "      <th>2</th>\n",
       "      <td>3</td>\n",
       "      <td>0</td>\n",
       "      <td>0.658180</td>\n",
       "      <td>38</td>\n",
       "      <td>0.085113</td>\n",
       "      <td>3042.0</td>\n",
       "      <td>2</td>\n",
       "      <td>0</td>\n",
       "      <td>0.0</td>\n",
       "      <td>4</td>\n",
       "      <td>1</td>\n",
       "      <td>1</td>\n",
       "      <td>1</td>\n",
       "      <td>1</td>\n",
       "    </tr>\n",
       "  </tbody>\n",
       "</table>\n",
       "</div>"
      ],
      "text/plain": [
       "   ID  SeriousDlqin2yrs  RevolvingUtilizationOfUnsecuredLines  age  DebtRatio  \\\n",
       "0   1                 1                              0.766127   45   0.802982   \n",
       "1   2                 0                              0.957151   40   0.121876   \n",
       "2   3                 0                              0.658180   38   0.085113   \n",
       "\n",
       "   MonthlyIncome  NumberOfOpenCreditLinesAndLoans  \\\n",
       "0         9120.0                               13   \n",
       "1         2600.0                                4   \n",
       "2         3042.0                                2   \n",
       "\n",
       "   NumberRealEstateLoansOrLines  NumberOfDependents  ruul_cat  age_cat  \\\n",
       "0                             5                 2.0         4        2   \n",
       "1                             0                 1.0         4        1   \n",
       "2                             0                 0.0         4        1   \n",
       "\n",
       "   DebtRatio_cat  MonthlyIncome_cat  NOCLL_Cat  \n",
       "0              4                  4          4  \n",
       "1              1                  1          1  \n",
       "2              1                  1          1  "
      ]
     },
     "execution_count": 103,
     "metadata": {},
     "output_type": "execute_result"
    }
   ],
   "source": [
    "df['NOCLL_Cat'] = df['NumberOfOpenCreditLinesAndLoans'].apply(cat_ruul)\n",
    "df.head(3)"
   ]
  },
  {
   "cell_type": "code",
   "execution_count": 104,
   "metadata": {
    "_cell_guid": "da346bf4-5b33-430b-a197-ac04163383c0",
    "_uuid": "f7b435ce32cdaded4ce3d19c2d19359ed728abcf"
   },
   "outputs": [
    {
     "data": {
      "text/html": [
       "<div>\n",
       "<style scoped>\n",
       "    .dataframe tbody tr th:only-of-type {\n",
       "        vertical-align: middle;\n",
       "    }\n",
       "\n",
       "    .dataframe tbody tr th {\n",
       "        vertical-align: top;\n",
       "    }\n",
       "\n",
       "    .dataframe thead th {\n",
       "        text-align: right;\n",
       "    }\n",
       "</style>\n",
       "<table border=\"1\" class=\"dataframe\">\n",
       "  <thead>\n",
       "    <tr style=\"text-align: right;\">\n",
       "      <th></th>\n",
       "      <th>min</th>\n",
       "      <th>max</th>\n",
       "    </tr>\n",
       "    <tr>\n",
       "      <th>NOCLL_Cat</th>\n",
       "      <th></th>\n",
       "      <th></th>\n",
       "    </tr>\n",
       "  </thead>\n",
       "  <tbody>\n",
       "    <tr>\n",
       "      <th>1</th>\n",
       "      <td>0</td>\n",
       "      <td>4</td>\n",
       "    </tr>\n",
       "    <tr>\n",
       "      <th>2</th>\n",
       "      <td>5</td>\n",
       "      <td>7</td>\n",
       "    </tr>\n",
       "    <tr>\n",
       "      <th>3</th>\n",
       "      <td>8</td>\n",
       "      <td>10</td>\n",
       "    </tr>\n",
       "    <tr>\n",
       "      <th>4</th>\n",
       "      <td>11</td>\n",
       "      <td>30</td>\n",
       "    </tr>\n",
       "  </tbody>\n",
       "</table>\n",
       "</div>"
      ],
      "text/plain": [
       "           min  max\n",
       "NOCLL_Cat          \n",
       "1            0    4\n",
       "2            5    7\n",
       "3            8   10\n",
       "4           11   30"
      ]
     },
     "execution_count": 104,
     "metadata": {},
     "output_type": "execute_result"
    }
   ],
   "source": [
    "# lets check if the categorization was done correctly\n",
    "df.groupby('NOCLL_Cat')['NumberOfOpenCreditLinesAndLoans'].agg(['min','max'])"
   ]
  },
  {
   "cell_type": "code",
   "execution_count": 105,
   "metadata": {
    "_cell_guid": "5b1a7271-96ae-488e-898f-183f5c02a804",
    "_uuid": "089ca30eac7e5a09d9ebd3cdc2070e6fd546322f",
    "scrolled": true
   },
   "outputs": [
    {
     "data": {
      "text/html": [
       "<div>\n",
       "<style scoped>\n",
       "    .dataframe tbody tr th:only-of-type {\n",
       "        vertical-align: middle;\n",
       "    }\n",
       "\n",
       "    .dataframe tbody tr th {\n",
       "        vertical-align: top;\n",
       "    }\n",
       "\n",
       "    .dataframe thead th {\n",
       "        text-align: right;\n",
       "    }\n",
       "</style>\n",
       "<table border=\"1\" class=\"dataframe\">\n",
       "  <thead>\n",
       "    <tr style=\"text-align: right;\">\n",
       "      <th>NOCLL_Cat</th>\n",
       "      <th>1</th>\n",
       "      <th>2</th>\n",
       "      <th>3</th>\n",
       "      <th>4</th>\n",
       "    </tr>\n",
       "    <tr>\n",
       "      <th>SeriousDlqin2yrs</th>\n",
       "      <th></th>\n",
       "      <th></th>\n",
       "      <th></th>\n",
       "      <th></th>\n",
       "    </tr>\n",
       "  </thead>\n",
       "  <tbody>\n",
       "    <tr>\n",
       "      <th>0</th>\n",
       "      <td>0.907811</td>\n",
       "      <td>0.941694</td>\n",
       "      <td>0.945023</td>\n",
       "      <td>0.935852</td>\n",
       "    </tr>\n",
       "    <tr>\n",
       "      <th>1</th>\n",
       "      <td>0.092189</td>\n",
       "      <td>0.058306</td>\n",
       "      <td>0.054977</td>\n",
       "      <td>0.064148</td>\n",
       "    </tr>\n",
       "  </tbody>\n",
       "</table>\n",
       "</div>"
      ],
      "text/plain": [
       "NOCLL_Cat                1         2         3         4\n",
       "SeriousDlqin2yrs                                        \n",
       "0                 0.907811  0.941694  0.945023  0.935852\n",
       "1                 0.092189  0.058306  0.054977  0.064148"
      ]
     },
     "execution_count": 105,
     "metadata": {},
     "output_type": "execute_result"
    }
   ],
   "source": [
    "pd.crosstab(df.SeriousDlqin2yrs, df.NOCLL_Cat, normalize='columns')"
   ]
  },
  {
   "cell_type": "code",
   "execution_count": 106,
   "metadata": {
    "_cell_guid": "5432af37-0590-4cdc-904a-5ff89211e55f",
    "_uuid": "5d905aa987c17b663d95d611a94afb030186cd79"
   },
   "outputs": [
    {
     "data": {
      "text/plain": [
       "<matplotlib.axes._subplots.AxesSubplot at 0x113a06a0>"
      ]
     },
     "execution_count": 106,
     "metadata": {},
     "output_type": "execute_result"
    },
    {
     "data": {
      "image/png": "[encoded data removed]",
      "text/plain": [
       "<Figure size 432x288 with 1 Axes>"
      ]
     },
     "metadata": {
      "needs_background": "light"
     },
     "output_type": "display_data"
    }
   ],
   "source": [
    "sb=pd.crosstab(df.NOCLL_Cat, df.SeriousDlqin2yrs, normalize=0)\n",
    "sb.plot.bar(stacked=True)"
   ]
  },
  {
   "cell_type": "markdown",
   "metadata": {
    "_cell_guid": "799fc0b6-b56e-482c-bc0d-3181d124aac9",
    "_uuid": "7393980f5ad75aafac3bc8d3c696299fde5732b2"
   },
   "source": [
    "As expected it shows that there are more delinquents in the category of \n",
    "lowest NumberOfOpenCreditLinesAndLoans."
   ]
  },
  {
   "cell_type": "code",
   "execution_count": 107,
   "metadata": {
    "_cell_guid": "49e899ce-c13b-4527-af6f-ecb7aaf18df0",
    "_uuid": "dc443eab17ec698660773d57e6aec15b2a80d9cc"
   },
   "outputs": [
    {
     "data": {
      "text/plain": [
       "(473.89910137342736,\n",
       " 2.1617934485230027e-102,\n",
       " 3,\n",
       " array([[31409.23244, 37130.4364 , 31299.11956, 40135.2116 ],\n",
       "        [ 2249.76756,  2659.5636 ,  2241.88044,  2874.7884 ]]))"
      ]
     },
     "execution_count": 107,
     "metadata": {},
     "output_type": "execute_result"
    }
   ],
   "source": [
    "df2=pd.crosstab(df.SeriousDlqin2yrs, df.NOCLL_Cat)\n",
    "chi2_contingency(df2)"
   ]
  },
  {
   "cell_type": "markdown",
   "metadata": {
    "_cell_guid": "8f3c5d2b-bc80-4d2d-96d6-1cbc12b77d0c",
    "_uuid": "d2ae849a55fcd9399e8806be1e7ac887cbf1eb66"
   },
   "source": [
    "Chi-square test establish that there is significant dependency between NumberOfOpenCreditLinesAndLoans and delinquency;\n"
   ]
  },
  {
   "cell_type": "markdown",
   "metadata": {
    "_cell_guid": "16db6b28-dfa7-4c20-bc26-b5f1fddb2828",
    "_uuid": "2c887c9da2392cf272e2c6a047fd0a4f1150aa3f"
   },
   "source": [
    "### **SeriousDlqin2yrs vs NumberRealEstateLoansOrLines** "
   ]
  },
  {
   "cell_type": "markdown",
   "metadata": {
    "_cell_guid": "7a1ded27-d2cb-4af4-8e2d-b0598b974bce",
    "_uuid": "2a5621d23aec7dccad1f3cb11cf16bfbba5b71be"
   },
   "source": [
    "Simplest approach is to compare the means of NumberRealEstateLoansOrLines by two \n",
    "categories of SeriousDlqin2yrs"
   ]
  },
  {
   "cell_type": "code",
   "execution_count": 108,
   "metadata": {
    "_cell_guid": "6998bc97-0650-4f7c-95a4-2bc25446f98e",
    "_uuid": "5ad13c94380292194ecb689318a1b4396e6083f9",
    "scrolled": true
   },
   "outputs": [
    {
     "data": {
      "text/html": [
       "<div>\n",
       "<style scoped>\n",
       "    .dataframe tbody tr th:only-of-type {\n",
       "        vertical-align: middle;\n",
       "    }\n",
       "\n",
       "    .dataframe tbody tr th {\n",
       "        vertical-align: top;\n",
       "    }\n",
       "\n",
       "    .dataframe thead th {\n",
       "        text-align: right;\n",
       "    }\n",
       "</style>\n",
       "<table border=\"1\" class=\"dataframe\">\n",
       "  <thead>\n",
       "    <tr style=\"text-align: right;\">\n",
       "      <th></th>\n",
       "      <th>count</th>\n",
       "      <th>mean</th>\n",
       "    </tr>\n",
       "    <tr>\n",
       "      <th>SeriousDlqin2yrs</th>\n",
       "      <th></th>\n",
       "      <th></th>\n",
       "    </tr>\n",
       "  </thead>\n",
       "  <tbody>\n",
       "    <tr>\n",
       "      <th>0</th>\n",
       "      <td>139974</td>\n",
       "      <td>1.006808</td>\n",
       "    </tr>\n",
       "    <tr>\n",
       "      <th>1</th>\n",
       "      <td>10026</td>\n",
       "      <td>0.942051</td>\n",
       "    </tr>\n",
       "  </tbody>\n",
       "</table>\n",
       "</div>"
      ],
      "text/plain": [
       "                   count      mean\n",
       "SeriousDlqin2yrs                  \n",
       "0                 139974  1.006808\n",
       "1                  10026  0.942051"
      ]
     },
     "execution_count": 108,
     "metadata": {},
     "output_type": "execute_result"
    }
   ],
   "source": [
    "df.groupby('SeriousDlqin2yrs')['NumberRealEstateLoansOrLines'].agg(['count','mean'])"
   ]
  },
  {
   "cell_type": "code",
   "execution_count": 109,
   "metadata": {
    "_cell_guid": "817ffbb9-9654-4019-869e-725e48b4f181",
    "_uuid": "13862328b453acaa1c0d17079ac6d81203240ff6",
    "scrolled": true
   },
   "outputs": [
    {
     "data": {
      "text/plain": [
       "<matplotlib.axes._subplots.AxesSubplot at 0xecdfa90>"
      ]
     },
     "execution_count": 109,
     "metadata": {},
     "output_type": "execute_result"
    },
    {
     "data": {
      "image/png": "[encoded data removed]",
      "text/plain": [
       "<Figure size 432x288 with 1 Axes>"
      ]
     },
     "metadata": {
      "needs_background": "light"
     },
     "output_type": "display_data"
    }
   ],
   "source": [
    "df['NumberRealEstateLoansOrLines'].groupby(df.SeriousDlqin2yrs).mean().plot(kind='bar', color=['blue', 'green']) "
   ]
  },
  {
   "cell_type": "markdown",
   "metadata": {
    "_cell_guid": "e5b390bc-a444-4878-9020-25a3939a7db8",
    "_uuid": "21f1c7f204bd054437baa14d46e52fad57861cdc"
   },
   "source": [
    "Delinquent cusomters got lower NumberRealEstateLoansOrLines compared to non-delinquent customers."
   ]
  },
  {
   "cell_type": "markdown",
   "metadata": {
    "_cell_guid": "cb469109-b22e-4405-8197-96e6ab60d143",
    "_uuid": "d7c9946fa09b04c938353388a27a30d4b1755f31"
   },
   "source": [
    "let's now explore the relationship in detail by categorising NumberRealEstateLoansOrLines. To categorise the variable, we will choose 25, 50 and 75 percentile as cutoffs.  "
   ]
  },
  {
   "cell_type": "code",
   "execution_count": 110,
   "metadata": {
    "_cell_guid": "a8dde631-43e3-48c7-82f9-6e46e6f9d9b0",
    "_uuid": "8cbb836ac99f1daad070447ec3abd1da17c6f92e"
   },
   "outputs": [
    {
     "data": {
      "text/plain": [
       "count    150000.000000\n",
       "mean          1.002480\n",
       "std           1.020301\n",
       "min           0.000000\n",
       "25%           0.000000\n",
       "50%           1.000000\n",
       "75%           2.000000\n",
       "max           5.000000\n",
       "Name: NumberRealEstateLoansOrLines, dtype: float64"
      ]
     },
     "execution_count": 110,
     "metadata": {},
     "output_type": "execute_result"
    }
   ],
   "source": [
    "df['NumberRealEstateLoansOrLines'].describe()"
   ]
  },
  {
   "cell_type": "code",
   "execution_count": 111,
   "metadata": {
    "_cell_guid": "6b5ef9c9-14c1-4c6d-80af-5cf67f689265",
    "_uuid": "beee4116fc1af9c7764b51cfbf762a416943b416"
   },
   "outputs": [],
   "source": [
    "def cat_ruul(ruul):\n",
    "    if ruul <=0:\n",
    "        return 1\n",
    "    elif 0< ruul <=1:\n",
    "        return 2\n",
    "    elif 1< ruul <=2:\n",
    "        return 3\n",
    "    else:\n",
    "        return 4"
   ]
  },
  {
   "cell_type": "code",
   "execution_count": 112,
   "metadata": {
    "_cell_guid": "f878c44c-c3c9-49f0-bc5c-bec8b6019615",
    "_uuid": "9b52367cdc71c63e899b29497cf38217895b63ba"
   },
   "outputs": [
    {
     "data": {
      "text/html": [
       "<div>\n",
       "<style scoped>\n",
       "    .dataframe tbody tr th:only-of-type {\n",
       "        vertical-align: middle;\n",
       "    }\n",
       "\n",
       "    .dataframe tbody tr th {\n",
       "        vertical-align: top;\n",
       "    }\n",
       "\n",
       "    .dataframe thead th {\n",
       "        text-align: right;\n",
       "    }\n",
       "</style>\n",
       "<table border=\"1\" class=\"dataframe\">\n",
       "  <thead>\n",
       "    <tr style=\"text-align: right;\">\n",
       "      <th></th>\n",
       "      <th>ID</th>\n",
       "      <th>SeriousDlqin2yrs</th>\n",
       "      <th>RevolvingUtilizationOfUnsecuredLines</th>\n",
       "      <th>age</th>\n",
       "      <th>DebtRatio</th>\n",
       "      <th>MonthlyIncome</th>\n",
       "      <th>NumberOfOpenCreditLinesAndLoans</th>\n",
       "      <th>NumberRealEstateLoansOrLines</th>\n",
       "      <th>NumberOfDependents</th>\n",
       "      <th>ruul_cat</th>\n",
       "      <th>age_cat</th>\n",
       "      <th>DebtRatio_cat</th>\n",
       "      <th>MonthlyIncome_cat</th>\n",
       "      <th>NOCLL_Cat</th>\n",
       "      <th>NRELL_Cat</th>\n",
       "    </tr>\n",
       "  </thead>\n",
       "  <tbody>\n",
       "    <tr>\n",
       "      <th>0</th>\n",
       "      <td>1</td>\n",
       "      <td>1</td>\n",
       "      <td>0.766127</td>\n",
       "      <td>45</td>\n",
       "      <td>0.802982</td>\n",
       "      <td>9120.0</td>\n",
       "      <td>13</td>\n",
       "      <td>5</td>\n",
       "      <td>2.0</td>\n",
       "      <td>4</td>\n",
       "      <td>2</td>\n",
       "      <td>4</td>\n",
       "      <td>4</td>\n",
       "      <td>4</td>\n",
       "      <td>4</td>\n",
       "    </tr>\n",
       "    <tr>\n",
       "      <th>1</th>\n",
       "      <td>2</td>\n",
       "      <td>0</td>\n",
       "      <td>0.957151</td>\n",
       "      <td>40</td>\n",
       "      <td>0.121876</td>\n",
       "      <td>2600.0</td>\n",
       "      <td>4</td>\n",
       "      <td>0</td>\n",
       "      <td>1.0</td>\n",
       "      <td>4</td>\n",
       "      <td>1</td>\n",
       "      <td>1</td>\n",
       "      <td>1</td>\n",
       "      <td>1</td>\n",
       "      <td>1</td>\n",
       "    </tr>\n",
       "    <tr>\n",
       "      <th>2</th>\n",
       "      <td>3</td>\n",
       "      <td>0</td>\n",
       "      <td>0.658180</td>\n",
       "      <td>38</td>\n",
       "      <td>0.085113</td>\n",
       "      <td>3042.0</td>\n",
       "      <td>2</td>\n",
       "      <td>0</td>\n",
       "      <td>0.0</td>\n",
       "      <td>4</td>\n",
       "      <td>1</td>\n",
       "      <td>1</td>\n",
       "      <td>1</td>\n",
       "      <td>1</td>\n",
       "      <td>1</td>\n",
       "    </tr>\n",
       "  </tbody>\n",
       "</table>\n",
       "</div>"
      ],
      "text/plain": [
       "   ID  SeriousDlqin2yrs  RevolvingUtilizationOfUnsecuredLines  age  DebtRatio  \\\n",
       "0   1                 1                              0.766127   45   0.802982   \n",
       "1   2                 0                              0.957151   40   0.121876   \n",
       "2   3                 0                              0.658180   38   0.085113   \n",
       "\n",
       "   MonthlyIncome  NumberOfOpenCreditLinesAndLoans  \\\n",
       "0         9120.0                               13   \n",
       "1         2600.0                                4   \n",
       "2         3042.0                                2   \n",
       "\n",
       "   NumberRealEstateLoansOrLines  NumberOfDependents  ruul_cat  age_cat  \\\n",
       "0                             5                 2.0         4        2   \n",
       "1                             0                 1.0         4        1   \n",
       "2                             0                 0.0         4        1   \n",
       "\n",
       "   DebtRatio_cat  MonthlyIncome_cat  NOCLL_Cat  NRELL_Cat  \n",
       "0              4                  4          4          4  \n",
       "1              1                  1          1          1  \n",
       "2              1                  1          1          1  "
      ]
     },
     "execution_count": 112,
     "metadata": {},
     "output_type": "execute_result"
    }
   ],
   "source": [
    "df['NRELL_Cat'] = df['NumberRealEstateLoansOrLines'].apply(cat_ruul)\n",
    "df.head(3)"
   ]
  },
  {
   "cell_type": "code",
   "execution_count": 113,
   "metadata": {
    "_cell_guid": "caa99f54-a868-4d38-9bab-ed9cfc80aa37",
    "_uuid": "74ee98ff2d6fe585d0c2a40b8bcd4990d4dff8b7"
   },
   "outputs": [
    {
     "data": {
      "text/html": [
       "<div>\n",
       "<style scoped>\n",
       "    .dataframe tbody tr th:only-of-type {\n",
       "        vertical-align: middle;\n",
       "    }\n",
       "\n",
       "    .dataframe tbody tr th {\n",
       "        vertical-align: top;\n",
       "    }\n",
       "\n",
       "    .dataframe thead th {\n",
       "        text-align: right;\n",
       "    }\n",
       "</style>\n",
       "<table border=\"1\" class=\"dataframe\">\n",
       "  <thead>\n",
       "    <tr style=\"text-align: right;\">\n",
       "      <th></th>\n",
       "      <th>min</th>\n",
       "      <th>max</th>\n",
       "    </tr>\n",
       "    <tr>\n",
       "      <th>NRELL_Cat</th>\n",
       "      <th></th>\n",
       "      <th></th>\n",
       "    </tr>\n",
       "  </thead>\n",
       "  <tbody>\n",
       "    <tr>\n",
       "      <th>1</th>\n",
       "      <td>0</td>\n",
       "      <td>0</td>\n",
       "    </tr>\n",
       "    <tr>\n",
       "      <th>2</th>\n",
       "      <td>1</td>\n",
       "      <td>1</td>\n",
       "    </tr>\n",
       "    <tr>\n",
       "      <th>3</th>\n",
       "      <td>2</td>\n",
       "      <td>2</td>\n",
       "    </tr>\n",
       "    <tr>\n",
       "      <th>4</th>\n",
       "      <td>3</td>\n",
       "      <td>5</td>\n",
       "    </tr>\n",
       "  </tbody>\n",
       "</table>\n",
       "</div>"
      ],
      "text/plain": [
       "           min  max\n",
       "NRELL_Cat          \n",
       "1            0    0\n",
       "2            1    1\n",
       "3            2    2\n",
       "4            3    5"
      ]
     },
     "execution_count": 113,
     "metadata": {},
     "output_type": "execute_result"
    }
   ],
   "source": [
    "# lets check if the categorization was done correctly\n",
    "df.groupby('NRELL_Cat')['NumberRealEstateLoansOrLines'].agg(['min','max'])"
   ]
  },
  {
   "cell_type": "code",
   "execution_count": 114,
   "metadata": {
    "_cell_guid": "2e0bcb65-fadc-4d0b-a27c-3582b66635a0",
    "_uuid": "7d56001c48f9dc83f33656a7d93eb9ca4a1bb68a",
    "scrolled": true
   },
   "outputs": [
    {
     "data": {
      "text/html": [
       "<div>\n",
       "<style scoped>\n",
       "    .dataframe tbody tr th:only-of-type {\n",
       "        vertical-align: middle;\n",
       "    }\n",
       "\n",
       "    .dataframe tbody tr th {\n",
       "        vertical-align: top;\n",
       "    }\n",
       "\n",
       "    .dataframe thead th {\n",
       "        text-align: right;\n",
       "    }\n",
       "</style>\n",
       "<table border=\"1\" class=\"dataframe\">\n",
       "  <thead>\n",
       "    <tr style=\"text-align: right;\">\n",
       "      <th>NRELL_Cat</th>\n",
       "      <th>1</th>\n",
       "      <th>2</th>\n",
       "      <th>3</th>\n",
       "      <th>4</th>\n",
       "    </tr>\n",
       "    <tr>\n",
       "      <th>SeriousDlqin2yrs</th>\n",
       "      <th></th>\n",
       "      <th></th>\n",
       "      <th></th>\n",
       "      <th></th>\n",
       "    </tr>\n",
       "  </thead>\n",
       "  <tbody>\n",
       "    <tr>\n",
       "      <th>0</th>\n",
       "      <td>0.916851</td>\n",
       "      <td>0.947495</td>\n",
       "      <td>0.944007</td>\n",
       "      <td>0.915494</td>\n",
       "    </tr>\n",
       "    <tr>\n",
       "      <th>1</th>\n",
       "      <td>0.083149</td>\n",
       "      <td>0.052505</td>\n",
       "      <td>0.055993</td>\n",
       "      <td>0.084506</td>\n",
       "    </tr>\n",
       "  </tbody>\n",
       "</table>\n",
       "</div>"
      ],
      "text/plain": [
       "NRELL_Cat                1         2         3         4\n",
       "SeriousDlqin2yrs                                        \n",
       "0                 0.916851  0.947495  0.944007  0.915494\n",
       "1                 0.083149  0.052505  0.055993  0.084506"
      ]
     },
     "execution_count": 114,
     "metadata": {},
     "output_type": "execute_result"
    }
   ],
   "source": [
    "pd.crosstab(df.SeriousDlqin2yrs, df.NRELL_Cat, normalize='columns')"
   ]
  },
  {
   "cell_type": "code",
   "execution_count": 115,
   "metadata": {
    "_cell_guid": "7fe2a3c5-174f-4d49-988f-36be238677dc",
    "_uuid": "afc455843a3fe4227df2e029c6625325234c1ed1"
   },
   "outputs": [
    {
     "data": {
      "text/plain": [
       "<matplotlib.axes._subplots.AxesSubplot at 0xec62a90>"
      ]
     },
     "execution_count": 115,
     "metadata": {},
     "output_type": "execute_result"
    },
    {
     "data": {
      "image/png": "[encoded data removed]",
      "text/plain": [
       "<Figure size 432x288 with 1 Axes>"
      ]
     },
     "metadata": {
      "needs_background": "light"
     },
     "output_type": "display_data"
    }
   ],
   "source": [
    "sb=pd.crosstab(df.NRELL_Cat, df.SeriousDlqin2yrs, normalize=0)\n",
    "sb.plot.bar(stacked=True)"
   ]
  },
  {
   "cell_type": "markdown",
   "metadata": {
    "_cell_guid": "f446ce1b-4c8b-464c-a490-953799e7cb17",
    "_uuid": "9bc433a7cb7fd0b3e26d8b109db2c885dddcf2f6"
   },
   "source": [
    "As expected it shows that there are more delinquents in the category of \n",
    "lowest NumberRealEstateLoansOrLines."
   ]
  },
  {
   "cell_type": "code",
   "execution_count": 116,
   "metadata": {
    "_cell_guid": "c174da85-d9df-442a-a97a-30fe339a2d34",
    "_uuid": "95647a82483671e94ec41859d7e82fba09f0ad30"
   },
   "outputs": [
    {
     "data": {
      "text/plain": [
       "(521.3188180426857,\n",
       " 1.1438773309834148e-112,\n",
       " 3,\n",
       " array([[52432.39408, 48839.72808, 29415.06952,  9286.80832],\n",
       "        [ 3755.60592,  3498.27192,  2106.93048,   665.19168]]))"
      ]
     },
     "execution_count": 116,
     "metadata": {},
     "output_type": "execute_result"
    }
   ],
   "source": [
    "df2=pd.crosstab(df.SeriousDlqin2yrs, df.NRELL_Cat)\n",
    "chi2_contingency(df2)"
   ]
  },
  {
   "cell_type": "markdown",
   "metadata": {
    "_cell_guid": "7c2a3c86-b9ec-4217-a38b-ab17053b59a2",
    "_uuid": "85fb2412ca3cc3413c9641368996c93446e249ee"
   },
   "source": [
    "chi-square test establish that there is significant dependency between NumberRealEstateLoansOrLines and delinquency;\n"
   ]
  },
  {
   "cell_type": "markdown",
   "metadata": {
    "_cell_guid": "e148aee7-c1e5-4bd8-b869-426fd296d5ef",
    "_uuid": "1b32d911ce47e7194c2105b7b743b5e68d7bf08b"
   },
   "source": [
    "## SeriousDlqin2yrs vs NumberOfDependents "
   ]
  },
  {
   "cell_type": "markdown",
   "metadata": {
    "_cell_guid": "e0571d58-6603-41b2-87a0-e4accc48eb0b",
    "_uuid": "f1290c6c1c9715853ddb8b34071db424c52183d0"
   },
   "source": [
    "Simplest approach is to compare the means of NumberOfDependents by two \n",
    "categories of SeriousDlqin2yrs"
   ]
  },
  {
   "cell_type": "code",
   "execution_count": 117,
   "metadata": {
    "_cell_guid": "a87d4434-1e4d-4bcc-b27c-92da2fb59990",
    "_uuid": "c048d61cffa9f05ed620e4c0236eee149cdb095b",
    "scrolled": false
   },
   "outputs": [
    {
     "data": {
      "text/html": [
       "<div>\n",
       "<style scoped>\n",
       "    .dataframe tbody tr th:only-of-type {\n",
       "        vertical-align: middle;\n",
       "    }\n",
       "\n",
       "    .dataframe tbody tr th {\n",
       "        vertical-align: top;\n",
       "    }\n",
       "\n",
       "    .dataframe thead th {\n",
       "        text-align: right;\n",
       "    }\n",
       "</style>\n",
       "<table border=\"1\" class=\"dataframe\">\n",
       "  <thead>\n",
       "    <tr style=\"text-align: right;\">\n",
       "      <th></th>\n",
       "      <th>count</th>\n",
       "      <th>mean</th>\n",
       "    </tr>\n",
       "    <tr>\n",
       "      <th>SeriousDlqin2yrs</th>\n",
       "      <th></th>\n",
       "      <th></th>\n",
       "    </tr>\n",
       "  </thead>\n",
       "  <tbody>\n",
       "    <tr>\n",
       "      <th>0</th>\n",
       "      <td>139974</td>\n",
       "      <td>0.741159</td>\n",
       "    </tr>\n",
       "    <tr>\n",
       "      <th>1</th>\n",
       "      <td>10026</td>\n",
       "      <td>0.940555</td>\n",
       "    </tr>\n",
       "  </tbody>\n",
       "</table>\n",
       "</div>"
      ],
      "text/plain": [
       "                   count      mean\n",
       "SeriousDlqin2yrs                  \n",
       "0                 139974  0.741159\n",
       "1                  10026  0.940555"
      ]
     },
     "execution_count": 117,
     "metadata": {},
     "output_type": "execute_result"
    }
   ],
   "source": [
    "df.groupby('SeriousDlqin2yrs')['NumberOfDependents'].agg(['count','mean'])"
   ]
  },
  {
   "cell_type": "code",
   "execution_count": 118,
   "metadata": {
    "_cell_guid": "7b52d1b7-25c3-49a9-8e0c-05ff83bf683f",
    "_uuid": "7adde3739a0163f1ab8194f8f67abaa12a4b7e1a",
    "scrolled": true
   },
   "outputs": [
    {
     "data": {
      "text/plain": [
       "<matplotlib.axes._subplots.AxesSubplot at 0x11093b70>"
      ]
     },
     "execution_count": 118,
     "metadata": {},
     "output_type": "execute_result"
    },
    {
     "data": {
      "image/png": "[encoded data removed]",
      "text/plain": [
       "<Figure size 432x288 with 1 Axes>"
      ]
     },
     "metadata": {
      "needs_background": "light"
     },
     "output_type": "display_data"
    }
   ],
   "source": [
    "df['NumberOfDependents'].groupby(df.SeriousDlqin2yrs).mean().plot(kind='bar', color=['blue', 'green']) "
   ]
  },
  {
   "cell_type": "markdown",
   "metadata": {
    "_cell_guid": "ccde7b46-a647-42bf-90e8-570c71ff2e23",
    "_uuid": "90da843112fe718b624d311cec81b88f6b818fa2"
   },
   "source": [
    "Delinquent cusomters got higher NumberOfDependents compared to non-delinquent customers."
   ]
  },
  {
   "cell_type": "markdown",
   "metadata": {
    "_cell_guid": "ef2f105c-e441-4c6e-b13d-3d70a56b7585",
    "_uuid": "64fd6ae39f1779ab4cb3b0b14a177e25aaa1e13c"
   },
   "source": [
    "let's now explore the relationship in detail by categorising NumberOfDependents. To categorise the variable, we will choose 25, 50 and 75 percentile as cutoffs.  "
   ]
  },
  {
   "cell_type": "code",
   "execution_count": 119,
   "metadata": {
    "_cell_guid": "1b3d83d0-0ded-4ee8-83cb-ca086938c41b",
    "_uuid": "9fce2e18c55eb8a00274f81ae1b7ad2487e9943d"
   },
   "outputs": [
    {
     "data": {
      "text/plain": [
       "count    150000.000000\n",
       "mean          0.754487\n",
       "std           1.101377\n",
       "min           0.000000\n",
       "25%           0.000000\n",
       "50%           0.000000\n",
       "75%           1.000000\n",
       "max           5.000000\n",
       "Name: NumberOfDependents, dtype: float64"
      ]
     },
     "execution_count": 119,
     "metadata": {},
     "output_type": "execute_result"
    }
   ],
   "source": [
    "df['NumberOfDependents'].describe()"
   ]
  },
  {
   "cell_type": "code",
   "execution_count": 120,
   "metadata": {
    "_cell_guid": "3d2660db-8feb-4da5-aa50-8348fcc6a4e6",
    "_uuid": "02480b0637a0c3b74832b284ce106e0868140a57"
   },
   "outputs": [],
   "source": [
    "def cat_ruul(ruul):\n",
    "    if ruul <=0:\n",
    "        return 1\n",
    "    elif 0< ruul <=1:\n",
    "        return 2\n",
    "    elif 1< ruul <=2:\n",
    "        return 3\n",
    "    else:\n",
    "        return 4"
   ]
  },
  {
   "cell_type": "code",
   "execution_count": 121,
   "metadata": {
    "_cell_guid": "dfb05a6c-b162-44cd-8a39-4e6b2884c2cd",
    "_uuid": "b28f194a99b9d2998233288c8463877d9e86652b"
   },
   "outputs": [
    {
     "data": {
      "text/html": [
       "<div>\n",
       "<style scoped>\n",
       "    .dataframe tbody tr th:only-of-type {\n",
       "        vertical-align: middle;\n",
       "    }\n",
       "\n",
       "    .dataframe tbody tr th {\n",
       "        vertical-align: top;\n",
       "    }\n",
       "\n",
       "    .dataframe thead th {\n",
       "        text-align: right;\n",
       "    }\n",
       "</style>\n",
       "<table border=\"1\" class=\"dataframe\">\n",
       "  <thead>\n",
       "    <tr style=\"text-align: right;\">\n",
       "      <th></th>\n",
       "      <th>ID</th>\n",
       "      <th>SeriousDlqin2yrs</th>\n",
       "      <th>RevolvingUtilizationOfUnsecuredLines</th>\n",
       "      <th>age</th>\n",
       "      <th>DebtRatio</th>\n",
       "      <th>MonthlyIncome</th>\n",
       "      <th>NumberOfOpenCreditLinesAndLoans</th>\n",
       "      <th>NumberRealEstateLoansOrLines</th>\n",
       "      <th>NumberOfDependents</th>\n",
       "      <th>ruul_cat</th>\n",
       "      <th>age_cat</th>\n",
       "      <th>DebtRatio_cat</th>\n",
       "      <th>MonthlyIncome_cat</th>\n",
       "      <th>NOCLL_Cat</th>\n",
       "      <th>NRELL_Cat</th>\n",
       "      <th>NOD_Cat</th>\n",
       "    </tr>\n",
       "  </thead>\n",
       "  <tbody>\n",
       "    <tr>\n",
       "      <th>0</th>\n",
       "      <td>1</td>\n",
       "      <td>1</td>\n",
       "      <td>0.766127</td>\n",
       "      <td>45</td>\n",
       "      <td>0.802982</td>\n",
       "      <td>9120.0</td>\n",
       "      <td>13</td>\n",
       "      <td>5</td>\n",
       "      <td>2.0</td>\n",
       "      <td>4</td>\n",
       "      <td>2</td>\n",
       "      <td>4</td>\n",
       "      <td>4</td>\n",
       "      <td>4</td>\n",
       "      <td>4</td>\n",
       "      <td>3</td>\n",
       "    </tr>\n",
       "    <tr>\n",
       "      <th>1</th>\n",
       "      <td>2</td>\n",
       "      <td>0</td>\n",
       "      <td>0.957151</td>\n",
       "      <td>40</td>\n",
       "      <td>0.121876</td>\n",
       "      <td>2600.0</td>\n",
       "      <td>4</td>\n",
       "      <td>0</td>\n",
       "      <td>1.0</td>\n",
       "      <td>4</td>\n",
       "      <td>1</td>\n",
       "      <td>1</td>\n",
       "      <td>1</td>\n",
       "      <td>1</td>\n",
       "      <td>1</td>\n",
       "      <td>2</td>\n",
       "    </tr>\n",
       "    <tr>\n",
       "      <th>2</th>\n",
       "      <td>3</td>\n",
       "      <td>0</td>\n",
       "      <td>0.658180</td>\n",
       "      <td>38</td>\n",
       "      <td>0.085113</td>\n",
       "      <td>3042.0</td>\n",
       "      <td>2</td>\n",
       "      <td>0</td>\n",
       "      <td>0.0</td>\n",
       "      <td>4</td>\n",
       "      <td>1</td>\n",
       "      <td>1</td>\n",
       "      <td>1</td>\n",
       "      <td>1</td>\n",
       "      <td>1</td>\n",
       "      <td>1</td>\n",
       "    </tr>\n",
       "  </tbody>\n",
       "</table>\n",
       "</div>"
      ],
      "text/plain": [
       "   ID  SeriousDlqin2yrs  RevolvingUtilizationOfUnsecuredLines  age  DebtRatio  \\\n",
       "0   1                 1                              0.766127   45   0.802982   \n",
       "1   2                 0                              0.957151   40   0.121876   \n",
       "2   3                 0                              0.658180   38   0.085113   \n",
       "\n",
       "   MonthlyIncome  NumberOfOpenCreditLinesAndLoans  \\\n",
       "0         9120.0                               13   \n",
       "1         2600.0                                4   \n",
       "2         3042.0                                2   \n",
       "\n",
       "   NumberRealEstateLoansOrLines  NumberOfDependents  ruul_cat  age_cat  \\\n",
       "0                             5                 2.0         4        2   \n",
       "1                             0                 1.0         4        1   \n",
       "2                             0                 0.0         4        1   \n",
       "\n",
       "   DebtRatio_cat  MonthlyIncome_cat  NOCLL_Cat  NRELL_Cat  NOD_Cat  \n",
       "0              4                  4          4          4        3  \n",
       "1              1                  1          1          1        2  \n",
       "2              1                  1          1          1        1  "
      ]
     },
     "execution_count": 121,
     "metadata": {},
     "output_type": "execute_result"
    }
   ],
   "source": [
    "df['NOD_Cat'] = df['NumberOfDependents'].apply(cat_ruul)\n",
    "df.head(3)"
   ]
  },
  {
   "cell_type": "code",
   "execution_count": 122,
   "metadata": {
    "_cell_guid": "1b3bab4d-9fea-44f9-bdef-b551af717c68",
    "_uuid": "e8a247e19ffb2552221d4df44bb5d3236746761f"
   },
   "outputs": [
    {
     "data": {
      "text/html": [
       "<div>\n",
       "<style scoped>\n",
       "    .dataframe tbody tr th:only-of-type {\n",
       "        vertical-align: middle;\n",
       "    }\n",
       "\n",
       "    .dataframe tbody tr th {\n",
       "        vertical-align: top;\n",
       "    }\n",
       "\n",
       "    .dataframe thead th {\n",
       "        text-align: right;\n",
       "    }\n",
       "</style>\n",
       "<table border=\"1\" class=\"dataframe\">\n",
       "  <thead>\n",
       "    <tr style=\"text-align: right;\">\n",
       "      <th></th>\n",
       "      <th>min</th>\n",
       "      <th>max</th>\n",
       "    </tr>\n",
       "    <tr>\n",
       "      <th>NOD_Cat</th>\n",
       "      <th></th>\n",
       "      <th></th>\n",
       "    </tr>\n",
       "  </thead>\n",
       "  <tbody>\n",
       "    <tr>\n",
       "      <th>1</th>\n",
       "      <td>0.0</td>\n",
       "      <td>0.0</td>\n",
       "    </tr>\n",
       "    <tr>\n",
       "      <th>2</th>\n",
       "      <td>1.0</td>\n",
       "      <td>1.0</td>\n",
       "    </tr>\n",
       "    <tr>\n",
       "      <th>3</th>\n",
       "      <td>2.0</td>\n",
       "      <td>2.0</td>\n",
       "    </tr>\n",
       "    <tr>\n",
       "      <th>4</th>\n",
       "      <td>3.0</td>\n",
       "      <td>5.0</td>\n",
       "    </tr>\n",
       "  </tbody>\n",
       "</table>\n",
       "</div>"
      ],
      "text/plain": [
       "         min  max\n",
       "NOD_Cat          \n",
       "1        0.0  0.0\n",
       "2        1.0  1.0\n",
       "3        2.0  2.0\n",
       "4        3.0  5.0"
      ]
     },
     "execution_count": 122,
     "metadata": {},
     "output_type": "execute_result"
    }
   ],
   "source": [
    "# lets check if the categorization was done correctly\n",
    "df.groupby('NOD_Cat')['NumberOfDependents'].agg(['min','max'])"
   ]
  },
  {
   "cell_type": "code",
   "execution_count": 123,
   "metadata": {
    "_cell_guid": "a2bf1da2-cc7e-4e18-b2d4-ab64343c55bd",
    "_uuid": "3201cb6f8a55135a93841f08d5e6f3509660e293",
    "scrolled": true
   },
   "outputs": [
    {
     "data": {
      "text/html": [
       "<div>\n",
       "<style scoped>\n",
       "    .dataframe tbody tr th:only-of-type {\n",
       "        vertical-align: middle;\n",
       "    }\n",
       "\n",
       "    .dataframe tbody tr th {\n",
       "        vertical-align: top;\n",
       "    }\n",
       "\n",
       "    .dataframe thead th {\n",
       "        text-align: right;\n",
       "    }\n",
       "</style>\n",
       "<table border=\"1\" class=\"dataframe\">\n",
       "  <thead>\n",
       "    <tr style=\"text-align: right;\">\n",
       "      <th>NOD_Cat</th>\n",
       "      <th>1</th>\n",
       "      <th>2</th>\n",
       "      <th>3</th>\n",
       "      <th>4</th>\n",
       "    </tr>\n",
       "    <tr>\n",
       "      <th>SeriousDlqin2yrs</th>\n",
       "      <th></th>\n",
       "      <th></th>\n",
       "      <th></th>\n",
       "      <th></th>\n",
       "    </tr>\n",
       "  </thead>\n",
       "  <tbody>\n",
       "    <tr>\n",
       "      <th>0</th>\n",
       "      <td>0.941697</td>\n",
       "      <td>0.92732</td>\n",
       "      <td>0.919681</td>\n",
       "      <td>0.908779</td>\n",
       "    </tr>\n",
       "    <tr>\n",
       "      <th>1</th>\n",
       "      <td>0.058303</td>\n",
       "      <td>0.07268</td>\n",
       "      <td>0.080319</td>\n",
       "      <td>0.091221</td>\n",
       "    </tr>\n",
       "  </tbody>\n",
       "</table>\n",
       "</div>"
      ],
      "text/plain": [
       "NOD_Cat                  1        2         3         4\n",
       "SeriousDlqin2yrs                                       \n",
       "0                 0.941697  0.92732  0.919681  0.908779\n",
       "1                 0.058303  0.07268  0.080319  0.091221"
      ]
     },
     "execution_count": 123,
     "metadata": {},
     "output_type": "execute_result"
    }
   ],
   "source": [
    "pd.crosstab(df.SeriousDlqin2yrs, df.NOD_Cat, normalize='columns')"
   ]
  },
  {
   "cell_type": "code",
   "execution_count": 124,
   "metadata": {
    "_cell_guid": "060b121c-69b7-4623-96fd-ba14ac428ef4",
    "_uuid": "c5bcbf8cc2f43879c541bd540c362a702410ff26"
   },
   "outputs": [
    {
     "data": {
      "text/plain": [
       "<matplotlib.axes._subplots.AxesSubplot at 0x11100898>"
      ]
     },
     "execution_count": 124,
     "metadata": {},
     "output_type": "execute_result"
    },
    {
     "data": {
      "image/png": "[encoded data removed]",
      "text/plain": [
       "<Figure size 432x288 with 1 Axes>"
      ]
     },
     "metadata": {
      "needs_background": "light"
     },
     "output_type": "display_data"
    }
   ],
   "source": [
    "sb=pd.crosstab(df.NOD_Cat, df.SeriousDlqin2yrs, normalize=0)\n",
    "sb.plot.bar(stacked=True)"
   ]
  },
  {
   "cell_type": "markdown",
   "metadata": {
    "_cell_guid": "5c07ab4a-b928-4b62-88a2-4ea64d05a8ed",
    "_uuid": "15e077ee8e2818667b94f02ff62e1130e25a971b"
   },
   "source": [
    "As expected it shows that there are more delinquents in the category of \n",
    "highest NumberOfDependents."
   ]
  },
  {
   "cell_type": "code",
   "execution_count": 125,
   "metadata": {
    "_cell_guid": "047324b0-e016-4833-a6f4-c49bbc8ca185",
    "_uuid": "afd004b046505bca33c1bb9557b0aa8aee28ea26"
   },
   "outputs": [
    {
     "data": {
      "text/plain": [
       "(307.8359012512757,\n",
       " 2.0034894537531076e-66,\n",
       " 3,\n",
       " array([[83260.26784, 25241.978  , 18705.1922 , 12766.56196],\n",
       "        [ 5963.73216,  1808.022  ,  1339.8078 ,   914.43804]]))"
      ]
     },
     "execution_count": 125,
     "metadata": {},
     "output_type": "execute_result"
    }
   ],
   "source": [
    "df2=pd.crosstab(df.SeriousDlqin2yrs, df.NOD_Cat)\n",
    "chi2_contingency(df2)"
   ]
  },
  {
   "cell_type": "markdown",
   "metadata": {
    "_cell_guid": "46964668-17c7-499a-b959-0ae55624fc48",
    "_uuid": "2452bfb566855b3281dc6554736b4a7fe8477ca5"
   },
   "source": [
    "chi-square test establish that there is significant dependency between NumberOfDependents and delinquency;\n"
   ]
  },
  {
   "cell_type": "markdown",
   "metadata": {
    "_cell_guid": "750ba733-ba98-40a8-9ee8-3f4901fe54dc",
    "_uuid": "d19761dcc70d9befb843b70c6599ed231a15896d"
   },
   "source": [
    "This discussion provided an overview of EDA. Ideally this should result in a professional presentation. The Charts created can be copied and pasted into the presentation software or the summarised values can be used to create charts. Each of this analyses should be supported with conclusions."
   ]
  },
  {
   "cell_type": "code",
   "execution_count": null,
   "metadata": {
    "_cell_guid": "ebfb3733-757c-4b40-9de4-40153ccb0bc3",
    "_uuid": "89e00ce77f62bfc0f0e818dd778c21c41e9678b0",
    "collapsed": true
   },
   "outputs": [],
   "source": []
  }
 ],
 "metadata": {
  "kernelspec": {
   "display_name": "Python 3",
   "language": "python",
   "name": "python3"
  },
  "language_info": {
   "codemirror_mode": {
    "name": "ipython",
    "version": 3
   },
   "file_extension": ".py",
   "mimetype": "text/x-python",
   "name": "python",
   "nbconvert_exporter": "python",
   "pygments_lexer": "ipython3",
   "version": "3.7.3"
  }
 },
 "nbformat": 4,
 "nbformat_minor": 1
}
