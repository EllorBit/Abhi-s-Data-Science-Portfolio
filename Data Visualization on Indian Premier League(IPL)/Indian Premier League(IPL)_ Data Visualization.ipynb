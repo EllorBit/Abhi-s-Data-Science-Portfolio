{
 "cells": [
  {
   "cell_type": "markdown",
   "metadata": {
    "_uuid": "7668e4d7fee12e52dc3c901996b55122e16e9279"
   },
   "source": [
    "![](http://imgur.com/qCAudtM.png)"
   ]
  },
  {
   "cell_type": "markdown",
   "metadata": {
    "_uuid": "1dee20156f3f90c82315163ba43e91ba20fdeacb"
   },
   "source": [
    "- <a href='#1'>1. Introduction</a>  \n",
    "- <a href='#2'>2. Loading libraries and retrieving data</a>\n",
    "- <a href='#3'>3.  Data Visualization</a>"
   ]
  },
  {
   "cell_type": "markdown",
   "metadata": {
    "_uuid": "34255e596b884fc01f765850196156771d5d40ab"
   },
   "source": [
    "# <a id='1'>1. Introduction</a>\n",
    "\n",
    "\n",
    "**Overview**\n",
    "\n",
    "The Indian Premier League (IPL)  is a professional Twenty20 cricket league in India contested during April and May of every year by teams representing Indian cities and some states. The league was founded by the Board of Control for Cricket in India (BCCI) in 2008. The IPL is the most-attended cricket league in the world and in 2014 ranked sixth by average attendance among all sports leagues. There have been ten seasons of the IPL tournament\n",
    "\n",
    "> \n",
    "\n",
    "**Data**\n",
    "\n",
    "We have 5 different files in the dataset:\n",
    "\n",
    "**1) DIM_PLAYER.csv:** Details of all the players who have played in IPL alongwith their country, date of birth, batting/bowling style.\n",
    "\n",
    "**2) DIM_PLAYER_MATCH.csv:**  Various stats of players like team name, captaincy, keeper etc. \n",
    "\n",
    "**3) DIM_TEAM.csv: ** IPL team names and ID\n",
    "\n",
    "**4) FACT_BALL_BY_BALL.csv:** Ball by ball details\n",
    "\n",
    "**5) DIM_MATCH.csv:** Match details  \n",
    "\n",
    "\n",
    "# <a id='2'>2. Loading libraries and retrieving data</a>\n"
   ]
  },
  {
   "cell_type": "code",
   "execution_count": 31,
   "metadata": {
    "_cell_guid": "b1076dfc-b9ad-4769-8c92-a6c4dae69d19",
    "_kg_hide-input": true,
    "_uuid": "8f2839f25d086af736a60e9eeb907d3b93b6e0e5"
   },
   "outputs": [
    {
     "ename": "ModuleNotFoundError",
     "evalue": "No module named 'plotly'",
     "output_type": "error",
     "traceback": [
      "\u001b[1;31m---------------------------------------------------------------------------\u001b[0m",
      "\u001b[1;31mModuleNotFoundError\u001b[0m                       Traceback (most recent call last)",
      "\u001b[1;32m<ipython-input-31-5ed2f50b6dc1>\u001b[0m in \u001b[0;36m<module>\u001b[1;34m\u001b[0m\n\u001b[0;32m      8\u001b[0m \u001b[0mwarnings\u001b[0m\u001b[1;33m.\u001b[0m\u001b[0mfilterwarnings\u001b[0m\u001b[1;33m(\u001b[0m\u001b[1;34m'ignore'\u001b[0m\u001b[1;33m)\u001b[0m\u001b[1;33m\u001b[0m\u001b[1;33m\u001b[0m\u001b[0m\n\u001b[0;32m      9\u001b[0m \u001b[0mget_ipython\u001b[0m\u001b[1;33m(\u001b[0m\u001b[1;33m)\u001b[0m\u001b[1;33m.\u001b[0m\u001b[0mrun_line_magic\u001b[0m\u001b[1;33m(\u001b[0m\u001b[1;34m'matplotlib'\u001b[0m\u001b[1;33m,\u001b[0m \u001b[1;34m'inline'\u001b[0m\u001b[1;33m)\u001b[0m\u001b[1;33m\u001b[0m\u001b[1;33m\u001b[0m\u001b[0m\n\u001b[1;32m---> 10\u001b[1;33m \u001b[1;32mfrom\u001b[0m \u001b[0mplotly\u001b[0m\u001b[1;33m.\u001b[0m\u001b[0moffline\u001b[0m \u001b[1;32mimport\u001b[0m \u001b[0minit_notebook_mode\u001b[0m\u001b[1;33m,\u001b[0m \u001b[0miplot\u001b[0m\u001b[1;33m\u001b[0m\u001b[1;33m\u001b[0m\u001b[0m\n\u001b[0m\u001b[0;32m     11\u001b[0m \u001b[0minit_notebook_mode\u001b[0m\u001b[1;33m(\u001b[0m\u001b[0mconnected\u001b[0m\u001b[1;33m=\u001b[0m\u001b[1;32mTrue\u001b[0m\u001b[1;33m)\u001b[0m\u001b[1;33m\u001b[0m\u001b[1;33m\u001b[0m\u001b[0m\n\u001b[0;32m     12\u001b[0m \u001b[1;32mimport\u001b[0m \u001b[0mplotly\u001b[0m\u001b[1;33m.\u001b[0m\u001b[0mgraph_objs\u001b[0m \u001b[1;32mas\u001b[0m \u001b[0mgo\u001b[0m\u001b[1;33m\u001b[0m\u001b[1;33m\u001b[0m\u001b[0m\n",
      "\u001b[1;31mModuleNotFoundError\u001b[0m: No module named 'plotly'"
     ]
    }
   ],
   "source": [
    "#Importing libraries \n",
    "\n",
    "import numpy as np\n",
    "import pandas as pd\n",
    "import matplotlib.pyplot as plt\n",
    "import seaborn as sns\n",
    "import warnings\n",
    "warnings.filterwarnings('ignore')\n",
    "%matplotlib inline\n",
    "from plotly.offline import init_notebook_mode, iplot\n",
    "init_notebook_mode(connected=True)\n",
    "import plotly.graph_objs as go\n",
    "import plotly.offline as offline\n",
    "offline.init_notebook_mode()\n",
    "from plotly import tools\n",
    "import plotly.tools as tls\n",
    "\n",
    "\n"
   ]
  },
  {
   "cell_type": "code",
   "execution_count": 32,
   "metadata": {},
   "outputs": [],
   "source": [
    "#Importing the datasets \n",
    "\n",
    "players = pd.read_csv(r\"C:\\Users\\user\\Desktop\\portfolio -E\\Data Visualization on Indian Premier League(IPL)\\DIM_PLAYER.csv\", encoding='ISO-8859-1' )\n",
    "player_match = pd.read_csv(r\"C:\\Users\\user\\Desktop\\portfolio -E\\Data Visualization on Indian Premier League(IPL)\\DIM_PLAYER_MATCH.csv\", encoding='ISO-8859-1' )\n",
    "team = pd.read_csv(r\"C:\\Users\\user\\Desktop\\portfolio -E\\Data Visualization on Indian Premier League(IPL)\\DIM_TEAM.csv\", encoding='ISO-8859-1' )\n",
    "ball_fact = pd.read_csv (r\"C:\\Users\\user\\Desktop\\portfolio -E\\Data Visualization on Indian Premier League(IPL)\\FACT_BALL_BY_BALL.csv\", encoding='ISO-8859-1' )\n",
    "match = pd.read_excel (r\"C:\\Users\\user\\Desktop\\portfolio -E\\Data Visualization on Indian Premier League(IPL)\\DIM_MATCH.xlsx\", encoding='ISO-8859-1' )"
   ]
  },
  {
   "cell_type": "markdown",
   "metadata": {
    "_uuid": "9a287a14291277f104aa312540037a74281d604e"
   },
   "source": [
    "\n",
    "\n",
    "**PLAYER_MATCH**\n",
    "\n",
    "Let's start by looking at player_match dataset"
   ]
  },
  {
   "cell_type": "code",
   "execution_count": 33,
   "metadata": {
    "_kg_hide-input": true,
    "_uuid": "d332af41c9814d8201008427d12474223665329d"
   },
   "outputs": [
    {
     "data": {
      "text/html": [
       "<div>\n",
       "<style scoped>\n",
       "    .dataframe tbody tr th:only-of-type {\n",
       "        vertical-align: middle;\n",
       "    }\n",
       "\n",
       "    .dataframe tbody tr th {\n",
       "        vertical-align: top;\n",
       "    }\n",
       "\n",
       "    .dataframe thead th {\n",
       "        text-align: right;\n",
       "    }\n",
       "</style>\n",
       "<table border=\"1\" class=\"dataframe\">\n",
       "  <thead>\n",
       "    <tr style=\"text-align: right;\">\n",
       "      <th></th>\n",
       "      <th>Player_match_SK</th>\n",
       "      <th>PlayerMatch_key</th>\n",
       "      <th>Match_Id</th>\n",
       "      <th>Player_Id</th>\n",
       "      <th>Player_Name</th>\n",
       "      <th>DOB</th>\n",
       "      <th>Batting_hand</th>\n",
       "      <th>Bowling_skill</th>\n",
       "      <th>Country_Name</th>\n",
       "      <th>Role_Desc</th>\n",
       "      <th>...</th>\n",
       "      <th>Season_year</th>\n",
       "      <th>is_manofThematch</th>\n",
       "      <th>Age_As_on_match</th>\n",
       "      <th>IsPlayers_Team_won</th>\n",
       "      <th>Batting_Status</th>\n",
       "      <th>Bowling_Status</th>\n",
       "      <th>Player_Captain</th>\n",
       "      <th>Opposit_captain</th>\n",
       "      <th>Player_keeper</th>\n",
       "      <th>Opposit_keeper</th>\n",
       "    </tr>\n",
       "  </thead>\n",
       "  <tbody>\n",
       "    <tr>\n",
       "      <th>0</th>\n",
       "      <td>-1</td>\n",
       "      <td>-1</td>\n",
       "      <td>-1</td>\n",
       "      <td>-1</td>\n",
       "      <td>NaN</td>\n",
       "      <td>NaN</td>\n",
       "      <td>NaN</td>\n",
       "      <td>NaN</td>\n",
       "      <td>NaN</td>\n",
       "      <td>NaN</td>\n",
       "      <td>...</td>\n",
       "      <td>NaN</td>\n",
       "      <td>NaN</td>\n",
       "      <td>NaN</td>\n",
       "      <td>NaN</td>\n",
       "      <td>NaN</td>\n",
       "      <td>NaN</td>\n",
       "      <td>NaN</td>\n",
       "      <td>NaN</td>\n",
       "      <td>NaN</td>\n",
       "      <td>NaN</td>\n",
       "    </tr>\n",
       "    <tr>\n",
       "      <th>1</th>\n",
       "      <td>12694</td>\n",
       "      <td>33598700006</td>\n",
       "      <td>335987</td>\n",
       "      <td>6</td>\n",
       "      <td>R Dravid</td>\n",
       "      <td>1973-01-11</td>\n",
       "      <td>Right-hand bat</td>\n",
       "      <td>Right-arm offbreak</td>\n",
       "      <td>India</td>\n",
       "      <td>Captain</td>\n",
       "      <td>...</td>\n",
       "      <td>2008.0</td>\n",
       "      <td>0.0</td>\n",
       "      <td>35.0</td>\n",
       "      <td>0.0</td>\n",
       "      <td>NaN</td>\n",
       "      <td>NaN</td>\n",
       "      <td>R Dravid</td>\n",
       "      <td>SC Ganguly</td>\n",
       "      <td>MV Boucher</td>\n",
       "      <td>WP Saha</td>\n",
       "    </tr>\n",
       "  </tbody>\n",
       "</table>\n",
       "<p>2 rows × 22 columns</p>\n",
       "</div>"
      ],
      "text/plain": [
       "   Player_match_SK  PlayerMatch_key  Match_Id  Player_Id Player_Name  \\\n",
       "0               -1               -1        -1         -1         NaN   \n",
       "1            12694      33598700006    335987          6    R Dravid   \n",
       "\n",
       "          DOB    Batting_hand       Bowling_skill Country_Name Role_Desc  ...  \\\n",
       "0         NaN             NaN                 NaN          NaN       NaN  ...   \n",
       "1  1973-01-11  Right-hand bat  Right-arm offbreak        India   Captain  ...   \n",
       "\n",
       "  Season_year is_manofThematch  Age_As_on_match  IsPlayers_Team_won  \\\n",
       "0         NaN              NaN              NaN                 NaN   \n",
       "1      2008.0              0.0             35.0                 0.0   \n",
       "\n",
       "   Batting_Status  Bowling_Status  Player_Captain  Opposit_captain  \\\n",
       "0             NaN             NaN             NaN              NaN   \n",
       "1             NaN             NaN        R Dravid       SC Ganguly   \n",
       "\n",
       "  Player_keeper Opposit_keeper  \n",
       "0           NaN            NaN  \n",
       "1    MV Boucher        WP Saha  \n",
       "\n",
       "[2 rows x 22 columns]"
      ]
     },
     "execution_count": 33,
     "metadata": {},
     "output_type": "execute_result"
    }
   ],
   "source": [
    "player_match.head(2)"
   ]
  },
  {
   "cell_type": "code",
   "execution_count": 34,
   "metadata": {
    "_kg_hide-input": true,
    "_uuid": "ed230c49ab84c9221bae0c884c3dff5f7ebd5143"
   },
   "outputs": [
    {
     "data": {
      "text/html": [
       "<div>\n",
       "<style scoped>\n",
       "    .dataframe tbody tr th:only-of-type {\n",
       "        vertical-align: middle;\n",
       "    }\n",
       "\n",
       "    .dataframe tbody tr th {\n",
       "        vertical-align: top;\n",
       "    }\n",
       "\n",
       "    .dataframe thead th {\n",
       "        text-align: right;\n",
       "    }\n",
       "</style>\n",
       "<table border=\"1\" class=\"dataframe\">\n",
       "  <thead>\n",
       "    <tr style=\"text-align: right;\">\n",
       "      <th></th>\n",
       "      <th>Player_match_SK</th>\n",
       "      <th>PlayerMatch_key</th>\n",
       "      <th>Match_Id</th>\n",
       "      <th>Player_Id</th>\n",
       "      <th>Player_Name</th>\n",
       "      <th>DOB</th>\n",
       "      <th>Batting_hand</th>\n",
       "      <th>Bowling_skill</th>\n",
       "      <th>Country_Name</th>\n",
       "      <th>Role_Desc</th>\n",
       "      <th>...</th>\n",
       "      <th>Season_year</th>\n",
       "      <th>is_manofThematch</th>\n",
       "      <th>Age_As_on_match</th>\n",
       "      <th>IsPlayers_Team_won</th>\n",
       "      <th>Batting_Status</th>\n",
       "      <th>Bowling_Status</th>\n",
       "      <th>Player_Captain</th>\n",
       "      <th>Opposit_captain</th>\n",
       "      <th>Player_keeper</th>\n",
       "      <th>Opposit_keeper</th>\n",
       "    </tr>\n",
       "  </thead>\n",
       "  <tbody>\n",
       "    <tr>\n",
       "      <th>count</th>\n",
       "      <td>13993.000000</td>\n",
       "      <td>1.399300e+04</td>\n",
       "      <td>1.399300e+04</td>\n",
       "      <td>13993.000000</td>\n",
       "      <td>13992</td>\n",
       "      <td>13992</td>\n",
       "      <td>13992</td>\n",
       "      <td>12862</td>\n",
       "      <td>13992</td>\n",
       "      <td>13992</td>\n",
       "      <td>...</td>\n",
       "      <td>13992.000000</td>\n",
       "      <td>13992.000000</td>\n",
       "      <td>13992.000000</td>\n",
       "      <td>13992.000000</td>\n",
       "      <td>0.0</td>\n",
       "      <td>0.0</td>\n",
       "      <td>13992</td>\n",
       "      <td>13992</td>\n",
       "      <td>13992</td>\n",
       "      <td>13992</td>\n",
       "    </tr>\n",
       "    <tr>\n",
       "      <th>unique</th>\n",
       "      <td>NaN</td>\n",
       "      <td>NaN</td>\n",
       "      <td>NaN</td>\n",
       "      <td>NaN</td>\n",
       "      <td>497</td>\n",
       "      <td>482</td>\n",
       "      <td>5</td>\n",
       "      <td>20</td>\n",
       "      <td>12</td>\n",
       "      <td>4</td>\n",
       "      <td>...</td>\n",
       "      <td>NaN</td>\n",
       "      <td>NaN</td>\n",
       "      <td>NaN</td>\n",
       "      <td>NaN</td>\n",
       "      <td>NaN</td>\n",
       "      <td>NaN</td>\n",
       "      <td>44</td>\n",
       "      <td>44</td>\n",
       "      <td>46</td>\n",
       "      <td>46</td>\n",
       "    </tr>\n",
       "    <tr>\n",
       "      <th>top</th>\n",
       "      <td>NaN</td>\n",
       "      <td>NaN</td>\n",
       "      <td>NaN</td>\n",
       "      <td>NaN</td>\n",
       "      <td>SK Raina</td>\n",
       "      <td>1987-04-30</td>\n",
       "      <td>Right-hand bat</td>\n",
       "      <td>Right-arm offbreak</td>\n",
       "      <td>India</td>\n",
       "      <td>Player</td>\n",
       "      <td>...</td>\n",
       "      <td>NaN</td>\n",
       "      <td>NaN</td>\n",
       "      <td>NaN</td>\n",
       "      <td>NaN</td>\n",
       "      <td>NaN</td>\n",
       "      <td>NaN</td>\n",
       "      <td>MS Dhoni</td>\n",
       "      <td>MS Dhoni</td>\n",
       "      <td>MS Dhoni</td>\n",
       "      <td>MS Dhoni</td>\n",
       "    </tr>\n",
       "    <tr>\n",
       "      <th>freq</th>\n",
       "      <td>NaN</td>\n",
       "      <td>NaN</td>\n",
       "      <td>NaN</td>\n",
       "      <td>NaN</td>\n",
       "      <td>160</td>\n",
       "      <td>251</td>\n",
       "      <td>10026</td>\n",
       "      <td>3359</td>\n",
       "      <td>9045</td>\n",
       "      <td>11696</td>\n",
       "      <td>...</td>\n",
       "      <td>NaN</td>\n",
       "      <td>NaN</td>\n",
       "      <td>NaN</td>\n",
       "      <td>NaN</td>\n",
       "      <td>NaN</td>\n",
       "      <td>NaN</td>\n",
       "      <td>1562</td>\n",
       "      <td>1562</td>\n",
       "      <td>1672</td>\n",
       "      <td>1672</td>\n",
       "    </tr>\n",
       "    <tr>\n",
       "      <th>mean</th>\n",
       "      <td>19688.092832</td>\n",
       "      <td>6.371377e+10</td>\n",
       "      <td>6.371377e+05</td>\n",
       "      <td>168.732152</td>\n",
       "      <td>NaN</td>\n",
       "      <td>NaN</td>\n",
       "      <td>NaN</td>\n",
       "      <td>NaN</td>\n",
       "      <td>NaN</td>\n",
       "      <td>NaN</td>\n",
       "      <td>...</td>\n",
       "      <td>2012.490566</td>\n",
       "      <td>0.045097</td>\n",
       "      <td>28.349057</td>\n",
       "      <td>0.496855</td>\n",
       "      <td>NaN</td>\n",
       "      <td>NaN</td>\n",
       "      <td>NaN</td>\n",
       "      <td>NaN</td>\n",
       "      <td>NaN</td>\n",
       "      <td>NaN</td>\n",
       "    </tr>\n",
       "    <tr>\n",
       "      <th>std</th>\n",
       "      <td>4042.570934</td>\n",
       "      <td>2.350311e+10</td>\n",
       "      <td>2.350311e+05</td>\n",
       "      <td>129.453471</td>\n",
       "      <td>NaN</td>\n",
       "      <td>NaN</td>\n",
       "      <td>NaN</td>\n",
       "      <td>NaN</td>\n",
       "      <td>NaN</td>\n",
       "      <td>NaN</td>\n",
       "      <td>...</td>\n",
       "      <td>2.770944</td>\n",
       "      <td>0.207525</td>\n",
       "      <td>4.805585</td>\n",
       "      <td>0.500008</td>\n",
       "      <td>NaN</td>\n",
       "      <td>NaN</td>\n",
       "      <td>NaN</td>\n",
       "      <td>NaN</td>\n",
       "      <td>NaN</td>\n",
       "      <td>NaN</td>\n",
       "    </tr>\n",
       "    <tr>\n",
       "      <th>min</th>\n",
       "      <td>-1.000000</td>\n",
       "      <td>-1.000000e+00</td>\n",
       "      <td>-1.000000e+00</td>\n",
       "      <td>-1.000000</td>\n",
       "      <td>NaN</td>\n",
       "      <td>NaN</td>\n",
       "      <td>NaN</td>\n",
       "      <td>NaN</td>\n",
       "      <td>NaN</td>\n",
       "      <td>NaN</td>\n",
       "      <td>...</td>\n",
       "      <td>2008.000000</td>\n",
       "      <td>0.000000</td>\n",
       "      <td>17.000000</td>\n",
       "      <td>0.000000</td>\n",
       "      <td>NaN</td>\n",
       "      <td>NaN</td>\n",
       "      <td>NaN</td>\n",
       "      <td>NaN</td>\n",
       "      <td>NaN</td>\n",
       "      <td>NaN</td>\n",
       "    </tr>\n",
       "    <tr>\n",
       "      <th>25%</th>\n",
       "      <td>16191.000000</td>\n",
       "      <td>4.191540e+10</td>\n",
       "      <td>4.191540e+05</td>\n",
       "      <td>56.000000</td>\n",
       "      <td>NaN</td>\n",
       "      <td>NaN</td>\n",
       "      <td>NaN</td>\n",
       "      <td>NaN</td>\n",
       "      <td>NaN</td>\n",
       "      <td>NaN</td>\n",
       "      <td>...</td>\n",
       "      <td>2010.000000</td>\n",
       "      <td>0.000000</td>\n",
       "      <td>25.000000</td>\n",
       "      <td>0.000000</td>\n",
       "      <td>NaN</td>\n",
       "      <td>NaN</td>\n",
       "      <td>NaN</td>\n",
       "      <td>NaN</td>\n",
       "      <td>NaN</td>\n",
       "      <td>NaN</td>\n",
       "    </tr>\n",
       "    <tr>\n",
       "      <th>50%</th>\n",
       "      <td>19689.000000</td>\n",
       "      <td>5.483820e+10</td>\n",
       "      <td>5.483820e+05</td>\n",
       "      <td>136.000000</td>\n",
       "      <td>NaN</td>\n",
       "      <td>NaN</td>\n",
       "      <td>NaN</td>\n",
       "      <td>NaN</td>\n",
       "      <td>NaN</td>\n",
       "      <td>NaN</td>\n",
       "      <td>...</td>\n",
       "      <td>2012.000000</td>\n",
       "      <td>0.000000</td>\n",
       "      <td>28.000000</td>\n",
       "      <td>0.000000</td>\n",
       "      <td>NaN</td>\n",
       "      <td>NaN</td>\n",
       "      <td>NaN</td>\n",
       "      <td>NaN</td>\n",
       "      <td>NaN</td>\n",
       "      <td>NaN</td>\n",
       "    </tr>\n",
       "    <tr>\n",
       "      <th>75%</th>\n",
       "      <td>23187.000000</td>\n",
       "      <td>8.297460e+10</td>\n",
       "      <td>8.297460e+05</td>\n",
       "      <td>267.000000</td>\n",
       "      <td>NaN</td>\n",
       "      <td>NaN</td>\n",
       "      <td>NaN</td>\n",
       "      <td>NaN</td>\n",
       "      <td>NaN</td>\n",
       "      <td>NaN</td>\n",
       "      <td>...</td>\n",
       "      <td>2015.000000</td>\n",
       "      <td>0.000000</td>\n",
       "      <td>31.000000</td>\n",
       "      <td>1.000000</td>\n",
       "      <td>NaN</td>\n",
       "      <td>NaN</td>\n",
       "      <td>NaN</td>\n",
       "      <td>NaN</td>\n",
       "      <td>NaN</td>\n",
       "      <td>NaN</td>\n",
       "    </tr>\n",
       "    <tr>\n",
       "      <th>max</th>\n",
       "      <td>26685.000000</td>\n",
       "      <td>1.082650e+11</td>\n",
       "      <td>1.082650e+06</td>\n",
       "      <td>497.000000</td>\n",
       "      <td>NaN</td>\n",
       "      <td>NaN</td>\n",
       "      <td>NaN</td>\n",
       "      <td>NaN</td>\n",
       "      <td>NaN</td>\n",
       "      <td>NaN</td>\n",
       "      <td>...</td>\n",
       "      <td>2017.000000</td>\n",
       "      <td>1.000000</td>\n",
       "      <td>45.000000</td>\n",
       "      <td>1.000000</td>\n",
       "      <td>NaN</td>\n",
       "      <td>NaN</td>\n",
       "      <td>NaN</td>\n",
       "      <td>NaN</td>\n",
       "      <td>NaN</td>\n",
       "      <td>NaN</td>\n",
       "    </tr>\n",
       "  </tbody>\n",
       "</table>\n",
       "<p>11 rows × 22 columns</p>\n",
       "</div>"
      ],
      "text/plain": [
       "        Player_match_SK  PlayerMatch_key      Match_Id     Player_Id  \\\n",
       "count      13993.000000     1.399300e+04  1.399300e+04  13993.000000   \n",
       "unique              NaN              NaN           NaN           NaN   \n",
       "top                 NaN              NaN           NaN           NaN   \n",
       "freq                NaN              NaN           NaN           NaN   \n",
       "mean       19688.092832     6.371377e+10  6.371377e+05    168.732152   \n",
       "std         4042.570934     2.350311e+10  2.350311e+05    129.453471   \n",
       "min           -1.000000    -1.000000e+00 -1.000000e+00     -1.000000   \n",
       "25%        16191.000000     4.191540e+10  4.191540e+05     56.000000   \n",
       "50%        19689.000000     5.483820e+10  5.483820e+05    136.000000   \n",
       "75%        23187.000000     8.297460e+10  8.297460e+05    267.000000   \n",
       "max        26685.000000     1.082650e+11  1.082650e+06    497.000000   \n",
       "\n",
       "       Player_Name         DOB    Batting_hand       Bowling_skill  \\\n",
       "count        13992       13992           13992               12862   \n",
       "unique         497         482               5                  20   \n",
       "top       SK Raina  1987-04-30  Right-hand bat  Right-arm offbreak   \n",
       "freq           160         251           10026                3359   \n",
       "mean           NaN         NaN             NaN                 NaN   \n",
       "std            NaN         NaN             NaN                 NaN   \n",
       "min            NaN         NaN             NaN                 NaN   \n",
       "25%            NaN         NaN             NaN                 NaN   \n",
       "50%            NaN         NaN             NaN                 NaN   \n",
       "75%            NaN         NaN             NaN                 NaN   \n",
       "max            NaN         NaN             NaN                 NaN   \n",
       "\n",
       "       Country_Name Role_Desc  ...   Season_year is_manofThematch  \\\n",
       "count         13992     13992  ...  13992.000000     13992.000000   \n",
       "unique           12         4  ...           NaN              NaN   \n",
       "top           India    Player  ...           NaN              NaN   \n",
       "freq           9045     11696  ...           NaN              NaN   \n",
       "mean            NaN       NaN  ...   2012.490566         0.045097   \n",
       "std             NaN       NaN  ...      2.770944         0.207525   \n",
       "min             NaN       NaN  ...   2008.000000         0.000000   \n",
       "25%             NaN       NaN  ...   2010.000000         0.000000   \n",
       "50%             NaN       NaN  ...   2012.000000         0.000000   \n",
       "75%             NaN       NaN  ...   2015.000000         0.000000   \n",
       "max             NaN       NaN  ...   2017.000000         1.000000   \n",
       "\n",
       "        Age_As_on_match  IsPlayers_Team_won  Batting_Status  Bowling_Status  \\\n",
       "count      13992.000000        13992.000000             0.0             0.0   \n",
       "unique              NaN                 NaN             NaN             NaN   \n",
       "top                 NaN                 NaN             NaN             NaN   \n",
       "freq                NaN                 NaN             NaN             NaN   \n",
       "mean          28.349057            0.496855             NaN             NaN   \n",
       "std            4.805585            0.500008             NaN             NaN   \n",
       "min           17.000000            0.000000             NaN             NaN   \n",
       "25%           25.000000            0.000000             NaN             NaN   \n",
       "50%           28.000000            0.000000             NaN             NaN   \n",
       "75%           31.000000            1.000000             NaN             NaN   \n",
       "max           45.000000            1.000000             NaN             NaN   \n",
       "\n",
       "        Player_Captain  Opposit_captain Player_keeper Opposit_keeper  \n",
       "count            13992            13992         13992          13992  \n",
       "unique              44               44            46             46  \n",
       "top           MS Dhoni         MS Dhoni      MS Dhoni       MS Dhoni  \n",
       "freq              1562             1562          1672           1672  \n",
       "mean               NaN              NaN           NaN            NaN  \n",
       "std                NaN              NaN           NaN            NaN  \n",
       "min                NaN              NaN           NaN            NaN  \n",
       "25%                NaN              NaN           NaN            NaN  \n",
       "50%                NaN              NaN           NaN            NaN  \n",
       "75%                NaN              NaN           NaN            NaN  \n",
       "max                NaN              NaN           NaN            NaN  \n",
       "\n",
       "[11 rows x 22 columns]"
      ]
     },
     "execution_count": 34,
     "metadata": {},
     "output_type": "execute_result"
    }
   ],
   "source": [
    "player_match.describe(include='all')"
   ]
  },
  {
   "cell_type": "code",
   "execution_count": 35,
   "metadata": {
    "_kg_hide-input": true,
    "_uuid": "2f6d949de12be03fc593aed4c08a6d89ea2c3cb6"
   },
   "outputs": [
    {
     "data": {
      "text/plain": [
       "array(['R Dravid', 'SC Ganguly', 'Yuvraj Singh', 'V Sehwag', 'SK Warne',\n",
       "       'Harbhajan Singh', 'VVS Laxman', 'SM Pollock', 'SR Tendulkar',\n",
       "       'SR Watson', 'MS Dhoni', 'KP Pietersen', 'BB McCullum', 'A Kumble',\n",
       "       'G Gambhir', 'SK Raina', 'DPMD Jayawardene', 'KC Sangakkara',\n",
       "       'DJ Bravo', 'DL Vettori', 'V Kohli', 'JR Hopes', 'CL White',\n",
       "       'DJ Hussey', 'SPD Smith', 'RT Ponting', 'AD Mathews',\n",
       "       'LRPL Taylor', 'AJ Finch', 'RG Sharma', 'DA Warner', 'GJ Bailey',\n",
       "       'S Dhawan', 'DJG Sammy', 'JP Duminy', 'Z Khan', 'DA Miller',\n",
       "       'M Vijay', 'GJ Maxwell', 'AM Rahane', 'KK Nair'], dtype=object)"
      ]
     },
     "execution_count": 35,
     "metadata": {},
     "output_type": "execute_result"
    }
   ],
   "source": [
    "captain = player_match[player_match['Role_Desc'] == 'Captain']\n",
    "captain.Player_Name.unique()"
   ]
  },
  {
   "cell_type": "markdown",
   "metadata": {
    "_uuid": "1e75fb9fa885a3787e9b1f57c4264997efde92e2"
   },
   "source": [
    "# <a id='3'>3. Data Visualization</a>"
   ]
  },
  {
   "cell_type": "code",
   "execution_count": 36,
   "metadata": {
    "_kg_hide-input": true,
    "_uuid": "7e793cd674123a7d6619e3656c4788825dfe94b6"
   },
   "outputs": [
    {
     "data": {
      "text/plain": [
       "<matplotlib.axes._subplots.AxesSubplot at 0xbb96c50>"
      ]
     },
     "execution_count": 36,
     "metadata": {},
     "output_type": "execute_result"
    },
    {
     "data": {
      "image/png": "[encoded data removed]",
      "text/plain": [
       "<Figure size 1008x432 with 1 Axes>"
      ]
     },
     "metadata": {
      "needs_background": "light"
     },
     "output_type": "display_data"
    }
   ],
   "source": [
    "plt.figure(figsize=(14,6))\n",
    "sns.countplot(x='Age_As_on_match',data=player_match)"
   ]
  },
  {
   "cell_type": "markdown",
   "metadata": {
    "_uuid": "4cb4db7e110a55f333dc453cb3c64943fe995653"
   },
   "source": [
    "Age is normally distributed. There are some young players,  probably talented enough to start playing early. We also observe some older players, well into there 40's,  still playing in the IPL\n",
    "\n",
    "**Match**\n",
    "\n",
    "Now let's analyze the second dataset 'Match'"
   ]
  },
  {
   "cell_type": "code",
   "execution_count": 37,
   "metadata": {
    "_kg_hide-input": true,
    "_uuid": "141539ecffe4097780102b134f6205a7f5b64490"
   },
   "outputs": [
    {
     "data": {
      "text/html": [
       "<div>\n",
       "<style scoped>\n",
       "    .dataframe tbody tr th:only-of-type {\n",
       "        vertical-align: middle;\n",
       "    }\n",
       "\n",
       "    .dataframe tbody tr th {\n",
       "        vertical-align: top;\n",
       "    }\n",
       "\n",
       "    .dataframe thead th {\n",
       "        text-align: right;\n",
       "    }\n",
       "</style>\n",
       "<table border=\"1\" class=\"dataframe\">\n",
       "  <thead>\n",
       "    <tr style=\"text-align: right;\">\n",
       "      <th></th>\n",
       "      <th>Match_SK</th>\n",
       "      <th>match_id</th>\n",
       "      <th>Team1</th>\n",
       "      <th>Team2</th>\n",
       "      <th>match_date</th>\n",
       "      <th>Season_Year</th>\n",
       "      <th>Venue_Name</th>\n",
       "      <th>City_Name</th>\n",
       "      <th>Country_Name</th>\n",
       "      <th>Toss_Winner</th>\n",
       "      <th>match_winner</th>\n",
       "      <th>Toss_Name</th>\n",
       "      <th>Win_Type</th>\n",
       "      <th>Outcome_Type</th>\n",
       "      <th>ManOfMach</th>\n",
       "      <th>Win_Margin</th>\n",
       "      <th>Country_id</th>\n",
       "    </tr>\n",
       "  </thead>\n",
       "  <tbody>\n",
       "    <tr>\n",
       "      <th>0</th>\n",
       "      <td>546</td>\n",
       "      <td>980964</td>\n",
       "      <td>Royal Challengers Bangalore</td>\n",
       "      <td>Kolkata Knight Riders</td>\n",
       "      <td>2016-05-02</td>\n",
       "      <td>2016</td>\n",
       "      <td>M Chinnaswamy Stadium</td>\n",
       "      <td>Bangalore</td>\n",
       "      <td>India</td>\n",
       "      <td>Kolkata Knight Riders</td>\n",
       "      <td>Kolkata Knight Riders</td>\n",
       "      <td>field</td>\n",
       "      <td>wickets</td>\n",
       "      <td>Result</td>\n",
       "      <td>AD Russell</td>\n",
       "      <td>5.0</td>\n",
       "      <td>1</td>\n",
       "    </tr>\n",
       "    <tr>\n",
       "      <th>1</th>\n",
       "      <td>547</td>\n",
       "      <td>980966</td>\n",
       "      <td>Gujarat Lions</td>\n",
       "      <td>Delhi Daredevils</td>\n",
       "      <td>2016-05-03</td>\n",
       "      <td>2016</td>\n",
       "      <td>Saurashtra Cricket Association Stadium</td>\n",
       "      <td>Rajkot</td>\n",
       "      <td>India</td>\n",
       "      <td>Delhi Daredevils</td>\n",
       "      <td>Delhi Daredevils</td>\n",
       "      <td>field</td>\n",
       "      <td>wickets</td>\n",
       "      <td>Result</td>\n",
       "      <td>RR Pant</td>\n",
       "      <td>8.0</td>\n",
       "      <td>1</td>\n",
       "    </tr>\n",
       "  </tbody>\n",
       "</table>\n",
       "</div>"
      ],
      "text/plain": [
       "   Match_SK  match_id                        Team1                  Team2  \\\n",
       "0       546    980964  Royal Challengers Bangalore  Kolkata Knight Riders   \n",
       "1       547    980966                Gujarat Lions       Delhi Daredevils   \n",
       "\n",
       "  match_date  Season_Year                              Venue_Name  City_Name  \\\n",
       "0 2016-05-02         2016                   M Chinnaswamy Stadium  Bangalore   \n",
       "1 2016-05-03         2016  Saurashtra Cricket Association Stadium     Rajkot   \n",
       "\n",
       "  Country_Name            Toss_Winner           match_winner Toss_Name  \\\n",
       "0        India  Kolkata Knight Riders  Kolkata Knight Riders     field   \n",
       "1        India       Delhi Daredevils       Delhi Daredevils     field   \n",
       "\n",
       "  Win_Type Outcome_Type   ManOfMach  Win_Margin  Country_id  \n",
       "0  wickets       Result  AD Russell         5.0           1  \n",
       "1  wickets       Result     RR Pant         8.0           1  "
      ]
     },
     "execution_count": 37,
     "metadata": {},
     "output_type": "execute_result"
    }
   ],
   "source": [
    "match.head(2)"
   ]
  },
  {
   "cell_type": "code",
   "execution_count": 38,
   "metadata": {
    "_kg_hide-input": true,
    "_uuid": "135c76379e9fd32ed40cc0c7f3b773c960765a76"
   },
   "outputs": [
    {
     "data": {
      "text/html": [
       "<div>\n",
       "<style scoped>\n",
       "    .dataframe tbody tr th:only-of-type {\n",
       "        vertical-align: middle;\n",
       "    }\n",
       "\n",
       "    .dataframe tbody tr th {\n",
       "        vertical-align: top;\n",
       "    }\n",
       "\n",
       "    .dataframe thead th {\n",
       "        text-align: right;\n",
       "    }\n",
       "</style>\n",
       "<table border=\"1\" class=\"dataframe\">\n",
       "  <thead>\n",
       "    <tr style=\"text-align: right;\">\n",
       "      <th></th>\n",
       "      <th>Match_SK</th>\n",
       "      <th>match_id</th>\n",
       "      <th>Team1</th>\n",
       "      <th>Team2</th>\n",
       "      <th>match_date</th>\n",
       "      <th>Season_Year</th>\n",
       "      <th>Venue_Name</th>\n",
       "      <th>City_Name</th>\n",
       "      <th>Country_Name</th>\n",
       "      <th>Toss_Winner</th>\n",
       "      <th>match_winner</th>\n",
       "      <th>Toss_Name</th>\n",
       "      <th>Win_Type</th>\n",
       "      <th>Outcome_Type</th>\n",
       "      <th>ManOfMach</th>\n",
       "      <th>Win_Margin</th>\n",
       "      <th>Country_id</th>\n",
       "    </tr>\n",
       "  </thead>\n",
       "  <tbody>\n",
       "    <tr>\n",
       "      <th>count</th>\n",
       "      <td>637.000000</td>\n",
       "      <td>6.370000e+02</td>\n",
       "      <td>637</td>\n",
       "      <td>637</td>\n",
       "      <td>637</td>\n",
       "      <td>637.000000</td>\n",
       "      <td>636</td>\n",
       "      <td>637</td>\n",
       "      <td>637</td>\n",
       "      <td>636</td>\n",
       "      <td>634</td>\n",
       "      <td>636</td>\n",
       "      <td>635</td>\n",
       "      <td>637</td>\n",
       "      <td>633</td>\n",
       "      <td>628.000000</td>\n",
       "      <td>637.000000</td>\n",
       "    </tr>\n",
       "    <tr>\n",
       "      <th>unique</th>\n",
       "      <td>NaN</td>\n",
       "      <td>NaN</td>\n",
       "      <td>13</td>\n",
       "      <td>13</td>\n",
       "      <td>451</td>\n",
       "      <td>NaN</td>\n",
       "      <td>37</td>\n",
       "      <td>32</td>\n",
       "      <td>3</td>\n",
       "      <td>14</td>\n",
       "      <td>15</td>\n",
       "      <td>4</td>\n",
       "      <td>5</td>\n",
       "      <td>5</td>\n",
       "      <td>202</td>\n",
       "      <td>NaN</td>\n",
       "      <td>NaN</td>\n",
       "    </tr>\n",
       "    <tr>\n",
       "      <th>top</th>\n",
       "      <td>NaN</td>\n",
       "      <td>NaN</td>\n",
       "      <td>Royal Challengers Bangalore</td>\n",
       "      <td>Mumbai Indians</td>\n",
       "      <td>2013-04-06 00:00:00</td>\n",
       "      <td>NaN</td>\n",
       "      <td>M Chinnaswamy Stadium</td>\n",
       "      <td>Mumbai</td>\n",
       "      <td>India</td>\n",
       "      <td>Mumbai Indians</td>\n",
       "      <td>Mumbai Indians</td>\n",
       "      <td>field</td>\n",
       "      <td>wickets</td>\n",
       "      <td>Result</td>\n",
       "      <td>CH Gayle</td>\n",
       "      <td>NaN</td>\n",
       "      <td>NaN</td>\n",
       "    </tr>\n",
       "    <tr>\n",
       "      <th>freq</th>\n",
       "      <td>NaN</td>\n",
       "      <td>NaN</td>\n",
       "      <td>85</td>\n",
       "      <td>85</td>\n",
       "      <td>2</td>\n",
       "      <td>NaN</td>\n",
       "      <td>66</td>\n",
       "      <td>85</td>\n",
       "      <td>560</td>\n",
       "      <td>85</td>\n",
       "      <td>91</td>\n",
       "      <td>315</td>\n",
       "      <td>339</td>\n",
       "      <td>626</td>\n",
       "      <td>18</td>\n",
       "      <td>NaN</td>\n",
       "      <td>NaN</td>\n",
       "    </tr>\n",
       "    <tr>\n",
       "      <th>first</th>\n",
       "      <td>NaN</td>\n",
       "      <td>NaN</td>\n",
       "      <td>NaN</td>\n",
       "      <td>NaN</td>\n",
       "      <td>2008-04-18 00:00:00</td>\n",
       "      <td>NaN</td>\n",
       "      <td>NaN</td>\n",
       "      <td>NaN</td>\n",
       "      <td>NaN</td>\n",
       "      <td>NaN</td>\n",
       "      <td>NaN</td>\n",
       "      <td>NaN</td>\n",
       "      <td>NaN</td>\n",
       "      <td>NaN</td>\n",
       "      <td>NaN</td>\n",
       "      <td>NaN</td>\n",
       "      <td>NaN</td>\n",
       "    </tr>\n",
       "    <tr>\n",
       "      <th>last</th>\n",
       "      <td>NaN</td>\n",
       "      <td>NaN</td>\n",
       "      <td>NaN</td>\n",
       "      <td>NaN</td>\n",
       "      <td>2017-05-21 00:00:00</td>\n",
       "      <td>NaN</td>\n",
       "      <td>NaN</td>\n",
       "      <td>NaN</td>\n",
       "      <td>NaN</td>\n",
       "      <td>NaN</td>\n",
       "      <td>NaN</td>\n",
       "      <td>NaN</td>\n",
       "      <td>NaN</td>\n",
       "      <td>NaN</td>\n",
       "      <td>NaN</td>\n",
       "      <td>NaN</td>\n",
       "      <td>NaN</td>\n",
       "    </tr>\n",
       "    <tr>\n",
       "      <th>mean</th>\n",
       "      <td>318.000000</td>\n",
       "      <td>6.378825e+05</td>\n",
       "      <td>NaN</td>\n",
       "      <td>NaN</td>\n",
       "      <td>NaN</td>\n",
       "      <td>2012.497645</td>\n",
       "      <td>NaN</td>\n",
       "      <td>NaN</td>\n",
       "      <td>NaN</td>\n",
       "      <td>NaN</td>\n",
       "      <td>NaN</td>\n",
       "      <td>NaN</td>\n",
       "      <td>NaN</td>\n",
       "      <td>NaN</td>\n",
       "      <td>NaN</td>\n",
       "      <td>17.272293</td>\n",
       "      <td>1.152276</td>\n",
       "    </tr>\n",
       "    <tr>\n",
       "      <th>std</th>\n",
       "      <td>184.030342</td>\n",
       "      <td>2.356312e+05</td>\n",
       "      <td>NaN</td>\n",
       "      <td>NaN</td>\n",
       "      <td>NaN</td>\n",
       "      <td>2.776600</td>\n",
       "      <td>NaN</td>\n",
       "      <td>NaN</td>\n",
       "      <td>NaN</td>\n",
       "      <td>NaN</td>\n",
       "      <td>NaN</td>\n",
       "      <td>NaN</td>\n",
       "      <td>NaN</td>\n",
       "      <td>NaN</td>\n",
       "      <td>NaN</td>\n",
       "      <td>22.212632</td>\n",
       "      <td>0.438388</td>\n",
       "    </tr>\n",
       "    <tr>\n",
       "      <th>min</th>\n",
       "      <td>0.000000</td>\n",
       "      <td>3.359870e+05</td>\n",
       "      <td>NaN</td>\n",
       "      <td>NaN</td>\n",
       "      <td>NaN</td>\n",
       "      <td>2008.000000</td>\n",
       "      <td>NaN</td>\n",
       "      <td>NaN</td>\n",
       "      <td>NaN</td>\n",
       "      <td>NaN</td>\n",
       "      <td>NaN</td>\n",
       "      <td>NaN</td>\n",
       "      <td>NaN</td>\n",
       "      <td>NaN</td>\n",
       "      <td>NaN</td>\n",
       "      <td>0.000000</td>\n",
       "      <td>1.000000</td>\n",
       "    </tr>\n",
       "    <tr>\n",
       "      <th>25%</th>\n",
       "      <td>159.000000</td>\n",
       "      <td>4.191550e+05</td>\n",
       "      <td>NaN</td>\n",
       "      <td>NaN</td>\n",
       "      <td>NaN</td>\n",
       "      <td>2010.000000</td>\n",
       "      <td>NaN</td>\n",
       "      <td>NaN</td>\n",
       "      <td>NaN</td>\n",
       "      <td>NaN</td>\n",
       "      <td>NaN</td>\n",
       "      <td>NaN</td>\n",
       "      <td>NaN</td>\n",
       "      <td>NaN</td>\n",
       "      <td>NaN</td>\n",
       "      <td>6.000000</td>\n",
       "      <td>1.000000</td>\n",
       "    </tr>\n",
       "    <tr>\n",
       "      <th>50%</th>\n",
       "      <td>318.000000</td>\n",
       "      <td>5.483830e+05</td>\n",
       "      <td>NaN</td>\n",
       "      <td>NaN</td>\n",
       "      <td>NaN</td>\n",
       "      <td>2012.000000</td>\n",
       "      <td>NaN</td>\n",
       "      <td>NaN</td>\n",
       "      <td>NaN</td>\n",
       "      <td>NaN</td>\n",
       "      <td>NaN</td>\n",
       "      <td>NaN</td>\n",
       "      <td>NaN</td>\n",
       "      <td>NaN</td>\n",
       "      <td>NaN</td>\n",
       "      <td>8.000000</td>\n",
       "      <td>1.000000</td>\n",
       "    </tr>\n",
       "    <tr>\n",
       "      <th>75%</th>\n",
       "      <td>477.000000</td>\n",
       "      <td>8.297480e+05</td>\n",
       "      <td>NaN</td>\n",
       "      <td>NaN</td>\n",
       "      <td>NaN</td>\n",
       "      <td>2015.000000</td>\n",
       "      <td>NaN</td>\n",
       "      <td>NaN</td>\n",
       "      <td>NaN</td>\n",
       "      <td>NaN</td>\n",
       "      <td>NaN</td>\n",
       "      <td>NaN</td>\n",
       "      <td>NaN</td>\n",
       "      <td>NaN</td>\n",
       "      <td>NaN</td>\n",
       "      <td>20.000000</td>\n",
       "      <td>1.000000</td>\n",
       "    </tr>\n",
       "    <tr>\n",
       "      <th>max</th>\n",
       "      <td>636.000000</td>\n",
       "      <td>1.082650e+06</td>\n",
       "      <td>NaN</td>\n",
       "      <td>NaN</td>\n",
       "      <td>NaN</td>\n",
       "      <td>2017.000000</td>\n",
       "      <td>NaN</td>\n",
       "      <td>NaN</td>\n",
       "      <td>NaN</td>\n",
       "      <td>NaN</td>\n",
       "      <td>NaN</td>\n",
       "      <td>NaN</td>\n",
       "      <td>NaN</td>\n",
       "      <td>NaN</td>\n",
       "      <td>NaN</td>\n",
       "      <td>146.000000</td>\n",
       "      <td>3.000000</td>\n",
       "    </tr>\n",
       "  </tbody>\n",
       "</table>\n",
       "</div>"
      ],
      "text/plain": [
       "          Match_SK      match_id                        Team1           Team2  \\\n",
       "count   637.000000  6.370000e+02                          637             637   \n",
       "unique         NaN           NaN                           13              13   \n",
       "top            NaN           NaN  Royal Challengers Bangalore  Mumbai Indians   \n",
       "freq           NaN           NaN                           85              85   \n",
       "first          NaN           NaN                          NaN             NaN   \n",
       "last           NaN           NaN                          NaN             NaN   \n",
       "mean    318.000000  6.378825e+05                          NaN             NaN   \n",
       "std     184.030342  2.356312e+05                          NaN             NaN   \n",
       "min       0.000000  3.359870e+05                          NaN             NaN   \n",
       "25%     159.000000  4.191550e+05                          NaN             NaN   \n",
       "50%     318.000000  5.483830e+05                          NaN             NaN   \n",
       "75%     477.000000  8.297480e+05                          NaN             NaN   \n",
       "max     636.000000  1.082650e+06                          NaN             NaN   \n",
       "\n",
       "                 match_date  Season_Year             Venue_Name City_Name  \\\n",
       "count                   637   637.000000                    636       637   \n",
       "unique                  451          NaN                     37        32   \n",
       "top     2013-04-06 00:00:00          NaN  M Chinnaswamy Stadium    Mumbai   \n",
       "freq                      2          NaN                     66        85   \n",
       "first   2008-04-18 00:00:00          NaN                    NaN       NaN   \n",
       "last    2017-05-21 00:00:00          NaN                    NaN       NaN   \n",
       "mean                    NaN  2012.497645                    NaN       NaN   \n",
       "std                     NaN     2.776600                    NaN       NaN   \n",
       "min                     NaN  2008.000000                    NaN       NaN   \n",
       "25%                     NaN  2010.000000                    NaN       NaN   \n",
       "50%                     NaN  2012.000000                    NaN       NaN   \n",
       "75%                     NaN  2015.000000                    NaN       NaN   \n",
       "max                     NaN  2017.000000                    NaN       NaN   \n",
       "\n",
       "       Country_Name     Toss_Winner    match_winner Toss_Name Win_Type  \\\n",
       "count           637             636             634       636      635   \n",
       "unique            3              14              15         4        5   \n",
       "top           India  Mumbai Indians  Mumbai Indians     field  wickets   \n",
       "freq            560              85              91       315      339   \n",
       "first           NaN             NaN             NaN       NaN      NaN   \n",
       "last            NaN             NaN             NaN       NaN      NaN   \n",
       "mean            NaN             NaN             NaN       NaN      NaN   \n",
       "std             NaN             NaN             NaN       NaN      NaN   \n",
       "min             NaN             NaN             NaN       NaN      NaN   \n",
       "25%             NaN             NaN             NaN       NaN      NaN   \n",
       "50%             NaN             NaN             NaN       NaN      NaN   \n",
       "75%             NaN             NaN             NaN       NaN      NaN   \n",
       "max             NaN             NaN             NaN       NaN      NaN   \n",
       "\n",
       "       Outcome_Type ManOfMach  Win_Margin  Country_id  \n",
       "count           637       633  628.000000  637.000000  \n",
       "unique            5       202         NaN         NaN  \n",
       "top          Result  CH Gayle         NaN         NaN  \n",
       "freq            626        18         NaN         NaN  \n",
       "first           NaN       NaN         NaN         NaN  \n",
       "last            NaN       NaN         NaN         NaN  \n",
       "mean            NaN       NaN   17.272293    1.152276  \n",
       "std             NaN       NaN   22.212632    0.438388  \n",
       "min             NaN       NaN    0.000000    1.000000  \n",
       "25%             NaN       NaN    6.000000    1.000000  \n",
       "50%             NaN       NaN    8.000000    1.000000  \n",
       "75%             NaN       NaN   20.000000    1.000000  \n",
       "max             NaN       NaN  146.000000    3.000000  "
      ]
     },
     "execution_count": 38,
     "metadata": {},
     "output_type": "execute_result"
    }
   ],
   "source": [
    "match.describe(include='all')"
   ]
  },
  {
   "cell_type": "code",
   "execution_count": 39,
   "metadata": {
    "_kg_hide-input": true,
    "_uuid": "29c9b9c52cbba9362527ccc43afdfc7e61b68a6c"
   },
   "outputs": [
    {
     "data": {
      "text/plain": [
       "Match_SK        0\n",
       "match_id        0\n",
       "Team1           0\n",
       "Team2           0\n",
       "match_date      0\n",
       "Season_Year     0\n",
       "Venue_Name      1\n",
       "City_Name       0\n",
       "Country_Name    0\n",
       "Toss_Winner     1\n",
       "match_winner    3\n",
       "Toss_Name       1\n",
       "Win_Type        2\n",
       "Outcome_Type    0\n",
       "ManOfMach       4\n",
       "Win_Margin      9\n",
       "Country_id      0\n",
       "dtype: int64"
      ]
     },
     "execution_count": 39,
     "metadata": {},
     "output_type": "execute_result"
    }
   ],
   "source": [
    "match.isnull().sum(axis=0)"
   ]
  },
  {
   "cell_type": "code",
   "execution_count": 40,
   "metadata": {
    "_kg_hide-input": true,
    "_uuid": "7864fdeb135163d105c5be0ee83aa15ab9684939",
    "scrolled": false
   },
   "outputs": [
    {
     "name": "stdout",
     "output_type": "stream",
     "text": [
      "Number of unique teams:  ['Royal Challengers Bangalore' 'Gujarat Lions' 'Kolkata Knight Riders'\n",
      " 'Delhi Daredevils' 'Sunrisers Hyderabad' 'Kings XI Punjab'\n",
      " 'Mumbai Indians' 'Rising Pune Supergiants' 'Rajasthan Royals'\n",
      " 'Deccan Chargers' 'Chennai Super Kings' 'Kochi Tuskers Kerala'\n",
      " 'Pune Warriors']\n"
     ]
    }
   ],
   "source": [
    "#Number of teams\n",
    "print(\"Number of unique teams: \",match.Team1.unique())"
   ]
  },
  {
   "cell_type": "code",
   "execution_count": 41,
   "metadata": {
    "_kg_hide-input": true,
    "_uuid": "73c068c17d2b2388eee110b13c541db9a46d6c7c"
   },
   "outputs": [
    {
     "data": {
      "text/plain": [
       "ManOfMach\n",
       "CH Gayle          18\n",
       "YK Pathan         16\n",
       "DA Warner         15\n",
       "AB de Villiers    15\n",
       "RG Sharma         14\n",
       "Name: match_winner, dtype: int64"
      ]
     },
     "execution_count": 41,
     "metadata": {},
     "output_type": "execute_result"
    }
   ],
   "source": [
    "#Most man of the matches awards\n",
    "ManofMatch = match.groupby(['ManOfMach']).count()['match_winner']\n",
    "ManOfMatch_count = ManofMatch.sort_values(axis=0, ascending=False)\n",
    "ManOfMatch_count.head()"
   ]
  },
  {
   "cell_type": "code",
   "execution_count": 42,
   "metadata": {
    "_kg_hide-input": true,
    "_uuid": "3e4c854aae7577e06b4989db5ef80026e28c6591"
   },
   "outputs": [
    {
     "data": {
      "text/plain": [
       "<matplotlib.axes._subplots.AxesSubplot at 0x754f048>"
      ]
     },
     "execution_count": 42,
     "metadata": {},
     "output_type": "execute_result"
    },
    {
     "data": {
      "image/png": "[encoded data removed]",
      "text/plain": [
       "<Figure size 576x432 with 1 Axes>"
      ]
     },
     "metadata": {
      "needs_background": "light"
     },
     "output_type": "display_data"
    }
   ],
   "source": [
    "#number of matches per season\n",
    "plt.figure(figsize=(8,6))\n",
    "sns.countplot(x='Season_Year', data=match) "
   ]
  },
  {
   "cell_type": "markdown",
   "metadata": {
    "_uuid": "0849e140a6c1a9f77b03de64a8cdca575d2c065d"
   },
   "source": [
    "\n",
    "Number of games increased during 2011-2013"
   ]
  },
  {
   "cell_type": "code",
   "execution_count": 43,
   "metadata": {
    "_kg_hide-input": true,
    "_uuid": "c96ad45cc83e524bde4dd20b43d5407c74f33c64"
   },
   "outputs": [
    {
     "data": {
      "image/png": "[encoded data removed]",
      "text/plain": [
       "<Figure size 1008x432 with 1 Axes>"
      ]
     },
     "metadata": {
      "needs_background": "light"
     },
     "output_type": "display_data"
    }
   ],
   "source": [
    "#Number of matches per venue \n",
    "plt.figure(figsize=(14,6))\n",
    "sns.countplot(x='Venue_Name', data=match, order=pd.value_counts(match['Venue_Name']).index) \n",
    "plt.xticks(rotation='vertical')\n",
    "plt.show()"
   ]
  },
  {
   "cell_type": "markdown",
   "metadata": {
    "_uuid": "97306f5556d8c71fa3d3f8143c077f7af2f2aead"
   },
   "source": [
    "Big cities with a home team have hosted more matches with M Chinnaswamy Stadium leading till 2017 followed by Eden Gardens and Feroz Shah Kotla"
   ]
  },
  {
   "cell_type": "code",
   "execution_count": 44,
   "metadata": {
    "_kg_hide-input": true,
    "_uuid": "6cdaba3b995c0122508bee8699b691aed1a7f3ae"
   },
   "outputs": [
    {
     "data": {
      "image/png": "[encoded data removed]",
      "text/plain": [
       "<Figure size 576x432 with 1 Axes>"
      ]
     },
     "metadata": {
      "needs_background": "light"
     },
     "output_type": "display_data"
    }
   ],
   "source": [
    "#Wins per team\n",
    "plt.figure(figsize=(8,6))\n",
    "ax=sns.countplot(x='match_winner', data=match, order=pd.value_counts(match['match_winner']).index) \n",
    "ax.set_xticklabels(ax.get_xticklabels(), rotation=40, ha=\"right\")\n",
    "plt.tight_layout()\n",
    "plt.show()"
   ]
  },
  {
   "cell_type": "markdown",
   "metadata": {
    "_uuid": "a3de787c1b9a936f5ee0fdd69d6b937640a37f1f"
   },
   "source": [
    "Mumbai has most wins followed by Chennai and than Kolkata. Now, let's see who's winning the toss more often"
   ]
  },
  {
   "cell_type": "code",
   "execution_count": 45,
   "metadata": {
    "_kg_hide-input": true,
    "_uuid": "998ded0f3144945e1dabe98ab01ede17f59f1fcc"
   },
   "outputs": [
    {
     "data": {
      "image/png": "[encoded data removed]",
      "text/plain": [
       "<Figure size 576x432 with 1 Axes>"
      ]
     },
     "metadata": {
      "needs_background": "light"
     },
     "output_type": "display_data"
    }
   ],
   "source": [
    "#Toss wins per team\n",
    "plt.figure(figsize=(8,6))\n",
    "ax=sns.countplot(x='Toss_Winner', data=match, order=pd.value_counts(match['Toss_Winner']).index) \n",
    "ax.set_xticklabels(ax.get_xticklabels(), rotation=40, ha=\"right\")\n",
    "plt.tight_layout()\n",
    "plt.show()"
   ]
  },
  {
   "cell_type": "markdown",
   "metadata": {
    "_uuid": "7b1a47060a2c827d59fc8cad65cfaf8b57416afc"
   },
   "source": [
    "Again it's Mumbai who's winning the toss more often. Let's see what are the teams doing after winning the toss over the years"
   ]
  },
  {
   "cell_type": "code",
   "execution_count": 46,
   "metadata": {
    "_kg_hide-input": true,
    "_uuid": "1514649cb4392f5658d1d5e8db5a3c54f3f7df2c"
   },
   "outputs": [],
   "source": [
    "match.replace(to_replace='Field', value = 'field', inplace=True) #Replace 'Field' with 'field'"
   ]
  },
  {
   "cell_type": "code",
   "execution_count": 47,
   "metadata": {
    "_kg_hide-input": true,
    "_uuid": "e1c3b3cd22ab82d9d9e298b76d49a6021060ae6b"
   },
   "outputs": [],
   "source": [
    "match.replace(to_replace='Bat', value = 'bat', inplace=True) #Replace 'Bat' with 'bat'"
   ]
  },
  {
   "cell_type": "code",
   "execution_count": 48,
   "metadata": {
    "_kg_hide-input": true,
    "_uuid": "10f96eb994e923af76c2c1c9731a1e7b858d9a34"
   },
   "outputs": [
    {
     "data": {
      "text/plain": [
       "<matplotlib.axes._subplots.AxesSubplot at 0xbd1f208>"
      ]
     },
     "execution_count": 48,
     "metadata": {},
     "output_type": "execute_result"
    },
    {
     "data": {
      "image/png": "[encoded data removed]",
      "text/plain": [
       "<Figure size 864x432 with 1 Axes>"
      ]
     },
     "metadata": {
      "needs_background": "light"
     },
     "output_type": "display_data"
    }
   ],
   "source": [
    "plt.figure(figsize=(12,6))\n",
    "sns.countplot(x='Season_Year', hue='Toss_Name', data=match)"
   ]
  },
  {
   "cell_type": "markdown",
   "metadata": {
    "_uuid": "f4c9bd28fe0240c88a6e0534dd480eea1d11f9dc"
   },
   "source": [
    "Teams used to bat first after winning the toss during initial years of IPL.  But we see there's a clear change in this pattern, specially last couple of years. "
   ]
  },
  {
   "cell_type": "code",
   "execution_count": 49,
   "metadata": {
    "_kg_hide-input": true,
    "_uuid": "1d07b3f2622ac984f798807a38d216b576b0c1e5"
   },
   "outputs": [
    {
     "data": {
      "text/html": [
       "<div>\n",
       "<style scoped>\n",
       "    .dataframe tbody tr th:only-of-type {\n",
       "        vertical-align: middle;\n",
       "    }\n",
       "\n",
       "    .dataframe tbody tr th {\n",
       "        vertical-align: top;\n",
       "    }\n",
       "\n",
       "    .dataframe thead th {\n",
       "        text-align: right;\n",
       "    }\n",
       "</style>\n",
       "<table border=\"1\" class=\"dataframe\">\n",
       "  <thead>\n",
       "    <tr style=\"text-align: right;\">\n",
       "      <th></th>\n",
       "      <th>Match_SK</th>\n",
       "      <th>match_id</th>\n",
       "      <th>Team1</th>\n",
       "      <th>Team2</th>\n",
       "      <th>match_date</th>\n",
       "      <th>Season_Year</th>\n",
       "      <th>Venue_Name</th>\n",
       "      <th>City_Name</th>\n",
       "      <th>Country_Name</th>\n",
       "      <th>Toss_Winner</th>\n",
       "      <th>match_winner</th>\n",
       "      <th>Toss_Name</th>\n",
       "      <th>Win_Type</th>\n",
       "      <th>Outcome_Type</th>\n",
       "      <th>ManOfMach</th>\n",
       "      <th>Win_Margin</th>\n",
       "      <th>Country_id</th>\n",
       "    </tr>\n",
       "  </thead>\n",
       "  <tbody>\n",
       "    <tr>\n",
       "      <th>0</th>\n",
       "      <td>546</td>\n",
       "      <td>980964</td>\n",
       "      <td>Royal Challengers Bangalore</td>\n",
       "      <td>Kolkata Knight Riders</td>\n",
       "      <td>2016-05-02</td>\n",
       "      <td>2016</td>\n",
       "      <td>M Chinnaswamy Stadium</td>\n",
       "      <td>Bangalore</td>\n",
       "      <td>India</td>\n",
       "      <td>Kolkata Knight Riders</td>\n",
       "      <td>Kolkata Knight Riders</td>\n",
       "      <td>field</td>\n",
       "      <td>wickets</td>\n",
       "      <td>Result</td>\n",
       "      <td>AD Russell</td>\n",
       "      <td>5.0</td>\n",
       "      <td>1</td>\n",
       "    </tr>\n",
       "    <tr>\n",
       "      <th>1</th>\n",
       "      <td>547</td>\n",
       "      <td>980966</td>\n",
       "      <td>Gujarat Lions</td>\n",
       "      <td>Delhi Daredevils</td>\n",
       "      <td>2016-05-03</td>\n",
       "      <td>2016</td>\n",
       "      <td>Saurashtra Cricket Association Stadium</td>\n",
       "      <td>Rajkot</td>\n",
       "      <td>India</td>\n",
       "      <td>Delhi Daredevils</td>\n",
       "      <td>Delhi Daredevils</td>\n",
       "      <td>field</td>\n",
       "      <td>wickets</td>\n",
       "      <td>Result</td>\n",
       "      <td>RR Pant</td>\n",
       "      <td>8.0</td>\n",
       "      <td>1</td>\n",
       "    </tr>\n",
       "    <tr>\n",
       "      <th>2</th>\n",
       "      <td>548</td>\n",
       "      <td>980968</td>\n",
       "      <td>Kolkata Knight Riders</td>\n",
       "      <td>Kings XI Punjab</td>\n",
       "      <td>2016-05-04</td>\n",
       "      <td>2016</td>\n",
       "      <td>Eden Gardens</td>\n",
       "      <td>Kolkata</td>\n",
       "      <td>India</td>\n",
       "      <td>Kings XI Punjab</td>\n",
       "      <td>Kolkata Knight Riders</td>\n",
       "      <td>field</td>\n",
       "      <td>runs</td>\n",
       "      <td>Result</td>\n",
       "      <td>AD Russell</td>\n",
       "      <td>7.0</td>\n",
       "      <td>1</td>\n",
       "    </tr>\n",
       "    <tr>\n",
       "      <th>3</th>\n",
       "      <td>549</td>\n",
       "      <td>980970</td>\n",
       "      <td>Delhi Daredevils</td>\n",
       "      <td>Rising Pune Supergiants</td>\n",
       "      <td>2016-05-05</td>\n",
       "      <td>2016</td>\n",
       "      <td>Feroz Shah Kotla</td>\n",
       "      <td>Delhi</td>\n",
       "      <td>India</td>\n",
       "      <td>Rising Pune Supergiants</td>\n",
       "      <td>Rising Pune Supergiants</td>\n",
       "      <td>field</td>\n",
       "      <td>wickets</td>\n",
       "      <td>Result</td>\n",
       "      <td>AM Rahane</td>\n",
       "      <td>7.0</td>\n",
       "      <td>1</td>\n",
       "    </tr>\n",
       "    <tr>\n",
       "      <th>4</th>\n",
       "      <td>550</td>\n",
       "      <td>980972</td>\n",
       "      <td>Sunrisers Hyderabad</td>\n",
       "      <td>Gujarat Lions</td>\n",
       "      <td>2016-05-06</td>\n",
       "      <td>2016</td>\n",
       "      <td>Rajiv Gandhi International Stadium, Uppal</td>\n",
       "      <td>Hyderabad</td>\n",
       "      <td>India</td>\n",
       "      <td>Sunrisers Hyderabad</td>\n",
       "      <td>Sunrisers Hyderabad</td>\n",
       "      <td>field</td>\n",
       "      <td>wickets</td>\n",
       "      <td>Result</td>\n",
       "      <td>B Kumar</td>\n",
       "      <td>5.0</td>\n",
       "      <td>1</td>\n",
       "    </tr>\n",
       "  </tbody>\n",
       "</table>\n",
       "</div>"
      ],
      "text/plain": [
       "   Match_SK  match_id                        Team1                    Team2  \\\n",
       "0       546    980964  Royal Challengers Bangalore    Kolkata Knight Riders   \n",
       "1       547    980966                Gujarat Lions         Delhi Daredevils   \n",
       "2       548    980968        Kolkata Knight Riders          Kings XI Punjab   \n",
       "3       549    980970             Delhi Daredevils  Rising Pune Supergiants   \n",
       "4       550    980972          Sunrisers Hyderabad            Gujarat Lions   \n",
       "\n",
       "  match_date  Season_Year                                 Venue_Name  \\\n",
       "0 2016-05-02         2016                      M Chinnaswamy Stadium   \n",
       "1 2016-05-03         2016     Saurashtra Cricket Association Stadium   \n",
       "2 2016-05-04         2016                               Eden Gardens   \n",
       "3 2016-05-05         2016                           Feroz Shah Kotla   \n",
       "4 2016-05-06         2016  Rajiv Gandhi International Stadium, Uppal   \n",
       "\n",
       "   City_Name Country_Name              Toss_Winner             match_winner  \\\n",
       "0  Bangalore        India    Kolkata Knight Riders    Kolkata Knight Riders   \n",
       "1     Rajkot        India         Delhi Daredevils         Delhi Daredevils   \n",
       "2    Kolkata        India          Kings XI Punjab    Kolkata Knight Riders   \n",
       "3      Delhi        India  Rising Pune Supergiants  Rising Pune Supergiants   \n",
       "4  Hyderabad        India      Sunrisers Hyderabad      Sunrisers Hyderabad   \n",
       "\n",
       "  Toss_Name Win_Type Outcome_Type   ManOfMach  Win_Margin  Country_id  \n",
       "0     field  wickets       Result  AD Russell         5.0           1  \n",
       "1     field  wickets       Result     RR Pant         8.0           1  \n",
       "2     field     runs       Result  AD Russell         7.0           1  \n",
       "3     field  wickets       Result   AM Rahane         7.0           1  \n",
       "4     field  wickets       Result     B Kumar         5.0           1  "
      ]
     },
     "execution_count": 49,
     "metadata": {},
     "output_type": "execute_result"
    }
   ],
   "source": [
    "match.head()"
   ]
  },
  {
   "cell_type": "markdown",
   "metadata": {
    "_uuid": "3c19de623b8ea1977a969d17dfc9b63c835c5db4"
   },
   "source": [
    "**PLAYER**\n",
    "\n",
    "Now let's look at the third dataset 'Player'"
   ]
  },
  {
   "cell_type": "code",
   "execution_count": 50,
   "metadata": {
    "_kg_hide-input": true,
    "_uuid": "d12f9830e1c3a7fea3e1ab78407cc56be92b21aa"
   },
   "outputs": [
    {
     "data": {
      "text/html": [
       "<div>\n",
       "<style scoped>\n",
       "    .dataframe tbody tr th:only-of-type {\n",
       "        vertical-align: middle;\n",
       "    }\n",
       "\n",
       "    .dataframe tbody tr th {\n",
       "        vertical-align: top;\n",
       "    }\n",
       "\n",
       "    .dataframe thead th {\n",
       "        text-align: right;\n",
       "    }\n",
       "</style>\n",
       "<table border=\"1\" class=\"dataframe\">\n",
       "  <thead>\n",
       "    <tr style=\"text-align: right;\">\n",
       "      <th></th>\n",
       "      <th>PLAYER_SK</th>\n",
       "      <th>Player_Id</th>\n",
       "      <th>Player_Name</th>\n",
       "      <th>DOB</th>\n",
       "      <th>Batting_hand</th>\n",
       "      <th>Bowling_skill</th>\n",
       "      <th>Country_Name</th>\n",
       "    </tr>\n",
       "  </thead>\n",
       "  <tbody>\n",
       "    <tr>\n",
       "      <th>0</th>\n",
       "      <td>0</td>\n",
       "      <td>1</td>\n",
       "      <td>SC Ganguly</td>\n",
       "      <td>1972-07-08</td>\n",
       "      <td>Left-hand bat</td>\n",
       "      <td>Right-arm medium</td>\n",
       "      <td>India</td>\n",
       "    </tr>\n",
       "    <tr>\n",
       "      <th>1</th>\n",
       "      <td>1</td>\n",
       "      <td>2</td>\n",
       "      <td>BB McCullum</td>\n",
       "      <td>1981-09-27</td>\n",
       "      <td>Right-hand bat</td>\n",
       "      <td>Right-arm medium</td>\n",
       "      <td>New Zealand</td>\n",
       "    </tr>\n",
       "  </tbody>\n",
       "</table>\n",
       "</div>"
      ],
      "text/plain": [
       "   PLAYER_SK  Player_Id  Player_Name         DOB    Batting_hand  \\\n",
       "0          0          1   SC Ganguly  1972-07-08   Left-hand bat   \n",
       "1          1          2  BB McCullum  1981-09-27  Right-hand bat   \n",
       "\n",
       "      Bowling_skill Country_Name  \n",
       "0  Right-arm medium        India  \n",
       "1  Right-arm medium  New Zealand  "
      ]
     },
     "execution_count": 50,
     "metadata": {},
     "output_type": "execute_result"
    }
   ],
   "source": [
    "players.head(2)"
   ]
  },
  {
   "cell_type": "markdown",
   "metadata": {
    "_uuid": "569c429b92daf73778a3f2a547f870bb6301d597"
   },
   "source": [
    "Let's look at the batting and bowling styles of IPL Players"
   ]
  },
  {
   "cell_type": "code",
   "execution_count": 51,
   "metadata": {
    "_kg_hide-input": true,
    "_uuid": "67ebf6d925f06347250f58088079c2e522b9aa6a"
   },
   "outputs": [],
   "source": [
    "players.replace(to_replace=' Right-hand bat', value = 'Right-hand bat', inplace=True) #Clean the data "
   ]
  },
  {
   "cell_type": "code",
   "execution_count": 52,
   "metadata": {
    "_kg_hide-input": true,
    "_uuid": "285ed5f21fcccd3715641c1418b304738bd4a380"
   },
   "outputs": [],
   "source": [
    "players.replace(to_replace=' Left-hand bat', value = 'Left-hand bat', inplace=True) #Clean the data "
   ]
  },
  {
   "cell_type": "code",
   "execution_count": 53,
   "metadata": {
    "_kg_hide-input": true,
    "_uuid": "48c53b14e356933f7ce4e97e8041a8eb59487d74"
   },
   "outputs": [],
   "source": [
    "\n",
    "players.replace(to_replace='Right-handed', value = 'Right-hand bat', inplace=True) #Clean the data "
   ]
  },
  {
   "cell_type": "code",
   "execution_count": 54,
   "metadata": {
    "_kg_hide-input": true,
    "_uuid": "908a5b509f5dcf938efea4598a2588e0f4126822"
   },
   "outputs": [
    {
     "ename": "NameError",
     "evalue": "name 'iplot' is not defined",
     "output_type": "error",
     "traceback": [
      "\u001b[1;31m---------------------------------------------------------------------------\u001b[0m",
      "\u001b[1;31mNameError\u001b[0m                                 Traceback (most recent call last)",
      "\u001b[1;32m<ipython-input-54-a92b34cab1e2>\u001b[0m in \u001b[0;36m<module>\u001b[1;34m\u001b[0m\n\u001b[0;32m     27\u001b[0m     }\n\u001b[0;32m     28\u001b[0m }\n\u001b[1;32m---> 29\u001b[1;33m \u001b[0miplot\u001b[0m\u001b[1;33m(\u001b[0m\u001b[0mfig\u001b[0m\u001b[1;33m,\u001b[0m \u001b[0mfilename\u001b[0m\u001b[1;33m=\u001b[0m\u001b[1;34m'donut'\u001b[0m\u001b[1;33m)\u001b[0m\u001b[1;33m\u001b[0m\u001b[1;33m\u001b[0m\u001b[0m\n\u001b[0m",
      "\u001b[1;31mNameError\u001b[0m: name 'iplot' is not defined"
     ]
    }
   ],
   "source": [
    "temp = players[\"Batting_hand\"].value_counts()\n",
    "fig = {\n",
    "  \"data\": [\n",
    "    {\n",
    "      \"values\": temp.values,\n",
    "      \"labels\": temp.index,\n",
    "      \"domain\": {\"x\": [0, 1]},\n",
    "      \"hole\": .6,\n",
    "      \"type\": \"pie\"\n",
    "    },\n",
    "    \n",
    "    ],\n",
    "  \"layout\": {\n",
    "        \"title\":\"Batting Style\",\n",
    "        \"annotations\": [\n",
    "            {\n",
    "                \"font\": {\n",
    "                    \"size\": 17\n",
    "                },\n",
    "                \"showarrow\": False,\n",
    "                \"text\": \"Batting Style\",\n",
    "                \"x\": 0.5,\n",
    "                \"y\": 0.5\n",
    "            }\n",
    "            \n",
    "        ]\n",
    "    }\n",
    "}\n",
    "iplot(fig, filename='donut')"
   ]
  },
  {
   "cell_type": "code",
   "execution_count": 55,
   "metadata": {
    "_kg_hide-input": true,
    "_uuid": "ad41493b9cd8e82eeb61c44e45d109a3ed95301e"
   },
   "outputs": [
    {
     "data": {
      "image/png": "[encoded data removed]",
      "text/plain": [
       "<Figure size 864x432 with 1 Axes>"
      ]
     },
     "metadata": {
      "needs_background": "light"
     },
     "output_type": "display_data"
    }
   ],
   "source": [
    "plt.figure(figsize=(12,6))\n",
    "ax=sns.countplot(x='Bowling_skill', data=players, order=pd.value_counts(players['Bowling_skill']).iloc[:10].index)\n",
    "ax.set_xticklabels(ax.get_xticklabels(), rotation=40, ha=\"right\")\n",
    "plt.show()"
   ]
  },
  {
   "cell_type": "markdown",
   "metadata": {
    "_uuid": "e363f07354038b295a924af8e61d3cf46daa541e"
   },
   "source": [
    "Right arm bat and Right arm medium are clearly more popular\n",
    "\n",
    "Now, let's look at the countries."
   ]
  },
  {
   "cell_type": "code",
   "execution_count": 56,
   "metadata": {
    "_kg_hide-input": true,
    "_uuid": "8b20cba8451c090776d66ccaf988c8bb30a4306a"
   },
   "outputs": [
    {
     "ename": "NameError",
     "evalue": "name 'go' is not defined",
     "output_type": "error",
     "traceback": [
      "\u001b[1;31m---------------------------------------------------------------------------\u001b[0m",
      "\u001b[1;31mNameError\u001b[0m                                 Traceback (most recent call last)",
      "\u001b[1;32m<ipython-input-56-f93f833b1fd1>\u001b[0m in \u001b[0;36m<module>\u001b[1;34m\u001b[0m\n\u001b[0;32m      3\u001b[0m \u001b[0mvalues\u001b[0m \u001b[1;33m=\u001b[0m \u001b[0mlist\u001b[0m\u001b[1;33m(\u001b[0m\u001b[0mreversed\u001b[0m\u001b[1;33m(\u001b[0m\u001b[0mlist\u001b[0m\u001b[1;33m(\u001b[0m\u001b[0magg\u001b[0m\u001b[1;33m.\u001b[0m\u001b[0mvalues\u001b[0m\u001b[1;33m)\u001b[0m\u001b[1;33m)\u001b[0m\u001b[1;33m)\u001b[0m\u001b[1;33m\u001b[0m\u001b[1;33m\u001b[0m\u001b[0m\n\u001b[0;32m      4\u001b[0m \u001b[1;33m\u001b[0m\u001b[0m\n\u001b[1;32m----> 5\u001b[1;33m \u001b[0mtrace1\u001b[0m \u001b[1;33m=\u001b[0m \u001b[0mgo\u001b[0m\u001b[1;33m.\u001b[0m\u001b[0mPie\u001b[0m\u001b[1;33m(\u001b[0m\u001b[0mlabels\u001b[0m\u001b[1;33m=\u001b[0m\u001b[0mlabels\u001b[0m\u001b[1;33m,\u001b[0m \u001b[0mvalues\u001b[0m\u001b[1;33m=\u001b[0m\u001b[0mvalues\u001b[0m\u001b[1;33m,\u001b[0m \u001b[0mmarker\u001b[0m\u001b[1;33m=\u001b[0m\u001b[0mdict\u001b[0m\u001b[1;33m(\u001b[0m\u001b[0mcolors\u001b[0m\u001b[1;33m=\u001b[0m\u001b[1;33m[\u001b[0m\u001b[1;34m'red'\u001b[0m\u001b[1;33m]\u001b[0m\u001b[1;33m)\u001b[0m\u001b[1;33m)\u001b[0m\u001b[1;33m\u001b[0m\u001b[1;33m\u001b[0m\u001b[0m\n\u001b[0m\u001b[0;32m      6\u001b[0m \u001b[0mlayout\u001b[0m \u001b[1;33m=\u001b[0m \u001b[0mdict\u001b[0m\u001b[1;33m(\u001b[0m\u001b[0mtitle\u001b[0m\u001b[1;33m=\u001b[0m\u001b[1;34m'Top Countries'\u001b[0m\u001b[1;33m,\u001b[0m \u001b[0mlegend\u001b[0m\u001b[1;33m=\u001b[0m\u001b[0mdict\u001b[0m\u001b[1;33m(\u001b[0m\u001b[0morientation\u001b[0m\u001b[1;33m=\u001b[0m\u001b[1;34m\"h\"\u001b[0m\u001b[1;33m)\u001b[0m\u001b[1;33m)\u001b[0m\u001b[1;33m;\u001b[0m\u001b[1;33m\u001b[0m\u001b[1;33m\u001b[0m\u001b[0m\n\u001b[0;32m      7\u001b[0m \u001b[1;33m\u001b[0m\u001b[0m\n",
      "\u001b[1;31mNameError\u001b[0m: name 'go' is not defined"
     ]
    }
   ],
   "source": [
    "agg = players['Country_Name'].value_counts()[:10]\n",
    "labels = list(reversed(list(agg.index )))\n",
    "values = list(reversed(list(agg.values)))\n",
    "\n",
    "trace1 = go.Pie(labels=labels, values=values, marker=dict(colors=['red']))\n",
    "layout = dict(title='Top Countries', legend=dict(orientation=\"h\"));\n",
    "\n",
    "\n",
    "fig = go.Figure(data=[trace1], layout=layout)\n",
    "iplot(fig, filename='stacked-bar')\n"
   ]
  },
  {
   "cell_type": "markdown",
   "metadata": {
    "_uuid": "4a032e2fe6652a796eab4bb0d87676860de66f08"
   },
   "source": [
    "Most players are from India followed by Australia and South Africa"
   ]
  },
  {
   "cell_type": "markdown",
   "metadata": {
    "_uuid": "1a496b36392917fd23753043c9e31a8d49c10e75"
   },
   "source": [
    "**BALL FACT**\n",
    "\n",
    "I will now quickly dive into the next dataset Ball Fact. This has lot of information about each ball bowled in the IPL"
   ]
  },
  {
   "cell_type": "code",
   "execution_count": 57,
   "metadata": {
    "_kg_hide-input": true,
    "_kg_hide-output": true,
    "_uuid": "9b41e177ecf692b8137754bacaefe48749e68e19"
   },
   "outputs": [
    {
     "data": {
      "text/html": [
       "<div>\n",
       "<style scoped>\n",
       "    .dataframe tbody tr th:only-of-type {\n",
       "        vertical-align: middle;\n",
       "    }\n",
       "\n",
       "    .dataframe tbody tr th {\n",
       "        vertical-align: top;\n",
       "    }\n",
       "\n",
       "    .dataframe thead th {\n",
       "        text-align: right;\n",
       "    }\n",
       "</style>\n",
       "<table border=\"1\" class=\"dataframe\">\n",
       "  <thead>\n",
       "    <tr style=\"text-align: right;\">\n",
       "      <th></th>\n",
       "      <th>Ball_key</th>\n",
       "      <th>MatcH_id</th>\n",
       "      <th>Over_id</th>\n",
       "      <th>Ball_id</th>\n",
       "      <th>Innings_No</th>\n",
       "      <th>Team_Batting</th>\n",
       "      <th>Team_Bowling</th>\n",
       "      <th>Striker_Batting_Position</th>\n",
       "      <th>StrikerKey</th>\n",
       "      <th>NonStrikerKey</th>\n",
       "      <th>...</th>\n",
       "      <th>NONStriker_SK</th>\n",
       "      <th>Fielder_match_SK</th>\n",
       "      <th>Fielder_SK</th>\n",
       "      <th>Bowler_match_SK</th>\n",
       "      <th>BOWLER_SK</th>\n",
       "      <th>PlayerOut_match_SK</th>\n",
       "      <th>BattingTeam_SK</th>\n",
       "      <th>BowlingTeam_SK</th>\n",
       "      <th>Keeper_Catch</th>\n",
       "      <th>Player_out_sk</th>\n",
       "    </tr>\n",
       "  </thead>\n",
       "  <tbody>\n",
       "    <tr>\n",
       "      <th>count</th>\n",
       "      <td>1.504510e+05</td>\n",
       "      <td>1.504510e+05</td>\n",
       "      <td>150451.000000</td>\n",
       "      <td>150451.000000</td>\n",
       "      <td>150451.000000</td>\n",
       "      <td>150451.0</td>\n",
       "      <td>150451.0</td>\n",
       "      <td>136590.000000</td>\n",
       "      <td>1.504510e+05</td>\n",
       "      <td>1.504510e+05</td>\n",
       "      <td>...</td>\n",
       "      <td>150451.000000</td>\n",
       "      <td>150451.000000</td>\n",
       "      <td>150451.000000</td>\n",
       "      <td>150451.000000</td>\n",
       "      <td>150451.000000</td>\n",
       "      <td>150451.000000</td>\n",
       "      <td>150451.000000</td>\n",
       "      <td>150451.000000</td>\n",
       "      <td>150451.000000</td>\n",
       "      <td>13861.000000</td>\n",
       "    </tr>\n",
       "    <tr>\n",
       "      <th>unique</th>\n",
       "      <td>NaN</td>\n",
       "      <td>NaN</td>\n",
       "      <td>NaN</td>\n",
       "      <td>NaN</td>\n",
       "      <td>NaN</td>\n",
       "      <td>23.0</td>\n",
       "      <td>29.0</td>\n",
       "      <td>NaN</td>\n",
       "      <td>NaN</td>\n",
       "      <td>NaN</td>\n",
       "      <td>...</td>\n",
       "      <td>NaN</td>\n",
       "      <td>NaN</td>\n",
       "      <td>NaN</td>\n",
       "      <td>NaN</td>\n",
       "      <td>NaN</td>\n",
       "      <td>NaN</td>\n",
       "      <td>NaN</td>\n",
       "      <td>NaN</td>\n",
       "      <td>NaN</td>\n",
       "      <td>NaN</td>\n",
       "    </tr>\n",
       "    <tr>\n",
       "      <th>top</th>\n",
       "      <td>NaN</td>\n",
       "      <td>NaN</td>\n",
       "      <td>NaN</td>\n",
       "      <td>NaN</td>\n",
       "      <td>NaN</td>\n",
       "      <td>7.0</td>\n",
       "      <td>7.0</td>\n",
       "      <td>NaN</td>\n",
       "      <td>NaN</td>\n",
       "      <td>NaN</td>\n",
       "      <td>...</td>\n",
       "      <td>NaN</td>\n",
       "      <td>NaN</td>\n",
       "      <td>NaN</td>\n",
       "      <td>NaN</td>\n",
       "      <td>NaN</td>\n",
       "      <td>NaN</td>\n",
       "      <td>NaN</td>\n",
       "      <td>NaN</td>\n",
       "      <td>NaN</td>\n",
       "      <td>NaN</td>\n",
       "    </tr>\n",
       "    <tr>\n",
       "      <th>freq</th>\n",
       "      <td>NaN</td>\n",
       "      <td>NaN</td>\n",
       "      <td>NaN</td>\n",
       "      <td>NaN</td>\n",
       "      <td>NaN</td>\n",
       "      <td>16975.0</td>\n",
       "      <td>16019.0</td>\n",
       "      <td>NaN</td>\n",
       "      <td>NaN</td>\n",
       "      <td>NaN</td>\n",
       "      <td>...</td>\n",
       "      <td>NaN</td>\n",
       "      <td>NaN</td>\n",
       "      <td>NaN</td>\n",
       "      <td>NaN</td>\n",
       "      <td>NaN</td>\n",
       "      <td>NaN</td>\n",
       "      <td>NaN</td>\n",
       "      <td>NaN</td>\n",
       "      <td>NaN</td>\n",
       "      <td>NaN</td>\n",
       "    </tr>\n",
       "    <tr>\n",
       "      <th>mean</th>\n",
       "      <td>6.362075e+12</td>\n",
       "      <td>6.362075e+05</td>\n",
       "      <td>10.142704</td>\n",
       "      <td>3.616639</td>\n",
       "      <td>1.482190</td>\n",
       "      <td>NaN</td>\n",
       "      <td>NaN</td>\n",
       "      <td>3.583637</td>\n",
       "      <td>6.362075e+10</td>\n",
       "      <td>6.362075e+10</td>\n",
       "      <td>...</td>\n",
       "      <td>134.623419</td>\n",
       "      <td>689.975108</td>\n",
       "      <td>4.526730</td>\n",
       "      <td>19676.764555</td>\n",
       "      <td>193.087098</td>\n",
       "      <td>970.324278</td>\n",
       "      <td>4.346272</td>\n",
       "      <td>4.332806</td>\n",
       "      <td>0.000432</td>\n",
       "      <td>11.947334</td>\n",
       "    </tr>\n",
       "    <tr>\n",
       "      <th>std</th>\n",
       "      <td>2.343623e+12</td>\n",
       "      <td>2.343623e+05</td>\n",
       "      <td>5.674255</td>\n",
       "      <td>1.807638</td>\n",
       "      <td>0.501768</td>\n",
       "      <td>NaN</td>\n",
       "      <td>NaN</td>\n",
       "      <td>2.145090</td>\n",
       "      <td>2.343623e+10</td>\n",
       "      <td>2.343623e+10</td>\n",
       "      <td>...</td>\n",
       "      <td>120.070411</td>\n",
       "      <td>3698.806643</td>\n",
       "      <td>37.215835</td>\n",
       "      <td>4026.168474</td>\n",
       "      <td>132.998950</td>\n",
       "      <td>4353.992290</td>\n",
       "      <td>3.217641</td>\n",
       "      <td>3.219607</td>\n",
       "      <td>0.020781</td>\n",
       "      <td>66.254798</td>\n",
       "    </tr>\n",
       "    <tr>\n",
       "      <th>min</th>\n",
       "      <td>3.359870e+12</td>\n",
       "      <td>3.359870e+05</td>\n",
       "      <td>1.000000</td>\n",
       "      <td>1.000000</td>\n",
       "      <td>1.000000</td>\n",
       "      <td>NaN</td>\n",
       "      <td>NaN</td>\n",
       "      <td>1.000000</td>\n",
       "      <td>3.359870e+10</td>\n",
       "      <td>3.359870e+10</td>\n",
       "      <td>...</td>\n",
       "      <td>0.000000</td>\n",
       "      <td>-1.000000</td>\n",
       "      <td>-1.000000</td>\n",
       "      <td>12697.000000</td>\n",
       "      <td>0.000000</td>\n",
       "      <td>-1.000000</td>\n",
       "      <td>0.000000</td>\n",
       "      <td>0.000000</td>\n",
       "      <td>0.000000</td>\n",
       "      <td>-1.000000</td>\n",
       "    </tr>\n",
       "    <tr>\n",
       "      <th>25%</th>\n",
       "      <td>4.191540e+12</td>\n",
       "      <td>4.191540e+05</td>\n",
       "      <td>5.000000</td>\n",
       "      <td>2.000000</td>\n",
       "      <td>1.000000</td>\n",
       "      <td>NaN</td>\n",
       "      <td>NaN</td>\n",
       "      <td>2.000000</td>\n",
       "      <td>4.191540e+10</td>\n",
       "      <td>4.191540e+10</td>\n",
       "      <td>...</td>\n",
       "      <td>39.000000</td>\n",
       "      <td>-1.000000</td>\n",
       "      <td>-1.000000</td>\n",
       "      <td>16175.000000</td>\n",
       "      <td>76.000000</td>\n",
       "      <td>-1.000000</td>\n",
       "      <td>2.000000</td>\n",
       "      <td>2.000000</td>\n",
       "      <td>0.000000</td>\n",
       "      <td>-1.000000</td>\n",
       "    </tr>\n",
       "    <tr>\n",
       "      <th>50%</th>\n",
       "      <td>5.483820e+12</td>\n",
       "      <td>5.483820e+05</td>\n",
       "      <td>10.000000</td>\n",
       "      <td>4.000000</td>\n",
       "      <td>1.000000</td>\n",
       "      <td>NaN</td>\n",
       "      <td>NaN</td>\n",
       "      <td>3.000000</td>\n",
       "      <td>5.483820e+10</td>\n",
       "      <td>5.483820e+10</td>\n",
       "      <td>...</td>\n",
       "      <td>95.000000</td>\n",
       "      <td>-1.000000</td>\n",
       "      <td>-1.000000</td>\n",
       "      <td>19674.000000</td>\n",
       "      <td>173.000000</td>\n",
       "      <td>-1.000000</td>\n",
       "      <td>4.000000</td>\n",
       "      <td>4.000000</td>\n",
       "      <td>0.000000</td>\n",
       "      <td>-1.000000</td>\n",
       "    </tr>\n",
       "    <tr>\n",
       "      <th>75%</th>\n",
       "      <td>8.297420e+12</td>\n",
       "      <td>8.297420e+05</td>\n",
       "      <td>15.000000</td>\n",
       "      <td>5.000000</td>\n",
       "      <td>2.000000</td>\n",
       "      <td>NaN</td>\n",
       "      <td>NaN</td>\n",
       "      <td>5.000000</td>\n",
       "      <td>8.297420e+10</td>\n",
       "      <td>8.297420e+10</td>\n",
       "      <td>...</td>\n",
       "      <td>207.000000</td>\n",
       "      <td>-1.000000</td>\n",
       "      <td>-1.000000</td>\n",
       "      <td>23131.000000</td>\n",
       "      <td>309.000000</td>\n",
       "      <td>-1.000000</td>\n",
       "      <td>6.000000</td>\n",
       "      <td>6.000000</td>\n",
       "      <td>0.000000</td>\n",
       "      <td>-1.000000</td>\n",
       "    </tr>\n",
       "    <tr>\n",
       "      <th>max</th>\n",
       "      <td>1.082650e+13</td>\n",
       "      <td>1.082650e+06</td>\n",
       "      <td>20.000000</td>\n",
       "      <td>9.000000</td>\n",
       "      <td>4.000000</td>\n",
       "      <td>NaN</td>\n",
       "      <td>NaN</td>\n",
       "      <td>11.000000</td>\n",
       "      <td>1.082650e+11</td>\n",
       "      <td>1.082650e+11</td>\n",
       "      <td>...</td>\n",
       "      <td>496.000000</td>\n",
       "      <td>26680.000000</td>\n",
       "      <td>496.000000</td>\n",
       "      <td>26685.000000</td>\n",
       "      <td>496.000000</td>\n",
       "      <td>26685.000000</td>\n",
       "      <td>12.000000</td>\n",
       "      <td>12.000000</td>\n",
       "      <td>1.000000</td>\n",
       "      <td>496.000000</td>\n",
       "    </tr>\n",
       "  </tbody>\n",
       "</table>\n",
       "<p>11 rows × 53 columns</p>\n",
       "</div>"
      ],
      "text/plain": [
       "            Ball_key      MatcH_id        Over_id        Ball_id  \\\n",
       "count   1.504510e+05  1.504510e+05  150451.000000  150451.000000   \n",
       "unique           NaN           NaN            NaN            NaN   \n",
       "top              NaN           NaN            NaN            NaN   \n",
       "freq             NaN           NaN            NaN            NaN   \n",
       "mean    6.362075e+12  6.362075e+05      10.142704       3.616639   \n",
       "std     2.343623e+12  2.343623e+05       5.674255       1.807638   \n",
       "min     3.359870e+12  3.359870e+05       1.000000       1.000000   \n",
       "25%     4.191540e+12  4.191540e+05       5.000000       2.000000   \n",
       "50%     5.483820e+12  5.483820e+05      10.000000       4.000000   \n",
       "75%     8.297420e+12  8.297420e+05      15.000000       5.000000   \n",
       "max     1.082650e+13  1.082650e+06      20.000000       9.000000   \n",
       "\n",
       "           Innings_No  Team_Batting  Team_Bowling  Striker_Batting_Position  \\\n",
       "count   150451.000000      150451.0      150451.0             136590.000000   \n",
       "unique            NaN          23.0          29.0                       NaN   \n",
       "top               NaN           7.0           7.0                       NaN   \n",
       "freq              NaN       16975.0       16019.0                       NaN   \n",
       "mean         1.482190           NaN           NaN                  3.583637   \n",
       "std          0.501768           NaN           NaN                  2.145090   \n",
       "min          1.000000           NaN           NaN                  1.000000   \n",
       "25%          1.000000           NaN           NaN                  2.000000   \n",
       "50%          1.000000           NaN           NaN                  3.000000   \n",
       "75%          2.000000           NaN           NaN                  5.000000   \n",
       "max          4.000000           NaN           NaN                 11.000000   \n",
       "\n",
       "          StrikerKey  NonStrikerKey  ...  NONStriker_SK  Fielder_match_SK  \\\n",
       "count   1.504510e+05   1.504510e+05  ...  150451.000000     150451.000000   \n",
       "unique           NaN            NaN  ...            NaN               NaN   \n",
       "top              NaN            NaN  ...            NaN               NaN   \n",
       "freq             NaN            NaN  ...            NaN               NaN   \n",
       "mean    6.362075e+10   6.362075e+10  ...     134.623419        689.975108   \n",
       "std     2.343623e+10   2.343623e+10  ...     120.070411       3698.806643   \n",
       "min     3.359870e+10   3.359870e+10  ...       0.000000         -1.000000   \n",
       "25%     4.191540e+10   4.191540e+10  ...      39.000000         -1.000000   \n",
       "50%     5.483820e+10   5.483820e+10  ...      95.000000         -1.000000   \n",
       "75%     8.297420e+10   8.297420e+10  ...     207.000000         -1.000000   \n",
       "max     1.082650e+11   1.082650e+11  ...     496.000000      26680.000000   \n",
       "\n",
       "           Fielder_SK Bowler_match_SK      BOWLER_SK  PlayerOut_match_SK  \\\n",
       "count   150451.000000   150451.000000  150451.000000       150451.000000   \n",
       "unique            NaN             NaN            NaN                 NaN   \n",
       "top               NaN             NaN            NaN                 NaN   \n",
       "freq              NaN             NaN            NaN                 NaN   \n",
       "mean         4.526730    19676.764555     193.087098          970.324278   \n",
       "std         37.215835     4026.168474     132.998950         4353.992290   \n",
       "min         -1.000000    12697.000000       0.000000           -1.000000   \n",
       "25%         -1.000000    16175.000000      76.000000           -1.000000   \n",
       "50%         -1.000000    19674.000000     173.000000           -1.000000   \n",
       "75%         -1.000000    23131.000000     309.000000           -1.000000   \n",
       "max        496.000000    26685.000000     496.000000        26685.000000   \n",
       "\n",
       "        BattingTeam_SK  BowlingTeam_SK   Keeper_Catch  Player_out_sk  \n",
       "count    150451.000000   150451.000000  150451.000000   13861.000000  \n",
       "unique             NaN             NaN            NaN            NaN  \n",
       "top                NaN             NaN            NaN            NaN  \n",
       "freq               NaN             NaN            NaN            NaN  \n",
       "mean          4.346272        4.332806       0.000432      11.947334  \n",
       "std           3.217641        3.219607       0.020781      66.254798  \n",
       "min           0.000000        0.000000       0.000000      -1.000000  \n",
       "25%           2.000000        2.000000       0.000000      -1.000000  \n",
       "50%           4.000000        4.000000       0.000000      -1.000000  \n",
       "75%           6.000000        6.000000       0.000000      -1.000000  \n",
       "max          12.000000       12.000000       1.000000     496.000000  \n",
       "\n",
       "[11 rows x 53 columns]"
      ]
     },
     "execution_count": 57,
     "metadata": {},
     "output_type": "execute_result"
    }
   ],
   "source": [
    "ball_fact.describe(include='all')"
   ]
  },
  {
   "cell_type": "markdown",
   "metadata": {
    "_uuid": "b52a2cc2c327f1f755cb3961026939c1f8226c63"
   },
   "source": [
    "An extra is a run scored by a means other than a batsman hitting the ball. Other than runs scored off the bat from a no-ball, a batsman is not given credit for extras and the extras are tallied separately on the scorecard and count only towards the team's score. Let's see how many extras, aka free runs, the teams are giving:"
   ]
  },
  {
   "cell_type": "code",
   "execution_count": 58,
   "metadata": {
    "_kg_hide-input": true,
    "_uuid": "627f9e2116683e285fe7432358ad956579982006"
   },
   "outputs": [
    {
     "data": {
      "text/plain": [
       "array(['legbyes', 'No Extras', 'wides', 'byes', 'noballs', 'penalty',\n",
       "       'Wides', 'Legbyes', 'Byes', 'Noballs'], dtype=object)"
      ]
     },
     "execution_count": 58,
     "metadata": {},
     "output_type": "execute_result"
    }
   ],
   "source": [
    "ball_fact.Extra_Type.unique()"
   ]
  },
  {
   "cell_type": "markdown",
   "metadata": {
    "_uuid": "cdfa11c481a91ce46aa9913cbb93a86d8e89d86b"
   },
   "source": [
    "Extra types in our data are not clean. For e.g. 'wides' is also in the dataset as 'Wides', 'noballs --> 'Noballs'. Let's clean this up. "
   ]
  },
  {
   "cell_type": "code",
   "execution_count": 59,
   "metadata": {
    "_kg_hide-input": true,
    "_uuid": "70f71cc8b7559ccb029697fe68c1e47335b74b63"
   },
   "outputs": [],
   "source": [
    "ball_fact.replace(to_replace='Wides', value = 'wides', inplace=True) #Replace Wides with wides"
   ]
  },
  {
   "cell_type": "code",
   "execution_count": 60,
   "metadata": {
    "_kg_hide-input": true,
    "_uuid": "4b75df700563f020b76e501f3a1812be3c6d87cc"
   },
   "outputs": [],
   "source": [
    "ball_fact.replace(to_replace='Legbyes', value = 'legbyes', inplace=True) #Legbyes with legbyes"
   ]
  },
  {
   "cell_type": "code",
   "execution_count": 61,
   "metadata": {
    "_kg_hide-input": true,
    "_uuid": "71f3a5774499eb56c5a73b51c9bab0fa3eedbcf4"
   },
   "outputs": [],
   "source": [
    "ball_fact.replace(to_replace='Noballs', value = 'noballs', inplace=True) #Noballs with noballs"
   ]
  },
  {
   "cell_type": "code",
   "execution_count": 62,
   "metadata": {
    "_kg_hide-input": true,
    "_uuid": "49248916d0e834caf3c08bc5d71312c60aa2434e"
   },
   "outputs": [],
   "source": [
    "ball_fact.replace(to_replace='Byes', value = 'byes', inplace=True) #Byes with byes"
   ]
  },
  {
   "cell_type": "code",
   "execution_count": 63,
   "metadata": {
    "_kg_hide-input": true,
    "_uuid": "5ae827e1d587676aa62fec3e5e77fc2f1be0133d"
   },
   "outputs": [
    {
     "ename": "NameError",
     "evalue": "name 'go' is not defined",
     "output_type": "error",
     "traceback": [
      "\u001b[1;31m---------------------------------------------------------------------------\u001b[0m",
      "\u001b[1;31mNameError\u001b[0m                                 Traceback (most recent call last)",
      "\u001b[1;32m<ipython-input-63-4de478a24cfa>\u001b[0m in \u001b[0;36m<module>\u001b[1;34m\u001b[0m\n\u001b[0;32m      4\u001b[0m \u001b[0mvalues\u001b[0m \u001b[1;33m=\u001b[0m \u001b[0mlist\u001b[0m\u001b[1;33m(\u001b[0m\u001b[0mreversed\u001b[0m\u001b[1;33m(\u001b[0m\u001b[0mlist\u001b[0m\u001b[1;33m(\u001b[0m\u001b[0magg\u001b[0m\u001b[1;33m.\u001b[0m\u001b[0mvalues\u001b[0m\u001b[1;33m)\u001b[0m\u001b[1;33m)\u001b[0m\u001b[1;33m)\u001b[0m\u001b[1;33m\u001b[0m\u001b[1;33m\u001b[0m\u001b[0m\n\u001b[0;32m      5\u001b[0m \u001b[1;33m\u001b[0m\u001b[0m\n\u001b[1;32m----> 6\u001b[1;33m \u001b[0mtrace1\u001b[0m \u001b[1;33m=\u001b[0m \u001b[0mgo\u001b[0m\u001b[1;33m.\u001b[0m\u001b[0mBar\u001b[0m\u001b[1;33m(\u001b[0m\u001b[0mx\u001b[0m\u001b[1;33m=\u001b[0m\u001b[0mvalues\u001b[0m\u001b[1;33m,\u001b[0m \u001b[0my\u001b[0m\u001b[1;33m=\u001b[0m\u001b[0mlabels\u001b[0m\u001b[1;33m,\u001b[0m \u001b[0mopacity\u001b[0m\u001b[1;33m=\u001b[0m\u001b[1;36m0.75\u001b[0m\u001b[1;33m,\u001b[0m \u001b[0morientation\u001b[0m\u001b[1;33m=\u001b[0m\u001b[1;34m'h'\u001b[0m\u001b[1;33m,\u001b[0m \u001b[0mname\u001b[0m\u001b[1;33m=\u001b[0m\u001b[1;34m\"month\"\u001b[0m\u001b[1;33m,\u001b[0m \u001b[0mmarker\u001b[0m\u001b[1;33m=\u001b[0m\u001b[0mdict\u001b[0m\u001b[1;33m(\u001b[0m\u001b[0mcolor\u001b[0m\u001b[1;33m=\u001b[0m\u001b[1;34m'rgba(0, 20, 50, 0.6)'\u001b[0m\u001b[1;33m)\u001b[0m\u001b[1;33m)\u001b[0m\u001b[1;33m\u001b[0m\u001b[1;33m\u001b[0m\u001b[0m\n\u001b[0m\u001b[0;32m      7\u001b[0m \u001b[0mtrace1\u001b[0m \u001b[1;33m=\u001b[0m \u001b[0mgo\u001b[0m\u001b[1;33m.\u001b[0m\u001b[0mPie\u001b[0m\u001b[1;33m(\u001b[0m\u001b[0mlabels\u001b[0m\u001b[1;33m=\u001b[0m\u001b[0mlabels\u001b[0m\u001b[1;33m,\u001b[0m \u001b[0mvalues\u001b[0m\u001b[1;33m=\u001b[0m\u001b[0mvalues\u001b[0m\u001b[1;33m)\u001b[0m\u001b[1;33m\u001b[0m\u001b[1;33m\u001b[0m\u001b[0m\n\u001b[0;32m      8\u001b[0m \u001b[0mlayout\u001b[0m \u001b[1;33m=\u001b[0m \u001b[0mdict\u001b[0m\u001b[1;33m(\u001b[0m\u001b[0mtitle\u001b[0m\u001b[1;33m=\u001b[0m\u001b[1;34m'Extras given'\u001b[0m\u001b[1;33m,\u001b[0m \u001b[0mlegend\u001b[0m\u001b[1;33m=\u001b[0m\u001b[0mdict\u001b[0m\u001b[1;33m(\u001b[0m\u001b[0morientation\u001b[0m\u001b[1;33m=\u001b[0m\u001b[1;34m\"h\"\u001b[0m\u001b[1;33m)\u001b[0m\u001b[1;33m)\u001b[0m\u001b[1;33m;\u001b[0m\u001b[1;33m\u001b[0m\u001b[1;33m\u001b[0m\u001b[0m\n",
      "\u001b[1;31mNameError\u001b[0m: name 'go' is not defined"
     ]
    }
   ],
   "source": [
    "ball_df = ball_fact[ball_fact['Extra_Type']  != 'No Extras']\n",
    "agg = ball_df['Extra_Type'].value_counts()[:10]\n",
    "labels = list(reversed(list(agg.index )))\n",
    "values = list(reversed(list(agg.values)))\n",
    "\n",
    "trace1 = go.Bar(x=values, y=labels, opacity=0.75, orientation='h', name=\"month\", marker=dict(color='rgba(0, 20, 50, 0.6)'))\n",
    "trace1 = go.Pie(labels=labels, values=values)\n",
    "layout = dict(title='Extras given', legend=dict(orientation=\"h\"));\n",
    "\n",
    "\n",
    "fig = go.Figure(data=[trace1], layout=layout)\n",
    "iplot(fig, filename='stacked-bar')"
   ]
  },
  {
   "cell_type": "markdown",
   "metadata": {
    "_uuid": "06d9ac9ed964b11b5315d49c2b8da4871db0418a"
   },
   "source": [
    "More than half of the extra run given are through Wide. \n",
    "\n",
    "Dismissal:  Dismissal occurs when the batsman is out (also known as the fielding side taking a wicket and/or the batting side losing a wicket). At this point, a batsman must discontinue batting and leave the field permanently for the innings.  Let's see how the players are getting dismissed:"
   ]
  },
  {
   "cell_type": "code",
   "execution_count": null,
   "metadata": {
    "_kg_hide-input": true,
    "_uuid": "8c7e2c2c55c84f9f1e5675059c388d31245c2fe7"
   },
   "outputs": [],
   "source": [
    "ball_df = ball_fact[ball_fact['Out_type']  != 'Not Applicable']\n",
    "agg = ball_df['Out_type'].value_counts()[:10]\n",
    "labels = list(reversed(list(agg.index )))\n",
    "values = list(reversed(list(agg.values)))\n",
    "\n",
    "trace1 = go.Bar(x=values, y=labels, opacity=0.75, orientation='h', name=\"month\", marker=dict(color='rgba(0, 20, 50, 0.6)'))\n",
    "trace1 = go.Pie(labels=labels, values=values)\n",
    "layout = dict(title='Out Type', legend=dict(orientation=\"h\"));\n",
    "\n",
    "\n",
    "fig = go.Figure(data=[trace1], layout=layout)\n",
    "iplot(fig, filename='stacked-bar')"
   ]
  },
  {
   "cell_type": "markdown",
   "metadata": {
    "_uuid": "91d2f392ab8a8046ba0fc07d5de27865935a0b74"
   },
   "source": [
    "Most of the players are getting caught, followed by getting bowled\n",
    "\n",
    "\n",
    "*Thanks for reading the Kernel. I will continue updating this. **Please leave a comment** for any suggestions*"
   ]
  },
  {
   "cell_type": "code",
   "execution_count": null,
   "metadata": {
    "_uuid": "3f58bafdc26ef5242e1bea2efb74d4fec934c072",
    "collapsed": true
   },
   "outputs": [],
   "source": []
  },
  {
   "cell_type": "code",
   "execution_count": null,
   "metadata": {
    "_uuid": "0f783341a1d15e3c9425944d1a51e8c9275891a2",
    "collapsed": true
   },
   "outputs": [],
   "source": []
  }
 ],
 "metadata": {
  "kernelspec": {
   "display_name": "Python 3",
   "language": "python",
   "name": "python3"
  },
  "language_info": {
   "codemirror_mode": {
    "name": "ipython",
    "version": 3
   },
   "file_extension": ".py",
   "mimetype": "text/x-python",
   "name": "python",
   "nbconvert_exporter": "python",
   "pygments_lexer": "ipython3",
   "version": "3.7.3"
  }
 },
 "nbformat": 4,
 "nbformat_minor": 4
}
