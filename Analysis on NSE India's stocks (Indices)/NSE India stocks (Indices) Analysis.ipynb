{
 "cells": [
  {
   "cell_type": "markdown",
   "metadata": {
    "_uuid": "5f7390d1352e96878cbf7bc3e066a3623be94873"
   },
   "source": [
    "# importing the liabraries"
   ]
  },
  {
   "cell_type": "code",
   "execution_count": 5,
   "metadata": {
    "_uuid": "1e83eed2619fe67284f642b4dd59e41a49d17c2b"
   },
   "outputs": [],
   "source": [
    "import pandas as pd\n",
    "import numpy as np\n",
    "import matplotlib.pyplot as plt\n",
    "import seaborn as sns\n",
    "%matplotlib inline"
   ]
  },
  {
   "cell_type": "markdown",
   "metadata": {
    "_uuid": "56aec6849a4bc74cbe7730ca129c4f61e641e060"
   },
   "source": [
    "# reading the datasets"
   ]
  },
  {
   "cell_type": "code",
   "execution_count": 6,
   "metadata": {
    "_uuid": "7909a1542e3976a97d80a033577837acb0b767a6"
   },
   "outputs": [],
   "source": [
    "df1=pd.read_csv(r\"C:\\Users\\user\\Desktop\\portfolio -E\\Analysis on NSE India's stocks (Indices)\\banknifty.csv\")\n",
    "df2=pd.read_csv(r\"C:\\Users\\user\\Desktop\\portfolio -E\\Analysis on NSE India's stocks (Indices)\\nifty50.csv\")"
   ]
  },
  {
   "cell_type": "code",
   "execution_count": 7,
   "metadata": {
    "_uuid": "74b19963a32675c95d1374eddde25dde4a9cbac8"
   },
   "outputs": [
    {
     "data": {
      "text/html": [
       "<div>\n",
       "<style scoped>\n",
       "    .dataframe tbody tr th:only-of-type {\n",
       "        vertical-align: middle;\n",
       "    }\n",
       "\n",
       "    .dataframe tbody tr th {\n",
       "        vertical-align: top;\n",
       "    }\n",
       "\n",
       "    .dataframe thead th {\n",
       "        text-align: right;\n",
       "    }\n",
       "</style>\n",
       "<table border=\"1\" class=\"dataframe\">\n",
       "  <thead>\n",
       "    <tr style=\"text-align: right;\">\n",
       "      <th></th>\n",
       "      <th>index</th>\n",
       "      <th>date</th>\n",
       "      <th>time</th>\n",
       "      <th>open</th>\n",
       "      <th>high</th>\n",
       "      <th>low</th>\n",
       "      <th>close</th>\n",
       "    </tr>\n",
       "  </thead>\n",
       "  <tbody>\n",
       "    <tr>\n",
       "      <th>0</th>\n",
       "      <td>BANKNIFTY</td>\n",
       "      <td>20121203</td>\n",
       "      <td>09:16</td>\n",
       "      <td>12125.70</td>\n",
       "      <td>12161.70</td>\n",
       "      <td>12125.70</td>\n",
       "      <td>12160.95</td>\n",
       "    </tr>\n",
       "    <tr>\n",
       "      <th>1</th>\n",
       "      <td>BANKNIFTY</td>\n",
       "      <td>20121203</td>\n",
       "      <td>09:17</td>\n",
       "      <td>12161.75</td>\n",
       "      <td>12164.80</td>\n",
       "      <td>12130.40</td>\n",
       "      <td>12130.40</td>\n",
       "    </tr>\n",
       "    <tr>\n",
       "      <th>2</th>\n",
       "      <td>BANKNIFTY</td>\n",
       "      <td>20121203</td>\n",
       "      <td>09:18</td>\n",
       "      <td>12126.85</td>\n",
       "      <td>12156.10</td>\n",
       "      <td>12126.85</td>\n",
       "      <td>12156.10</td>\n",
       "    </tr>\n",
       "    <tr>\n",
       "      <th>3</th>\n",
       "      <td>BANKNIFTY</td>\n",
       "      <td>20121203</td>\n",
       "      <td>09:19</td>\n",
       "      <td>12157.25</td>\n",
       "      <td>12164.75</td>\n",
       "      <td>12151.60</td>\n",
       "      <td>12164.20</td>\n",
       "    </tr>\n",
       "    <tr>\n",
       "      <th>4</th>\n",
       "      <td>BANKNIFTY</td>\n",
       "      <td>20121203</td>\n",
       "      <td>09:20</td>\n",
       "      <td>12162.80</td>\n",
       "      <td>12162.80</td>\n",
       "      <td>12148.20</td>\n",
       "      <td>12151.15</td>\n",
       "    </tr>\n",
       "  </tbody>\n",
       "</table>\n",
       "</div>"
      ],
      "text/plain": [
       "       index      date   time      open      high       low     close\n",
       "0  BANKNIFTY  20121203  09:16  12125.70  12161.70  12125.70  12160.95\n",
       "1  BANKNIFTY  20121203  09:17  12161.75  12164.80  12130.40  12130.40\n",
       "2  BANKNIFTY  20121203  09:18  12126.85  12156.10  12126.85  12156.10\n",
       "3  BANKNIFTY  20121203  09:19  12157.25  12164.75  12151.60  12164.20\n",
       "4  BANKNIFTY  20121203  09:20  12162.80  12162.80  12148.20  12151.15"
      ]
     },
     "execution_count": 7,
     "metadata": {},
     "output_type": "execute_result"
    }
   ],
   "source": [
    "df1.head()"
   ]
  },
  {
   "cell_type": "code",
   "execution_count": 8,
   "metadata": {
    "_uuid": "612887dc20e3d7f8531f7c7169da834be35ab3e3"
   },
   "outputs": [
    {
     "data": {
      "text/html": [
       "<div>\n",
       "<style scoped>\n",
       "    .dataframe tbody tr th:only-of-type {\n",
       "        vertical-align: middle;\n",
       "    }\n",
       "\n",
       "    .dataframe tbody tr th {\n",
       "        vertical-align: top;\n",
       "    }\n",
       "\n",
       "    .dataframe thead th {\n",
       "        text-align: right;\n",
       "    }\n",
       "</style>\n",
       "<table border=\"1\" class=\"dataframe\">\n",
       "  <thead>\n",
       "    <tr style=\"text-align: right;\">\n",
       "      <th></th>\n",
       "      <th>index</th>\n",
       "      <th>date</th>\n",
       "      <th>time</th>\n",
       "      <th>open</th>\n",
       "      <th>high</th>\n",
       "      <th>low</th>\n",
       "      <th>close</th>\n",
       "    </tr>\n",
       "  </thead>\n",
       "  <tbody>\n",
       "    <tr>\n",
       "      <th>0</th>\n",
       "      <td>NIFTY</td>\n",
       "      <td>20130401</td>\n",
       "      <td>09:16</td>\n",
       "      <td>5701.15</td>\n",
       "      <td>5704.65</td>\n",
       "      <td>5694.30</td>\n",
       "      <td>5697.00</td>\n",
       "    </tr>\n",
       "    <tr>\n",
       "      <th>1</th>\n",
       "      <td>NIFTY</td>\n",
       "      <td>20130401</td>\n",
       "      <td>09:17</td>\n",
       "      <td>5697.05</td>\n",
       "      <td>5698.35</td>\n",
       "      <td>5695.65</td>\n",
       "      <td>5697.50</td>\n",
       "    </tr>\n",
       "    <tr>\n",
       "      <th>2</th>\n",
       "      <td>NIFTY</td>\n",
       "      <td>20130401</td>\n",
       "      <td>09:18</td>\n",
       "      <td>5697.90</td>\n",
       "      <td>5697.90</td>\n",
       "      <td>5690.60</td>\n",
       "      <td>5692.15</td>\n",
       "    </tr>\n",
       "    <tr>\n",
       "      <th>3</th>\n",
       "      <td>NIFTY</td>\n",
       "      <td>20130401</td>\n",
       "      <td>09:19</td>\n",
       "      <td>5691.65</td>\n",
       "      <td>5694.70</td>\n",
       "      <td>5691.65</td>\n",
       "      <td>5693.90</td>\n",
       "    </tr>\n",
       "    <tr>\n",
       "      <th>4</th>\n",
       "      <td>NIFTY</td>\n",
       "      <td>20130401</td>\n",
       "      <td>09:20</td>\n",
       "      <td>5694.40</td>\n",
       "      <td>5695.05</td>\n",
       "      <td>5693.35</td>\n",
       "      <td>5694.55</td>\n",
       "    </tr>\n",
       "  </tbody>\n",
       "</table>\n",
       "</div>"
      ],
      "text/plain": [
       "   index      date   time     open     high      low    close\n",
       "0  NIFTY  20130401  09:16  5701.15  5704.65  5694.30  5697.00\n",
       "1  NIFTY  20130401  09:17  5697.05  5698.35  5695.65  5697.50\n",
       "2  NIFTY  20130401  09:18  5697.90  5697.90  5690.60  5692.15\n",
       "3  NIFTY  20130401  09:19  5691.65  5694.70  5691.65  5693.90\n",
       "4  NIFTY  20130401  09:20  5694.40  5695.05  5693.35  5694.55"
      ]
     },
     "execution_count": 8,
     "metadata": {},
     "output_type": "execute_result"
    }
   ],
   "source": [
    "df2.head()"
   ]
  },
  {
   "cell_type": "raw",
   "metadata": {
    "_uuid": "873cfba95e77c77772ec7eb2d5c296940db61e99"
   },
   "source": [
    "# aggregating the information about Bank Nifty Dataset"
   ]
  },
  {
   "cell_type": "code",
   "execution_count": 9,
   "metadata": {
    "_uuid": "926680e89f2a168e9c8679066de3840bfbc66f7a"
   },
   "outputs": [
    {
     "name": "stdout",
     "output_type": "stream",
     "text": [
      "<class 'pandas.core.frame.DataFrame'>\n",
      "RangeIndex: 367575 entries, 0 to 367574\n",
      "Data columns (total 7 columns):\n",
      "index    367575 non-null object\n",
      "date     367575 non-null int64\n",
      "time     367575 non-null object\n",
      "open     367575 non-null float64\n",
      "high     367575 non-null float64\n",
      "low      367575 non-null float64\n",
      "close    367575 non-null float64\n",
      "dtypes: float64(4), int64(1), object(2)\n",
      "memory usage: 19.6+ MB\n"
     ]
    }
   ],
   "source": [
    "df1.info()"
   ]
  },
  {
   "cell_type": "markdown",
   "metadata": {
    "_uuid": "3ade1c01c3bd18373002fdcad85ecff4f00e54ef"
   },
   "source": [
    "# aggregating the information about the Nifty50 Dataset"
   ]
  },
  {
   "cell_type": "code",
   "execution_count": 10,
   "metadata": {
    "_uuid": "95c82e3e9aa654381ea349953e142f69ff46abcb"
   },
   "outputs": [
    {
     "name": "stdout",
     "output_type": "stream",
     "text": [
      "<class 'pandas.core.frame.DataFrame'>\n",
      "RangeIndex: 352920 entries, 0 to 352919\n",
      "Data columns (total 7 columns):\n",
      "index    352920 non-null object\n",
      "date     352920 non-null int64\n",
      "time     352920 non-null object\n",
      "open     352920 non-null float64\n",
      "high     352920 non-null float64\n",
      "low      352920 non-null float64\n",
      "close    352920 non-null float64\n",
      "dtypes: float64(4), int64(1), object(2)\n",
      "memory usage: 18.8+ MB\n"
     ]
    }
   ],
   "source": [
    "df2.info()"
   ]
  },
  {
   "cell_type": "markdown",
   "metadata": {
    "_uuid": "15097cd53b0e1a3f6ab0658a3dac2825f2ecee58"
   },
   "source": [
    "transforming the date columns to a generalized format"
   ]
  },
  {
   "cell_type": "code",
   "execution_count": 11,
   "metadata": {
    "_uuid": "5948ae467e2ade15ed7292a7d956e8fe14625083"
   },
   "outputs": [],
   "source": [
    "df1['date']=pd.to_datetime(df1['date'].astype(str), format='%Y%m%d')"
   ]
  },
  {
   "cell_type": "code",
   "execution_count": 12,
   "metadata": {
    "_uuid": "9653edd2424341a70504fff46e8de79fcbcc2404"
   },
   "outputs": [],
   "source": [
    "df2['date']=pd.to_datetime(df2['date'].astype(str), format='%Y%m%d')"
   ]
  },
  {
   "cell_type": "markdown",
   "metadata": {
    "_uuid": "6b81ad2e3aa246dc897ffd7274c226e2ae836233"
   },
   "source": [
    "Deleting the irrelevant columns so as to reduce the complexity of the data"
   ]
  },
  {
   "cell_type": "markdown",
   "metadata": {
    "_uuid": "be9c5fe1306d85d49614bc6a93ec388281f17220"
   },
   "source": [
    "grouping the data with relevance to date"
   ]
  },
  {
   "cell_type": "code",
   "execution_count": 13,
   "metadata": {
    "_uuid": "a3cee89b501e96d94585eb97be3282c6bee8cb80"
   },
   "outputs": [],
   "source": [
    "date_df1=df1.groupby('date').mean()"
   ]
  },
  {
   "cell_type": "code",
   "execution_count": 14,
   "metadata": {
    "_uuid": "51dd7d3f4c60fd3a4e655f69a4ee6fb890297394"
   },
   "outputs": [],
   "source": [
    "date_df2=df2.groupby('date').mean()"
   ]
  },
  {
   "cell_type": "code",
   "execution_count": 15,
   "metadata": {
    "_uuid": "80afa208b94eb8d81a5b098181d02b4533dd8d98"
   },
   "outputs": [
    {
     "data": {
      "text/html": [
       "<div>\n",
       "<style scoped>\n",
       "    .dataframe tbody tr th:only-of-type {\n",
       "        vertical-align: middle;\n",
       "    }\n",
       "\n",
       "    .dataframe tbody tr th {\n",
       "        vertical-align: top;\n",
       "    }\n",
       "\n",
       "    .dataframe thead th {\n",
       "        text-align: right;\n",
       "    }\n",
       "</style>\n",
       "<table border=\"1\" class=\"dataframe\">\n",
       "  <thead>\n",
       "    <tr style=\"text-align: right;\">\n",
       "      <th></th>\n",
       "      <th>open</th>\n",
       "      <th>high</th>\n",
       "      <th>low</th>\n",
       "      <th>close</th>\n",
       "    </tr>\n",
       "    <tr>\n",
       "      <th>date</th>\n",
       "      <th></th>\n",
       "      <th></th>\n",
       "      <th></th>\n",
       "      <th></th>\n",
       "    </tr>\n",
       "  </thead>\n",
       "  <tbody>\n",
       "    <tr>\n",
       "      <th>2012-11-01</th>\n",
       "      <td>11305.950533</td>\n",
       "      <td>11308.328400</td>\n",
       "      <td>11303.584000</td>\n",
       "      <td>11306.027600</td>\n",
       "    </tr>\n",
       "    <tr>\n",
       "      <th>2012-11-02</th>\n",
       "      <td>11429.929733</td>\n",
       "      <td>11432.193733</td>\n",
       "      <td>11427.817200</td>\n",
       "      <td>11429.955600</td>\n",
       "    </tr>\n",
       "    <tr>\n",
       "      <th>2012-11-05</th>\n",
       "      <td>11451.321867</td>\n",
       "      <td>11453.444667</td>\n",
       "      <td>11449.234667</td>\n",
       "      <td>11451.354533</td>\n",
       "    </tr>\n",
       "    <tr>\n",
       "      <th>2012-11-06</th>\n",
       "      <td>11494.561733</td>\n",
       "      <td>11496.849600</td>\n",
       "      <td>11492.694133</td>\n",
       "      <td>11494.892667</td>\n",
       "    </tr>\n",
       "    <tr>\n",
       "      <th>2012-11-07</th>\n",
       "      <td>11666.770800</td>\n",
       "      <td>11669.293467</td>\n",
       "      <td>11664.445067</td>\n",
       "      <td>11666.936533</td>\n",
       "    </tr>\n",
       "  </tbody>\n",
       "</table>\n",
       "</div>"
      ],
      "text/plain": [
       "                    open          high           low         close\n",
       "date                                                              \n",
       "2012-11-01  11305.950533  11308.328400  11303.584000  11306.027600\n",
       "2012-11-02  11429.929733  11432.193733  11427.817200  11429.955600\n",
       "2012-11-05  11451.321867  11453.444667  11449.234667  11451.354533\n",
       "2012-11-06  11494.561733  11496.849600  11492.694133  11494.892667\n",
       "2012-11-07  11666.770800  11669.293467  11664.445067  11666.936533"
      ]
     },
     "execution_count": 15,
     "metadata": {},
     "output_type": "execute_result"
    }
   ],
   "source": [
    "date_df1.head()"
   ]
  },
  {
   "cell_type": "code",
   "execution_count": 16,
   "metadata": {
    "_uuid": "5938b21d03ddec47ec8e6bbcdd14d888bf308cf6"
   },
   "outputs": [
    {
     "data": {
      "text/html": [
       "<div>\n",
       "<style scoped>\n",
       "    .dataframe tbody tr th:only-of-type {\n",
       "        vertical-align: middle;\n",
       "    }\n",
       "\n",
       "    .dataframe tbody tr th {\n",
       "        vertical-align: top;\n",
       "    }\n",
       "\n",
       "    .dataframe thead th {\n",
       "        text-align: right;\n",
       "    }\n",
       "</style>\n",
       "<table border=\"1\" class=\"dataframe\">\n",
       "  <thead>\n",
       "    <tr style=\"text-align: right;\">\n",
       "      <th></th>\n",
       "      <th>open</th>\n",
       "      <th>high</th>\n",
       "      <th>low</th>\n",
       "      <th>close</th>\n",
       "    </tr>\n",
       "  </thead>\n",
       "  <tbody>\n",
       "    <tr>\n",
       "      <th>count</th>\n",
       "      <td>964.000000</td>\n",
       "      <td>964.000000</td>\n",
       "      <td>964.000000</td>\n",
       "      <td>964.000000</td>\n",
       "    </tr>\n",
       "    <tr>\n",
       "      <th>mean</th>\n",
       "      <td>15003.108895</td>\n",
       "      <td>15007.574821</td>\n",
       "      <td>14998.572516</td>\n",
       "      <td>15003.078159</td>\n",
       "    </tr>\n",
       "    <tr>\n",
       "      <th>std</th>\n",
       "      <td>3172.867505</td>\n",
       "      <td>3173.658634</td>\n",
       "      <td>3172.037415</td>\n",
       "      <td>3172.840700</td>\n",
       "    </tr>\n",
       "    <tr>\n",
       "      <th>min</th>\n",
       "      <td>1570.811156</td>\n",
       "      <td>1571.306048</td>\n",
       "      <td>1570.225941</td>\n",
       "      <td>1570.671505</td>\n",
       "    </tr>\n",
       "    <tr>\n",
       "      <th>25%</th>\n",
       "      <td>12072.172338</td>\n",
       "      <td>12074.511861</td>\n",
       "      <td>12069.674542</td>\n",
       "      <td>12072.097884</td>\n",
       "    </tr>\n",
       "    <tr>\n",
       "      <th>50%</th>\n",
       "      <td>15475.825533</td>\n",
       "      <td>15480.087267</td>\n",
       "      <td>15471.764067</td>\n",
       "      <td>15476.062467</td>\n",
       "    </tr>\n",
       "    <tr>\n",
       "      <th>75%</th>\n",
       "      <td>17824.613800</td>\n",
       "      <td>17832.102500</td>\n",
       "      <td>17819.624233</td>\n",
       "      <td>17824.227867</td>\n",
       "    </tr>\n",
       "    <tr>\n",
       "      <th>max</th>\n",
       "      <td>20585.832000</td>\n",
       "      <td>20592.856667</td>\n",
       "      <td>20578.684667</td>\n",
       "      <td>20585.860400</td>\n",
       "    </tr>\n",
       "  </tbody>\n",
       "</table>\n",
       "</div>"
      ],
      "text/plain": [
       "               open          high           low         close\n",
       "count    964.000000    964.000000    964.000000    964.000000\n",
       "mean   15003.108895  15007.574821  14998.572516  15003.078159\n",
       "std     3172.867505   3173.658634   3172.037415   3172.840700\n",
       "min     1570.811156   1571.306048   1570.225941   1570.671505\n",
       "25%    12072.172338  12074.511861  12069.674542  12072.097884\n",
       "50%    15475.825533  15480.087267  15471.764067  15476.062467\n",
       "75%    17824.613800  17832.102500  17819.624233  17824.227867\n",
       "max    20585.832000  20592.856667  20578.684667  20585.860400"
      ]
     },
     "execution_count": 16,
     "metadata": {},
     "output_type": "execute_result"
    }
   ],
   "source": [
    "date_df1.describe()"
   ]
  },
  {
   "cell_type": "code",
   "execution_count": 17,
   "metadata": {
    "_uuid": "d65a8d54a2aa15bd072cbb5f46894a2b3a422ec9"
   },
   "outputs": [
    {
     "data": {
      "text/html": [
       "<div>\n",
       "<style scoped>\n",
       "    .dataframe tbody tr th:only-of-type {\n",
       "        vertical-align: middle;\n",
       "    }\n",
       "\n",
       "    .dataframe tbody tr th {\n",
       "        vertical-align: top;\n",
       "    }\n",
       "\n",
       "    .dataframe thead th {\n",
       "        text-align: right;\n",
       "    }\n",
       "</style>\n",
       "<table border=\"1\" class=\"dataframe\">\n",
       "  <thead>\n",
       "    <tr style=\"text-align: right;\">\n",
       "      <th></th>\n",
       "      <th>open</th>\n",
       "      <th>high</th>\n",
       "      <th>low</th>\n",
       "      <th>close</th>\n",
       "    </tr>\n",
       "    <tr>\n",
       "      <th>date</th>\n",
       "      <th></th>\n",
       "      <th></th>\n",
       "      <th></th>\n",
       "      <th></th>\n",
       "    </tr>\n",
       "  </thead>\n",
       "  <tbody>\n",
       "    <tr>\n",
       "      <th>2013-01-01</th>\n",
       "      <td>5950.678267</td>\n",
       "      <td>5951.491067</td>\n",
       "      <td>5949.986667</td>\n",
       "      <td>5950.689733</td>\n",
       "    </tr>\n",
       "    <tr>\n",
       "      <th>2013-01-02</th>\n",
       "      <td>5995.653733</td>\n",
       "      <td>5996.420267</td>\n",
       "      <td>5994.909200</td>\n",
       "      <td>5995.663733</td>\n",
       "    </tr>\n",
       "    <tr>\n",
       "      <th>2013-01-03</th>\n",
       "      <td>6003.101600</td>\n",
       "      <td>6003.903733</td>\n",
       "      <td>6002.381333</td>\n",
       "      <td>6003.124267</td>\n",
       "    </tr>\n",
       "    <tr>\n",
       "      <th>2013-01-04</th>\n",
       "      <td>5994.905733</td>\n",
       "      <td>5995.648667</td>\n",
       "      <td>5994.187467</td>\n",
       "      <td>5994.906800</td>\n",
       "    </tr>\n",
       "    <tr>\n",
       "      <th>2013-01-07</th>\n",
       "      <td>6011.653067</td>\n",
       "      <td>6012.265200</td>\n",
       "      <td>6010.813600</td>\n",
       "      <td>6011.506400</td>\n",
       "    </tr>\n",
       "  </tbody>\n",
       "</table>\n",
       "</div>"
      ],
      "text/plain": [
       "                   open         high          low        close\n",
       "date                                                          \n",
       "2013-01-01  5950.678267  5951.491067  5949.986667  5950.689733\n",
       "2013-01-02  5995.653733  5996.420267  5994.909200  5995.663733\n",
       "2013-01-03  6003.101600  6003.903733  6002.381333  6003.124267\n",
       "2013-01-04  5994.905733  5995.648667  5994.187467  5994.906800\n",
       "2013-01-07  6011.653067  6012.265200  6010.813600  6011.506400"
      ]
     },
     "execution_count": 17,
     "metadata": {},
     "output_type": "execute_result"
    }
   ],
   "source": [
    "date_df2.head()\n"
   ]
  },
  {
   "cell_type": "markdown",
   "metadata": {
    "_uuid": "783c4e112916d040629587c1ab56e5339a257153"
   },
   "source": [
    "# Visualization of the Bank Nifty Data w.r.t Date factor"
   ]
  },
  {
   "cell_type": "code",
   "execution_count": 18,
   "metadata": {
    "_uuid": "bd66d30804216fcd0e59afdfaada61f89e882204"
   },
   "outputs": [
    {
     "name": "stderr",
     "output_type": "stream",
     "text": [
      "C:\\ProgramData\\Anaconda3\\lib\\site-packages\\pandas\\plotting\\_converter.py:129: FutureWarning: Using an implicitly registered datetime converter for a matplotlib plotting method. The converter was registered by pandas on import. Future versions of pandas will require you to explicitly register matplotlib converters.\n",
      "\n",
      "To register the converters:\n",
      "\t>>> from pandas.plotting import register_matplotlib_converters\n",
      "\t>>> register_matplotlib_converters()\n",
      "  warnings.warn(msg, FutureWarning)\n"
     ]
    },
    {
     "data": {
      "text/plain": [
       "Text(0.5, 1.0, 'Bank Nifty Graph')"
      ]
     },
     "execution_count": 18,
     "metadata": {},
     "output_type": "execute_result"
    },
    {
     "data": {
      "image/png": "[encoded data removed]",
      "text/plain": [
       "<Figure size 1440x504 with 1 Axes>"
      ]
     },
     "metadata": {
      "needs_background": "light"
     },
     "output_type": "display_data"
    }
   ],
   "source": [
    "plt.figure(figsize=(20,7))\n",
    "plt.plot(date_df1,color='blue')\n",
    "plt.title('Bank Nifty Graph')"
   ]
  },
  {
   "cell_type": "markdown",
   "metadata": {
    "_uuid": "194134382185afa707c097ef96a1e96c937b747b"
   },
   "source": [
    "# Visualization of the Nifty50 Data w.r.t Date factor"
   ]
  },
  {
   "cell_type": "code",
   "execution_count": 19,
   "metadata": {
    "_uuid": "e76b909a9d26b5b941f22016781022dbbeac975a"
   },
   "outputs": [
    {
     "data": {
      "text/plain": [
       "Text(0.5, 1.0, 'Nifty50 Graph')"
      ]
     },
     "execution_count": 19,
     "metadata": {},
     "output_type": "execute_result"
    },
    {
     "data": {
      "image/png": "[encoded data removed]",
      "text/plain": [
       "<Figure size 1440x504 with 1 Axes>"
      ]
     },
     "metadata": {
      "needs_background": "light"
     },
     "output_type": "display_data"
    }
   ],
   "source": [
    "plt.figure(figsize=(20,7))\n",
    "plt.plot(date_df2,color='blue')\n",
    "plt.title('Nifty50 Graph')"
   ]
  },
  {
   "cell_type": "markdown",
   "metadata": {
    "_uuid": "c734d50d4075a14011b027eb94d8bfd75080688a"
   },
   "source": [
    "# Visualization using KDE graph"
   ]
  },
  {
   "cell_type": "code",
   "execution_count": 20,
   "metadata": {
    "_uuid": "cfec7e99990069217b901ced34caf2b301a2bfea"
   },
   "outputs": [
    {
     "data": {
      "text/plain": [
       "<matplotlib.axes._subplots.AxesSubplot at 0xcbbeba8>"
      ]
     },
     "execution_count": 20,
     "metadata": {},
     "output_type": "execute_result"
    },
    {
     "data": {
      "image/png": "[encoded data removed]",
      "text/plain": [
       "<Figure size 432x288 with 1 Axes>"
      ]
     },
     "metadata": {
      "needs_background": "light"
     },
     "output_type": "display_data"
    }
   ],
   "source": [
    "sns.kdeplot(data=df1['high'],gridsize=50)"
   ]
  },
  {
   "cell_type": "code",
   "execution_count": 21,
   "metadata": {
    "_uuid": "008aeb88850285b1fbb32d6db01eaa4c17079330"
   },
   "outputs": [
    {
     "data": {
      "text/plain": [
       "<matplotlib.axes._subplots.AxesSubplot at 0xa2a17b8>"
      ]
     },
     "execution_count": 21,
     "metadata": {},
     "output_type": "execute_result"
    },
    {
     "data": {
      "image/png": "[encoded data removed]",
      "text/plain": [
       "<Figure size 432x288 with 1 Axes>"
      ]
     },
     "metadata": {
      "needs_background": "light"
     },
     "output_type": "display_data"
    }
   ],
   "source": [
    "sns.kdeplot(data=df2['high'],gridsize=50)"
   ]
  },
  {
   "cell_type": "markdown",
   "metadata": {
    "_uuid": "f6bc5c8055c5e2a3213d443f77d1a0e44d7929fd"
   },
   "source": [
    "# Analysis of correlation using Heat Maps"
   ]
  },
  {
   "cell_type": "code",
   "execution_count": 22,
   "metadata": {
    "_uuid": "11eb0df41b003daf8f80f035c8e019b0a1062a9c"
   },
   "outputs": [
    {
     "data": {
      "text/plain": [
       "<matplotlib.axes._subplots.AxesSubplot at 0xd320d30>"
      ]
     },
     "execution_count": 22,
     "metadata": {},
     "output_type": "execute_result"
    },
    {
     "data": {
      "image/png": "[encoded data removed]",
      "text/plain": [
       "<Figure size 432x288 with 2 Axes>"
      ]
     },
     "metadata": {
      "needs_background": "light"
     },
     "output_type": "display_data"
    }
   ],
   "source": [
    "sns.heatmap(df1.corr(),annot=True)"
   ]
  },
  {
   "cell_type": "code",
   "execution_count": 23,
   "metadata": {
    "_uuid": "9e63f69ceb4d3c92be1257d1c01d1dd8615efb84"
   },
   "outputs": [
    {
     "data": {
      "text/plain": [
       "<matplotlib.axes._subplots.AxesSubplot at 0xd3e6f98>"
      ]
     },
     "execution_count": 23,
     "metadata": {},
     "output_type": "execute_result"
    },
    {
     "data": {
      "image/png": "[encoded data removed]",
      "text/plain": [
       "<Figure size 432x288 with 2 Axes>"
      ]
     },
     "metadata": {
      "needs_background": "light"
     },
     "output_type": "display_data"
    }
   ],
   "source": [
    "sns.heatmap(df2.corr(),annot=True)"
   ]
  },
  {
   "cell_type": "code",
   "execution_count": null,
   "metadata": {
    "_uuid": "bd0def6ad2aefe54e5fdbc18927a7c95d4a7f0dc"
   },
   "outputs": [],
   "source": []
  },
  {
   "cell_type": "code",
   "execution_count": null,
   "metadata": {},
   "outputs": [],
   "source": []
  }
 ],
 "metadata": {
  "kernelspec": {
   "display_name": "Python 3",
   "language": "python",
   "name": "python3"
  },
  "language_info": {
   "codemirror_mode": {
    "name": "ipython",
    "version": 3
   },
   "file_extension": ".py",
   "mimetype": "text/x-python",
   "name": "python",
   "nbconvert_exporter": "python",
   "pygments_lexer": "ipython3",
   "version": "3.7.3"
  }
 },
 "nbformat": 4,
 "nbformat_minor": 1
}
