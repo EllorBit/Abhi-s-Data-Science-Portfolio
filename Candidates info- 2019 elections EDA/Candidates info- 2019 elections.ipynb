{
 "cells": [
  {
   "cell_type": "code",
   "execution_count": 4,
   "metadata": {
    "_cell_guid": "b1076dfc-b9ad-4769-8c92-a6c4dae69d19",
    "_uuid": "8f2839f25d086af736a60e9eeb907d3b93b6e0e5"
   },
   "outputs": [],
   "source": [
    " \n",
    "\n",
    "import numpy as np # linear algebra\n",
    "import pandas as pd # data processing, CSV file I/O (e.g. pd.read_csv)\n",
    "import matplotlib.pyplot as plt \n",
    "import seaborn as sns \n",
    "import os\n",
    "import math\n",
    "\n",
    " \n",
    "\n",
    " \n",
    " "
   ]
  },
  {
   "cell_type": "code",
   "execution_count": 5,
   "metadata": {
    "_cell_guid": "79c7e3d0-c299-4dcb-8224-4455121ee9b0",
    "_uuid": "d629ff2d2480ee46fbb7e2d37f6b5fab8052498a"
   },
   "outputs": [
    {
     "data": {
      "text/html": [
       "<div>\n",
       "<style scoped>\n",
       "    .dataframe tbody tr th:only-of-type {\n",
       "        vertical-align: middle;\n",
       "    }\n",
       "\n",
       "    .dataframe tbody tr th {\n",
       "        vertical-align: top;\n",
       "    }\n",
       "\n",
       "    .dataframe thead th {\n",
       "        text-align: right;\n",
       "    }\n",
       "</style>\n",
       "<table border=\"1\" class=\"dataframe\">\n",
       "  <thead>\n",
       "    <tr style=\"text-align: right;\">\n",
       "      <th></th>\n",
       "      <th>STATE</th>\n",
       "      <th>CONSTITUENCY</th>\n",
       "      <th>NAME</th>\n",
       "      <th>WINNER</th>\n",
       "      <th>PARTY</th>\n",
       "      <th>SYMBOL</th>\n",
       "      <th>GENDER</th>\n",
       "      <th>CRIMINAL\n",
       "CASES</th>\n",
       "      <th>AGE</th>\n",
       "      <th>CATEGORY</th>\n",
       "      <th>EDUCATION</th>\n",
       "      <th>ASSETS</th>\n",
       "      <th>LIABILITIES</th>\n",
       "      <th>GENERAL\n",
       "VOTES</th>\n",
       "      <th>POSTAL\n",
       "VOTES</th>\n",
       "      <th>TOTAL\n",
       "VOTES</th>\n",
       "      <th>OVER TOTAL ELECTORS \n",
       "IN CONSTITUENCY</th>\n",
       "      <th>OVER TOTAL VOTES POLLED \n",
       "IN CONSTITUENCY</th>\n",
       "      <th>TOTAL ELECTORS</th>\n",
       "    </tr>\n",
       "  </thead>\n",
       "  <tbody>\n",
       "    <tr>\n",
       "      <th>0</th>\n",
       "      <td>Telangana</td>\n",
       "      <td>ADILABAD</td>\n",
       "      <td>SOYAM BAPU RAO</td>\n",
       "      <td>1</td>\n",
       "      <td>BJP</td>\n",
       "      <td>Lotus</td>\n",
       "      <td>MALE</td>\n",
       "      <td>52</td>\n",
       "      <td>52.0</td>\n",
       "      <td>ST</td>\n",
       "      <td>12th Pass</td>\n",
       "      <td>Rs 30,99,414\\n ~ 30 Lacs+</td>\n",
       "      <td>Rs 2,31,450\\n ~ 2 Lacs+</td>\n",
       "      <td>376892</td>\n",
       "      <td>482</td>\n",
       "      <td>377374</td>\n",
       "      <td>25.330684</td>\n",
       "      <td>35.468248</td>\n",
       "      <td>1489790</td>\n",
       "    </tr>\n",
       "    <tr>\n",
       "      <th>1</th>\n",
       "      <td>Telangana</td>\n",
       "      <td>ADILABAD</td>\n",
       "      <td>Godam Nagesh</td>\n",
       "      <td>0</td>\n",
       "      <td>TRS</td>\n",
       "      <td>Car</td>\n",
       "      <td>MALE</td>\n",
       "      <td>0</td>\n",
       "      <td>54.0</td>\n",
       "      <td>ST</td>\n",
       "      <td>Post Graduate</td>\n",
       "      <td>Rs 1,84,77,888\\n ~ 1 Crore+</td>\n",
       "      <td>Rs 8,47,000\\n ~ 8 Lacs+</td>\n",
       "      <td>318665</td>\n",
       "      <td>149</td>\n",
       "      <td>318814</td>\n",
       "      <td>21.399929</td>\n",
       "      <td>29.964370</td>\n",
       "      <td>1489790</td>\n",
       "    </tr>\n",
       "    <tr>\n",
       "      <th>2</th>\n",
       "      <td>Telangana</td>\n",
       "      <td>ADILABAD</td>\n",
       "      <td>RATHOD RAMESH</td>\n",
       "      <td>0</td>\n",
       "      <td>INC</td>\n",
       "      <td>Hand</td>\n",
       "      <td>MALE</td>\n",
       "      <td>3</td>\n",
       "      <td>52.0</td>\n",
       "      <td>ST</td>\n",
       "      <td>12th Pass</td>\n",
       "      <td>Rs 3,64,91,000\\n ~ 3 Crore+</td>\n",
       "      <td>Rs 1,53,00,000\\n ~ 1 Crore+</td>\n",
       "      <td>314057</td>\n",
       "      <td>181</td>\n",
       "      <td>314238</td>\n",
       "      <td>21.092771</td>\n",
       "      <td>29.534285</td>\n",
       "      <td>1489790</td>\n",
       "    </tr>\n",
       "    <tr>\n",
       "      <th>3</th>\n",
       "      <td>Telangana</td>\n",
       "      <td>ADILABAD</td>\n",
       "      <td>NOTA</td>\n",
       "      <td>0</td>\n",
       "      <td>NOTA</td>\n",
       "      <td>NaN</td>\n",
       "      <td>NaN</td>\n",
       "      <td>NaN</td>\n",
       "      <td>NaN</td>\n",
       "      <td>NaN</td>\n",
       "      <td>NaN</td>\n",
       "      <td>NaN</td>\n",
       "      <td>NaN</td>\n",
       "      <td>13030</td>\n",
       "      <td>6</td>\n",
       "      <td>13036</td>\n",
       "      <td>0.875023</td>\n",
       "      <td>1.225214</td>\n",
       "      <td>1489790</td>\n",
       "    </tr>\n",
       "    <tr>\n",
       "      <th>4</th>\n",
       "      <td>Uttar Pradesh</td>\n",
       "      <td>AGRA</td>\n",
       "      <td>Satyapal Singh Baghel</td>\n",
       "      <td>1</td>\n",
       "      <td>BJP</td>\n",
       "      <td>Lotus</td>\n",
       "      <td>MALE</td>\n",
       "      <td>5</td>\n",
       "      <td>58.0</td>\n",
       "      <td>SC</td>\n",
       "      <td>Doctorate</td>\n",
       "      <td>Rs 7,42,74,036\\n ~ 7 Crore+</td>\n",
       "      <td>Rs 86,06,522\\n ~ 86 Lacs+</td>\n",
       "      <td>644459</td>\n",
       "      <td>2416</td>\n",
       "      <td>646875</td>\n",
       "      <td>33.383823</td>\n",
       "      <td>56.464615</td>\n",
       "      <td>1937690</td>\n",
       "    </tr>\n",
       "  </tbody>\n",
       "</table>\n",
       "</div>"
      ],
      "text/plain": [
       "           STATE CONSTITUENCY                   NAME  WINNER PARTY SYMBOL  \\\n",
       "0      Telangana     ADILABAD         SOYAM BAPU RAO       1   BJP  Lotus   \n",
       "1      Telangana     ADILABAD           Godam Nagesh       0   TRS    Car   \n",
       "2      Telangana     ADILABAD          RATHOD RAMESH       0   INC   Hand   \n",
       "3      Telangana     ADILABAD                   NOTA       0  NOTA    NaN   \n",
       "4  Uttar Pradesh         AGRA  Satyapal Singh Baghel       1   BJP  Lotus   \n",
       "\n",
       "  GENDER CRIMINAL\\nCASES   AGE CATEGORY      EDUCATION  \\\n",
       "0   MALE              52  52.0       ST      12th Pass   \n",
       "1   MALE               0  54.0       ST  Post Graduate   \n",
       "2   MALE               3  52.0       ST      12th Pass   \n",
       "3    NaN             NaN   NaN      NaN            NaN   \n",
       "4   MALE               5  58.0       SC      Doctorate   \n",
       "\n",
       "                        ASSETS                  LIABILITIES  GENERAL\\nVOTES  \\\n",
       "0    Rs 30,99,414\\n ~ 30 Lacs+      Rs 2,31,450\\n ~ 2 Lacs+          376892   \n",
       "1  Rs 1,84,77,888\\n ~ 1 Crore+      Rs 8,47,000\\n ~ 8 Lacs+          318665   \n",
       "2  Rs 3,64,91,000\\n ~ 3 Crore+  Rs 1,53,00,000\\n ~ 1 Crore+          314057   \n",
       "3                          NaN                          NaN           13030   \n",
       "4  Rs 7,42,74,036\\n ~ 7 Crore+    Rs 86,06,522\\n ~ 86 Lacs+          644459   \n",
       "\n",
       "   POSTAL\\nVOTES  TOTAL\\nVOTES  OVER TOTAL ELECTORS \\nIN CONSTITUENCY  \\\n",
       "0            482        377374                              25.330684   \n",
       "1            149        318814                              21.399929   \n",
       "2            181        314238                              21.092771   \n",
       "3              6         13036                               0.875023   \n",
       "4           2416        646875                              33.383823   \n",
       "\n",
       "   OVER TOTAL VOTES POLLED \\nIN CONSTITUENCY  TOTAL ELECTORS  \n",
       "0                                  35.468248         1489790  \n",
       "1                                  29.964370         1489790  \n",
       "2                                  29.534285         1489790  \n",
       "3                                   1.225214         1489790  \n",
       "4                                  56.464615         1937690  "
      ]
     },
     "execution_count": 5,
     "metadata": {},
     "output_type": "execute_result"
    }
   ],
   "source": [
    "#Lets read the data \n",
    "data=pd.read_csv(r\"C:\\Users\\user\\Desktop\\portfolio -E\\Candidates info- 2019 elections EDA\\LS_2.0.csv\")\n",
    "data.head()\n"
   ]
  },
  {
   "cell_type": "code",
   "execution_count": 6,
   "metadata": {},
   "outputs": [
    {
     "data": {
      "text/plain": [
       "Index(['state', 'constituency', 'name', 'winner', 'party', 'symbol', 'gender',\n",
       "       'criminal_cases', 'age', 'category', 'education', 'assets',\n",
       "       'liabilities', 'general_votes', 'postal_votes', 'total_votes',\n",
       "       'over total electors _in constituency',\n",
       "       'over total votes polled _in constituency', 'total electors'],\n",
       "      dtype='object')"
      ]
     },
     "execution_count": 6,
     "metadata": {},
     "output_type": "execute_result"
    }
   ],
   "source": [
    "# converting column names\n",
    "data.columns=data.columns.str.strip().str.lower().str.replace('\\n','_')\n",
    "data.columns\n"
   ]
  },
  {
   "cell_type": "code",
   "execution_count": 7,
   "metadata": {},
   "outputs": [
    {
     "data": {
      "text/plain": [
       "state                                         0\n",
       "constituency                                  0\n",
       "name                                          0\n",
       "winner                                        0\n",
       "party                                         0\n",
       "symbol                                      245\n",
       "gender                                      245\n",
       "criminal_cases                              245\n",
       "age                                         245\n",
       "category                                    245\n",
       "education                                   245\n",
       "assets                                      245\n",
       "liabilities                                 245\n",
       "general_votes                                 0\n",
       "postal_votes                                  0\n",
       "total_votes                                   0\n",
       "over total electors _in constituency          0\n",
       "over total votes polled _in constituency      0\n",
       "total electors                                0\n",
       "dtype: int64"
      ]
     },
     "execution_count": 7,
     "metadata": {},
     "output_type": "execute_result"
    }
   ],
   "source": [
    "# Lets find missing values in dataset\n",
    "data.isnull().sum()\n"
   ]
  },
  {
   "cell_type": "code",
   "execution_count": 8,
   "metadata": {},
   "outputs": [
    {
     "data": {
      "text/plain": [
       "(2263, 19)"
      ]
     },
     "execution_count": 8,
     "metadata": {},
     "output_type": "execute_result"
    }
   ],
   "source": [
    "data.shape"
   ]
  },
  {
   "cell_type": "code",
   "execution_count": 9,
   "metadata": {},
   "outputs": [
    {
     "data": {
      "text/plain": [
       "count    2018.000000\n",
       "mean       52.273538\n",
       "std        11.869373\n",
       "min        25.000000\n",
       "25%        43.250000\n",
       "50%        52.000000\n",
       "75%        61.000000\n",
       "max        86.000000\n",
       "Name: age, dtype: float64"
      ]
     },
     "execution_count": 9,
     "metadata": {},
     "output_type": "execute_result"
    }
   ],
   "source": [
    "# Lets analyse the age of candidates\n",
    "data['age'].describe()\n"
   ]
  },
  {
   "cell_type": "code",
   "execution_count": 10,
   "metadata": {},
   "outputs": [
    {
     "data": {
      "image/png": "[encoded data removed]",
      "text/plain": [
       "<Figure size 432x288 with 1 Axes>"
      ]
     },
     "metadata": {
      "needs_background": "light"
     },
     "output_type": "display_data"
    }
   ],
   "source": [
    "sns.boxplot(data=data['age'],y=data['age'])\n",
    "plt.show()"
   ]
  },
  {
   "cell_type": "code",
   "execution_count": 11,
   "metadata": {},
   "outputs": [
    {
     "name": "stderr",
     "output_type": "stream",
     "text": [
      "C:\\ProgramData\\Anaconda3\\lib\\site-packages\\ipykernel_launcher.py:2: SettingWithCopyWarning: \n",
      "A value is trying to be set on a copy of a slice from a DataFrame\n",
      "\n",
      "See the caveats in the documentation: http://pandas.pydata.org/pandas-docs/stable/indexing.html#indexing-view-versus-copy\n",
      "  \n",
      "C:\\ProgramData\\Anaconda3\\lib\\site-packages\\ipykernel_launcher.py:6: SettingWithCopyWarning: \n",
      "A value is trying to be set on a copy of a slice from a DataFrame\n",
      "\n",
      "See the caveats in the documentation: http://pandas.pydata.org/pandas-docs/stable/indexing.html#indexing-view-versus-copy\n",
      "  \n"
     ]
    },
    {
     "data": {
      "text/html": [
       "<div>\n",
       "<style scoped>\n",
       "    .dataframe tbody tr th:only-of-type {\n",
       "        vertical-align: middle;\n",
       "    }\n",
       "\n",
       "    .dataframe tbody tr th {\n",
       "        vertical-align: top;\n",
       "    }\n",
       "\n",
       "    .dataframe thead th {\n",
       "        text-align: right;\n",
       "    }\n",
       "</style>\n",
       "<table border=\"1\" class=\"dataframe\">\n",
       "  <thead>\n",
       "    <tr style=\"text-align: right;\">\n",
       "      <th></th>\n",
       "      <th>education</th>\n",
       "      <th>name</th>\n",
       "    </tr>\n",
       "  </thead>\n",
       "  <tbody>\n",
       "    <tr>\n",
       "      <th>0</th>\n",
       "      <td>10th Pass</td>\n",
       "      <td>196</td>\n",
       "    </tr>\n",
       "    <tr>\n",
       "      <th>1</th>\n",
       "      <td>12th Pass</td>\n",
       "      <td>256</td>\n",
       "    </tr>\n",
       "    <tr>\n",
       "      <th>2</th>\n",
       "      <td>5th Pass</td>\n",
       "      <td>28</td>\n",
       "    </tr>\n",
       "    <tr>\n",
       "      <th>3</th>\n",
       "      <td>8th Pass</td>\n",
       "      <td>78</td>\n",
       "    </tr>\n",
       "    <tr>\n",
       "      <th>4</th>\n",
       "      <td>Doctorate</td>\n",
       "      <td>73</td>\n",
       "    </tr>\n",
       "    <tr>\n",
       "      <th>5</th>\n",
       "      <td>Graduate</td>\n",
       "      <td>441</td>\n",
       "    </tr>\n",
       "    <tr>\n",
       "      <th>6</th>\n",
       "      <td>Graduate Professional</td>\n",
       "      <td>336</td>\n",
       "    </tr>\n",
       "    <tr>\n",
       "      <th>7</th>\n",
       "      <td>Illiterate</td>\n",
       "      <td>272</td>\n",
       "    </tr>\n",
       "    <tr>\n",
       "      <th>8</th>\n",
       "      <td>Literate</td>\n",
       "      <td>30</td>\n",
       "    </tr>\n",
       "    <tr>\n",
       "      <th>9</th>\n",
       "      <td>Others</td>\n",
       "      <td>50</td>\n",
       "    </tr>\n",
       "    <tr>\n",
       "      <th>10</th>\n",
       "      <td>Post Graduate</td>\n",
       "      <td>503</td>\n",
       "    </tr>\n",
       "  </tbody>\n",
       "</table>\n",
       "</div>"
      ],
      "text/plain": [
       "                education  name\n",
       "0               10th Pass   196\n",
       "1               12th Pass   256\n",
       "2                5th Pass    28\n",
       "3                8th Pass    78\n",
       "4               Doctorate    73\n",
       "5                Graduate   441\n",
       "6   Graduate Professional   336\n",
       "7              Illiterate   272\n",
       "8                Literate    30\n",
       "9                  Others    50\n",
       "10          Post Graduate   503"
      ]
     },
     "execution_count": 11,
     "metadata": {},
     "output_type": "execute_result"
    }
   ],
   "source": [
    "# Let's analyze education qualification of candidates\n",
    "data['education'][data['education']=='Post Graduate\\n']='Post Graduate'\n",
    "\n",
    "# Assuming NAs as Illiterate\n",
    "data['education'].fillna('Illiterate',inplace=True)\n",
    "data['education'][data['education']=='Not Available']='Illiterate'\n",
    "data.groupby('education',as_index=False)['name'].count()"
   ]
  },
  {
   "cell_type": "code",
   "execution_count": 12,
   "metadata": {},
   "outputs": [
    {
     "data": {
      "image/png": "[encoded data removed]",
      "text/plain": [
       "<Figure size 432x288 with 1 Axes>"
      ]
     },
     "metadata": {
      "needs_background": "light"
     },
     "output_type": "display_data"
    }
   ],
   "source": [
    "education=data.groupby('education',as_index=False)['name'].count()\n",
    "education=education.sort_values(by='name',ascending=False)\n",
    "sns.barplot(y=education['education'],x=education['name'])\n",
    "plt.xlabel('Number of candidates')\n",
    "plt.ylabel('Education qualification')\n",
    "plt.show()"
   ]
  },
  {
   "cell_type": "code",
   "execution_count": 13,
   "metadata": {},
   "outputs": [
    {
     "data": {
      "text/plain": [
       "(539, 19)"
      ]
     },
     "execution_count": 13,
     "metadata": {},
     "output_type": "execute_result"
    }
   ],
   "source": [
    "# Lets focus on candidates who won \n",
    "won_mps=data[data['winner']==1]\n",
    "won_mps.shape"
   ]
  },
  {
   "cell_type": "code",
   "execution_count": 14,
   "metadata": {},
   "outputs": [
    {
     "name": "stderr",
     "output_type": "stream",
     "text": [
      "C:\\ProgramData\\Anaconda3\\lib\\site-packages\\pandas\\core\\generic.py:5096: SettingWithCopyWarning: \n",
      "A value is trying to be set on a copy of a slice from a DataFrame.\n",
      "Try using .loc[row_indexer,col_indexer] = value instead\n",
      "\n",
      "See the caveats in the documentation: http://pandas.pydata.org/pandas-docs/stable/indexing.html#indexing-view-versus-copy\n",
      "  self[name] = value\n"
     ]
    }
   ],
   "source": [
    "# Top 15 MP's with criminal cases\n",
    "won_mps.criminal_cases=won_mps['criminal_cases'].astype(int)"
   ]
  },
  {
   "cell_type": "code",
   "execution_count": 15,
   "metadata": {},
   "outputs": [
    {
     "data": {
      "image/png": "[encoded data removed]",
      "text/plain": [
       "<Figure size 432x288 with 1 Axes>"
      ]
     },
     "metadata": {
      "needs_background": "light"
     },
     "output_type": "display_data"
    }
   ],
   "source": [
    "crim_mps=won_mps[won_mps.criminal_cases>=1]\n",
    "top_crims=crim_mps.sort_values(['criminal_cases'],ascending=False)[:15]\n",
    "sns.barplot(y=top_crims['name'],x=top_crims['criminal_cases'])\n",
    "plt.xlabel('Number of criminal cases')\n",
    "plt.ylabel('Name of elected MPs')\n",
    "plt.show()"
   ]
  },
  {
   "cell_type": "code",
   "execution_count": 16,
   "metadata": {},
   "outputs": [],
   "source": [
    "# Karnataka MPs\n",
    "won_mps_kar=won_mps[won_mps['state']=='Karnataka']"
   ]
  },
  {
   "cell_type": "code",
   "execution_count": 17,
   "metadata": {},
   "outputs": [
    {
     "data": {
      "text/html": [
       "<div>\n",
       "<style scoped>\n",
       "    .dataframe tbody tr th:only-of-type {\n",
       "        vertical-align: middle;\n",
       "    }\n",
       "\n",
       "    .dataframe tbody tr th {\n",
       "        vertical-align: top;\n",
       "    }\n",
       "\n",
       "    .dataframe thead th {\n",
       "        text-align: right;\n",
       "    }\n",
       "</style>\n",
       "<table border=\"1\" class=\"dataframe\">\n",
       "  <thead>\n",
       "    <tr style=\"text-align: right;\">\n",
       "      <th></th>\n",
       "      <th>name</th>\n",
       "      <th>constituency</th>\n",
       "      <th>over total votes polled _in constituency</th>\n",
       "    </tr>\n",
       "  </thead>\n",
       "  <tbody>\n",
       "    <tr>\n",
       "      <th>2175</th>\n",
       "      <td>ANANTKUMAR HEGDE</td>\n",
       "      <td>UTTARA KANNADA</td>\n",
       "      <td>68.091546</td>\n",
       "    </tr>\n",
       "    <tr>\n",
       "      <th>356</th>\n",
       "      <td>ANGADI SURESH CHANNABASAPPA</td>\n",
       "      <td>BELGAUM</td>\n",
       "      <td>63.123560</td>\n",
       "    </tr>\n",
       "    <tr>\n",
       "      <th>2154</th>\n",
       "      <td>SHOBHA KARANDLAJE</td>\n",
       "      <td>UDUPI CHIKMAGALUR</td>\n",
       "      <td>62.426332</td>\n",
       "    </tr>\n",
       "    <tr>\n",
       "      <th>243</th>\n",
       "      <td>TEJASVI SURYA</td>\n",
       "      <td>BANGALORE SOUTH</td>\n",
       "      <td>62.137994</td>\n",
       "    </tr>\n",
       "    <tr>\n",
       "      <th>586</th>\n",
       "      <td>NALIN KUMAR KATEEL</td>\n",
       "      <td>DAKSHINA KANNADA</td>\n",
       "      <td>57.552810</td>\n",
       "    </tr>\n",
       "    <tr>\n",
       "      <th>422</th>\n",
       "      <td>JIGAJINAGI RAMESH CHANDAPPA</td>\n",
       "      <td>BIJAPUR</td>\n",
       "      <td>57.156944</td>\n",
       "    </tr>\n",
       "    <tr>\n",
       "      <th>1917</th>\n",
       "      <td>B.Y.RAGHAVENDRA.</td>\n",
       "      <td>SHIMOGA</td>\n",
       "      <td>56.840648</td>\n",
       "    </tr>\n",
       "    <tr>\n",
       "      <th>630</th>\n",
       "      <td>Pralhad Joshi</td>\n",
       "      <td>DHARWAD</td>\n",
       "      <td>56.405203</td>\n",
       "    </tr>\n",
       "    <tr>\n",
       "      <th>1194</th>\n",
       "      <td>S. MUNISWAMY</td>\n",
       "      <td>KOLAR</td>\n",
       "      <td>56.323480</td>\n",
       "    </tr>\n",
       "    <tr>\n",
       "      <th>195</th>\n",
       "      <td>Gaddigoudar Parvatagouda Chandanagouda</td>\n",
       "      <td>BAGALKOT</td>\n",
       "      <td>55.170324</td>\n",
       "    </tr>\n",
       "  </tbody>\n",
       "</table>\n",
       "</div>"
      ],
      "text/plain": [
       "                                        name       constituency  \\\n",
       "2175                        ANANTKUMAR HEGDE     UTTARA KANNADA   \n",
       "356              ANGADI SURESH CHANNABASAPPA            BELGAUM   \n",
       "2154                       SHOBHA KARANDLAJE  UDUPI CHIKMAGALUR   \n",
       "243                            TEJASVI SURYA    BANGALORE SOUTH   \n",
       "586                       NALIN KUMAR KATEEL   DAKSHINA KANNADA   \n",
       "422              JIGAJINAGI RAMESH CHANDAPPA            BIJAPUR   \n",
       "1917                        B.Y.RAGHAVENDRA.            SHIMOGA   \n",
       "630                            Pralhad Joshi            DHARWAD   \n",
       "1194                            S. MUNISWAMY              KOLAR   \n",
       "195   Gaddigoudar Parvatagouda Chandanagouda           BAGALKOT   \n",
       "\n",
       "      over total votes polled _in constituency  \n",
       "2175                                 68.091546  \n",
       "356                                  63.123560  \n",
       "2154                                 62.426332  \n",
       "243                                  62.137994  \n",
       "586                                  57.552810  \n",
       "422                                  57.156944  \n",
       "1917                                 56.840648  \n",
       "630                                  56.405203  \n",
       "1194                                 56.323480  \n",
       "195                                  55.170324  "
      ]
     },
     "execution_count": 17,
     "metadata": {},
     "output_type": "execute_result"
    }
   ],
   "source": [
    "#Top 10 Karnataka MPs who bagged highest percentage of votes in their constituency\n",
    "won_mps_kar[['name','constituency','over total votes polled _in constituency']].sort_values(by='over total votes polled _in constituency',ascending=False)[:10]"
   ]
  },
  {
   "cell_type": "code",
   "execution_count": 18,
   "metadata": {},
   "outputs": [
    {
     "data": {
      "text/html": [
       "<div>\n",
       "<style scoped>\n",
       "    .dataframe tbody tr th:only-of-type {\n",
       "        vertical-align: middle;\n",
       "    }\n",
       "\n",
       "    .dataframe tbody tr th {\n",
       "        vertical-align: top;\n",
       "    }\n",
       "\n",
       "    .dataframe thead th {\n",
       "        text-align: right;\n",
       "    }\n",
       "</style>\n",
       "<table border=\"1\" class=\"dataframe\">\n",
       "  <thead>\n",
       "    <tr style=\"text-align: right;\">\n",
       "      <th></th>\n",
       "      <th>name</th>\n",
       "      <th>age</th>\n",
       "      <th>constituency</th>\n",
       "    </tr>\n",
       "  </thead>\n",
       "  <tbody>\n",
       "    <tr>\n",
       "      <th>2136</th>\n",
       "      <td>G. S. BASAVARAJ</td>\n",
       "      <td>78.0</td>\n",
       "      <td>TUMKUR</td>\n",
       "    </tr>\n",
       "    <tr>\n",
       "      <th>535</th>\n",
       "      <td>B.N.Bache Gowda</td>\n",
       "      <td>76.0</td>\n",
       "      <td>CHIKKBALLAPUR</td>\n",
       "    </tr>\n",
       "    <tr>\n",
       "      <th>472</th>\n",
       "      <td>V. SRINIVAS PRASAD</td>\n",
       "      <td>71.0</td>\n",
       "      <td>CHAMARAJANAGAR</td>\n",
       "    </tr>\n",
       "    <tr>\n",
       "      <th>195</th>\n",
       "      <td>Gaddigoudar Parvatagouda Chandanagouda</td>\n",
       "      <td>68.0</td>\n",
       "      <td>BAGALKOT</td>\n",
       "    </tr>\n",
       "    <tr>\n",
       "      <th>358</th>\n",
       "      <td>Y. DEVENDRAPPA</td>\n",
       "      <td>67.0</td>\n",
       "      <td>BELLARY</td>\n",
       "    </tr>\n",
       "  </tbody>\n",
       "</table>\n",
       "</div>"
      ],
      "text/plain": [
       "                                        name   age    constituency\n",
       "2136                         G. S. BASAVARAJ  78.0          TUMKUR\n",
       "535                          B.N.Bache Gowda  76.0   CHIKKBALLAPUR\n",
       "472                       V. SRINIVAS PRASAD  71.0  CHAMARAJANAGAR\n",
       "195   Gaddigoudar Parvatagouda Chandanagouda  68.0        BAGALKOT\n",
       "358                           Y. DEVENDRAPPA  67.0         BELLARY"
      ]
     },
     "execution_count": 18,
     "metadata": {},
     "output_type": "execute_result"
    }
   ],
   "source": [
    "# Top 5 oldest MPs in Karnataka\n",
    "won_mps_kar[['name','age','constituency']].sort_values(by='age',ascending=False)[:5]\n"
   ]
  },
  {
   "cell_type": "code",
   "execution_count": 19,
   "metadata": {},
   "outputs": [
    {
     "data": {
      "text/html": [
       "<div>\n",
       "<style scoped>\n",
       "    .dataframe tbody tr th:only-of-type {\n",
       "        vertical-align: middle;\n",
       "    }\n",
       "\n",
       "    .dataframe tbody tr th {\n",
       "        vertical-align: top;\n",
       "    }\n",
       "\n",
       "    .dataframe thead th {\n",
       "        text-align: right;\n",
       "    }\n",
       "</style>\n",
       "<table border=\"1\" class=\"dataframe\">\n",
       "  <thead>\n",
       "    <tr style=\"text-align: right;\">\n",
       "      <th></th>\n",
       "      <th>state</th>\n",
       "      <th>name</th>\n",
       "      <th>age</th>\n",
       "      <th>party</th>\n",
       "      <th>gender</th>\n",
       "    </tr>\n",
       "  </thead>\n",
       "  <tbody>\n",
       "    <tr>\n",
       "      <th>138</th>\n",
       "      <td>Andhra Pradesh</td>\n",
       "      <td>GODDETI. MADHAVI</td>\n",
       "      <td>26.0</td>\n",
       "      <td>YSRCP</td>\n",
       "      <td>FEMALE</td>\n",
       "    </tr>\n",
       "    <tr>\n",
       "      <th>326</th>\n",
       "      <td>West Bengal</td>\n",
       "      <td>Nusrat Jahan Ruhi</td>\n",
       "      <td>28.0</td>\n",
       "      <td>AITC</td>\n",
       "      <td>FEMALE</td>\n",
       "    </tr>\n",
       "    <tr>\n",
       "      <th>243</th>\n",
       "      <td>Karnataka</td>\n",
       "      <td>TEJASVI SURYA</td>\n",
       "      <td>28.0</td>\n",
       "      <td>BJP</td>\n",
       "      <td>MALE</td>\n",
       "    </tr>\n",
       "    <tr>\n",
       "      <th>853</th>\n",
       "      <td>Karnataka</td>\n",
       "      <td>PRAJWAL REVANNA</td>\n",
       "      <td>28.0</td>\n",
       "      <td>JD(S)</td>\n",
       "      <td>MALE</td>\n",
       "    </tr>\n",
       "    <tr>\n",
       "      <th>916</th>\n",
       "      <td>West Bengal</td>\n",
       "      <td>MIMI CHAKRABORTY</td>\n",
       "      <td>30.0</td>\n",
       "      <td>AITC</td>\n",
       "      <td>FEMALE</td>\n",
       "    </tr>\n",
       "    <tr>\n",
       "      <th>1866</th>\n",
       "      <td>Uttar Pradesh</td>\n",
       "      <td>PRAVEEN KUMAR NISHAD</td>\n",
       "      <td>30.0</td>\n",
       "      <td>BJP</td>\n",
       "      <td>MALE</td>\n",
       "    </tr>\n",
       "    <tr>\n",
       "      <th>1942</th>\n",
       "      <td>Sikkim</td>\n",
       "      <td>INDRA HANG SUBBA</td>\n",
       "      <td>30.0</td>\n",
       "      <td>SKM</td>\n",
       "      <td>MALE</td>\n",
       "    </tr>\n",
       "    <tr>\n",
       "      <th>645</th>\n",
       "      <td>West Bengal</td>\n",
       "      <td>ABHISHEK BANERJEE</td>\n",
       "      <td>31.0</td>\n",
       "      <td>AITC</td>\n",
       "      <td>MALE</td>\n",
       "    </tr>\n",
       "    <tr>\n",
       "      <th>1806</th>\n",
       "      <td>Maharashtra</td>\n",
       "      <td>Khadse Raksha Nikhil</td>\n",
       "      <td>31.0</td>\n",
       "      <td>BJP</td>\n",
       "      <td>FEMALE</td>\n",
       "    </tr>\n",
       "    <tr>\n",
       "      <th>1543</th>\n",
       "      <td>Maharashtra</td>\n",
       "      <td>Dr. Heena Vijaykumar Gavit</td>\n",
       "      <td>31.0</td>\n",
       "      <td>BJP</td>\n",
       "      <td>FEMALE</td>\n",
       "    </tr>\n",
       "    <tr>\n",
       "      <th>1895</th>\n",
       "      <td>Madhya Pradesh</td>\n",
       "      <td>HIMADRI SINGH</td>\n",
       "      <td>32.0</td>\n",
       "      <td>BJP</td>\n",
       "      <td>FEMALE</td>\n",
       "    </tr>\n",
       "    <tr>\n",
       "      <th>1054</th>\n",
       "      <td>Maharashtra</td>\n",
       "      <td>Dr. SHRIKANT EKNATH SHINDE</td>\n",
       "      <td>32.0</td>\n",
       "      <td>SHS</td>\n",
       "      <td>MALE</td>\n",
       "    </tr>\n",
       "    <tr>\n",
       "      <th>29</th>\n",
       "      <td>Kerala</td>\n",
       "      <td>RAMYA HARIDAS</td>\n",
       "      <td>32.0</td>\n",
       "      <td>INC</td>\n",
       "      <td>FEMALE</td>\n",
       "    </tr>\n",
       "    <tr>\n",
       "      <th>2001</th>\n",
       "      <td>Andhra Pradesh</td>\n",
       "      <td>KINJARAPU RAM MOHAN NAIDU</td>\n",
       "      <td>32.0</td>\n",
       "      <td>TDP</td>\n",
       "      <td>MALE</td>\n",
       "    </tr>\n",
       "    <tr>\n",
       "      <th>65</th>\n",
       "      <td>Maharashtra</td>\n",
       "      <td>Navnit Ravi Rana</td>\n",
       "      <td>33.0</td>\n",
       "      <td>IND</td>\n",
       "      <td>FEMALE</td>\n",
       "    </tr>\n",
       "    <tr>\n",
       "      <th>1975</th>\n",
       "      <td>Bihar</td>\n",
       "      <td>Kavita Singh</td>\n",
       "      <td>33.0</td>\n",
       "      <td>JD(U)</td>\n",
       "      <td>FEMALE</td>\n",
       "    </tr>\n",
       "    <tr>\n",
       "      <th>562</th>\n",
       "      <td>West Bengal</td>\n",
       "      <td>NISITH PRAMANIK</td>\n",
       "      <td>33.0</td>\n",
       "      <td>BJP</td>\n",
       "      <td>MALE</td>\n",
       "    </tr>\n",
       "    <tr>\n",
       "      <th>1258</th>\n",
       "      <td>Jammu &amp; Kashmir</td>\n",
       "      <td>Jamyang Tsering Namgyal</td>\n",
       "      <td>33.0</td>\n",
       "      <td>BJP</td>\n",
       "      <td>MALE</td>\n",
       "    </tr>\n",
       "    <tr>\n",
       "      <th>119</th>\n",
       "      <td>West Bengal</td>\n",
       "      <td>APARUPA PODDAR (AFRIN ALI)</td>\n",
       "      <td>33.0</td>\n",
       "      <td>AITC</td>\n",
       "      <td>FEMALE</td>\n",
       "    </tr>\n",
       "    <tr>\n",
       "      <th>601</th>\n",
       "      <td>West Bengal</td>\n",
       "      <td>RAJU BISTA</td>\n",
       "      <td>33.0</td>\n",
       "      <td>BJP</td>\n",
       "      <td>MALE</td>\n",
       "    </tr>\n",
       "  </tbody>\n",
       "</table>\n",
       "</div>"
      ],
      "text/plain": [
       "                state                        name   age  party  gender\n",
       "138    Andhra Pradesh            GODDETI. MADHAVI  26.0  YSRCP  FEMALE\n",
       "326       West Bengal           Nusrat Jahan Ruhi  28.0   AITC  FEMALE\n",
       "243         Karnataka               TEJASVI SURYA  28.0    BJP    MALE\n",
       "853         Karnataka             PRAJWAL REVANNA  28.0  JD(S)    MALE\n",
       "916       West Bengal            MIMI CHAKRABORTY  30.0   AITC  FEMALE\n",
       "1866    Uttar Pradesh        PRAVEEN KUMAR NISHAD  30.0    BJP    MALE\n",
       "1942           Sikkim            INDRA HANG SUBBA  30.0    SKM    MALE\n",
       "645       West Bengal           ABHISHEK BANERJEE  31.0   AITC    MALE\n",
       "1806      Maharashtra        Khadse Raksha Nikhil  31.0    BJP  FEMALE\n",
       "1543      Maharashtra  Dr. Heena Vijaykumar Gavit  31.0    BJP  FEMALE\n",
       "1895   Madhya Pradesh               HIMADRI SINGH  32.0    BJP  FEMALE\n",
       "1054      Maharashtra  Dr. SHRIKANT EKNATH SHINDE  32.0    SHS    MALE\n",
       "29             Kerala               RAMYA HARIDAS  32.0    INC  FEMALE\n",
       "2001   Andhra Pradesh   KINJARAPU RAM MOHAN NAIDU  32.0    TDP    MALE\n",
       "65        Maharashtra            Navnit Ravi Rana  33.0    IND  FEMALE\n",
       "1975            Bihar                Kavita Singh  33.0  JD(U)  FEMALE\n",
       "562       West Bengal             NISITH PRAMANIK  33.0    BJP    MALE\n",
       "1258  Jammu & Kashmir     Jamyang Tsering Namgyal  33.0    BJP    MALE\n",
       "119       West Bengal  APARUPA PODDAR (AFRIN ALI)  33.0   AITC  FEMALE\n",
       "601       West Bengal                  RAJU BISTA  33.0    BJP    MALE"
      ]
     },
     "execution_count": 19,
     "metadata": {},
     "output_type": "execute_result"
    }
   ],
   "source": [
    "# Top 20 youngest MPs across India\n",
    "top25=won_mps.sort_values(by='age',ascending=True)[:20]\n",
    "top25[['state','name','age','party','gender']]"
   ]
  },
  {
   "cell_type": "code",
   "execution_count": 20,
   "metadata": {},
   "outputs": [
    {
     "data": {
      "image/png": "[encoded data removed]",
      "text/plain": [
       "<Figure size 432x288 with 1 Axes>"
      ]
     },
     "metadata": {
      "needs_background": "light"
     },
     "output_type": "display_data"
    }
   ],
   "source": [
    "# Top 5 indian political parties as per 2019 elections\n",
    "party_wise_win=won_mps.groupby('party',as_index=False)['name'].count().sort_values('name',ascending=False)[:5]\n",
    "sns.barplot(x=party_wise_win['name'],y=party_wise_win['party'])\n",
    "plt.xlabel('Candidates Won')\n",
    "plt.ylabel('Party')\n",
    "plt.show()"
   ]
  },
  {
   "cell_type": "code",
   "execution_count": null,
   "metadata": {},
   "outputs": [],
   "source": []
  },
  {
   "cell_type": "code",
   "execution_count": null,
   "metadata": {},
   "outputs": [],
   "source": []
  },
  {
   "cell_type": "code",
   "execution_count": null,
   "metadata": {},
   "outputs": [],
   "source": []
  }
 ],
 "metadata": {
  "kernelspec": {
   "display_name": "Python 3",
   "language": "python",
   "name": "python3"
  },
  "language_info": {
   "codemirror_mode": {
    "name": "ipython",
    "version": 3
   },
   "file_extension": ".py",
   "mimetype": "text/x-python",
   "name": "python",
   "nbconvert_exporter": "python",
   "pygments_lexer": "ipython3",
   "version": "3.7.3"
  }
 },
 "nbformat": 4,
 "nbformat_minor": 4
}
